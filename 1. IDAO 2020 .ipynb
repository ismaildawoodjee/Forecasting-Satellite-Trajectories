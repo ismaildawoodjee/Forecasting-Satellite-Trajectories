{
 "cells": [
  {
   "cell_type": "markdown",
   "metadata": {},
   "source": [
    "To summarize the contents of this notebook:\n",
    "\n",
    "1. I have read in the Train and Test datasets and reduced their sizes dramatically.\n",
    "2. I have also written them as pickle files into the working directory, which means loading them later takes a very short amount of time.\n",
    "3. I confirmed that there are 600 satellites in Train and their true and simulated kinematics were all recorded in January 2014. Likewise, there are 300 satellites in Test and their simulated kinematics were all recorded in February 2014.\n",
    "4. I inserted a new column called absolute time (abs_time) as a record of time that has passed since 00:00:00 1-Jan-2014, for both Train and Test.\n",
    "5. I extracted Satellite-1 data (the second satellite out of 600) and wrote them into pickle files. \n",
    "\n",
    "\n",
    "Not entirely sure what to do next, but this is my overview of the next few objectives:\n",
    "\n",
    "- Study time series analysis, forecasting and support vector machines.\n",
    "- Read more papers about the subject of predicting RSO (Resident Space Objects) trajectories using a ML approach.\n",
    "- Carry out a literature review (2000 words should be fine).\n",
    "- Use Sat_1 data as a small sample to learn to apply forecasting techniques before moving on to the remaining 599.\n",
    "- Have to submit predictions to the IDAO portal before the deadline on 12 Feb 2020\n",
    "\n",
    "**Ismail Dawoodjee 9:08am 22-Jan-2020**"
   ]
  },
  {
   "cell_type": "markdown",
   "metadata": {},
   "source": [
    "### 20-Jan-2020"
   ]
  },
  {
   "cell_type": "markdown",
   "metadata": {},
   "source": [
    "## File Size Reduction"
   ]
  },
  {
   "cell_type": "code",
   "execution_count": 1,
   "metadata": {},
   "outputs": [],
   "source": [
    "import os\n",
    "import numpy as np\n",
    "import pandas as pd\n",
    "import datetime as dt"
   ]
  },
  {
   "cell_type": "code",
   "execution_count": 20,
   "metadata": {},
   "outputs": [
    {
     "name": "stdout",
     "output_type": "stream",
     "text": [
      "Wall time: 17.2 s\n"
     ]
    }
   ],
   "source": [
    "%%time\n",
    "train = pd.read_csv('train.csv')"
   ]
  },
  {
   "cell_type": "code",
   "execution_count": 16,
   "metadata": {},
   "outputs": [
    {
     "name": "stdout",
     "output_type": "stream",
     "text": [
      "<class 'pandas.core.frame.DataFrame'>\n",
      "RangeIndex: 649912 entries, 0 to 649911\n",
      "Data columns (total 15 columns):\n",
      "id        649912 non-null int64\n",
      "epoch     649912 non-null object\n",
      "sat_id    649912 non-null int64\n",
      "x         649912 non-null float64\n",
      "y         649912 non-null float64\n",
      "z         649912 non-null float64\n",
      "Vx        649912 non-null float64\n",
      "Vy        649912 non-null float64\n",
      "Vz        649912 non-null float64\n",
      "x_sim     649912 non-null float64\n",
      "y_sim     649912 non-null float64\n",
      "z_sim     649912 non-null float64\n",
      "Vx_sim    649912 non-null float64\n",
      "Vy_sim    649912 non-null float64\n",
      "Vz_sim    649912 non-null float64\n",
      "dtypes: float64(12), int64(2), object(1)\n",
      "memory usage: 119.0 MB\n"
     ]
    }
   ],
   "source": [
    "# refer to https://www.kaggle.com/frankherfert/tips-tricks-for-working-with-large-datasets\n",
    "train.info(memory_usage='deep')"
   ]
  },
  {
   "cell_type": "code",
   "execution_count": 4,
   "metadata": {},
   "outputs": [
    {
     "data": {
      "text/plain": [
       "Index      0.000080\n",
       "id         5.199296\n",
       "epoch     51.992960\n",
       "sat_id     5.199296\n",
       "x          5.199296\n",
       "y          5.199296\n",
       "z          5.199296\n",
       "Vx         5.199296\n",
       "Vy         5.199296\n",
       "Vz         5.199296\n",
       "x_sim      5.199296\n",
       "y_sim      5.199296\n",
       "z_sim      5.199296\n",
       "Vx_sim     5.199296\n",
       "Vy_sim     5.199296\n",
       "Vz_sim     5.199296\n",
       "dtype: float64"
      ]
     },
     "execution_count": 4,
     "metadata": {},
     "output_type": "execute_result"
    }
   ],
   "source": [
    "# epoch column is an object that uses up the most memory\n",
    "train.memory_usage(deep=True) * 1e-6"
   ]
  },
  {
   "cell_type": "code",
   "execution_count": 27,
   "metadata": {},
   "outputs": [
    {
     "name": "stdout",
     "output_type": "stream",
     "text": [
      "size before: 51.99304\n",
      "size after:  5.199376\n"
     ]
    }
   ],
   "source": [
    "# convert epoch to datetime\n",
    "print(\"size before:\", train[\"epoch\"].memory_usage(deep=True) * 1e-6)\n",
    "train[\"epoch\"] = pd.to_datetime(train[\"epoch\"], infer_datetime_format=True)\n",
    "print(\"size after: \", train[\"epoch\"].memory_usage(deep=True) * 1e-6)"
   ]
  },
  {
   "cell_type": "code",
   "execution_count": 28,
   "metadata": {},
   "outputs": [
    {
     "data": {
      "text/plain": [
       "77.98952"
      ]
     },
     "execution_count": 28,
     "metadata": {},
     "output_type": "execute_result"
    }
   ],
   "source": [
    "train.memory_usage(deep=True).sum() * 1e-6"
   ]
  },
  {
   "cell_type": "code",
   "execution_count": 13,
   "metadata": {},
   "outputs": [
    {
     "data": {
      "text/html": [
       "<div>\n",
       "<style scoped>\n",
       "    .dataframe tbody tr th:only-of-type {\n",
       "        vertical-align: middle;\n",
       "    }\n",
       "\n",
       "    .dataframe tbody tr th {\n",
       "        vertical-align: top;\n",
       "    }\n",
       "\n",
       "    .dataframe thead th {\n",
       "        text-align: right;\n",
       "    }\n",
       "</style>\n",
       "<table border=\"1\" class=\"dataframe\">\n",
       "  <thead>\n",
       "    <tr style=\"text-align: right;\">\n",
       "      <th></th>\n",
       "      <th>id</th>\n",
       "      <th>epoch</th>\n",
       "      <th>sat_id</th>\n",
       "      <th>x</th>\n",
       "      <th>y</th>\n",
       "      <th>z</th>\n",
       "      <th>Vx</th>\n",
       "      <th>Vy</th>\n",
       "      <th>Vz</th>\n",
       "      <th>x_sim</th>\n",
       "      <th>y_sim</th>\n",
       "      <th>z_sim</th>\n",
       "      <th>Vx_sim</th>\n",
       "      <th>Vy_sim</th>\n",
       "      <th>Vz_sim</th>\n",
       "    </tr>\n",
       "  </thead>\n",
       "  <tbody>\n",
       "    <tr>\n",
       "      <th>0</th>\n",
       "      <td>0</td>\n",
       "      <td>2014-01-01 00:00:00.000</td>\n",
       "      <td>0</td>\n",
       "      <td>-8855.823863</td>\n",
       "      <td>13117.780146</td>\n",
       "      <td>-20728.353233</td>\n",
       "      <td>-0.908303</td>\n",
       "      <td>-3.808436</td>\n",
       "      <td>-2.022083</td>\n",
       "      <td>-8843.131454</td>\n",
       "      <td>13138.221690</td>\n",
       "      <td>-20741.615306</td>\n",
       "      <td>-0.907527</td>\n",
       "      <td>-3.804930</td>\n",
       "      <td>-2.024133</td>\n",
       "    </tr>\n",
       "    <tr>\n",
       "      <th>1</th>\n",
       "      <td>1</td>\n",
       "      <td>2014-01-01 00:46:43.000</td>\n",
       "      <td>0</td>\n",
       "      <td>-10567.672384</td>\n",
       "      <td>1619.746066</td>\n",
       "      <td>-24451.813271</td>\n",
       "      <td>-0.302590</td>\n",
       "      <td>-4.272617</td>\n",
       "      <td>-0.612796</td>\n",
       "      <td>-10555.500066</td>\n",
       "      <td>1649.289367</td>\n",
       "      <td>-24473.089556</td>\n",
       "      <td>-0.303704</td>\n",
       "      <td>-4.269816</td>\n",
       "      <td>-0.616468</td>\n",
       "    </tr>\n",
       "    <tr>\n",
       "      <th>2</th>\n",
       "      <td>2</td>\n",
       "      <td>2014-01-01 01:33:26.001</td>\n",
       "      <td>0</td>\n",
       "      <td>-10578.684043</td>\n",
       "      <td>-10180.467460</td>\n",
       "      <td>-24238.280949</td>\n",
       "      <td>0.277435</td>\n",
       "      <td>-4.047522</td>\n",
       "      <td>0.723155</td>\n",
       "      <td>-10571.858472</td>\n",
       "      <td>-10145.939908</td>\n",
       "      <td>-24271.169776</td>\n",
       "      <td>0.274880</td>\n",
       "      <td>-4.046788</td>\n",
       "      <td>0.718768</td>\n",
       "    </tr>\n",
       "    <tr>\n",
       "      <th>3</th>\n",
       "      <td>3</td>\n",
       "      <td>2014-01-01 02:20:09.001</td>\n",
       "      <td>0</td>\n",
       "      <td>-9148.251857</td>\n",
       "      <td>-20651.437460</td>\n",
       "      <td>-20720.381279</td>\n",
       "      <td>0.715600</td>\n",
       "      <td>-3.373762</td>\n",
       "      <td>1.722115</td>\n",
       "      <td>-9149.620794</td>\n",
       "      <td>-20618.200201</td>\n",
       "      <td>-20765.019094</td>\n",
       "      <td>0.712437</td>\n",
       "      <td>-3.375202</td>\n",
       "      <td>1.718306</td>\n",
       "    </tr>\n",
       "    <tr>\n",
       "      <th>4</th>\n",
       "      <td>4</td>\n",
       "      <td>2014-01-01 03:06:52.002</td>\n",
       "      <td>0</td>\n",
       "      <td>-6719.092336</td>\n",
       "      <td>-28929.061629</td>\n",
       "      <td>-14938.907967</td>\n",
       "      <td>0.992507</td>\n",
       "      <td>-2.519732</td>\n",
       "      <td>2.344703</td>\n",
       "      <td>-6729.358857</td>\n",
       "      <td>-28902.271436</td>\n",
       "      <td>-14992.399986</td>\n",
       "      <td>0.989382</td>\n",
       "      <td>-2.522618</td>\n",
       "      <td>2.342237</td>\n",
       "    </tr>\n",
       "  </tbody>\n",
       "</table>\n",
       "</div>"
      ],
      "text/plain": [
       "   id                   epoch  sat_id             x             y  \\\n",
       "0   0 2014-01-01 00:00:00.000       0  -8855.823863  13117.780146   \n",
       "1   1 2014-01-01 00:46:43.000       0 -10567.672384   1619.746066   \n",
       "2   2 2014-01-01 01:33:26.001       0 -10578.684043 -10180.467460   \n",
       "3   3 2014-01-01 02:20:09.001       0  -9148.251857 -20651.437460   \n",
       "4   4 2014-01-01 03:06:52.002       0  -6719.092336 -28929.061629   \n",
       "\n",
       "              z        Vx        Vy        Vz         x_sim         y_sim  \\\n",
       "0 -20728.353233 -0.908303 -3.808436 -2.022083  -8843.131454  13138.221690   \n",
       "1 -24451.813271 -0.302590 -4.272617 -0.612796 -10555.500066   1649.289367   \n",
       "2 -24238.280949  0.277435 -4.047522  0.723155 -10571.858472 -10145.939908   \n",
       "3 -20720.381279  0.715600 -3.373762  1.722115  -9149.620794 -20618.200201   \n",
       "4 -14938.907967  0.992507 -2.519732  2.344703  -6729.358857 -28902.271436   \n",
       "\n",
       "          z_sim    Vx_sim    Vy_sim    Vz_sim  \n",
       "0 -20741.615306 -0.907527 -3.804930 -2.024133  \n",
       "1 -24473.089556 -0.303704 -4.269816 -0.616468  \n",
       "2 -24271.169776  0.274880 -4.046788  0.718768  \n",
       "3 -20765.019094  0.712437 -3.375202  1.718306  \n",
       "4 -14992.399986  0.989382 -2.522618  2.342237  "
      ]
     },
     "execution_count": 13,
     "metadata": {},
     "output_type": "execute_result"
    }
   ],
   "source": [
    "train.head()"
   ]
  },
  {
   "cell_type": "code",
   "execution_count": 41,
   "metadata": {},
   "outputs": [],
   "source": [
    "# save to a pickle file \n",
    "train.to_pickle(\"train.pkl\")"
   ]
  },
  {
   "cell_type": "code",
   "execution_count": 42,
   "metadata": {},
   "outputs": [
    {
     "name": "stdout",
     "output_type": "stream",
     "text": [
      "train.csv: 170.63602\n",
      "train.pkl: 77.990578\n"
     ]
    }
   ],
   "source": [
    "# compare sizes\n",
    "print(\"train.csv:\", os.stat('train.csv').st_size * 1e-6)\n",
    "print(\"train.pkl:\", os.stat('train.pkl').st_size * 1e-6)"
   ]
  },
  {
   "cell_type": "code",
   "execution_count": 43,
   "metadata": {},
   "outputs": [],
   "source": [
    "# delete train dataset\n",
    "del train"
   ]
  },
  {
   "cell_type": "code",
   "execution_count": 44,
   "metadata": {},
   "outputs": [],
   "source": [
    "\n",
    "train = pd.read_pickle('train.pkl')"
   ]
  },
  {
   "cell_type": "code",
   "execution_count": 45,
   "metadata": {},
   "outputs": [
    {
     "name": "stdout",
     "output_type": "stream",
     "text": [
      "id         min:0      max:1234093\n",
      "sat_id     min:0      max:599\n"
     ]
    }
   ],
   "source": [
    "# get min and max values for integer columns; ljust is left justify\n",
    "for col in train[['id','sat_id']]:\n",
    "    print(col.ljust(10), f\"min:{train[col].min()}\".ljust(10), f\"max:{train[col].max()}\")"
   ]
  },
  {
   "cell_type": "code",
   "execution_count": 46,
   "metadata": {},
   "outputs": [],
   "source": [
    "# python by default uses 64 bit integers, so convert them to unsigned 32bit or 16bit integers\n",
    "# DO NOT convert float64 to lower types because less decimals mean less accuracy\n",
    "train[\"id\"] = pd.to_numeric(train[\"id\"], downcast=\"unsigned\")"
   ]
  },
  {
   "cell_type": "code",
   "execution_count": 47,
   "metadata": {},
   "outputs": [],
   "source": [
    "train[\"sat_id\"] = pd.to_numeric(train[\"sat_id\"], downcast=\"unsigned\")"
   ]
  },
  {
   "cell_type": "code",
   "execution_count": 48,
   "metadata": {},
   "outputs": [
    {
     "data": {
      "text/plain": [
       "Index     0.000080\n",
       "id        2.599648\n",
       "sat_id    1.299824\n",
       "dtype: float64"
      ]
     },
     "execution_count": 48,
     "metadata": {},
     "output_type": "execute_result"
    }
   ],
   "source": [
    "train[['id','sat_id']].memory_usage(deep=True) * 1e-6"
   ]
  },
  {
   "cell_type": "code",
   "execution_count": 18,
   "metadata": {},
   "outputs": [
    {
     "name": "stdout",
     "output_type": "stream",
     "text": [
      "<class 'pandas.core.frame.DataFrame'>\n",
      "RangeIndex: 649912 entries, 0 to 649911\n",
      "Data columns (total 15 columns):\n",
      "id        649912 non-null int64\n",
      "epoch     649912 non-null datetime64[ns]\n",
      "sat_id    649912 non-null int64\n",
      "x         649912 non-null float64\n",
      "y         649912 non-null float64\n",
      "z         649912 non-null float64\n",
      "Vx        649912 non-null float64\n",
      "Vy        649912 non-null float64\n",
      "Vz        649912 non-null float64\n",
      "x_sim     649912 non-null float64\n",
      "y_sim     649912 non-null float64\n",
      "z_sim     649912 non-null float64\n",
      "Vx_sim    649912 non-null float64\n",
      "Vy_sim    649912 non-null float64\n",
      "Vz_sim    649912 non-null float64\n",
      "dtypes: datetime64[ns](1), float64(12), int64(2)\n",
      "memory usage: 74.4 MB\n"
     ]
    }
   ],
   "source": [
    "train.info()"
   ]
  },
  {
   "cell_type": "code",
   "execution_count": 50,
   "metadata": {},
   "outputs": [
    {
     "data": {
      "text/plain": [
       "Index     0.000080\n",
       "id        2.599648\n",
       "epoch     5.199296\n",
       "sat_id    1.299824\n",
       "x         5.199296\n",
       "y         5.199296\n",
       "z         5.199296\n",
       "Vx        5.199296\n",
       "Vy        5.199296\n",
       "Vz        5.199296\n",
       "x_sim     5.199296\n",
       "y_sim     5.199296\n",
       "z_sim     5.199296\n",
       "Vx_sim    5.199296\n",
       "Vy_sim    5.199296\n",
       "Vz_sim    5.199296\n",
       "dtype: float64"
      ]
     },
     "execution_count": 50,
     "metadata": {},
     "output_type": "execute_result"
    }
   ],
   "source": [
    "train.memory_usage(deep=True) * 1e-6"
   ]
  },
  {
   "cell_type": "code",
   "execution_count": 51,
   "metadata": {},
   "outputs": [],
   "source": [
    "# smallest possible size made into a pickle file\n",
    "train.to_pickle('train_initial.pkl')"
   ]
  },
  {
   "cell_type": "markdown",
   "metadata": {},
   "source": [
    "## Data Exploration"
   ]
  },
  {
   "cell_type": "code",
   "execution_count": 52,
   "metadata": {},
   "outputs": [
    {
     "name": "stdout",
     "output_type": "stream",
     "text": [
      "Wall time: 297 ms\n"
     ]
    }
   ],
   "source": [
    "%%time\n",
    "train = pd.read_pickle('train_initial.pkl')"
   ]
  },
  {
   "cell_type": "code",
   "execution_count": 76,
   "metadata": {},
   "outputs": [
    {
     "data": {
      "text/html": [
       "<div>\n",
       "<style scoped>\n",
       "    .dataframe tbody tr th:only-of-type {\n",
       "        vertical-align: middle;\n",
       "    }\n",
       "\n",
       "    .dataframe tbody tr th {\n",
       "        vertical-align: top;\n",
       "    }\n",
       "\n",
       "    .dataframe thead th {\n",
       "        text-align: right;\n",
       "    }\n",
       "</style>\n",
       "<table border=\"1\" class=\"dataframe\">\n",
       "  <thead>\n",
       "    <tr style=\"text-align: right;\">\n",
       "      <th></th>\n",
       "      <th>id</th>\n",
       "      <th>epoch</th>\n",
       "      <th>sat_id</th>\n",
       "      <th>x</th>\n",
       "      <th>y</th>\n",
       "      <th>z</th>\n",
       "      <th>Vx</th>\n",
       "      <th>Vy</th>\n",
       "      <th>Vz</th>\n",
       "      <th>x_sim</th>\n",
       "      <th>y_sim</th>\n",
       "      <th>z_sim</th>\n",
       "      <th>Vx_sim</th>\n",
       "      <th>Vy_sim</th>\n",
       "      <th>Vz_sim</th>\n",
       "    </tr>\n",
       "  </thead>\n",
       "  <tbody>\n",
       "    <tr>\n",
       "      <th>0</th>\n",
       "      <td>0</td>\n",
       "      <td>2014-01-01 00:00:00.000</td>\n",
       "      <td>0</td>\n",
       "      <td>-8855.823863</td>\n",
       "      <td>13117.780146</td>\n",
       "      <td>-20728.353233</td>\n",
       "      <td>-0.908303</td>\n",
       "      <td>-3.808436</td>\n",
       "      <td>-2.022083</td>\n",
       "      <td>-8843.131454</td>\n",
       "      <td>13138.221690</td>\n",
       "      <td>-20741.615306</td>\n",
       "      <td>-0.907527</td>\n",
       "      <td>-3.804930</td>\n",
       "      <td>-2.024133</td>\n",
       "    </tr>\n",
       "    <tr>\n",
       "      <th>1</th>\n",
       "      <td>1</td>\n",
       "      <td>2014-01-01 00:46:43.000</td>\n",
       "      <td>0</td>\n",
       "      <td>-10567.672384</td>\n",
       "      <td>1619.746066</td>\n",
       "      <td>-24451.813271</td>\n",
       "      <td>-0.302590</td>\n",
       "      <td>-4.272617</td>\n",
       "      <td>-0.612796</td>\n",
       "      <td>-10555.500066</td>\n",
       "      <td>1649.289367</td>\n",
       "      <td>-24473.089556</td>\n",
       "      <td>-0.303704</td>\n",
       "      <td>-4.269816</td>\n",
       "      <td>-0.616468</td>\n",
       "    </tr>\n",
       "    <tr>\n",
       "      <th>2</th>\n",
       "      <td>2</td>\n",
       "      <td>2014-01-01 01:33:26.001</td>\n",
       "      <td>0</td>\n",
       "      <td>-10578.684043</td>\n",
       "      <td>-10180.467460</td>\n",
       "      <td>-24238.280949</td>\n",
       "      <td>0.277435</td>\n",
       "      <td>-4.047522</td>\n",
       "      <td>0.723155</td>\n",
       "      <td>-10571.858472</td>\n",
       "      <td>-10145.939908</td>\n",
       "      <td>-24271.169776</td>\n",
       "      <td>0.274880</td>\n",
       "      <td>-4.046788</td>\n",
       "      <td>0.718768</td>\n",
       "    </tr>\n",
       "    <tr>\n",
       "      <th>3</th>\n",
       "      <td>3</td>\n",
       "      <td>2014-01-01 02:20:09.001</td>\n",
       "      <td>0</td>\n",
       "      <td>-9148.251857</td>\n",
       "      <td>-20651.437460</td>\n",
       "      <td>-20720.381279</td>\n",
       "      <td>0.715600</td>\n",
       "      <td>-3.373762</td>\n",
       "      <td>1.722115</td>\n",
       "      <td>-9149.620794</td>\n",
       "      <td>-20618.200201</td>\n",
       "      <td>-20765.019094</td>\n",
       "      <td>0.712437</td>\n",
       "      <td>-3.375202</td>\n",
       "      <td>1.718306</td>\n",
       "    </tr>\n",
       "    <tr>\n",
       "      <th>4</th>\n",
       "      <td>4</td>\n",
       "      <td>2014-01-01 03:06:52.002</td>\n",
       "      <td>0</td>\n",
       "      <td>-6719.092336</td>\n",
       "      <td>-28929.061629</td>\n",
       "      <td>-14938.907967</td>\n",
       "      <td>0.992507</td>\n",
       "      <td>-2.519732</td>\n",
       "      <td>2.344703</td>\n",
       "      <td>-6729.358857</td>\n",
       "      <td>-28902.271436</td>\n",
       "      <td>-14992.399986</td>\n",
       "      <td>0.989382</td>\n",
       "      <td>-2.522618</td>\n",
       "      <td>2.342237</td>\n",
       "    </tr>\n",
       "  </tbody>\n",
       "</table>\n",
       "</div>"
      ],
      "text/plain": [
       "   id                   epoch  sat_id             x             y  \\\n",
       "0   0 2014-01-01 00:00:00.000       0  -8855.823863  13117.780146   \n",
       "1   1 2014-01-01 00:46:43.000       0 -10567.672384   1619.746066   \n",
       "2   2 2014-01-01 01:33:26.001       0 -10578.684043 -10180.467460   \n",
       "3   3 2014-01-01 02:20:09.001       0  -9148.251857 -20651.437460   \n",
       "4   4 2014-01-01 03:06:52.002       0  -6719.092336 -28929.061629   \n",
       "\n",
       "              z        Vx        Vy        Vz         x_sim         y_sim  \\\n",
       "0 -20728.353233 -0.908303 -3.808436 -2.022083  -8843.131454  13138.221690   \n",
       "1 -24451.813271 -0.302590 -4.272617 -0.612796 -10555.500066   1649.289367   \n",
       "2 -24238.280949  0.277435 -4.047522  0.723155 -10571.858472 -10145.939908   \n",
       "3 -20720.381279  0.715600 -3.373762  1.722115  -9149.620794 -20618.200201   \n",
       "4 -14938.907967  0.992507 -2.519732  2.344703  -6729.358857 -28902.271436   \n",
       "\n",
       "          z_sim    Vx_sim    Vy_sim    Vz_sim  \n",
       "0 -20741.615306 -0.907527 -3.804930 -2.024133  \n",
       "1 -24473.089556 -0.303704 -4.269816 -0.616468  \n",
       "2 -24271.169776  0.274880 -4.046788  0.718768  \n",
       "3 -20765.019094  0.712437 -3.375202  1.718306  \n",
       "4 -14992.399986  0.989382 -2.522618  2.342237  "
      ]
     },
     "execution_count": 76,
     "metadata": {},
     "output_type": "execute_result"
    }
   ],
   "source": [
    "train.head()"
   ]
  },
  {
   "cell_type": "code",
   "execution_count": 24,
   "metadata": {},
   "outputs": [],
   "source": [
    "# explore epoch column; extract years, months, days\n",
    "epoch_year = train['epoch'].dt.year\n",
    "epoch_month = train['epoch'].dt.month\n",
    "epoch_day = train['epoch'].dt.day"
   ]
  },
  {
   "cell_type": "code",
   "execution_count": 25,
   "metadata": {},
   "outputs": [
    {
     "data": {
      "text/plain": [
       "array([2014], dtype=int64)"
      ]
     },
     "execution_count": 25,
     "metadata": {},
     "output_type": "execute_result"
    }
   ],
   "source": [
    "# only one unique year 2014\n",
    "epoch_year.unique()"
   ]
  },
  {
   "cell_type": "code",
   "execution_count": 26,
   "metadata": {},
   "outputs": [
    {
     "data": {
      "text/plain": [
       "array([1], dtype=int64)"
      ]
     },
     "execution_count": 26,
     "metadata": {},
     "output_type": "execute_result"
    }
   ],
   "source": [
    "# only one unique month January\n",
    "epoch_month.unique()"
   ]
  },
  {
   "cell_type": "code",
   "execution_count": 27,
   "metadata": {},
   "outputs": [
    {
     "data": {
      "text/plain": [
       "array([ 1,  2,  3,  4,  5,  6,  7,  8,  9, 10, 11, 12, 13, 14, 15, 16, 17,\n",
       "       18, 19, 20, 21, 22, 23, 24, 25, 26, 27, 28, 29, 30, 31],\n",
       "      dtype=int64)"
      ]
     },
     "execution_count": 27,
     "metadata": {},
     "output_type": "execute_result"
    }
   ],
   "source": [
    "# all 31 days of January\n",
    "epoch_day.unique()"
   ]
  },
  {
   "cell_type": "markdown",
   "metadata": {},
   "source": [
    "Based on this information, all 600 satellites' kinematics were recorded only in January 2014"
   ]
  },
  {
   "cell_type": "code",
   "execution_count": 77,
   "metadata": {},
   "outputs": [],
   "source": [
    "# do all satellites start being recorded at 00:00:00 1 Jan 2014?\n",
    "first_indices = []   # id of first observation of satellite e.g. Sat_0 is 0, Sat_1 is 958\n",
    "initial_records = [] #\n",
    "for sat_no in train['sat_id'].unique():\n",
    "    first_id = train['sat_id'].searchsorted(sat_no)\n",
    "    first_indices.append(first_id[0])\n",
    "    initial_records.append(train.iloc[first_id[0],1])"
   ]
  },
  {
   "cell_type": "code",
   "execution_count": 78,
   "metadata": {},
   "outputs": [
    {
     "data": {
      "text/plain": [
       "array(['2014-01-01T00:00:00.000000000'], dtype='datetime64[ns]')"
      ]
     },
     "execution_count": 78,
     "metadata": {},
     "output_type": "execute_result"
    }
   ],
   "source": [
    "# yes\n",
    "pd.Series(initial_records).unique()"
   ]
  },
  {
   "cell_type": "code",
   "execution_count": 79,
   "metadata": {},
   "outputs": [
    {
     "data": {
      "text/plain": [
       "958"
      ]
     },
     "execution_count": 79,
     "metadata": {},
     "output_type": "execute_result"
    }
   ],
   "source": [
    "first_indices[1]"
   ]
  },
  {
   "cell_type": "code",
   "execution_count": 28,
   "metadata": {},
   "outputs": [],
   "source": [
    "# calculate absolute difference in time since the initial record \n",
    "# insert that next to the epoch column\n",
    "train.insert(2, 'abs_time', train['epoch']-train['epoch'][0])"
   ]
  },
  {
   "cell_type": "code",
   "execution_count": 80,
   "metadata": {},
   "outputs": [
    {
     "data": {
      "text/html": [
       "<div>\n",
       "<style scoped>\n",
       "    .dataframe tbody tr th:only-of-type {\n",
       "        vertical-align: middle;\n",
       "    }\n",
       "\n",
       "    .dataframe tbody tr th {\n",
       "        vertical-align: top;\n",
       "    }\n",
       "\n",
       "    .dataframe thead th {\n",
       "        text-align: right;\n",
       "    }\n",
       "</style>\n",
       "<table border=\"1\" class=\"dataframe\">\n",
       "  <thead>\n",
       "    <tr style=\"text-align: right;\">\n",
       "      <th></th>\n",
       "      <th>id</th>\n",
       "      <th>epoch</th>\n",
       "      <th>sat_id</th>\n",
       "      <th>x</th>\n",
       "      <th>y</th>\n",
       "      <th>z</th>\n",
       "      <th>Vx</th>\n",
       "      <th>Vy</th>\n",
       "      <th>Vz</th>\n",
       "      <th>x_sim</th>\n",
       "      <th>y_sim</th>\n",
       "      <th>z_sim</th>\n",
       "      <th>Vx_sim</th>\n",
       "      <th>Vy_sim</th>\n",
       "      <th>Vz_sim</th>\n",
       "    </tr>\n",
       "  </thead>\n",
       "  <tbody>\n",
       "    <tr>\n",
       "      <th>0</th>\n",
       "      <td>0</td>\n",
       "      <td>2014-01-01 00:00:00.000</td>\n",
       "      <td>0</td>\n",
       "      <td>-8855.823863</td>\n",
       "      <td>13117.780146</td>\n",
       "      <td>-20728.353233</td>\n",
       "      <td>-0.908303</td>\n",
       "      <td>-3.808436</td>\n",
       "      <td>-2.022083</td>\n",
       "      <td>-8843.131454</td>\n",
       "      <td>13138.221690</td>\n",
       "      <td>-20741.615306</td>\n",
       "      <td>-0.907527</td>\n",
       "      <td>-3.804930</td>\n",
       "      <td>-2.024133</td>\n",
       "    </tr>\n",
       "    <tr>\n",
       "      <th>1</th>\n",
       "      <td>1</td>\n",
       "      <td>2014-01-01 00:46:43.000</td>\n",
       "      <td>0</td>\n",
       "      <td>-10567.672384</td>\n",
       "      <td>1619.746066</td>\n",
       "      <td>-24451.813271</td>\n",
       "      <td>-0.302590</td>\n",
       "      <td>-4.272617</td>\n",
       "      <td>-0.612796</td>\n",
       "      <td>-10555.500066</td>\n",
       "      <td>1649.289367</td>\n",
       "      <td>-24473.089556</td>\n",
       "      <td>-0.303704</td>\n",
       "      <td>-4.269816</td>\n",
       "      <td>-0.616468</td>\n",
       "    </tr>\n",
       "    <tr>\n",
       "      <th>2</th>\n",
       "      <td>2</td>\n",
       "      <td>2014-01-01 01:33:26.001</td>\n",
       "      <td>0</td>\n",
       "      <td>-10578.684043</td>\n",
       "      <td>-10180.467460</td>\n",
       "      <td>-24238.280949</td>\n",
       "      <td>0.277435</td>\n",
       "      <td>-4.047522</td>\n",
       "      <td>0.723155</td>\n",
       "      <td>-10571.858472</td>\n",
       "      <td>-10145.939908</td>\n",
       "      <td>-24271.169776</td>\n",
       "      <td>0.274880</td>\n",
       "      <td>-4.046788</td>\n",
       "      <td>0.718768</td>\n",
       "    </tr>\n",
       "    <tr>\n",
       "      <th>3</th>\n",
       "      <td>3</td>\n",
       "      <td>2014-01-01 02:20:09.001</td>\n",
       "      <td>0</td>\n",
       "      <td>-9148.251857</td>\n",
       "      <td>-20651.437460</td>\n",
       "      <td>-20720.381279</td>\n",
       "      <td>0.715600</td>\n",
       "      <td>-3.373762</td>\n",
       "      <td>1.722115</td>\n",
       "      <td>-9149.620794</td>\n",
       "      <td>-20618.200201</td>\n",
       "      <td>-20765.019094</td>\n",
       "      <td>0.712437</td>\n",
       "      <td>-3.375202</td>\n",
       "      <td>1.718306</td>\n",
       "    </tr>\n",
       "    <tr>\n",
       "      <th>4</th>\n",
       "      <td>4</td>\n",
       "      <td>2014-01-01 03:06:52.002</td>\n",
       "      <td>0</td>\n",
       "      <td>-6719.092336</td>\n",
       "      <td>-28929.061629</td>\n",
       "      <td>-14938.907967</td>\n",
       "      <td>0.992507</td>\n",
       "      <td>-2.519732</td>\n",
       "      <td>2.344703</td>\n",
       "      <td>-6729.358857</td>\n",
       "      <td>-28902.271436</td>\n",
       "      <td>-14992.399986</td>\n",
       "      <td>0.989382</td>\n",
       "      <td>-2.522618</td>\n",
       "      <td>2.342237</td>\n",
       "    </tr>\n",
       "  </tbody>\n",
       "</table>\n",
       "</div>"
      ],
      "text/plain": [
       "   id                   epoch  sat_id             x             y  \\\n",
       "0   0 2014-01-01 00:00:00.000       0  -8855.823863  13117.780146   \n",
       "1   1 2014-01-01 00:46:43.000       0 -10567.672384   1619.746066   \n",
       "2   2 2014-01-01 01:33:26.001       0 -10578.684043 -10180.467460   \n",
       "3   3 2014-01-01 02:20:09.001       0  -9148.251857 -20651.437460   \n",
       "4   4 2014-01-01 03:06:52.002       0  -6719.092336 -28929.061629   \n",
       "\n",
       "              z        Vx        Vy        Vz         x_sim         y_sim  \\\n",
       "0 -20728.353233 -0.908303 -3.808436 -2.022083  -8843.131454  13138.221690   \n",
       "1 -24451.813271 -0.302590 -4.272617 -0.612796 -10555.500066   1649.289367   \n",
       "2 -24238.280949  0.277435 -4.047522  0.723155 -10571.858472 -10145.939908   \n",
       "3 -20720.381279  0.715600 -3.373762  1.722115  -9149.620794 -20618.200201   \n",
       "4 -14938.907967  0.992507 -2.519732  2.344703  -6729.358857 -28902.271436   \n",
       "\n",
       "          z_sim    Vx_sim    Vy_sim    Vz_sim  \n",
       "0 -20741.615306 -0.907527 -3.804930 -2.024133  \n",
       "1 -24473.089556 -0.303704 -4.269816 -0.616468  \n",
       "2 -24271.169776  0.274880 -4.046788  0.718768  \n",
       "3 -20765.019094  0.712437 -3.375202  1.718306  \n",
       "4 -14992.399986  0.989382 -2.522618  2.342237  "
      ]
     },
     "execution_count": 80,
     "metadata": {},
     "output_type": "execute_result"
    }
   ],
   "source": [
    "train.head()"
   ]
  },
  {
   "cell_type": "code",
   "execution_count": 25,
   "metadata": {
    "scrolled": true
   },
   "outputs": [],
   "source": [
    "# read the papers linked in the contest page; SOTA = State of the Affairs"
   ]
  },
  {
   "cell_type": "code",
   "execution_count": 27,
   "metadata": {},
   "outputs": [],
   "source": [
    "train.to_pickle('train.pkl')"
   ]
  },
  {
   "cell_type": "markdown",
   "metadata": {},
   "source": [
    "### 21-Jan-2020"
   ]
  },
  {
   "cell_type": "code",
   "execution_count": 81,
   "metadata": {},
   "outputs": [],
   "source": [
    "# make a separate dataset to only look at satellite 1 (second one in the dataset)\n",
    "train1 = train.iloc[first_indices[1]:first_indices[2],:]"
   ]
  },
  {
   "cell_type": "code",
   "execution_count": 82,
   "metadata": {},
   "outputs": [
    {
     "data": {
      "text/html": [
       "<div>\n",
       "<style scoped>\n",
       "    .dataframe tbody tr th:only-of-type {\n",
       "        vertical-align: middle;\n",
       "    }\n",
       "\n",
       "    .dataframe tbody tr th {\n",
       "        vertical-align: top;\n",
       "    }\n",
       "\n",
       "    .dataframe thead th {\n",
       "        text-align: right;\n",
       "    }\n",
       "</style>\n",
       "<table border=\"1\" class=\"dataframe\">\n",
       "  <thead>\n",
       "    <tr style=\"text-align: right;\">\n",
       "      <th></th>\n",
       "      <th>id</th>\n",
       "      <th>epoch</th>\n",
       "      <th>sat_id</th>\n",
       "      <th>x</th>\n",
       "      <th>y</th>\n",
       "      <th>z</th>\n",
       "      <th>Vx</th>\n",
       "      <th>Vy</th>\n",
       "      <th>Vz</th>\n",
       "      <th>x_sim</th>\n",
       "      <th>y_sim</th>\n",
       "      <th>z_sim</th>\n",
       "      <th>Vx_sim</th>\n",
       "      <th>Vy_sim</th>\n",
       "      <th>Vz_sim</th>\n",
       "    </tr>\n",
       "  </thead>\n",
       "  <tbody>\n",
       "    <tr>\n",
       "      <th>958</th>\n",
       "      <td>1819</td>\n",
       "      <td>2014-01-01 00:00:00.000</td>\n",
       "      <td>1</td>\n",
       "      <td>10390.313089</td>\n",
       "      <td>-2796.458271</td>\n",
       "      <td>3179.562085</td>\n",
       "      <td>2.520477</td>\n",
       "      <td>6.149930</td>\n",
       "      <td>-2.827599</td>\n",
       "      <td>10405.813755</td>\n",
       "      <td>-2771.180760</td>\n",
       "      <td>3166.926302</td>\n",
       "      <td>2.508879</td>\n",
       "      <td>6.152996</td>\n",
       "      <td>-2.826227</td>\n",
       "    </tr>\n",
       "    <tr>\n",
       "      <th>959</th>\n",
       "      <td>1820</td>\n",
       "      <td>2014-01-01 00:21:11.845</td>\n",
       "      <td>1</td>\n",
       "      <td>11195.606833</td>\n",
       "      <td>5078.653968</td>\n",
       "      <td>-839.076593</td>\n",
       "      <td>-1.126667</td>\n",
       "      <td>5.826412</td>\n",
       "      <td>-3.255872</td>\n",
       "      <td>11199.853336</td>\n",
       "      <td>5102.405255</td>\n",
       "      <td>-845.930363</td>\n",
       "      <td>-1.130992</td>\n",
       "      <td>5.822303</td>\n",
       "      <td>-3.250049</td>\n",
       "    </tr>\n",
       "    <tr>\n",
       "      <th>960</th>\n",
       "      <td>1821</td>\n",
       "      <td>2014-01-01 00:42:23.690</td>\n",
       "      <td>1</td>\n",
       "      <td>8235.556436</td>\n",
       "      <td>11445.904263</td>\n",
       "      <td>-4680.514023</td>\n",
       "      <td>-3.230227</td>\n",
       "      <td>4.126433</td>\n",
       "      <td>-2.704441</td>\n",
       "      <td>8239.504004</td>\n",
       "      <td>11465.137350</td>\n",
       "      <td>-4680.291877</td>\n",
       "      <td>-3.227356</td>\n",
       "      <td>4.123931</td>\n",
       "      <td>-2.700255</td>\n",
       "    </tr>\n",
       "    <tr>\n",
       "      <th>961</th>\n",
       "      <td>1822</td>\n",
       "      <td>2014-01-01 01:03:35.534</td>\n",
       "      <td>1</td>\n",
       "      <td>3560.149776</td>\n",
       "      <td>15634.195146</td>\n",
       "      <td>-7654.177182</td>\n",
       "      <td>-3.964696</td>\n",
       "      <td>2.520867</td>\n",
       "      <td>-1.978151</td>\n",
       "      <td>3569.107805</td>\n",
       "      <td>15652.050271</td>\n",
       "      <td>-7650.341207</td>\n",
       "      <td>-3.960215</td>\n",
       "      <td>2.520907</td>\n",
       "      <td>-1.976723</td>\n",
       "    </tr>\n",
       "    <tr>\n",
       "      <th>962</th>\n",
       "      <td>1823</td>\n",
       "      <td>2014-01-01 01:24:47.379</td>\n",
       "      <td>1</td>\n",
       "      <td>-1580.476891</td>\n",
       "      <td>18023.318335</td>\n",
       "      <td>-9755.287599</td>\n",
       "      <td>-4.050865</td>\n",
       "      <td>1.296388</td>\n",
       "      <td>-1.346512</td>\n",
       "      <td>-1566.253652</td>\n",
       "      <td>18042.143340</td>\n",
       "      <td>-9750.982621</td>\n",
       "      <td>-4.047005</td>\n",
       "      <td>1.297625</td>\n",
       "      <td>-1.347010</td>\n",
       "    </tr>\n",
       "  </tbody>\n",
       "</table>\n",
       "</div>"
      ],
      "text/plain": [
       "       id                   epoch  sat_id             x             y  \\\n",
       "958  1819 2014-01-01 00:00:00.000       1  10390.313089  -2796.458271   \n",
       "959  1820 2014-01-01 00:21:11.845       1  11195.606833   5078.653968   \n",
       "960  1821 2014-01-01 00:42:23.690       1   8235.556436  11445.904263   \n",
       "961  1822 2014-01-01 01:03:35.534       1   3560.149776  15634.195146   \n",
       "962  1823 2014-01-01 01:24:47.379       1  -1580.476891  18023.318335   \n",
       "\n",
       "               z        Vx        Vy        Vz         x_sim         y_sim  \\\n",
       "958  3179.562085  2.520477  6.149930 -2.827599  10405.813755  -2771.180760   \n",
       "959  -839.076593 -1.126667  5.826412 -3.255872  11199.853336   5102.405255   \n",
       "960 -4680.514023 -3.230227  4.126433 -2.704441   8239.504004  11465.137350   \n",
       "961 -7654.177182 -3.964696  2.520867 -1.978151   3569.107805  15652.050271   \n",
       "962 -9755.287599 -4.050865  1.296388 -1.346512  -1566.253652  18042.143340   \n",
       "\n",
       "           z_sim    Vx_sim    Vy_sim    Vz_sim  \n",
       "958  3166.926302  2.508879  6.152996 -2.826227  \n",
       "959  -845.930363 -1.130992  5.822303 -3.250049  \n",
       "960 -4680.291877 -3.227356  4.123931 -2.700255  \n",
       "961 -7650.341207 -3.960215  2.520907 -1.976723  \n",
       "962 -9750.982621 -4.047005  1.297625 -1.347010  "
      ]
     },
     "execution_count": 82,
     "metadata": {},
     "output_type": "execute_result"
    }
   ],
   "source": [
    "train1.head()"
   ]
  },
  {
   "cell_type": "code",
   "execution_count": 83,
   "metadata": {},
   "outputs": [
    {
     "data": {
      "text/html": [
       "<div>\n",
       "<style scoped>\n",
       "    .dataframe tbody tr th:only-of-type {\n",
       "        vertical-align: middle;\n",
       "    }\n",
       "\n",
       "    .dataframe tbody tr th {\n",
       "        vertical-align: top;\n",
       "    }\n",
       "\n",
       "    .dataframe thead th {\n",
       "        text-align: right;\n",
       "    }\n",
       "</style>\n",
       "<table border=\"1\" class=\"dataframe\">\n",
       "  <thead>\n",
       "    <tr style=\"text-align: right;\">\n",
       "      <th></th>\n",
       "      <th>id</th>\n",
       "      <th>epoch</th>\n",
       "      <th>sat_id</th>\n",
       "      <th>x</th>\n",
       "      <th>y</th>\n",
       "      <th>z</th>\n",
       "      <th>Vx</th>\n",
       "      <th>Vy</th>\n",
       "      <th>Vz</th>\n",
       "      <th>x_sim</th>\n",
       "      <th>y_sim</th>\n",
       "      <th>z_sim</th>\n",
       "      <th>Vx_sim</th>\n",
       "      <th>Vy_sim</th>\n",
       "      <th>Vz_sim</th>\n",
       "    </tr>\n",
       "  </thead>\n",
       "  <tbody>\n",
       "    <tr>\n",
       "      <th>3056</th>\n",
       "      <td>3917</td>\n",
       "      <td>2014-01-31 20:29:46.714</td>\n",
       "      <td>1</td>\n",
       "      <td>-26325.014144</td>\n",
       "      <td>10570.481429</td>\n",
       "      <td>-9072.938557</td>\n",
       "      <td>-2.258731</td>\n",
       "      <td>-1.407697</td>\n",
       "      <td>0.896216</td>\n",
       "      <td>-26649.642737</td>\n",
       "      <td>11504.337647</td>\n",
       "      <td>-8922.646171</td>\n",
       "      <td>-1.693458</td>\n",
       "      <td>-1.931831</td>\n",
       "      <td>0.878298</td>\n",
       "    </tr>\n",
       "    <tr>\n",
       "      <th>3057</th>\n",
       "      <td>3918</td>\n",
       "      <td>2014-01-31 20:50:58.559</td>\n",
       "      <td>1</td>\n",
       "      <td>-28881.463509</td>\n",
       "      <td>8664.346191</td>\n",
       "      <td>-7831.985167</td>\n",
       "      <td>-1.764817</td>\n",
       "      <td>-1.580165</td>\n",
       "      <td>1.048091</td>\n",
       "      <td>-28494.865916</td>\n",
       "      <td>8926.357454</td>\n",
       "      <td>-7708.398061</td>\n",
       "      <td>-1.206114</td>\n",
       "      <td>-2.112617</td>\n",
       "      <td>1.025474</td>\n",
       "    </tr>\n",
       "    <tr>\n",
       "      <th>3058</th>\n",
       "      <td>3919</td>\n",
       "      <td>2014-01-31 21:12:10.404</td>\n",
       "      <td>1</td>\n",
       "      <td>-30821.671271</td>\n",
       "      <td>6572.487863</td>\n",
       "      <td>-6422.856696</td>\n",
       "      <td>-1.288627</td>\n",
       "      <td>-1.701815</td>\n",
       "      <td>1.162225</td>\n",
       "      <td>-29713.169888</td>\n",
       "      <td>6151.648233</td>\n",
       "      <td>-6324.240838</td>\n",
       "      <td>-0.707152</td>\n",
       "      <td>-2.241929</td>\n",
       "      <td>1.145855</td>\n",
       "    </tr>\n",
       "    <tr>\n",
       "      <th>3059</th>\n",
       "      <td>3920</td>\n",
       "      <td>2014-01-31 21:33:22.249</td>\n",
       "      <td>1</td>\n",
       "      <td>-32164.222216</td>\n",
       "      <td>4352.825564</td>\n",
       "      <td>-4888.483748</td>\n",
       "      <td>-0.823985</td>\n",
       "      <td>-1.782364</td>\n",
       "      <td>1.245980</td>\n",
       "      <td>-30287.447717</td>\n",
       "      <td>3243.635732</td>\n",
       "      <td>-4802.930087</td>\n",
       "      <td>-0.192718</td>\n",
       "      <td>-2.322406</td>\n",
       "      <td>1.241260</td>\n",
       "    </tr>\n",
       "    <tr>\n",
       "      <th>3060</th>\n",
       "      <td>3921</td>\n",
       "      <td>2014-01-31 21:54:34.093</td>\n",
       "      <td>1</td>\n",
       "      <td>-32920.027847</td>\n",
       "      <td>2053.732736</td>\n",
       "      <td>-3264.479880</td>\n",
       "      <td>-0.364995</td>\n",
       "      <td>-1.827375</td>\n",
       "      <td>1.303696</td>\n",
       "      <td>-30194.980398</td>\n",
       "      <td>264.597575</td>\n",
       "      <td>-3176.038569</td>\n",
       "      <td>0.342144</td>\n",
       "      <td>-2.353209</td>\n",
       "      <td>1.311728</td>\n",
       "    </tr>\n",
       "    <tr>\n",
       "      <th>3061</th>\n",
       "      <td>3922</td>\n",
       "      <td>2014-01-31 22:15:45.938</td>\n",
       "      <td>1</td>\n",
       "      <td>-33092.618399</td>\n",
       "      <td>-281.511542</td>\n",
       "      <td>-1582.378975</td>\n",
       "      <td>0.094088</td>\n",
       "      <td>-1.839427</td>\n",
       "      <td>1.337545</td>\n",
       "      <td>-29406.078919</td>\n",
       "      <td>-2719.769909</td>\n",
       "      <td>-1476.299104</td>\n",
       "      <td>0.903445</td>\n",
       "      <td>-2.329687</td>\n",
       "      <td>1.355335</td>\n",
       "    </tr>\n",
       "    <tr>\n",
       "      <th>3062</th>\n",
       "      <td>3923</td>\n",
       "      <td>2014-01-31 22:36:57.783</td>\n",
       "      <td>1</td>\n",
       "      <td>-32678.193673</td>\n",
       "      <td>-2611.293944</td>\n",
       "      <td>127.879530</td>\n",
       "      <td>0.559090</td>\n",
       "      <td>-1.818598</td>\n",
       "      <td>1.347891</td>\n",
       "      <td>-27882.742274</td>\n",
       "      <td>-5634.903507</td>\n",
       "      <td>259.572177</td>\n",
       "      <td>1.498239</td>\n",
       "      <td>-2.242285</td>\n",
       "      <td>1.367602</td>\n",
       "    </tr>\n",
       "    <tr>\n",
       "      <th>3063</th>\n",
       "      <td>3924</td>\n",
       "      <td>2014-01-31 22:58:09.628</td>\n",
       "      <td>1</td>\n",
       "      <td>-31665.342406</td>\n",
       "      <td>-4892.533056</td>\n",
       "      <td>1835.695504</td>\n",
       "      <td>1.036204</td>\n",
       "      <td>-1.762460</td>\n",
       "      <td>1.333303</td>\n",
       "      <td>-25577.429154</td>\n",
       "      <td>-8389.868466</td>\n",
       "      <td>1986.924648</td>\n",
       "      <td>2.134397</td>\n",
       "      <td>-2.074305</td>\n",
       "      <td>1.340251</td>\n",
       "    </tr>\n",
       "    <tr>\n",
       "      <th>3064</th>\n",
       "      <td>3925</td>\n",
       "      <td>2014-01-31 23:19:21.473</td>\n",
       "      <td>1</td>\n",
       "      <td>-30034.378237</td>\n",
       "      <td>-7077.220106</td>\n",
       "      <td>3507.336506</td>\n",
       "      <td>1.532305</td>\n",
       "      <td>-1.665557</td>\n",
       "      <td>1.290191</td>\n",
       "      <td>-22432.558095</td>\n",
       "      <td>-10865.836350</td>\n",
       "      <td>3646.968029</td>\n",
       "      <td>2.819524</td>\n",
       "      <td>-1.797623</td>\n",
       "      <td>1.258773</td>\n",
       "    </tr>\n",
       "    <tr>\n",
       "      <th>3065</th>\n",
       "      <td>3926</td>\n",
       "      <td>2014-01-31 23:40:33.318</td>\n",
       "      <td>1</td>\n",
       "      <td>-27756.260690</td>\n",
       "      <td>-9107.885238</td>\n",
       "      <td>5102.708242</td>\n",
       "      <td>2.055278</td>\n",
       "      <td>-1.518181</td>\n",
       "      <td>1.211938</td>\n",
       "      <td>-18382.812351</td>\n",
       "      <td>-12896.945935</td>\n",
       "      <td>5156.151522</td>\n",
       "      <td>3.557107</td>\n",
       "      <td>-1.364583</td>\n",
       "      <td>1.097643</td>\n",
       "    </tr>\n",
       "  </tbody>\n",
       "</table>\n",
       "</div>"
      ],
      "text/plain": [
       "        id                   epoch  sat_id             x             y  \\\n",
       "3056  3917 2014-01-31 20:29:46.714       1 -26325.014144  10570.481429   \n",
       "3057  3918 2014-01-31 20:50:58.559       1 -28881.463509   8664.346191   \n",
       "3058  3919 2014-01-31 21:12:10.404       1 -30821.671271   6572.487863   \n",
       "3059  3920 2014-01-31 21:33:22.249       1 -32164.222216   4352.825564   \n",
       "3060  3921 2014-01-31 21:54:34.093       1 -32920.027847   2053.732736   \n",
       "3061  3922 2014-01-31 22:15:45.938       1 -33092.618399   -281.511542   \n",
       "3062  3923 2014-01-31 22:36:57.783       1 -32678.193673  -2611.293944   \n",
       "3063  3924 2014-01-31 22:58:09.628       1 -31665.342406  -4892.533056   \n",
       "3064  3925 2014-01-31 23:19:21.473       1 -30034.378237  -7077.220106   \n",
       "3065  3926 2014-01-31 23:40:33.318       1 -27756.260690  -9107.885238   \n",
       "\n",
       "                z        Vx        Vy        Vz         x_sim         y_sim  \\\n",
       "3056 -9072.938557 -2.258731 -1.407697  0.896216 -26649.642737  11504.337647   \n",
       "3057 -7831.985167 -1.764817 -1.580165  1.048091 -28494.865916   8926.357454   \n",
       "3058 -6422.856696 -1.288627 -1.701815  1.162225 -29713.169888   6151.648233   \n",
       "3059 -4888.483748 -0.823985 -1.782364  1.245980 -30287.447717   3243.635732   \n",
       "3060 -3264.479880 -0.364995 -1.827375  1.303696 -30194.980398    264.597575   \n",
       "3061 -1582.378975  0.094088 -1.839427  1.337545 -29406.078919  -2719.769909   \n",
       "3062   127.879530  0.559090 -1.818598  1.347891 -27882.742274  -5634.903507   \n",
       "3063  1835.695504  1.036204 -1.762460  1.333303 -25577.429154  -8389.868466   \n",
       "3064  3507.336506  1.532305 -1.665557  1.290191 -22432.558095 -10865.836350   \n",
       "3065  5102.708242  2.055278 -1.518181  1.211938 -18382.812351 -12896.945935   \n",
       "\n",
       "            z_sim    Vx_sim    Vy_sim    Vz_sim  \n",
       "3056 -8922.646171 -1.693458 -1.931831  0.878298  \n",
       "3057 -7708.398061 -1.206114 -2.112617  1.025474  \n",
       "3058 -6324.240838 -0.707152 -2.241929  1.145855  \n",
       "3059 -4802.930087 -0.192718 -2.322406  1.241260  \n",
       "3060 -3176.038569  0.342144 -2.353209  1.311728  \n",
       "3061 -1476.299104  0.903445 -2.329687  1.355335  \n",
       "3062   259.572177  1.498239 -2.242285  1.367602  \n",
       "3063  1986.924648  2.134397 -2.074305  1.340251  \n",
       "3064  3646.968029  2.819524 -1.797623  1.258773  \n",
       "3065  5156.151522  3.557107 -1.364583  1.097643  "
      ]
     },
     "execution_count": 83,
     "metadata": {},
     "output_type": "execute_result"
    }
   ],
   "source": [
    "train1.tail(10)"
   ]
  },
  {
   "cell_type": "code",
   "execution_count": 84,
   "metadata": {},
   "outputs": [],
   "source": [
    "# save that to a pickle file\n",
    "train1.to_pickle('train1.pkl')"
   ]
  },
  {
   "cell_type": "code",
   "execution_count": 85,
   "metadata": {},
   "outputs": [
    {
     "name": "stdout",
     "output_type": "stream",
     "text": [
      "<class 'pandas.core.frame.DataFrame'>\n",
      "RangeIndex: 2108 entries, 958 to 3065\n",
      "Data columns (total 15 columns):\n",
      "id        2108 non-null uint32\n",
      "epoch     2108 non-null datetime64[ns]\n",
      "sat_id    2108 non-null uint16\n",
      "x         2108 non-null float64\n",
      "y         2108 non-null float64\n",
      "z         2108 non-null float64\n",
      "Vx        2108 non-null float64\n",
      "Vy        2108 non-null float64\n",
      "Vz        2108 non-null float64\n",
      "x_sim     2108 non-null float64\n",
      "y_sim     2108 non-null float64\n",
      "z_sim     2108 non-null float64\n",
      "Vx_sim    2108 non-null float64\n",
      "Vy_sim    2108 non-null float64\n",
      "Vz_sim    2108 non-null float64\n",
      "dtypes: datetime64[ns](1), float64(12), uint16(1), uint32(1)\n",
      "memory usage: 226.5 KB\n"
     ]
    }
   ],
   "source": [
    "train1.info()"
   ]
  },
  {
   "cell_type": "markdown",
   "metadata": {},
   "source": [
    "## Doing the same for Test"
   ]
  },
  {
   "cell_type": "code",
   "execution_count": 54,
   "metadata": {},
   "outputs": [
    {
     "name": "stdout",
     "output_type": "stream",
     "text": [
      "Wall time: 6.1 s\n"
     ]
    }
   ],
   "source": [
    "%%time\n",
    "test = pd.read_csv('test.csv')"
   ]
  },
  {
   "cell_type": "code",
   "execution_count": 55,
   "metadata": {},
   "outputs": [
    {
     "name": "stdout",
     "output_type": "stream",
     "text": [
      "<class 'pandas.core.frame.DataFrame'>\n",
      "RangeIndex: 284071 entries, 0 to 284070\n",
      "Data columns (total 9 columns):\n",
      "id        284071 non-null int64\n",
      "sat_id    284071 non-null int64\n",
      "epoch     284071 non-null object\n",
      "x_sim     284071 non-null float64\n",
      "y_sim     284071 non-null float64\n",
      "z_sim     284071 non-null float64\n",
      "Vx_sim    284071 non-null float64\n",
      "Vy_sim    284071 non-null float64\n",
      "Vz_sim    284071 non-null float64\n",
      "dtypes: float64(6), int64(2), object(1)\n",
      "memory usage: 39.0 MB\n"
     ]
    }
   ],
   "source": [
    "test.info(memory_usage='deep')"
   ]
  },
  {
   "cell_type": "code",
   "execution_count": 56,
   "metadata": {},
   "outputs": [
    {
     "data": {
      "text/plain": [
       "Index      0.000080\n",
       "id         2.272568\n",
       "sat_id     2.272568\n",
       "epoch     22.725680\n",
       "x_sim      2.272568\n",
       "y_sim      2.272568\n",
       "z_sim      2.272568\n",
       "Vx_sim     2.272568\n",
       "Vy_sim     2.272568\n",
       "Vz_sim     2.272568\n",
       "dtype: float64"
      ]
     },
     "execution_count": 56,
     "metadata": {},
     "output_type": "execute_result"
    }
   ],
   "source": [
    "test.memory_usage(deep=True) * 1e-6"
   ]
  },
  {
   "cell_type": "code",
   "execution_count": 57,
   "metadata": {},
   "outputs": [],
   "source": [
    "test['epoch'] = pd.to_datetime(test['epoch'], infer_datetime_format=True)"
   ]
  },
  {
   "cell_type": "code",
   "execution_count": 58,
   "metadata": {},
   "outputs": [],
   "source": [
    "test['id'] = pd.to_numeric(test['id'], downcast='unsigned')"
   ]
  },
  {
   "cell_type": "code",
   "execution_count": 59,
   "metadata": {},
   "outputs": [],
   "source": [
    "test['sat_id'] = pd.to_numeric(test['sat_id'], downcast='unsigned')"
   ]
  },
  {
   "cell_type": "code",
   "execution_count": 60,
   "metadata": {},
   "outputs": [
    {
     "name": "stdout",
     "output_type": "stream",
     "text": [
      "<class 'pandas.core.frame.DataFrame'>\n",
      "RangeIndex: 284071 entries, 0 to 284070\n",
      "Data columns (total 9 columns):\n",
      "id        284071 non-null uint32\n",
      "sat_id    284071 non-null uint16\n",
      "epoch     284071 non-null datetime64[ns]\n",
      "x_sim     284071 non-null float64\n",
      "y_sim     284071 non-null float64\n",
      "z_sim     284071 non-null float64\n",
      "Vx_sim    284071 non-null float64\n",
      "Vy_sim    284071 non-null float64\n",
      "Vz_sim    284071 non-null float64\n",
      "dtypes: datetime64[ns](1), float64(6), uint16(1), uint32(1)\n",
      "memory usage: 16.8 MB\n"
     ]
    }
   ],
   "source": [
    "test.info(memory_usage='deep')"
   ]
  },
  {
   "cell_type": "code",
   "execution_count": 61,
   "metadata": {},
   "outputs": [
    {
     "data": {
      "text/plain": [
       "Index     0.000080\n",
       "id        1.136284\n",
       "sat_id    0.568142\n",
       "epoch     2.272568\n",
       "x_sim     2.272568\n",
       "y_sim     2.272568\n",
       "z_sim     2.272568\n",
       "Vx_sim    2.272568\n",
       "Vy_sim    2.272568\n",
       "Vz_sim    2.272568\n",
       "dtype: float64"
      ]
     },
     "execution_count": 61,
     "metadata": {},
     "output_type": "execute_result"
    }
   ],
   "source": [
    "test.memory_usage(deep=True) * 1e-6"
   ]
  },
  {
   "cell_type": "code",
   "execution_count": 62,
   "metadata": {},
   "outputs": [
    {
     "data": {
      "text/html": [
       "<div>\n",
       "<style scoped>\n",
       "    .dataframe tbody tr th:only-of-type {\n",
       "        vertical-align: middle;\n",
       "    }\n",
       "\n",
       "    .dataframe tbody tr th {\n",
       "        vertical-align: top;\n",
       "    }\n",
       "\n",
       "    .dataframe thead th {\n",
       "        text-align: right;\n",
       "    }\n",
       "</style>\n",
       "<table border=\"1\" class=\"dataframe\">\n",
       "  <thead>\n",
       "    <tr style=\"text-align: right;\">\n",
       "      <th></th>\n",
       "      <th>id</th>\n",
       "      <th>sat_id</th>\n",
       "      <th>epoch</th>\n",
       "      <th>x_sim</th>\n",
       "      <th>y_sim</th>\n",
       "      <th>z_sim</th>\n",
       "      <th>Vx_sim</th>\n",
       "      <th>Vy_sim</th>\n",
       "      <th>Vz_sim</th>\n",
       "    </tr>\n",
       "  </thead>\n",
       "  <tbody>\n",
       "    <tr>\n",
       "      <th>0</th>\n",
       "      <td>3927</td>\n",
       "      <td>1</td>\n",
       "      <td>2014-02-01 00:01:45.162</td>\n",
       "      <td>-13366.891347</td>\n",
       "      <td>-14236.753503</td>\n",
       "      <td>6386.774555</td>\n",
       "      <td>4.333815</td>\n",
       "      <td>-0.692764</td>\n",
       "      <td>0.810774</td>\n",
       "    </tr>\n",
       "    <tr>\n",
       "      <th>1</th>\n",
       "      <td>3928</td>\n",
       "      <td>1</td>\n",
       "      <td>2014-02-01 00:22:57.007</td>\n",
       "      <td>-7370.434039</td>\n",
       "      <td>-14498.771520</td>\n",
       "      <td>7130.411325</td>\n",
       "      <td>5.077413</td>\n",
       "      <td>0.360609</td>\n",
       "      <td>0.313402</td>\n",
       "    </tr>\n",
       "    <tr>\n",
       "      <th>2</th>\n",
       "      <td>3929</td>\n",
       "      <td>1</td>\n",
       "      <td>2014-02-01 00:44:08.852</td>\n",
       "      <td>-572.068654</td>\n",
       "      <td>-13065.289498</td>\n",
       "      <td>7033.794876</td>\n",
       "      <td>5.519106</td>\n",
       "      <td>2.012830</td>\n",
       "      <td>-0.539412</td>\n",
       "    </tr>\n",
       "    <tr>\n",
       "      <th>3</th>\n",
       "      <td>3930</td>\n",
       "      <td>1</td>\n",
       "      <td>2014-02-01 01:05:20.697</td>\n",
       "      <td>6208.945257</td>\n",
       "      <td>-9076.852425</td>\n",
       "      <td>5548.296900</td>\n",
       "      <td>4.849212</td>\n",
       "      <td>4.338955</td>\n",
       "      <td>-1.869600</td>\n",
       "    </tr>\n",
       "    <tr>\n",
       "      <th>4</th>\n",
       "      <td>3931</td>\n",
       "      <td>1</td>\n",
       "      <td>2014-02-01 01:26:32.542</td>\n",
       "      <td>10768.200284</td>\n",
       "      <td>-2199.706707</td>\n",
       "      <td>2272.014862</td>\n",
       "      <td>1.940505</td>\n",
       "      <td>6.192887</td>\n",
       "      <td>-3.167724</td>\n",
       "    </tr>\n",
       "  </tbody>\n",
       "</table>\n",
       "</div>"
      ],
      "text/plain": [
       "     id  sat_id                   epoch         x_sim         y_sim  \\\n",
       "0  3927       1 2014-02-01 00:01:45.162 -13366.891347 -14236.753503   \n",
       "1  3928       1 2014-02-01 00:22:57.007  -7370.434039 -14498.771520   \n",
       "2  3929       1 2014-02-01 00:44:08.852   -572.068654 -13065.289498   \n",
       "3  3930       1 2014-02-01 01:05:20.697   6208.945257  -9076.852425   \n",
       "4  3931       1 2014-02-01 01:26:32.542  10768.200284  -2199.706707   \n",
       "\n",
       "         z_sim    Vx_sim    Vy_sim    Vz_sim  \n",
       "0  6386.774555  4.333815 -0.692764  0.810774  \n",
       "1  7130.411325  5.077413  0.360609  0.313402  \n",
       "2  7033.794876  5.519106  2.012830 -0.539412  \n",
       "3  5548.296900  4.849212  4.338955 -1.869600  \n",
       "4  2272.014862  1.940505  6.192887 -3.167724  "
      ]
     },
     "execution_count": 62,
     "metadata": {},
     "output_type": "execute_result"
    }
   ],
   "source": [
    "# can I use first_indices also for test data to extract Sat_1 data? \n",
    "# no i cant because test data is data in february, which is a continuation from train data in januray\n",
    "# first observation ID of Test_Sat_1 is 3927\n",
    "test.head()"
   ]
  },
  {
   "cell_type": "code",
   "execution_count": 63,
   "metadata": {},
   "outputs": [
    {
     "data": {
      "text/html": [
       "<div>\n",
       "<style scoped>\n",
       "    .dataframe tbody tr th:only-of-type {\n",
       "        vertical-align: middle;\n",
       "    }\n",
       "\n",
       "    .dataframe tbody tr th {\n",
       "        vertical-align: top;\n",
       "    }\n",
       "\n",
       "    .dataframe thead th {\n",
       "        text-align: right;\n",
       "    }\n",
       "</style>\n",
       "<table border=\"1\" class=\"dataframe\">\n",
       "  <thead>\n",
       "    <tr style=\"text-align: right;\">\n",
       "      <th></th>\n",
       "      <th>id</th>\n",
       "      <th>epoch</th>\n",
       "      <th>sat_id</th>\n",
       "      <th>x</th>\n",
       "      <th>y</th>\n",
       "      <th>z</th>\n",
       "      <th>Vx</th>\n",
       "      <th>Vy</th>\n",
       "      <th>Vz</th>\n",
       "      <th>x_sim</th>\n",
       "      <th>y_sim</th>\n",
       "      <th>z_sim</th>\n",
       "      <th>Vx_sim</th>\n",
       "      <th>Vy_sim</th>\n",
       "      <th>Vz_sim</th>\n",
       "    </tr>\n",
       "  </thead>\n",
       "  <tbody>\n",
       "    <tr>\n",
       "      <th>3061</th>\n",
       "      <td>3922</td>\n",
       "      <td>2014-01-31 22:15:45.938</td>\n",
       "      <td>1</td>\n",
       "      <td>-33092.618399</td>\n",
       "      <td>-281.511542</td>\n",
       "      <td>-1582.378975</td>\n",
       "      <td>0.094088</td>\n",
       "      <td>-1.839427</td>\n",
       "      <td>1.337545</td>\n",
       "      <td>-29406.078919</td>\n",
       "      <td>-2719.769909</td>\n",
       "      <td>-1476.299104</td>\n",
       "      <td>0.903445</td>\n",
       "      <td>-2.329687</td>\n",
       "      <td>1.355335</td>\n",
       "    </tr>\n",
       "    <tr>\n",
       "      <th>3062</th>\n",
       "      <td>3923</td>\n",
       "      <td>2014-01-31 22:36:57.783</td>\n",
       "      <td>1</td>\n",
       "      <td>-32678.193673</td>\n",
       "      <td>-2611.293944</td>\n",
       "      <td>127.879530</td>\n",
       "      <td>0.559090</td>\n",
       "      <td>-1.818598</td>\n",
       "      <td>1.347891</td>\n",
       "      <td>-27882.742274</td>\n",
       "      <td>-5634.903507</td>\n",
       "      <td>259.572177</td>\n",
       "      <td>1.498239</td>\n",
       "      <td>-2.242285</td>\n",
       "      <td>1.367602</td>\n",
       "    </tr>\n",
       "    <tr>\n",
       "      <th>3063</th>\n",
       "      <td>3924</td>\n",
       "      <td>2014-01-31 22:58:09.628</td>\n",
       "      <td>1</td>\n",
       "      <td>-31665.342406</td>\n",
       "      <td>-4892.533056</td>\n",
       "      <td>1835.695504</td>\n",
       "      <td>1.036204</td>\n",
       "      <td>-1.762460</td>\n",
       "      <td>1.333303</td>\n",
       "      <td>-25577.429154</td>\n",
       "      <td>-8389.868466</td>\n",
       "      <td>1986.924648</td>\n",
       "      <td>2.134397</td>\n",
       "      <td>-2.074305</td>\n",
       "      <td>1.340251</td>\n",
       "    </tr>\n",
       "    <tr>\n",
       "      <th>3064</th>\n",
       "      <td>3925</td>\n",
       "      <td>2014-01-31 23:19:21.473</td>\n",
       "      <td>1</td>\n",
       "      <td>-30034.378237</td>\n",
       "      <td>-7077.220106</td>\n",
       "      <td>3507.336506</td>\n",
       "      <td>1.532305</td>\n",
       "      <td>-1.665557</td>\n",
       "      <td>1.290191</td>\n",
       "      <td>-22432.558095</td>\n",
       "      <td>-10865.836350</td>\n",
       "      <td>3646.968029</td>\n",
       "      <td>2.819524</td>\n",
       "      <td>-1.797623</td>\n",
       "      <td>1.258773</td>\n",
       "    </tr>\n",
       "    <tr>\n",
       "      <th>3065</th>\n",
       "      <td>3926</td>\n",
       "      <td>2014-01-31 23:40:33.318</td>\n",
       "      <td>1</td>\n",
       "      <td>-27756.260690</td>\n",
       "      <td>-9107.885238</td>\n",
       "      <td>5102.708242</td>\n",
       "      <td>2.055278</td>\n",
       "      <td>-1.518181</td>\n",
       "      <td>1.211938</td>\n",
       "      <td>-18382.812351</td>\n",
       "      <td>-12896.945935</td>\n",
       "      <td>5156.151522</td>\n",
       "      <td>3.557107</td>\n",
       "      <td>-1.364583</td>\n",
       "      <td>1.097643</td>\n",
       "    </tr>\n",
       "  </tbody>\n",
       "</table>\n",
       "</div>"
      ],
      "text/plain": [
       "        id                   epoch  sat_id             x            y  \\\n",
       "3061  3922 2014-01-31 22:15:45.938       1 -33092.618399  -281.511542   \n",
       "3062  3923 2014-01-31 22:36:57.783       1 -32678.193673 -2611.293944   \n",
       "3063  3924 2014-01-31 22:58:09.628       1 -31665.342406 -4892.533056   \n",
       "3064  3925 2014-01-31 23:19:21.473       1 -30034.378237 -7077.220106   \n",
       "3065  3926 2014-01-31 23:40:33.318       1 -27756.260690 -9107.885238   \n",
       "\n",
       "                z        Vx        Vy        Vz         x_sim         y_sim  \\\n",
       "3061 -1582.378975  0.094088 -1.839427  1.337545 -29406.078919  -2719.769909   \n",
       "3062   127.879530  0.559090 -1.818598  1.347891 -27882.742274  -5634.903507   \n",
       "3063  1835.695504  1.036204 -1.762460  1.333303 -25577.429154  -8389.868466   \n",
       "3064  3507.336506  1.532305 -1.665557  1.290191 -22432.558095 -10865.836350   \n",
       "3065  5102.708242  2.055278 -1.518181  1.211938 -18382.812351 -12896.945935   \n",
       "\n",
       "            z_sim    Vx_sim    Vy_sim    Vz_sim  \n",
       "3061 -1476.299104  0.903445 -2.329687  1.355335  \n",
       "3062   259.572177  1.498239 -2.242285  1.367602  \n",
       "3063  1986.924648  2.134397 -2.074305  1.340251  \n",
       "3064  3646.968029  2.819524 -1.797623  1.258773  \n",
       "3065  5156.151522  3.557107 -1.364583  1.097643  "
      ]
     },
     "execution_count": 63,
     "metadata": {},
     "output_type": "execute_result"
    }
   ],
   "source": [
    "# last observation ID of Train_Sat_1 is  3926\n",
    "train.iloc[first_indices[1]:first_indices[2],:].tail()"
   ]
  },
  {
   "cell_type": "markdown",
   "metadata": {},
   "source": [
    "### 22-Jan-2020"
   ]
  },
  {
   "cell_type": "code",
   "execution_count": 64,
   "metadata": {},
   "outputs": [],
   "source": [
    "first_indices_test = []\n",
    "for sat_no in test['sat_id'].unique():\n",
    "    first_id = test['sat_id'].searchsorted(sat_no)\n",
    "    first_indices_test.append(first_id[0])"
   ]
  },
  {
   "cell_type": "code",
   "execution_count": 65,
   "metadata": {},
   "outputs": [
    {
     "data": {
      "text/plain": [
       "1901"
      ]
     },
     "execution_count": 65,
     "metadata": {},
     "output_type": "execute_result"
    }
   ],
   "source": [
    "first_indices_test[1]"
   ]
  },
  {
   "cell_type": "code",
   "execution_count": 66,
   "metadata": {},
   "outputs": [
    {
     "data": {
      "text/plain": [
       "id                              5827\n",
       "sat_id                             1\n",
       "epoch     2014-02-28 22:55:38.449000\n",
       "x_sim                        10996.4\n",
       "y_sim                        -1764.7\n",
       "z_sim                        1427.18\n",
       "Vx_sim                       1.42443\n",
       "Vy_sim                       6.22262\n",
       "Vz_sim                      -3.37183\n",
       "Name: 1900, dtype: object"
      ]
     },
     "execution_count": 66,
     "metadata": {},
     "output_type": "execute_result"
    }
   ],
   "source": [
    "test.iloc[1900]"
   ]
  },
  {
   "cell_type": "code",
   "execution_count": 67,
   "metadata": {},
   "outputs": [
    {
     "data": {
      "text/plain": [
       "id                              6245\n",
       "sat_id                             2\n",
       "epoch     2014-02-01 00:07:54.678000\n",
       "x_sim                       -64199.4\n",
       "y_sim                        52297.7\n",
       "z_sim                       -16704.6\n",
       "Vx_sim                      -1.31379\n",
       "Vy_sim                     -0.632881\n",
       "Vz_sim                      0.952439\n",
       "Name: 1901, dtype: object"
      ]
     },
     "execution_count": 67,
     "metadata": {},
     "output_type": "execute_result"
    }
   ],
   "source": [
    "test.iloc[1901]"
   ]
  },
  {
   "cell_type": "code",
   "execution_count": 68,
   "metadata": {},
   "outputs": [
    {
     "data": {
      "text/html": [
       "<div>\n",
       "<style scoped>\n",
       "    .dataframe tbody tr th:only-of-type {\n",
       "        vertical-align: middle;\n",
       "    }\n",
       "\n",
       "    .dataframe tbody tr th {\n",
       "        vertical-align: top;\n",
       "    }\n",
       "\n",
       "    .dataframe thead th {\n",
       "        text-align: right;\n",
       "    }\n",
       "</style>\n",
       "<table border=\"1\" class=\"dataframe\">\n",
       "  <thead>\n",
       "    <tr style=\"text-align: right;\">\n",
       "      <th></th>\n",
       "      <th>id</th>\n",
       "      <th>sat_id</th>\n",
       "      <th>epoch</th>\n",
       "      <th>x_sim</th>\n",
       "      <th>y_sim</th>\n",
       "      <th>z_sim</th>\n",
       "      <th>Vx_sim</th>\n",
       "      <th>Vy_sim</th>\n",
       "      <th>Vz_sim</th>\n",
       "    </tr>\n",
       "  </thead>\n",
       "  <tbody>\n",
       "    <tr>\n",
       "      <th>0</th>\n",
       "      <td>3927</td>\n",
       "      <td>1</td>\n",
       "      <td>2014-02-01 00:01:45.162</td>\n",
       "      <td>-13366.891347</td>\n",
       "      <td>-14236.753503</td>\n",
       "      <td>6386.774555</td>\n",
       "      <td>4.333815</td>\n",
       "      <td>-0.692764</td>\n",
       "      <td>0.810774</td>\n",
       "    </tr>\n",
       "    <tr>\n",
       "      <th>1</th>\n",
       "      <td>3928</td>\n",
       "      <td>1</td>\n",
       "      <td>2014-02-01 00:22:57.007</td>\n",
       "      <td>-7370.434039</td>\n",
       "      <td>-14498.771520</td>\n",
       "      <td>7130.411325</td>\n",
       "      <td>5.077413</td>\n",
       "      <td>0.360609</td>\n",
       "      <td>0.313402</td>\n",
       "    </tr>\n",
       "    <tr>\n",
       "      <th>2</th>\n",
       "      <td>3929</td>\n",
       "      <td>1</td>\n",
       "      <td>2014-02-01 00:44:08.852</td>\n",
       "      <td>-572.068654</td>\n",
       "      <td>-13065.289498</td>\n",
       "      <td>7033.794876</td>\n",
       "      <td>5.519106</td>\n",
       "      <td>2.012830</td>\n",
       "      <td>-0.539412</td>\n",
       "    </tr>\n",
       "    <tr>\n",
       "      <th>3</th>\n",
       "      <td>3930</td>\n",
       "      <td>1</td>\n",
       "      <td>2014-02-01 01:05:20.697</td>\n",
       "      <td>6208.945257</td>\n",
       "      <td>-9076.852425</td>\n",
       "      <td>5548.296900</td>\n",
       "      <td>4.849212</td>\n",
       "      <td>4.338955</td>\n",
       "      <td>-1.869600</td>\n",
       "    </tr>\n",
       "    <tr>\n",
       "      <th>4</th>\n",
       "      <td>3931</td>\n",
       "      <td>1</td>\n",
       "      <td>2014-02-01 01:26:32.542</td>\n",
       "      <td>10768.200284</td>\n",
       "      <td>-2199.706707</td>\n",
       "      <td>2272.014862</td>\n",
       "      <td>1.940505</td>\n",
       "      <td>6.192887</td>\n",
       "      <td>-3.167724</td>\n",
       "    </tr>\n",
       "  </tbody>\n",
       "</table>\n",
       "</div>"
      ],
      "text/plain": [
       "     id  sat_id                   epoch         x_sim         y_sim  \\\n",
       "0  3927       1 2014-02-01 00:01:45.162 -13366.891347 -14236.753503   \n",
       "1  3928       1 2014-02-01 00:22:57.007  -7370.434039 -14498.771520   \n",
       "2  3929       1 2014-02-01 00:44:08.852   -572.068654 -13065.289498   \n",
       "3  3930       1 2014-02-01 01:05:20.697   6208.945257  -9076.852425   \n",
       "4  3931       1 2014-02-01 01:26:32.542  10768.200284  -2199.706707   \n",
       "\n",
       "         z_sim    Vx_sim    Vy_sim    Vz_sim  \n",
       "0  6386.774555  4.333815 -0.692764  0.810774  \n",
       "1  7130.411325  5.077413  0.360609  0.313402  \n",
       "2  7033.794876  5.519106  2.012830 -0.539412  \n",
       "3  5548.296900  4.849212  4.338955 -1.869600  \n",
       "4  2272.014862  1.940505  6.192887 -3.167724  "
      ]
     },
     "execution_count": 68,
     "metadata": {},
     "output_type": "execute_result"
    }
   ],
   "source": [
    "test.head()"
   ]
  },
  {
   "cell_type": "code",
   "execution_count": 69,
   "metadata": {},
   "outputs": [
    {
     "data": {
      "text/plain": [
       "300"
      ]
     },
     "execution_count": 69,
     "metadata": {},
     "output_type": "execute_result"
    }
   ],
   "source": [
    "len(test['sat_id'].unique())"
   ]
  },
  {
   "cell_type": "code",
   "execution_count": 70,
   "metadata": {},
   "outputs": [
    {
     "data": {
      "text/html": [
       "<div>\n",
       "<style scoped>\n",
       "    .dataframe tbody tr th:only-of-type {\n",
       "        vertical-align: middle;\n",
       "    }\n",
       "\n",
       "    .dataframe tbody tr th {\n",
       "        vertical-align: top;\n",
       "    }\n",
       "\n",
       "    .dataframe thead th {\n",
       "        text-align: right;\n",
       "    }\n",
       "</style>\n",
       "<table border=\"1\" class=\"dataframe\">\n",
       "  <thead>\n",
       "    <tr style=\"text-align: right;\">\n",
       "      <th></th>\n",
       "      <th>id</th>\n",
       "      <th>sat_id</th>\n",
       "      <th>epoch</th>\n",
       "      <th>x_sim</th>\n",
       "      <th>y_sim</th>\n",
       "      <th>z_sim</th>\n",
       "      <th>Vx_sim</th>\n",
       "      <th>Vy_sim</th>\n",
       "      <th>Vz_sim</th>\n",
       "    </tr>\n",
       "  </thead>\n",
       "  <tbody>\n",
       "    <tr>\n",
       "      <th>1896</th>\n",
       "      <td>5823</td>\n",
       "      <td>1</td>\n",
       "      <td>2014-02-28 21:30:51.070</td>\n",
       "      <td>-12172.502254</td>\n",
       "      <td>-14729.896827</td>\n",
       "      <td>7614.241477</td>\n",
       "      <td>4.406935</td>\n",
       "      <td>-0.495499</td>\n",
       "      <td>0.456099</td>\n",
       "    </tr>\n",
       "    <tr>\n",
       "      <th>1897</th>\n",
       "      <td>5824</td>\n",
       "      <td>1</td>\n",
       "      <td>2014-02-28 21:52:02.915</td>\n",
       "      <td>-6136.919502</td>\n",
       "      <td>-14726.318844</td>\n",
       "      <td>7862.718555</td>\n",
       "      <td>5.058846</td>\n",
       "      <td>0.579143</td>\n",
       "      <td>-0.109441</td>\n",
       "    </tr>\n",
       "    <tr>\n",
       "      <th>1898</th>\n",
       "      <td>5825</td>\n",
       "      <td>1</td>\n",
       "      <td>2014-02-28 22:13:14.759</td>\n",
       "      <td>553.235044</td>\n",
       "      <td>-13011.265336</td>\n",
       "      <td>7194.565001</td>\n",
       "      <td>5.357535</td>\n",
       "      <td>2.231405</td>\n",
       "      <td>-1.008146</td>\n",
       "    </tr>\n",
       "    <tr>\n",
       "      <th>1899</th>\n",
       "      <td>5826</td>\n",
       "      <td>1</td>\n",
       "      <td>2014-02-28 22:34:26.604</td>\n",
       "      <td>7007.220162</td>\n",
       "      <td>-8771.583052</td>\n",
       "      <td>5124.655752</td>\n",
       "      <td>4.490665</td>\n",
       "      <td>4.502656</td>\n",
       "      <td>-2.296487</td>\n",
       "    </tr>\n",
       "    <tr>\n",
       "      <th>1900</th>\n",
       "      <td>5827</td>\n",
       "      <td>1</td>\n",
       "      <td>2014-02-28 22:55:38.449</td>\n",
       "      <td>10996.426875</td>\n",
       "      <td>-1764.703560</td>\n",
       "      <td>1427.176527</td>\n",
       "      <td>1.424435</td>\n",
       "      <td>6.222616</td>\n",
       "      <td>-3.371827</td>\n",
       "    </tr>\n",
       "  </tbody>\n",
       "</table>\n",
       "</div>"
      ],
      "text/plain": [
       "        id  sat_id                   epoch         x_sim         y_sim  \\\n",
       "1896  5823       1 2014-02-28 21:30:51.070 -12172.502254 -14729.896827   \n",
       "1897  5824       1 2014-02-28 21:52:02.915  -6136.919502 -14726.318844   \n",
       "1898  5825       1 2014-02-28 22:13:14.759    553.235044 -13011.265336   \n",
       "1899  5826       1 2014-02-28 22:34:26.604   7007.220162  -8771.583052   \n",
       "1900  5827       1 2014-02-28 22:55:38.449  10996.426875  -1764.703560   \n",
       "\n",
       "            z_sim    Vx_sim    Vy_sim    Vz_sim  \n",
       "1896  7614.241477  4.406935 -0.495499  0.456099  \n",
       "1897  7862.718555  5.058846  0.579143 -0.109441  \n",
       "1898  7194.565001  5.357535  2.231405 -1.008146  \n",
       "1899  5124.655752  4.490665  4.502656 -2.296487  \n",
       "1900  1427.176527  1.424435  6.222616 -3.371827  "
      ]
     },
     "execution_count": 70,
     "metadata": {},
     "output_type": "execute_result"
    }
   ],
   "source": [
    "test.iloc[:1901,:].tail()"
   ]
  },
  {
   "cell_type": "code",
   "execution_count": 71,
   "metadata": {},
   "outputs": [
    {
     "data": {
      "text/plain": [
       "Timestamp('2014-01-01 00:00:00')"
      ]
     },
     "execution_count": 71,
     "metadata": {},
     "output_type": "execute_result"
    }
   ],
   "source": [
    "train['epoch'][0]"
   ]
  },
  {
   "cell_type": "code",
   "execution_count": 51,
   "metadata": {},
   "outputs": [],
   "source": [
    "# insert abs_time for test data, calculated since 1 Jan 2014\n",
    "test.insert(3, 'abs_time', test['epoch']-train['epoch'][0])"
   ]
  },
  {
   "cell_type": "code",
   "execution_count": 52,
   "metadata": {},
   "outputs": [
    {
     "data": {
      "text/html": [
       "<div>\n",
       "<style scoped>\n",
       "    .dataframe tbody tr th:only-of-type {\n",
       "        vertical-align: middle;\n",
       "    }\n",
       "\n",
       "    .dataframe tbody tr th {\n",
       "        vertical-align: top;\n",
       "    }\n",
       "\n",
       "    .dataframe thead th {\n",
       "        text-align: right;\n",
       "    }\n",
       "</style>\n",
       "<table border=\"1\" class=\"dataframe\">\n",
       "  <thead>\n",
       "    <tr style=\"text-align: right;\">\n",
       "      <th></th>\n",
       "      <th>id</th>\n",
       "      <th>sat_id</th>\n",
       "      <th>epoch</th>\n",
       "      <th>abs_time</th>\n",
       "      <th>x_sim</th>\n",
       "      <th>y_sim</th>\n",
       "      <th>z_sim</th>\n",
       "      <th>Vx_sim</th>\n",
       "      <th>Vy_sim</th>\n",
       "      <th>Vz_sim</th>\n",
       "    </tr>\n",
       "  </thead>\n",
       "  <tbody>\n",
       "    <tr>\n",
       "      <th>0</th>\n",
       "      <td>3927</td>\n",
       "      <td>1</td>\n",
       "      <td>2014-02-01 00:01:45.162</td>\n",
       "      <td>31 days 00:01:45.162000</td>\n",
       "      <td>-13366.891347</td>\n",
       "      <td>-14236.753503</td>\n",
       "      <td>6386.774555</td>\n",
       "      <td>4.333815</td>\n",
       "      <td>-0.692764</td>\n",
       "      <td>0.810774</td>\n",
       "    </tr>\n",
       "    <tr>\n",
       "      <th>1</th>\n",
       "      <td>3928</td>\n",
       "      <td>1</td>\n",
       "      <td>2014-02-01 00:22:57.007</td>\n",
       "      <td>31 days 00:22:57.007000</td>\n",
       "      <td>-7370.434039</td>\n",
       "      <td>-14498.771520</td>\n",
       "      <td>7130.411325</td>\n",
       "      <td>5.077413</td>\n",
       "      <td>0.360609</td>\n",
       "      <td>0.313402</td>\n",
       "    </tr>\n",
       "    <tr>\n",
       "      <th>2</th>\n",
       "      <td>3929</td>\n",
       "      <td>1</td>\n",
       "      <td>2014-02-01 00:44:08.852</td>\n",
       "      <td>31 days 00:44:08.852000</td>\n",
       "      <td>-572.068654</td>\n",
       "      <td>-13065.289498</td>\n",
       "      <td>7033.794876</td>\n",
       "      <td>5.519106</td>\n",
       "      <td>2.012830</td>\n",
       "      <td>-0.539412</td>\n",
       "    </tr>\n",
       "    <tr>\n",
       "      <th>3</th>\n",
       "      <td>3930</td>\n",
       "      <td>1</td>\n",
       "      <td>2014-02-01 01:05:20.697</td>\n",
       "      <td>31 days 01:05:20.697000</td>\n",
       "      <td>6208.945257</td>\n",
       "      <td>-9076.852425</td>\n",
       "      <td>5548.296900</td>\n",
       "      <td>4.849212</td>\n",
       "      <td>4.338955</td>\n",
       "      <td>-1.869600</td>\n",
       "    </tr>\n",
       "    <tr>\n",
       "      <th>4</th>\n",
       "      <td>3931</td>\n",
       "      <td>1</td>\n",
       "      <td>2014-02-01 01:26:32.542</td>\n",
       "      <td>31 days 01:26:32.542000</td>\n",
       "      <td>10768.200284</td>\n",
       "      <td>-2199.706707</td>\n",
       "      <td>2272.014862</td>\n",
       "      <td>1.940505</td>\n",
       "      <td>6.192887</td>\n",
       "      <td>-3.167724</td>\n",
       "    </tr>\n",
       "  </tbody>\n",
       "</table>\n",
       "</div>"
      ],
      "text/plain": [
       "     id  sat_id                   epoch                abs_time         x_sim  \\\n",
       "0  3927       1 2014-02-01 00:01:45.162 31 days 00:01:45.162000 -13366.891347   \n",
       "1  3928       1 2014-02-01 00:22:57.007 31 days 00:22:57.007000  -7370.434039   \n",
       "2  3929       1 2014-02-01 00:44:08.852 31 days 00:44:08.852000   -572.068654   \n",
       "3  3930       1 2014-02-01 01:05:20.697 31 days 01:05:20.697000   6208.945257   \n",
       "4  3931       1 2014-02-01 01:26:32.542 31 days 01:26:32.542000  10768.200284   \n",
       "\n",
       "          y_sim        z_sim    Vx_sim    Vy_sim    Vz_sim  \n",
       "0 -14236.753503  6386.774555  4.333815 -0.692764  0.810774  \n",
       "1 -14498.771520  7130.411325  5.077413  0.360609  0.313402  \n",
       "2 -13065.289498  7033.794876  5.519106  2.012830 -0.539412  \n",
       "3  -9076.852425  5548.296900  4.849212  4.338955 -1.869600  \n",
       "4  -2199.706707  2272.014862  1.940505  6.192887 -3.167724  "
      ]
     },
     "execution_count": 52,
     "metadata": {},
     "output_type": "execute_result"
    }
   ],
   "source": [
    "test.head()"
   ]
  },
  {
   "cell_type": "code",
   "execution_count": 72,
   "metadata": {},
   "outputs": [],
   "source": [
    "# test is finally ready to be written as pickle file\n",
    "test.to_pickle('test_initial.pkl')"
   ]
  },
  {
   "cell_type": "code",
   "execution_count": 54,
   "metadata": {},
   "outputs": [],
   "source": [
    "del test"
   ]
  },
  {
   "cell_type": "code",
   "execution_count": 73,
   "metadata": {},
   "outputs": [
    {
     "name": "stdout",
     "output_type": "stream",
     "text": [
      "Wall time: 71.8 ms\n"
     ]
    }
   ],
   "source": [
    "%%time\n",
    "test = pd.read_pickle('test_initial.pkl')"
   ]
  },
  {
   "cell_type": "code",
   "execution_count": 74,
   "metadata": {},
   "outputs": [],
   "source": [
    "# extract Sat_1 test data and write to pickle file\n",
    "test1 = test.iloc[:first_indices_test[1],:]"
   ]
  },
  {
   "cell_type": "code",
   "execution_count": 75,
   "metadata": {},
   "outputs": [],
   "source": [
    "test1.to_pickle('test1.pkl')"
   ]
  },
  {
   "cell_type": "code",
   "execution_count": null,
   "metadata": {},
   "outputs": [],
   "source": []
  },
  {
   "cell_type": "code",
   "execution_count": null,
   "metadata": {},
   "outputs": [],
   "source": []
  }
 ],
 "metadata": {
  "kernelspec": {
   "display_name": "Python 3",
   "language": "python",
   "name": "python3"
  },
  "language_info": {
   "codemirror_mode": {
    "name": "ipython",
    "version": 3
   },
   "file_extension": ".py",
   "mimetype": "text/x-python",
   "name": "python",
   "nbconvert_exporter": "python",
   "pygments_lexer": "ipython3",
   "version": "3.7.5"
  }
 },
 "nbformat": 4,
 "nbformat_minor": 2
}
