{
 "cells": [
  {
   "cell_type": "markdown",
   "metadata": {},
   "source": [
    "### Summary\n",
    "\n",
    "Results submitted to the contest page on 29 Jan 2020 18:50:18, achieving a $100 \\times (1-SMAPE)$ score of 70.04"
   ]
  },
  {
   "cell_type": "code",
   "execution_count": 43,
   "metadata": {},
   "outputs": [],
   "source": [
    "import os\n",
    "import numpy as np\n",
    "import pandas as pd\n",
    "import seaborn as sns\n",
    "import datetime as dt\n",
    "import matplotlib.pyplot as plt\n",
    "from statsmodels.tsa.seasonal import seasonal_decompose\n",
    "from statsmodels.tsa.holtwinters import ExponentialSmoothing"
   ]
  },
  {
   "cell_type": "code",
   "execution_count": 412,
   "metadata": {},
   "outputs": [],
   "source": [
    "#sns.set_style('whitegrid')\n",
    "#sns.set(rc={'figure.figsize':(16, 4)})\n",
    "plt.rc('figure',figsize=(16,4))\n",
    "plt.rc('font',size=13)"
   ]
  },
  {
   "cell_type": "code",
   "execution_count": 439,
   "metadata": {},
   "outputs": [],
   "source": [
    "# main dataset to calculate offsets\n",
    "train = pd.read_pickle('train.pkl')\n",
    "test = pd.read_pickle('test.pkl')"
   ]
  },
  {
   "cell_type": "code",
   "execution_count": null,
   "metadata": {},
   "outputs": [],
   "source": [
    "trainx = pd.read_csv('train_1.csv', index_col=0)\n",
    "test = pd.read_csv('test_forR.csv', index_col=0)"
   ]
  },
  {
   "cell_type": "code",
   "execution_count": 396,
   "metadata": {},
   "outputs": [],
   "source": [
    "train_orig = train.copy()"
   ]
  },
  {
   "cell_type": "code",
   "execution_count": null,
   "metadata": {},
   "outputs": [],
   "source": [
    "trainx_orig = trainx.copy()\n",
    "test_orig = test.copy()"
   ]
  },
  {
   "cell_type": "code",
   "execution_count": 195,
   "metadata": {},
   "outputs": [],
   "source": [
    "# to reset \n",
    "trainx = trainx_orig.copy()\n",
    "test = test_orig.copy()"
   ]
  },
  {
   "cell_type": "code",
   "execution_count": 113,
   "metadata": {},
   "outputs": [],
   "source": [
    "sat_ids = test['sat_id'].unique()"
   ]
  },
  {
   "cell_type": "code",
   "execution_count": 196,
   "metadata": {},
   "outputs": [],
   "source": [
    "# number of observations in test for each satellite n\n",
    "num_test = [(test['sat_id'] == n).sum() for n in sat_ids]"
   ]
  },
  {
   "cell_type": "code",
   "execution_count": 262,
   "metadata": {},
   "outputs": [],
   "source": [
    "# dataframe of frequencies for each satellite, found by R's 'findfrequency'\n",
    "freq = pd.read_csv('frequencies.csv').drop('Unnamed: 0', axis=1)"
   ]
  },
  {
   "cell_type": "code",
   "execution_count": 197,
   "metadata": {},
   "outputs": [
    {
     "data": {
      "text/html": [
       "<div>\n",
       "<style scoped>\n",
       "    .dataframe tbody tr th:only-of-type {\n",
       "        vertical-align: middle;\n",
       "    }\n",
       "\n",
       "    .dataframe tbody tr th {\n",
       "        vertical-align: top;\n",
       "    }\n",
       "\n",
       "    .dataframe thead th {\n",
       "        text-align: right;\n",
       "    }\n",
       "</style>\n",
       "<table border=\"1\" class=\"dataframe\">\n",
       "  <thead>\n",
       "    <tr style=\"text-align: right;\">\n",
       "      <th></th>\n",
       "      <th>f_x</th>\n",
       "      <th>f_y</th>\n",
       "      <th>f_z</th>\n",
       "      <th>f_Vx</th>\n",
       "      <th>f_Vy</th>\n",
       "      <th>f_Vz</th>\n",
       "    </tr>\n",
       "  </thead>\n",
       "  <tbody>\n",
       "    <tr>\n",
       "      <th>0</th>\n",
       "      <td>24</td>\n",
       "      <td>24</td>\n",
       "      <td>24</td>\n",
       "      <td>12</td>\n",
       "      <td>12</td>\n",
       "      <td>12</td>\n",
       "    </tr>\n",
       "    <tr>\n",
       "      <th>1</th>\n",
       "      <td>24</td>\n",
       "      <td>24</td>\n",
       "      <td>24</td>\n",
       "      <td>24</td>\n",
       "      <td>24</td>\n",
       "      <td>24</td>\n",
       "    </tr>\n",
       "    <tr>\n",
       "      <th>2</th>\n",
       "      <td>24</td>\n",
       "      <td>24</td>\n",
       "      <td>24</td>\n",
       "      <td>24</td>\n",
       "      <td>24</td>\n",
       "      <td>1</td>\n",
       "    </tr>\n",
       "    <tr>\n",
       "      <th>3</th>\n",
       "      <td>24</td>\n",
       "      <td>24</td>\n",
       "      <td>24</td>\n",
       "      <td>24</td>\n",
       "      <td>24</td>\n",
       "      <td>24</td>\n",
       "    </tr>\n",
       "    <tr>\n",
       "      <th>4</th>\n",
       "      <td>24</td>\n",
       "      <td>24</td>\n",
       "      <td>24</td>\n",
       "      <td>24</td>\n",
       "      <td>24</td>\n",
       "      <td>24</td>\n",
       "    </tr>\n",
       "  </tbody>\n",
       "</table>\n",
       "</div>"
      ],
      "text/plain": [
       "   f_x  f_y  f_z  f_Vx  f_Vy  f_Vz\n",
       "0   24   24   24    12    12    12\n",
       "1   24   24   24    24    24    24\n",
       "2   24   24   24    24    24     1\n",
       "3   24   24   24    24    24    24\n",
       "4   24   24   24    24    24    24"
      ]
     },
     "execution_count": 197,
     "metadata": {},
     "output_type": "execute_result"
    }
   ],
   "source": [
    "freq.head()"
   ]
  },
  {
   "cell_type": "code",
   "execution_count": 35,
   "metadata": {},
   "outputs": [
    {
     "data": {
      "text/plain": [
       "Index(['f_x', 'f_y', 'f_z', 'f_Vx', 'f_Vy', 'f_Vz'], dtype='object')"
      ]
     },
     "execution_count": 35,
     "metadata": {},
     "output_type": "execute_result"
    }
   ],
   "source": [
    "freq.columns"
   ]
  },
  {
   "cell_type": "code",
   "execution_count": 22,
   "metadata": {},
   "outputs": [
    {
     "data": {
      "text/plain": [
       "(300, 6)"
      ]
     },
     "execution_count": 22,
     "metadata": {},
     "output_type": "execute_result"
    }
   ],
   "source": [
    "freq.shape"
   ]
  },
  {
   "cell_type": "code",
   "execution_count": 198,
   "metadata": {},
   "outputs": [
    {
     "data": {
      "text/plain": [
       "((315183, 4), (284071, 3))"
      ]
     },
     "execution_count": 198,
     "metadata": {},
     "output_type": "execute_result"
    }
   ],
   "source": [
    "trainx.shape, test.shape"
   ]
  },
  {
   "cell_type": "code",
   "execution_count": 199,
   "metadata": {},
   "outputs": [
    {
     "data": {
      "text/html": [
       "<div>\n",
       "<style scoped>\n",
       "    .dataframe tbody tr th:only-of-type {\n",
       "        vertical-align: middle;\n",
       "    }\n",
       "\n",
       "    .dataframe tbody tr th {\n",
       "        vertical-align: top;\n",
       "    }\n",
       "\n",
       "    .dataframe thead th {\n",
       "        text-align: right;\n",
       "    }\n",
       "</style>\n",
       "<table border=\"1\" class=\"dataframe\">\n",
       "  <thead>\n",
       "    <tr style=\"text-align: right;\">\n",
       "      <th></th>\n",
       "      <th>id</th>\n",
       "      <th>epoch</th>\n",
       "      <th>sat_id</th>\n",
       "      <th>x</th>\n",
       "    </tr>\n",
       "  </thead>\n",
       "  <tbody>\n",
       "    <tr>\n",
       "      <th>958</th>\n",
       "      <td>1819</td>\n",
       "      <td>2014-01-01 00:00:00.000</td>\n",
       "      <td>1</td>\n",
       "      <td>54678.538321</td>\n",
       "    </tr>\n",
       "    <tr>\n",
       "      <th>959</th>\n",
       "      <td>1820</td>\n",
       "      <td>2014-01-01 00:21:11.845</td>\n",
       "      <td>1</td>\n",
       "      <td>55483.832064</td>\n",
       "    </tr>\n",
       "    <tr>\n",
       "      <th>960</th>\n",
       "      <td>1821</td>\n",
       "      <td>2014-01-01 00:42:23.690</td>\n",
       "      <td>1</td>\n",
       "      <td>52523.781668</td>\n",
       "    </tr>\n",
       "    <tr>\n",
       "      <th>961</th>\n",
       "      <td>1822</td>\n",
       "      <td>2014-01-01 01:03:35.534</td>\n",
       "      <td>1</td>\n",
       "      <td>47848.375008</td>\n",
       "    </tr>\n",
       "    <tr>\n",
       "      <th>962</th>\n",
       "      <td>1823</td>\n",
       "      <td>2014-01-01 01:24:47.379</td>\n",
       "      <td>1</td>\n",
       "      <td>42707.748340</td>\n",
       "    </tr>\n",
       "  </tbody>\n",
       "</table>\n",
       "</div>"
      ],
      "text/plain": [
       "       id                    epoch  sat_id             x\n",
       "958  1819  2014-01-01 00:00:00.000       1  54678.538321\n",
       "959  1820  2014-01-01 00:21:11.845       1  55483.832064\n",
       "960  1821  2014-01-01 00:42:23.690       1  52523.781668\n",
       "961  1822  2014-01-01 01:03:35.534       1  47848.375008\n",
       "962  1823  2014-01-01 01:24:47.379       1  42707.748340"
      ]
     },
     "execution_count": 199,
     "metadata": {},
     "output_type": "execute_result"
    }
   ],
   "source": [
    "trainx.head()"
   ]
  },
  {
   "cell_type": "code",
   "execution_count": 200,
   "metadata": {},
   "outputs": [
    {
     "data": {
      "text/html": [
       "<div>\n",
       "<style scoped>\n",
       "    .dataframe tbody tr th:only-of-type {\n",
       "        vertical-align: middle;\n",
       "    }\n",
       "\n",
       "    .dataframe tbody tr th {\n",
       "        vertical-align: top;\n",
       "    }\n",
       "\n",
       "    .dataframe thead th {\n",
       "        text-align: right;\n",
       "    }\n",
       "</style>\n",
       "<table border=\"1\" class=\"dataframe\">\n",
       "  <thead>\n",
       "    <tr style=\"text-align: right;\">\n",
       "      <th></th>\n",
       "      <th>id</th>\n",
       "      <th>sat_id</th>\n",
       "      <th>epoch</th>\n",
       "    </tr>\n",
       "  </thead>\n",
       "  <tbody>\n",
       "    <tr>\n",
       "      <th>0</th>\n",
       "      <td>3927</td>\n",
       "      <td>1</td>\n",
       "      <td>2014-02-01 00:01:45.162</td>\n",
       "    </tr>\n",
       "    <tr>\n",
       "      <th>1</th>\n",
       "      <td>3928</td>\n",
       "      <td>1</td>\n",
       "      <td>2014-02-01 00:22:57.007</td>\n",
       "    </tr>\n",
       "    <tr>\n",
       "      <th>2</th>\n",
       "      <td>3929</td>\n",
       "      <td>1</td>\n",
       "      <td>2014-02-01 00:44:08.852</td>\n",
       "    </tr>\n",
       "    <tr>\n",
       "      <th>3</th>\n",
       "      <td>3930</td>\n",
       "      <td>1</td>\n",
       "      <td>2014-02-01 01:05:20.697</td>\n",
       "    </tr>\n",
       "    <tr>\n",
       "      <th>4</th>\n",
       "      <td>3931</td>\n",
       "      <td>1</td>\n",
       "      <td>2014-02-01 01:26:32.542</td>\n",
       "    </tr>\n",
       "  </tbody>\n",
       "</table>\n",
       "</div>"
      ],
      "text/plain": [
       "     id  sat_id                    epoch\n",
       "0  3927       1  2014-02-01 00:01:45.162\n",
       "1  3928       1  2014-02-01 00:22:57.007\n",
       "2  3929       1  2014-02-01 00:44:08.852\n",
       "3  3930       1  2014-02-01 01:05:20.697\n",
       "4  3931       1  2014-02-01 01:26:32.542"
      ]
     },
     "execution_count": 200,
     "metadata": {},
     "output_type": "execute_result"
    }
   ],
   "source": [
    "test.head()"
   ]
  },
  {
   "cell_type": "code",
   "execution_count": 201,
   "metadata": {},
   "outputs": [],
   "source": [
    "# reindex to epoch \n",
    "trainx.index = trainx['epoch']\n",
    "test.index = test['epoch']"
   ]
  },
  {
   "cell_type": "code",
   "execution_count": 202,
   "metadata": {},
   "outputs": [
    {
     "data": {
      "text/html": [
       "<div>\n",
       "<style scoped>\n",
       "    .dataframe tbody tr th:only-of-type {\n",
       "        vertical-align: middle;\n",
       "    }\n",
       "\n",
       "    .dataframe tbody tr th {\n",
       "        vertical-align: top;\n",
       "    }\n",
       "\n",
       "    .dataframe thead th {\n",
       "        text-align: right;\n",
       "    }\n",
       "</style>\n",
       "<table border=\"1\" class=\"dataframe\">\n",
       "  <thead>\n",
       "    <tr style=\"text-align: right;\">\n",
       "      <th></th>\n",
       "      <th>id</th>\n",
       "      <th>epoch</th>\n",
       "      <th>sat_id</th>\n",
       "      <th>x</th>\n",
       "    </tr>\n",
       "    <tr>\n",
       "      <th>epoch</th>\n",
       "      <th></th>\n",
       "      <th></th>\n",
       "      <th></th>\n",
       "      <th></th>\n",
       "    </tr>\n",
       "  </thead>\n",
       "  <tbody>\n",
       "    <tr>\n",
       "      <th>2014-01-01 00:00:00.000</th>\n",
       "      <td>1819</td>\n",
       "      <td>2014-01-01 00:00:00.000</td>\n",
       "      <td>1</td>\n",
       "      <td>54678.538321</td>\n",
       "    </tr>\n",
       "    <tr>\n",
       "      <th>2014-01-01 00:21:11.845</th>\n",
       "      <td>1820</td>\n",
       "      <td>2014-01-01 00:21:11.845</td>\n",
       "      <td>1</td>\n",
       "      <td>55483.832064</td>\n",
       "    </tr>\n",
       "    <tr>\n",
       "      <th>2014-01-01 00:42:23.690</th>\n",
       "      <td>1821</td>\n",
       "      <td>2014-01-01 00:42:23.690</td>\n",
       "      <td>1</td>\n",
       "      <td>52523.781668</td>\n",
       "    </tr>\n",
       "    <tr>\n",
       "      <th>2014-01-01 01:03:35.534</th>\n",
       "      <td>1822</td>\n",
       "      <td>2014-01-01 01:03:35.534</td>\n",
       "      <td>1</td>\n",
       "      <td>47848.375008</td>\n",
       "    </tr>\n",
       "    <tr>\n",
       "      <th>2014-01-01 01:24:47.379</th>\n",
       "      <td>1823</td>\n",
       "      <td>2014-01-01 01:24:47.379</td>\n",
       "      <td>1</td>\n",
       "      <td>42707.748340</td>\n",
       "    </tr>\n",
       "  </tbody>\n",
       "</table>\n",
       "</div>"
      ],
      "text/plain": [
       "                           id                    epoch  sat_id             x\n",
       "epoch                                                                       \n",
       "2014-01-01 00:00:00.000  1819  2014-01-01 00:00:00.000       1  54678.538321\n",
       "2014-01-01 00:21:11.845  1820  2014-01-01 00:21:11.845       1  55483.832064\n",
       "2014-01-01 00:42:23.690  1821  2014-01-01 00:42:23.690       1  52523.781668\n",
       "2014-01-01 01:03:35.534  1822  2014-01-01 01:03:35.534       1  47848.375008\n",
       "2014-01-01 01:24:47.379  1823  2014-01-01 01:24:47.379       1  42707.748340"
      ]
     },
     "execution_count": 202,
     "metadata": {},
     "output_type": "execute_result"
    }
   ],
   "source": [
    "trainx.head()"
   ]
  },
  {
   "cell_type": "code",
   "execution_count": 443,
   "metadata": {},
   "outputs": [
    {
     "data": {
      "text/html": [
       "<div>\n",
       "<style scoped>\n",
       "    .dataframe tbody tr th:only-of-type {\n",
       "        vertical-align: middle;\n",
       "    }\n",
       "\n",
       "    .dataframe tbody tr th {\n",
       "        vertical-align: top;\n",
       "    }\n",
       "\n",
       "    .dataframe thead th {\n",
       "        text-align: right;\n",
       "    }\n",
       "</style>\n",
       "<table border=\"1\" class=\"dataframe\">\n",
       "  <thead>\n",
       "    <tr style=\"text-align: right;\">\n",
       "      <th></th>\n",
       "      <th>id</th>\n",
       "      <th>sat_id</th>\n",
       "      <th>epoch</th>\n",
       "      <th>x_sim</th>\n",
       "      <th>y_sim</th>\n",
       "      <th>z_sim</th>\n",
       "      <th>Vx_sim</th>\n",
       "      <th>Vy_sim</th>\n",
       "      <th>Vz_sim</th>\n",
       "    </tr>\n",
       "  </thead>\n",
       "  <tbody>\n",
       "    <tr>\n",
       "      <th>0</th>\n",
       "      <td>3927</td>\n",
       "      <td>1</td>\n",
       "      <td>2014-02-01 00:01:45.162</td>\n",
       "      <td>-13366.891347</td>\n",
       "      <td>-14236.753503</td>\n",
       "      <td>6386.774555</td>\n",
       "      <td>4.333815</td>\n",
       "      <td>-0.692764</td>\n",
       "      <td>0.810774</td>\n",
       "    </tr>\n",
       "    <tr>\n",
       "      <th>1</th>\n",
       "      <td>3928</td>\n",
       "      <td>1</td>\n",
       "      <td>2014-02-01 00:22:57.007</td>\n",
       "      <td>-7370.434039</td>\n",
       "      <td>-14498.771520</td>\n",
       "      <td>7130.411325</td>\n",
       "      <td>5.077413</td>\n",
       "      <td>0.360609</td>\n",
       "      <td>0.313402</td>\n",
       "    </tr>\n",
       "    <tr>\n",
       "      <th>2</th>\n",
       "      <td>3929</td>\n",
       "      <td>1</td>\n",
       "      <td>2014-02-01 00:44:08.852</td>\n",
       "      <td>-572.068654</td>\n",
       "      <td>-13065.289498</td>\n",
       "      <td>7033.794876</td>\n",
       "      <td>5.519106</td>\n",
       "      <td>2.012830</td>\n",
       "      <td>-0.539412</td>\n",
       "    </tr>\n",
       "    <tr>\n",
       "      <th>3</th>\n",
       "      <td>3930</td>\n",
       "      <td>1</td>\n",
       "      <td>2014-02-01 01:05:20.697</td>\n",
       "      <td>6208.945257</td>\n",
       "      <td>-9076.852425</td>\n",
       "      <td>5548.296900</td>\n",
       "      <td>4.849212</td>\n",
       "      <td>4.338955</td>\n",
       "      <td>-1.869600</td>\n",
       "    </tr>\n",
       "    <tr>\n",
       "      <th>4</th>\n",
       "      <td>3931</td>\n",
       "      <td>1</td>\n",
       "      <td>2014-02-01 01:26:32.542</td>\n",
       "      <td>10768.200284</td>\n",
       "      <td>-2199.706707</td>\n",
       "      <td>2272.014862</td>\n",
       "      <td>1.940505</td>\n",
       "      <td>6.192887</td>\n",
       "      <td>-3.167724</td>\n",
       "    </tr>\n",
       "  </tbody>\n",
       "</table>\n",
       "</div>"
      ],
      "text/plain": [
       "     id  sat_id                   epoch         x_sim         y_sim  \\\n",
       "0  3927       1 2014-02-01 00:01:45.162 -13366.891347 -14236.753503   \n",
       "1  3928       1 2014-02-01 00:22:57.007  -7370.434039 -14498.771520   \n",
       "2  3929       1 2014-02-01 00:44:08.852   -572.068654 -13065.289498   \n",
       "3  3930       1 2014-02-01 01:05:20.697   6208.945257  -9076.852425   \n",
       "4  3931       1 2014-02-01 01:26:32.542  10768.200284  -2199.706707   \n",
       "\n",
       "         z_sim    Vx_sim    Vy_sim    Vz_sim  \n",
       "0  6386.774555  4.333815 -0.692764  0.810774  \n",
       "1  7130.411325  5.077413  0.360609  0.313402  \n",
       "2  7033.794876  5.519106  2.012830 -0.539412  \n",
       "3  5548.296900  4.849212  4.338955 -1.869600  \n",
       "4  2272.014862  1.940505  6.192887 -3.167724  "
      ]
     },
     "execution_count": 443,
     "metadata": {},
     "output_type": "execute_result"
    }
   ],
   "source": [
    "test.head()"
   ]
  },
  {
   "cell_type": "code",
   "execution_count": 204,
   "metadata": {},
   "outputs": [
    {
     "data": {
      "text/html": [
       "<div>\n",
       "<style scoped>\n",
       "    .dataframe tbody tr th:only-of-type {\n",
       "        vertical-align: middle;\n",
       "    }\n",
       "\n",
       "    .dataframe tbody tr th {\n",
       "        vertical-align: top;\n",
       "    }\n",
       "\n",
       "    .dataframe thead th {\n",
       "        text-align: right;\n",
       "    }\n",
       "</style>\n",
       "<table border=\"1\" class=\"dataframe\">\n",
       "  <thead>\n",
       "    <tr style=\"text-align: right;\">\n",
       "      <th></th>\n",
       "      <th>id</th>\n",
       "      <th>epoch</th>\n",
       "      <th>sat_id</th>\n",
       "      <th>x</th>\n",
       "      <th>y</th>\n",
       "      <th>z</th>\n",
       "      <th>Vx</th>\n",
       "      <th>Vy</th>\n",
       "      <th>Vz</th>\n",
       "      <th>x_sim</th>\n",
       "      <th>y_sim</th>\n",
       "      <th>z_sim</th>\n",
       "      <th>Vx_sim</th>\n",
       "      <th>Vy_sim</th>\n",
       "      <th>Vz_sim</th>\n",
       "    </tr>\n",
       "  </thead>\n",
       "  <tbody>\n",
       "    <tr>\n",
       "      <th>0</th>\n",
       "      <td>0</td>\n",
       "      <td>2014-01-01 00:00:00.000</td>\n",
       "      <td>0</td>\n",
       "      <td>-8855.823863</td>\n",
       "      <td>13117.780146</td>\n",
       "      <td>-20728.353233</td>\n",
       "      <td>-0.908303</td>\n",
       "      <td>-3.808436</td>\n",
       "      <td>-2.022083</td>\n",
       "      <td>-8843.131454</td>\n",
       "      <td>13138.221690</td>\n",
       "      <td>-20741.615306</td>\n",
       "      <td>-0.907527</td>\n",
       "      <td>-3.804930</td>\n",
       "      <td>-2.024133</td>\n",
       "    </tr>\n",
       "    <tr>\n",
       "      <th>1</th>\n",
       "      <td>1</td>\n",
       "      <td>2014-01-01 00:46:43.000</td>\n",
       "      <td>0</td>\n",
       "      <td>-10567.672384</td>\n",
       "      <td>1619.746066</td>\n",
       "      <td>-24451.813271</td>\n",
       "      <td>-0.302590</td>\n",
       "      <td>-4.272617</td>\n",
       "      <td>-0.612796</td>\n",
       "      <td>-10555.500066</td>\n",
       "      <td>1649.289367</td>\n",
       "      <td>-24473.089556</td>\n",
       "      <td>-0.303704</td>\n",
       "      <td>-4.269816</td>\n",
       "      <td>-0.616468</td>\n",
       "    </tr>\n",
       "    <tr>\n",
       "      <th>2</th>\n",
       "      <td>2</td>\n",
       "      <td>2014-01-01 01:33:26.001</td>\n",
       "      <td>0</td>\n",
       "      <td>-10578.684043</td>\n",
       "      <td>-10180.467460</td>\n",
       "      <td>-24238.280949</td>\n",
       "      <td>0.277435</td>\n",
       "      <td>-4.047522</td>\n",
       "      <td>0.723155</td>\n",
       "      <td>-10571.858472</td>\n",
       "      <td>-10145.939908</td>\n",
       "      <td>-24271.169776</td>\n",
       "      <td>0.274880</td>\n",
       "      <td>-4.046788</td>\n",
       "      <td>0.718768</td>\n",
       "    </tr>\n",
       "    <tr>\n",
       "      <th>3</th>\n",
       "      <td>3</td>\n",
       "      <td>2014-01-01 02:20:09.001</td>\n",
       "      <td>0</td>\n",
       "      <td>-9148.251857</td>\n",
       "      <td>-20651.437460</td>\n",
       "      <td>-20720.381279</td>\n",
       "      <td>0.715600</td>\n",
       "      <td>-3.373762</td>\n",
       "      <td>1.722115</td>\n",
       "      <td>-9149.620794</td>\n",
       "      <td>-20618.200201</td>\n",
       "      <td>-20765.019094</td>\n",
       "      <td>0.712437</td>\n",
       "      <td>-3.375202</td>\n",
       "      <td>1.718306</td>\n",
       "    </tr>\n",
       "    <tr>\n",
       "      <th>4</th>\n",
       "      <td>4</td>\n",
       "      <td>2014-01-01 03:06:52.002</td>\n",
       "      <td>0</td>\n",
       "      <td>-6719.092336</td>\n",
       "      <td>-28929.061629</td>\n",
       "      <td>-14938.907967</td>\n",
       "      <td>0.992507</td>\n",
       "      <td>-2.519732</td>\n",
       "      <td>2.344703</td>\n",
       "      <td>-6729.358857</td>\n",
       "      <td>-28902.271436</td>\n",
       "      <td>-14992.399986</td>\n",
       "      <td>0.989382</td>\n",
       "      <td>-2.522618</td>\n",
       "      <td>2.342237</td>\n",
       "    </tr>\n",
       "  </tbody>\n",
       "</table>\n",
       "</div>"
      ],
      "text/plain": [
       "   id                   epoch  sat_id             x             y  \\\n",
       "0   0 2014-01-01 00:00:00.000       0  -8855.823863  13117.780146   \n",
       "1   1 2014-01-01 00:46:43.000       0 -10567.672384   1619.746066   \n",
       "2   2 2014-01-01 01:33:26.001       0 -10578.684043 -10180.467460   \n",
       "3   3 2014-01-01 02:20:09.001       0  -9148.251857 -20651.437460   \n",
       "4   4 2014-01-01 03:06:52.002       0  -6719.092336 -28929.061629   \n",
       "\n",
       "              z        Vx        Vy        Vz         x_sim         y_sim  \\\n",
       "0 -20728.353233 -0.908303 -3.808436 -2.022083  -8843.131454  13138.221690   \n",
       "1 -24451.813271 -0.302590 -4.272617 -0.612796 -10555.500066   1649.289367   \n",
       "2 -24238.280949  0.277435 -4.047522  0.723155 -10571.858472 -10145.939908   \n",
       "3 -20720.381279  0.715600 -3.373762  1.722115  -9149.620794 -20618.200201   \n",
       "4 -14938.907967  0.992507 -2.519732  2.344703  -6729.358857 -28902.271436   \n",
       "\n",
       "          z_sim    Vx_sim    Vy_sim    Vz_sim  \n",
       "0 -20741.615306 -0.907527 -3.804930 -2.024133  \n",
       "1 -24473.089556 -0.303704 -4.269816 -0.616468  \n",
       "2 -24271.169776  0.274880 -4.046788  0.718768  \n",
       "3 -20765.019094  0.712437 -3.375202  1.718306  \n",
       "4 -14992.399986  0.989382 -2.522618  2.342237  "
      ]
     },
     "execution_count": 204,
     "metadata": {},
     "output_type": "execute_result"
    }
   ],
   "source": [
    "train.head()"
   ]
  },
  {
   "cell_type": "code",
   "execution_count": 156,
   "metadata": {},
   "outputs": [],
   "source": [
    "def calculate_offset(k):\n",
    "    \n",
    "    offsets = []\n",
    "    for n in sat_ids:\n",
    "        satdata_n = train[train['sat_id'] == n][k]\n",
    "        off_n = max(satdata_n) - min(satdata_n)\n",
    "        offsets.append(off_n)\n",
    "    \n",
    "    return offsets"
   ]
  },
  {
   "cell_type": "code",
   "execution_count": 157,
   "metadata": {},
   "outputs": [],
   "source": [
    "# the offsets for x are stored in off_x\n",
    "off = calculate_offset(k='x')"
   ]
  },
  {
   "cell_type": "code",
   "execution_count": 205,
   "metadata": {},
   "outputs": [
    {
     "data": {
      "text/plain": [
       "44288.22523152392"
      ]
     },
     "execution_count": 205,
     "metadata": {},
     "output_type": "execute_result"
    }
   ],
   "source": [
    "off[0]"
   ]
  },
  {
   "cell_type": "markdown",
   "metadata": {},
   "source": [
    "**Create a function that takes in x values from january and forecasts for the next month for all 300 satellites,\n",
    "using the frequencies specified by the freq dataframe**\n",
    "\n",
    "\n",
    "- grab data\n",
    "- fit model to that data\n",
    "- forecast for that data\n",
    "- deoffset it\n",
    "- put it into a list\n",
    "- concatenate all forecast data into a single list and attach it to Test"
   ]
  },
  {
   "cell_type": "code",
   "execution_count": 230,
   "metadata": {},
   "outputs": [],
   "source": [
    "# ETS(M,A_d,M) is multiplicative error, damped additive trend, multiplicative seasonality\n",
    "# this makes forecast for all 300 satellites, use forecast_plot to make forecast for one satellite\n",
    "\n",
    "def forecast(k):\n",
    "    \n",
    "    forecast_data = list()\n",
    "    \n",
    "    for i in range(0,len(sat_ids)):\n",
    "        \n",
    "        n = sat_ids[i]                # n is the satellite ID number\n",
    "        frequency_n = freq['f_'+k][i] # time series frequency for Satellite n\n",
    "        offset_n = off_k[i]             # offset for Satellite n\n",
    "        num_test_n = num_test[i]      # number of observations that will be forecasted for Satellite n\n",
    "    \n",
    "        satdata_n = train_k[train_k['sat_id'] == n][k] # data for kinematic state k, Satellite n\n",
    "    \n",
    "        fit_n = ExponentialSmoothing(np.asarray(satdata_n), trend='add', seasonal='mul',\n",
    "                                     seasonal_periods = frequency_n, damped=True).fit()\n",
    "        \n",
    "        forecast_n = fit_n.forecast(num_test_n)\n",
    "                               \n",
    "        forecast_n -= offset_n\n",
    "        \n",
    "        forecast_data.append(forecast_n)\n",
    "        \n",
    "        print(f'Forecast of {k} for Satellite {n} has been done.')\n",
    "    \n",
    "    return forecast_data"
   ]
  },
  {
   "cell_type": "markdown",
   "metadata": {},
   "source": [
    "Cell below is a small example to understand how to loop over the satellites. "
   ]
  },
  {
   "cell_type": "code",
   "execution_count": 187,
   "metadata": {},
   "outputs": [],
   "source": [
    "# For each satellite number n from the 300 unique satellite IDs in the Test dataset,\n",
    "#forecast_x = list()\n",
    "\n",
    "#for i in range(0,2):\n",
    "    \n",
    "#    n = sat_ids[i]\n",
    "    \n",
    "#    frequency_n = freq['f_'+'x'][i]\n",
    "#    offset_n = off[i]\n",
    "#    num_test_n = num_test[i]\n",
    "    \n",
    "    # grab nth satellite data\n",
    "#    satdata_n = trainx[trainx['sat_id'] == n].loc[:,'x']\n",
    "    \n",
    "    # fit model to that data\n",
    "#    fit_n = ExponentialSmoothing(np.asarray(satdata_n), trend = 'add', seasonal = 'mul',\n",
    "#                                 seasonal_periods = frequency_n, damped = True).fit()\n",
    "    \n",
    "    # use model to produce forecast data for the epochs in Test\n",
    "#    forecast_n = fit_n.forecast(num_test_n)\n",
    "    \n",
    "    # deoffset the forecast data by the corresponding amount in 'off'\n",
    "#    forecast_n -= offset_n\n",
    "    \n",
    "    # put the forecast data into a list\n",
    "#    forecast_x.append(forecast_n)\n",
    "    "
   ]
  },
  {
   "cell_type": "code",
   "execution_count": 191,
   "metadata": {},
   "outputs": [
    {
     "data": {
      "text/plain": [
       "375"
      ]
     },
     "execution_count": 191,
     "metadata": {},
     "output_type": "execute_result"
    }
   ],
   "source": []
  },
  {
   "cell_type": "code",
   "execution_count": 192,
   "metadata": {},
   "outputs": [
    {
     "data": {
      "text/plain": [
       "[1901, 375]"
      ]
     },
     "execution_count": 192,
     "metadata": {},
     "output_type": "execute_result"
    }
   ],
   "source": [
    "num_test[0:2]"
   ]
  },
  {
   "cell_type": "code",
   "execution_count": 210,
   "metadata": {},
   "outputs": [
    {
     "name": "stdout",
     "output_type": "stream",
     "text": [
      "Wall time: 8.71 s\n"
     ]
    }
   ],
   "source": [
    "#%%time\n",
    "#forecast_x = forecast(k='x')"
   ]
  },
  {
   "cell_type": "code",
   "execution_count": 216,
   "metadata": {
    "scrolled": true
   },
   "outputs": [
    {
     "name": "stdout",
     "output_type": "stream",
     "text": [
      "Forecast for Satellite 1 has been done.\n",
      "Forecast for Satellite 2 has been done.\n",
      "Forecast for Satellite 3 has been done.\n",
      "Forecast for Satellite 4 has been done.\n"
     ]
    },
    {
     "name": "stderr",
     "output_type": "stream",
     "text": [
      "C:\\Anaconda3\\envs\\nlp_course\\lib\\site-packages\\statsmodels\\tsa\\holtwinters.py:744: ConvergenceWarning: Optimization failed to converge. Check mle_retvals.\n",
      "  ConvergenceWarning)\n"
     ]
    },
    {
     "name": "stdout",
     "output_type": "stream",
     "text": [
      "Forecast for Satellite 6 has been done.\n",
      "Forecast for Satellite 9 has been done.\n",
      "Forecast for Satellite 16 has been done.\n"
     ]
    },
    {
     "name": "stderr",
     "output_type": "stream",
     "text": [
      "C:\\Anaconda3\\envs\\nlp_course\\lib\\site-packages\\statsmodels\\tsa\\holtwinters.py:744: ConvergenceWarning: Optimization failed to converge. Check mle_retvals.\n",
      "  ConvergenceWarning)\n"
     ]
    },
    {
     "name": "stdout",
     "output_type": "stream",
     "text": [
      "Forecast for Satellite 20 has been done.\n",
      "Forecast for Satellite 22 has been done.\n",
      "Forecast for Satellite 24 has been done.\n",
      "Forecast for Satellite 25 has been done.\n",
      "Forecast for Satellite 26 has been done.\n"
     ]
    },
    {
     "name": "stderr",
     "output_type": "stream",
     "text": [
      "C:\\Anaconda3\\envs\\nlp_course\\lib\\site-packages\\statsmodels\\tsa\\holtwinters.py:744: ConvergenceWarning: Optimization failed to converge. Check mle_retvals.\n",
      "  ConvergenceWarning)\n"
     ]
    },
    {
     "name": "stdout",
     "output_type": "stream",
     "text": [
      "Forecast for Satellite 27 has been done.\n"
     ]
    },
    {
     "name": "stderr",
     "output_type": "stream",
     "text": [
      "C:\\Anaconda3\\envs\\nlp_course\\lib\\site-packages\\statsmodels\\tsa\\holtwinters.py:744: ConvergenceWarning: Optimization failed to converge. Check mle_retvals.\n",
      "  ConvergenceWarning)\n"
     ]
    },
    {
     "name": "stdout",
     "output_type": "stream",
     "text": [
      "Forecast for Satellite 28 has been done.\n",
      "Forecast for Satellite 29 has been done.\n",
      "Forecast for Satellite 32 has been done.\n",
      "Forecast for Satellite 34 has been done.\n",
      "Forecast for Satellite 35 has been done.\n",
      "Forecast for Satellite 36 has been done.\n",
      "Forecast for Satellite 37 has been done.\n",
      "Forecast for Satellite 38 has been done.\n",
      "Forecast for Satellite 39 has been done.\n",
      "Forecast for Satellite 40 has been done.\n",
      "Forecast for Satellite 41 has been done.\n",
      "Forecast for Satellite 42 has been done.\n",
      "Forecast for Satellite 44 has been done.\n",
      "Forecast for Satellite 45 has been done.\n",
      "Forecast for Satellite 49 has been done.\n",
      "Forecast for Satellite 51 has been done.\n"
     ]
    },
    {
     "name": "stderr",
     "output_type": "stream",
     "text": [
      "C:\\Anaconda3\\envs\\nlp_course\\lib\\site-packages\\statsmodels\\tsa\\holtwinters.py:744: ConvergenceWarning: Optimization failed to converge. Check mle_retvals.\n",
      "  ConvergenceWarning)\n"
     ]
    },
    {
     "name": "stdout",
     "output_type": "stream",
     "text": [
      "Forecast for Satellite 52 has been done.\n",
      "Forecast for Satellite 53 has been done.\n",
      "Forecast for Satellite 54 has been done.\n",
      "Forecast for Satellite 57 has been done.\n",
      "Forecast for Satellite 59 has been done.\n",
      "Forecast for Satellite 63 has been done.\n"
     ]
    },
    {
     "name": "stderr",
     "output_type": "stream",
     "text": [
      "C:\\Anaconda3\\envs\\nlp_course\\lib\\site-packages\\statsmodels\\tsa\\holtwinters.py:744: ConvergenceWarning: Optimization failed to converge. Check mle_retvals.\n",
      "  ConvergenceWarning)\n"
     ]
    },
    {
     "name": "stdout",
     "output_type": "stream",
     "text": [
      "Forecast for Satellite 64 has been done.\n",
      "Forecast for Satellite 68 has been done.\n",
      "Forecast for Satellite 70 has been done.\n",
      "Forecast for Satellite 75 has been done.\n",
      "Forecast for Satellite 82 has been done.\n",
      "Forecast for Satellite 84 has been done.\n",
      "Forecast for Satellite 86 has been done.\n"
     ]
    },
    {
     "name": "stderr",
     "output_type": "stream",
     "text": [
      "C:\\Anaconda3\\envs\\nlp_course\\lib\\site-packages\\statsmodels\\tsa\\holtwinters.py:744: ConvergenceWarning: Optimization failed to converge. Check mle_retvals.\n",
      "  ConvergenceWarning)\n"
     ]
    },
    {
     "name": "stdout",
     "output_type": "stream",
     "text": [
      "Forecast for Satellite 89 has been done.\n"
     ]
    },
    {
     "name": "stderr",
     "output_type": "stream",
     "text": [
      "C:\\Anaconda3\\envs\\nlp_course\\lib\\site-packages\\statsmodels\\tsa\\holtwinters.py:744: ConvergenceWarning: Optimization failed to converge. Check mle_retvals.\n",
      "  ConvergenceWarning)\n"
     ]
    },
    {
     "name": "stdout",
     "output_type": "stream",
     "text": [
      "Forecast for Satellite 90 has been done.\n",
      "Forecast for Satellite 91 has been done.\n",
      "Forecast for Satellite 92 has been done.\n",
      "Forecast for Satellite 93 has been done.\n"
     ]
    },
    {
     "name": "stderr",
     "output_type": "stream",
     "text": [
      "C:\\Anaconda3\\envs\\nlp_course\\lib\\site-packages\\statsmodels\\tsa\\holtwinters.py:744: ConvergenceWarning: Optimization failed to converge. Check mle_retvals.\n",
      "  ConvergenceWarning)\n"
     ]
    },
    {
     "name": "stdout",
     "output_type": "stream",
     "text": [
      "Forecast for Satellite 96 has been done.\n",
      "Forecast for Satellite 98 has been done.\n",
      "Forecast for Satellite 100 has been done.\n",
      "Forecast for Satellite 101 has been done.\n",
      "Forecast for Satellite 102 has been done.\n",
      "Forecast for Satellite 105 has been done.\n"
     ]
    },
    {
     "name": "stderr",
     "output_type": "stream",
     "text": [
      "C:\\Anaconda3\\envs\\nlp_course\\lib\\site-packages\\statsmodels\\tsa\\holtwinters.py:744: ConvergenceWarning: Optimization failed to converge. Check mle_retvals.\n",
      "  ConvergenceWarning)\n"
     ]
    },
    {
     "name": "stdout",
     "output_type": "stream",
     "text": [
      "Forecast for Satellite 106 has been done.\n",
      "Forecast for Satellite 109 has been done.\n"
     ]
    },
    {
     "name": "stderr",
     "output_type": "stream",
     "text": [
      "C:\\Anaconda3\\envs\\nlp_course\\lib\\site-packages\\statsmodels\\tsa\\holtwinters.py:744: ConvergenceWarning: Optimization failed to converge. Check mle_retvals.\n",
      "  ConvergenceWarning)\n"
     ]
    },
    {
     "name": "stdout",
     "output_type": "stream",
     "text": [
      "Forecast for Satellite 110 has been done.\n",
      "Forecast for Satellite 112 has been done.\n"
     ]
    },
    {
     "name": "stderr",
     "output_type": "stream",
     "text": [
      "C:\\Anaconda3\\envs\\nlp_course\\lib\\site-packages\\statsmodels\\tsa\\holtwinters.py:744: ConvergenceWarning: Optimization failed to converge. Check mle_retvals.\n",
      "  ConvergenceWarning)\n"
     ]
    },
    {
     "name": "stdout",
     "output_type": "stream",
     "text": [
      "Forecast for Satellite 113 has been done.\n",
      "Forecast for Satellite 114 has been done.\n"
     ]
    },
    {
     "name": "stderr",
     "output_type": "stream",
     "text": [
      "C:\\Anaconda3\\envs\\nlp_course\\lib\\site-packages\\statsmodels\\tsa\\holtwinters.py:744: ConvergenceWarning: Optimization failed to converge. Check mle_retvals.\n",
      "  ConvergenceWarning)\n"
     ]
    },
    {
     "name": "stdout",
     "output_type": "stream",
     "text": [
      "Forecast for Satellite 117 has been done.\n"
     ]
    },
    {
     "name": "stderr",
     "output_type": "stream",
     "text": [
      "C:\\Anaconda3\\envs\\nlp_course\\lib\\site-packages\\statsmodels\\tsa\\holtwinters.py:744: ConvergenceWarning: Optimization failed to converge. Check mle_retvals.\n",
      "  ConvergenceWarning)\n"
     ]
    },
    {
     "name": "stdout",
     "output_type": "stream",
     "text": [
      "Forecast for Satellite 118 has been done.\n",
      "Forecast for Satellite 120 has been done.\n",
      "Forecast for Satellite 121 has been done.\n",
      "Forecast for Satellite 123 has been done.\n",
      "Forecast for Satellite 124 has been done.\n",
      "Forecast for Satellite 125 has been done.\n",
      "Forecast for Satellite 126 has been done.\n",
      "Forecast for Satellite 127 has been done.\n",
      "Forecast for Satellite 128 has been done.\n"
     ]
    },
    {
     "name": "stderr",
     "output_type": "stream",
     "text": [
      "C:\\Anaconda3\\envs\\nlp_course\\lib\\site-packages\\statsmodels\\tsa\\holtwinters.py:744: ConvergenceWarning: Optimization failed to converge. Check mle_retvals.\n",
      "  ConvergenceWarning)\n"
     ]
    },
    {
     "name": "stdout",
     "output_type": "stream",
     "text": [
      "Forecast for Satellite 130 has been done.\n"
     ]
    },
    {
     "name": "stderr",
     "output_type": "stream",
     "text": [
      "C:\\Anaconda3\\envs\\nlp_course\\lib\\site-packages\\statsmodels\\tsa\\holtwinters.py:744: ConvergenceWarning: Optimization failed to converge. Check mle_retvals.\n",
      "  ConvergenceWarning)\n"
     ]
    },
    {
     "name": "stdout",
     "output_type": "stream",
     "text": [
      "Forecast for Satellite 132 has been done.\n",
      "Forecast for Satellite 133 has been done.\n",
      "Forecast for Satellite 135 has been done.\n",
      "Forecast for Satellite 138 has been done.\n",
      "Forecast for Satellite 142 has been done.\n",
      "Forecast for Satellite 143 has been done.\n"
     ]
    },
    {
     "name": "stderr",
     "output_type": "stream",
     "text": [
      "C:\\Anaconda3\\envs\\nlp_course\\lib\\site-packages\\statsmodels\\tsa\\holtwinters.py:744: ConvergenceWarning: Optimization failed to converge. Check mle_retvals.\n",
      "  ConvergenceWarning)\n"
     ]
    },
    {
     "name": "stdout",
     "output_type": "stream",
     "text": [
      "Forecast for Satellite 144 has been done.\n",
      "Forecast for Satellite 145 has been done.\n",
      "Forecast for Satellite 149 has been done.\n",
      "Forecast for Satellite 151 has been done.\n",
      "Forecast for Satellite 152 has been done.\n"
     ]
    },
    {
     "name": "stderr",
     "output_type": "stream",
     "text": [
      "C:\\Anaconda3\\envs\\nlp_course\\lib\\site-packages\\statsmodels\\tsa\\holtwinters.py:744: ConvergenceWarning: Optimization failed to converge. Check mle_retvals.\n",
      "  ConvergenceWarning)\n"
     ]
    },
    {
     "name": "stdout",
     "output_type": "stream",
     "text": [
      "Forecast for Satellite 153 has been done.\n"
     ]
    },
    {
     "name": "stderr",
     "output_type": "stream",
     "text": [
      "C:\\Anaconda3\\envs\\nlp_course\\lib\\site-packages\\statsmodels\\tsa\\holtwinters.py:744: ConvergenceWarning: Optimization failed to converge. Check mle_retvals.\n",
      "  ConvergenceWarning)\n"
     ]
    },
    {
     "name": "stdout",
     "output_type": "stream",
     "text": [
      "Forecast for Satellite 155 has been done.\n"
     ]
    },
    {
     "name": "stderr",
     "output_type": "stream",
     "text": [
      "C:\\Anaconda3\\envs\\nlp_course\\lib\\site-packages\\statsmodels\\tsa\\holtwinters.py:744: ConvergenceWarning: Optimization failed to converge. Check mle_retvals.\n",
      "  ConvergenceWarning)\n"
     ]
    },
    {
     "name": "stdout",
     "output_type": "stream",
     "text": [
      "Forecast for Satellite 156 has been done.\n"
     ]
    },
    {
     "name": "stderr",
     "output_type": "stream",
     "text": [
      "C:\\Anaconda3\\envs\\nlp_course\\lib\\site-packages\\statsmodels\\tsa\\holtwinters.py:744: ConvergenceWarning: Optimization failed to converge. Check mle_retvals.\n",
      "  ConvergenceWarning)\n"
     ]
    },
    {
     "name": "stdout",
     "output_type": "stream",
     "text": [
      "Forecast for Satellite 158 has been done.\n",
      "Forecast for Satellite 159 has been done.\n",
      "Forecast for Satellite 160 has been done.\n"
     ]
    },
    {
     "name": "stderr",
     "output_type": "stream",
     "text": [
      "C:\\Anaconda3\\envs\\nlp_course\\lib\\site-packages\\statsmodels\\tsa\\holtwinters.py:744: ConvergenceWarning: Optimization failed to converge. Check mle_retvals.\n",
      "  ConvergenceWarning)\n"
     ]
    },
    {
     "name": "stdout",
     "output_type": "stream",
     "text": [
      "Forecast for Satellite 162 has been done.\n",
      "Forecast for Satellite 164 has been done.\n",
      "Forecast for Satellite 165 has been done.\n",
      "Forecast for Satellite 166 has been done.\n"
     ]
    },
    {
     "name": "stderr",
     "output_type": "stream",
     "text": [
      "C:\\Anaconda3\\envs\\nlp_course\\lib\\site-packages\\statsmodels\\tsa\\holtwinters.py:744: ConvergenceWarning: Optimization failed to converge. Check mle_retvals.\n",
      "  ConvergenceWarning)\n"
     ]
    },
    {
     "name": "stdout",
     "output_type": "stream",
     "text": [
      "Forecast for Satellite 169 has been done.\n",
      "Forecast for Satellite 170 has been done.\n",
      "Forecast for Satellite 172 has been done.\n",
      "Forecast for Satellite 173 has been done.\n",
      "Forecast for Satellite 177 has been done.\n"
     ]
    },
    {
     "name": "stderr",
     "output_type": "stream",
     "text": [
      "C:\\Anaconda3\\envs\\nlp_course\\lib\\site-packages\\statsmodels\\tsa\\holtwinters.py:744: ConvergenceWarning: Optimization failed to converge. Check mle_retvals.\n",
      "  ConvergenceWarning)\n"
     ]
    },
    {
     "name": "stdout",
     "output_type": "stream",
     "text": [
      "Forecast for Satellite 178 has been done.\n",
      "Forecast for Satellite 183 has been done.\n",
      "Forecast for Satellite 186 has been done.\n",
      "Forecast for Satellite 187 has been done.\n",
      "Forecast for Satellite 188 has been done.\n",
      "Forecast for Satellite 191 has been done.\n",
      "Forecast for Satellite 193 has been done.\n",
      "Forecast for Satellite 194 has been done.\n",
      "Forecast for Satellite 195 has been done.\n",
      "Forecast for Satellite 197 has been done.\n",
      "Forecast for Satellite 203 has been done.\n"
     ]
    },
    {
     "name": "stderr",
     "output_type": "stream",
     "text": [
      "C:\\Anaconda3\\envs\\nlp_course\\lib\\site-packages\\statsmodels\\tsa\\holtwinters.py:744: ConvergenceWarning: Optimization failed to converge. Check mle_retvals.\n",
      "  ConvergenceWarning)\n"
     ]
    },
    {
     "name": "stdout",
     "output_type": "stream",
     "text": [
      "Forecast for Satellite 205 has been done.\n",
      "Forecast for Satellite 206 has been done.\n",
      "Forecast for Satellite 207 has been done.\n",
      "Forecast for Satellite 208 has been done.\n",
      "Forecast for Satellite 209 has been done.\n",
      "Forecast for Satellite 210 has been done.\n",
      "Forecast for Satellite 211 has been done.\n",
      "Forecast for Satellite 213 has been done.\n",
      "Forecast for Satellite 219 has been done.\n",
      "Forecast for Satellite 220 has been done.\n",
      "Forecast for Satellite 222 has been done.\n",
      "Forecast for Satellite 223 has been done.\n"
     ]
    },
    {
     "name": "stderr",
     "output_type": "stream",
     "text": [
      "C:\\Anaconda3\\envs\\nlp_course\\lib\\site-packages\\statsmodels\\tsa\\holtwinters.py:744: ConvergenceWarning: Optimization failed to converge. Check mle_retvals.\n",
      "  ConvergenceWarning)\n"
     ]
    },
    {
     "name": "stdout",
     "output_type": "stream",
     "text": [
      "Forecast for Satellite 225 has been done.\n",
      "Forecast for Satellite 227 has been done.\n"
     ]
    },
    {
     "name": "stderr",
     "output_type": "stream",
     "text": [
      "C:\\Anaconda3\\envs\\nlp_course\\lib\\site-packages\\statsmodels\\tsa\\holtwinters.py:744: ConvergenceWarning: Optimization failed to converge. Check mle_retvals.\n",
      "  ConvergenceWarning)\n"
     ]
    },
    {
     "name": "stdout",
     "output_type": "stream",
     "text": [
      "Forecast for Satellite 228 has been done.\n",
      "Forecast for Satellite 229 has been done.\n",
      "Forecast for Satellite 230 has been done.\n",
      "Forecast for Satellite 233 has been done.\n",
      "Forecast for Satellite 236 has been done.\n",
      "Forecast for Satellite 239 has been done.\n",
      "Forecast for Satellite 240 has been done.\n",
      "Forecast for Satellite 241 has been done.\n",
      "Forecast for Satellite 242 has been done.\n",
      "Forecast for Satellite 243 has been done.\n",
      "Forecast for Satellite 244 has been done.\n",
      "Forecast for Satellite 245 has been done.\n",
      "Forecast for Satellite 247 has been done.\n",
      "Forecast for Satellite 248 has been done.\n",
      "Forecast for Satellite 251 has been done.\n"
     ]
    },
    {
     "name": "stderr",
     "output_type": "stream",
     "text": [
      "C:\\Anaconda3\\envs\\nlp_course\\lib\\site-packages\\statsmodels\\tsa\\holtwinters.py:744: ConvergenceWarning: Optimization failed to converge. Check mle_retvals.\n",
      "  ConvergenceWarning)\n"
     ]
    },
    {
     "name": "stdout",
     "output_type": "stream",
     "text": [
      "Forecast for Satellite 252 has been done.\n",
      "Forecast for Satellite 253 has been done.\n",
      "Forecast for Satellite 254 has been done.\n"
     ]
    },
    {
     "name": "stderr",
     "output_type": "stream",
     "text": [
      "C:\\Anaconda3\\envs\\nlp_course\\lib\\site-packages\\statsmodels\\tsa\\holtwinters.py:744: ConvergenceWarning: Optimization failed to converge. Check mle_retvals.\n",
      "  ConvergenceWarning)\n"
     ]
    },
    {
     "name": "stdout",
     "output_type": "stream",
     "text": [
      "Forecast for Satellite 261 has been done.\n",
      "Forecast for Satellite 263 has been done.\n",
      "Forecast for Satellite 264 has been done.\n",
      "Forecast for Satellite 265 has been done.\n",
      "Forecast for Satellite 268 has been done.\n",
      "Forecast for Satellite 270 has been done.\n",
      "Forecast for Satellite 275 has been done.\n",
      "Forecast for Satellite 277 has been done.\n",
      "Forecast for Satellite 278 has been done.\n"
     ]
    },
    {
     "name": "stderr",
     "output_type": "stream",
     "text": [
      "C:\\Anaconda3\\envs\\nlp_course\\lib\\site-packages\\statsmodels\\tsa\\holtwinters.py:744: ConvergenceWarning: Optimization failed to converge. Check mle_retvals.\n",
      "  ConvergenceWarning)\n"
     ]
    },
    {
     "name": "stdout",
     "output_type": "stream",
     "text": [
      "Forecast for Satellite 281 has been done.\n",
      "Forecast for Satellite 284 has been done.\n",
      "Forecast for Satellite 288 has been done.\n",
      "Forecast for Satellite 292 has been done.\n",
      "Forecast for Satellite 293 has been done.\n",
      "Forecast for Satellite 294 has been done.\n"
     ]
    },
    {
     "name": "stderr",
     "output_type": "stream",
     "text": [
      "C:\\Anaconda3\\envs\\nlp_course\\lib\\site-packages\\statsmodels\\tsa\\holtwinters.py:744: ConvergenceWarning: Optimization failed to converge. Check mle_retvals.\n",
      "  ConvergenceWarning)\n"
     ]
    },
    {
     "name": "stdout",
     "output_type": "stream",
     "text": [
      "Forecast for Satellite 298 has been done.\n",
      "Forecast for Satellite 299 has been done.\n"
     ]
    },
    {
     "name": "stderr",
     "output_type": "stream",
     "text": [
      "C:\\Anaconda3\\envs\\nlp_course\\lib\\site-packages\\statsmodels\\tsa\\holtwinters.py:744: ConvergenceWarning: Optimization failed to converge. Check mle_retvals.\n",
      "  ConvergenceWarning)\n"
     ]
    },
    {
     "name": "stdout",
     "output_type": "stream",
     "text": [
      "Forecast for Satellite 301 has been done.\n"
     ]
    },
    {
     "name": "stderr",
     "output_type": "stream",
     "text": [
      "C:\\Anaconda3\\envs\\nlp_course\\lib\\site-packages\\statsmodels\\tsa\\holtwinters.py:744: ConvergenceWarning: Optimization failed to converge. Check mle_retvals.\n",
      "  ConvergenceWarning)\n"
     ]
    },
    {
     "name": "stdout",
     "output_type": "stream",
     "text": [
      "Forecast for Satellite 304 has been done.\n",
      "Forecast for Satellite 306 has been done.\n"
     ]
    },
    {
     "name": "stderr",
     "output_type": "stream",
     "text": [
      "C:\\Anaconda3\\envs\\nlp_course\\lib\\site-packages\\statsmodels\\tsa\\holtwinters.py:744: ConvergenceWarning: Optimization failed to converge. Check mle_retvals.\n",
      "  ConvergenceWarning)\n"
     ]
    },
    {
     "name": "stdout",
     "output_type": "stream",
     "text": [
      "Forecast for Satellite 309 has been done.\n",
      "Forecast for Satellite 310 has been done.\n",
      "Forecast for Satellite 312 has been done.\n",
      "Forecast for Satellite 314 has been done.\n",
      "Forecast for Satellite 316 has been done.\n"
     ]
    },
    {
     "name": "stderr",
     "output_type": "stream",
     "text": [
      "C:\\Anaconda3\\envs\\nlp_course\\lib\\site-packages\\statsmodels\\tsa\\holtwinters.py:744: ConvergenceWarning: Optimization failed to converge. Check mle_retvals.\n",
      "  ConvergenceWarning)\n"
     ]
    },
    {
     "name": "stdout",
     "output_type": "stream",
     "text": [
      "Forecast for Satellite 319 has been done.\n"
     ]
    },
    {
     "name": "stderr",
     "output_type": "stream",
     "text": [
      "C:\\Anaconda3\\envs\\nlp_course\\lib\\site-packages\\statsmodels\\tsa\\holtwinters.py:744: ConvergenceWarning: Optimization failed to converge. Check mle_retvals.\n",
      "  ConvergenceWarning)\n"
     ]
    },
    {
     "name": "stdout",
     "output_type": "stream",
     "text": [
      "Forecast for Satellite 324 has been done.\n",
      "Forecast for Satellite 326 has been done.\n",
      "Forecast for Satellite 332 has been done.\n",
      "Forecast for Satellite 333 has been done.\n",
      "Forecast for Satellite 342 has been done.\n",
      "Forecast for Satellite 343 has been done.\n",
      "Forecast for Satellite 344 has been done.\n"
     ]
    },
    {
     "name": "stderr",
     "output_type": "stream",
     "text": [
      "C:\\Anaconda3\\envs\\nlp_course\\lib\\site-packages\\statsmodels\\tsa\\holtwinters.py:744: ConvergenceWarning: Optimization failed to converge. Check mle_retvals.\n",
      "  ConvergenceWarning)\n"
     ]
    },
    {
     "name": "stdout",
     "output_type": "stream",
     "text": [
      "Forecast for Satellite 347 has been done.\n",
      "Forecast for Satellite 348 has been done.\n"
     ]
    },
    {
     "name": "stderr",
     "output_type": "stream",
     "text": [
      "C:\\Anaconda3\\envs\\nlp_course\\lib\\site-packages\\statsmodels\\tsa\\holtwinters.py:744: ConvergenceWarning: Optimization failed to converge. Check mle_retvals.\n",
      "  ConvergenceWarning)\n"
     ]
    },
    {
     "name": "stdout",
     "output_type": "stream",
     "text": [
      "Forecast for Satellite 349 has been done.\n"
     ]
    },
    {
     "name": "stderr",
     "output_type": "stream",
     "text": [
      "C:\\Anaconda3\\envs\\nlp_course\\lib\\site-packages\\statsmodels\\tsa\\holtwinters.py:744: ConvergenceWarning: Optimization failed to converge. Check mle_retvals.\n",
      "  ConvergenceWarning)\n"
     ]
    },
    {
     "name": "stdout",
     "output_type": "stream",
     "text": [
      "Forecast for Satellite 356 has been done.\n",
      "Forecast for Satellite 357 has been done.\n",
      "Forecast for Satellite 358 has been done.\n"
     ]
    },
    {
     "name": "stderr",
     "output_type": "stream",
     "text": [
      "C:\\Anaconda3\\envs\\nlp_course\\lib\\site-packages\\statsmodels\\tsa\\holtwinters.py:744: ConvergenceWarning: Optimization failed to converge. Check mle_retvals.\n",
      "  ConvergenceWarning)\n"
     ]
    },
    {
     "name": "stdout",
     "output_type": "stream",
     "text": [
      "Forecast for Satellite 359 has been done.\n",
      "Forecast for Satellite 362 has been done.\n",
      "Forecast for Satellite 363 has been done.\n",
      "Forecast for Satellite 372 has been done.\n",
      "Forecast for Satellite 373 has been done.\n",
      "Forecast for Satellite 375 has been done.\n"
     ]
    },
    {
     "name": "stderr",
     "output_type": "stream",
     "text": [
      "C:\\Anaconda3\\envs\\nlp_course\\lib\\site-packages\\statsmodels\\tsa\\holtwinters.py:744: ConvergenceWarning: Optimization failed to converge. Check mle_retvals.\n",
      "  ConvergenceWarning)\n"
     ]
    },
    {
     "name": "stdout",
     "output_type": "stream",
     "text": [
      "Forecast for Satellite 377 has been done.\n",
      "Forecast for Satellite 380 has been done.\n",
      "Forecast for Satellite 382 has been done.\n",
      "Forecast for Satellite 384 has been done.\n",
      "Forecast for Satellite 385 has been done.\n",
      "Forecast for Satellite 387 has been done.\n"
     ]
    },
    {
     "name": "stderr",
     "output_type": "stream",
     "text": [
      "C:\\Anaconda3\\envs\\nlp_course\\lib\\site-packages\\statsmodels\\tsa\\holtwinters.py:744: ConvergenceWarning: Optimization failed to converge. Check mle_retvals.\n",
      "  ConvergenceWarning)\n"
     ]
    },
    {
     "name": "stdout",
     "output_type": "stream",
     "text": [
      "Forecast for Satellite 389 has been done.\n",
      "Forecast for Satellite 390 has been done.\n",
      "Forecast for Satellite 391 has been done.\n",
      "Forecast for Satellite 392 has been done.\n",
      "Forecast for Satellite 393 has been done.\n",
      "Forecast for Satellite 395 has been done.\n"
     ]
    },
    {
     "name": "stderr",
     "output_type": "stream",
     "text": [
      "C:\\Anaconda3\\envs\\nlp_course\\lib\\site-packages\\statsmodels\\tsa\\holtwinters.py:744: ConvergenceWarning: Optimization failed to converge. Check mle_retvals.\n",
      "  ConvergenceWarning)\n"
     ]
    },
    {
     "name": "stdout",
     "output_type": "stream",
     "text": [
      "Forecast for Satellite 396 has been done.\n",
      "Forecast for Satellite 399 has been done.\n",
      "Forecast for Satellite 400 has been done.\n",
      "Forecast for Satellite 407 has been done.\n",
      "Forecast for Satellite 409 has been done.\n",
      "Forecast for Satellite 411 has been done.\n",
      "Forecast for Satellite 412 has been done.\n",
      "Forecast for Satellite 415 has been done.\n",
      "Forecast for Satellite 416 has been done.\n",
      "Forecast for Satellite 417 has been done.\n",
      "Forecast for Satellite 418 has been done.\n",
      "Forecast for Satellite 419 has been done.\n",
      "Forecast for Satellite 422 has been done.\n",
      "Forecast for Satellite 423 has been done.\n",
      "Forecast for Satellite 424 has been done.\n"
     ]
    },
    {
     "name": "stderr",
     "output_type": "stream",
     "text": [
      "C:\\Anaconda3\\envs\\nlp_course\\lib\\site-packages\\statsmodels\\tsa\\holtwinters.py:744: ConvergenceWarning: Optimization failed to converge. Check mle_retvals.\n",
      "  ConvergenceWarning)\n"
     ]
    },
    {
     "name": "stdout",
     "output_type": "stream",
     "text": [
      "Forecast for Satellite 426 has been done.\n",
      "Forecast for Satellite 428 has been done.\n"
     ]
    },
    {
     "name": "stderr",
     "output_type": "stream",
     "text": [
      "C:\\Anaconda3\\envs\\nlp_course\\lib\\site-packages\\statsmodels\\tsa\\holtwinters.py:744: ConvergenceWarning: Optimization failed to converge. Check mle_retvals.\n",
      "  ConvergenceWarning)\n"
     ]
    },
    {
     "name": "stdout",
     "output_type": "stream",
     "text": [
      "Forecast for Satellite 435 has been done.\n",
      "Forecast for Satellite 436 has been done.\n",
      "Forecast for Satellite 437 has been done.\n"
     ]
    },
    {
     "name": "stderr",
     "output_type": "stream",
     "text": [
      "C:\\Anaconda3\\envs\\nlp_course\\lib\\site-packages\\statsmodels\\tsa\\holtwinters.py:744: ConvergenceWarning: Optimization failed to converge. Check mle_retvals.\n",
      "  ConvergenceWarning)\n"
     ]
    },
    {
     "name": "stdout",
     "output_type": "stream",
     "text": [
      "Forecast for Satellite 438 has been done.\n",
      "Forecast for Satellite 440 has been done.\n",
      "Forecast for Satellite 443 has been done.\n",
      "Forecast for Satellite 446 has been done.\n",
      "Forecast for Satellite 448 has been done.\n",
      "Forecast for Satellite 449 has been done.\n",
      "Forecast for Satellite 450 has been done.\n",
      "Forecast for Satellite 452 has been done.\n",
      "Forecast for Satellite 454 has been done.\n"
     ]
    },
    {
     "name": "stderr",
     "output_type": "stream",
     "text": [
      "C:\\Anaconda3\\envs\\nlp_course\\lib\\site-packages\\statsmodels\\tsa\\holtwinters.py:744: ConvergenceWarning: Optimization failed to converge. Check mle_retvals.\n",
      "  ConvergenceWarning)\n"
     ]
    },
    {
     "name": "stdout",
     "output_type": "stream",
     "text": [
      "Forecast for Satellite 455 has been done.\n",
      "Forecast for Satellite 456 has been done.\n"
     ]
    },
    {
     "name": "stderr",
     "output_type": "stream",
     "text": [
      "C:\\Anaconda3\\envs\\nlp_course\\lib\\site-packages\\statsmodels\\tsa\\holtwinters.py:744: ConvergenceWarning: Optimization failed to converge. Check mle_retvals.\n",
      "  ConvergenceWarning)\n"
     ]
    },
    {
     "name": "stdout",
     "output_type": "stream",
     "text": [
      "Forecast for Satellite 457 has been done.\n"
     ]
    },
    {
     "name": "stderr",
     "output_type": "stream",
     "text": [
      "C:\\Anaconda3\\envs\\nlp_course\\lib\\site-packages\\statsmodels\\tsa\\holtwinters.py:744: ConvergenceWarning: Optimization failed to converge. Check mle_retvals.\n",
      "  ConvergenceWarning)\n"
     ]
    },
    {
     "name": "stdout",
     "output_type": "stream",
     "text": [
      "Forecast for Satellite 460 has been done.\n",
      "Forecast for Satellite 462 has been done.\n",
      "Forecast for Satellite 464 has been done.\n",
      "Forecast for Satellite 465 has been done.\n"
     ]
    },
    {
     "name": "stderr",
     "output_type": "stream",
     "text": [
      "C:\\Anaconda3\\envs\\nlp_course\\lib\\site-packages\\statsmodels\\tsa\\holtwinters.py:744: ConvergenceWarning: Optimization failed to converge. Check mle_retvals.\n",
      "  ConvergenceWarning)\n"
     ]
    },
    {
     "name": "stdout",
     "output_type": "stream",
     "text": [
      "Forecast for Satellite 466 has been done.\n",
      "Forecast for Satellite 467 has been done.\n",
      "Forecast for Satellite 468 has been done.\n",
      "Forecast for Satellite 470 has been done.\n"
     ]
    },
    {
     "name": "stderr",
     "output_type": "stream",
     "text": [
      "C:\\Anaconda3\\envs\\nlp_course\\lib\\site-packages\\statsmodels\\tsa\\holtwinters.py:744: ConvergenceWarning: Optimization failed to converge. Check mle_retvals.\n",
      "  ConvergenceWarning)\n"
     ]
    },
    {
     "name": "stdout",
     "output_type": "stream",
     "text": [
      "Forecast for Satellite 471 has been done.\n",
      "Forecast for Satellite 473 has been done.\n",
      "Forecast for Satellite 474 has been done.\n",
      "Forecast for Satellite 475 has been done.\n",
      "Forecast for Satellite 476 has been done.\n",
      "Forecast for Satellite 477 has been done.\n",
      "Forecast for Satellite 479 has been done.\n",
      "Forecast for Satellite 480 has been done.\n",
      "Forecast for Satellite 481 has been done.\n",
      "Forecast for Satellite 482 has been done.\n",
      "Forecast for Satellite 483 has been done.\n",
      "Forecast for Satellite 486 has been done.\n",
      "Forecast for Satellite 488 has been done.\n",
      "Forecast for Satellite 489 has been done.\n",
      "Forecast for Satellite 491 has been done.\n",
      "Forecast for Satellite 495 has been done.\n",
      "Forecast for Satellite 498 has been done.\n",
      "Forecast for Satellite 499 has been done.\n",
      "Forecast for Satellite 502 has been done.\n"
     ]
    },
    {
     "name": "stderr",
     "output_type": "stream",
     "text": [
      "C:\\Anaconda3\\envs\\nlp_course\\lib\\site-packages\\statsmodels\\tsa\\holtwinters.py:744: ConvergenceWarning: Optimization failed to converge. Check mle_retvals.\n",
      "  ConvergenceWarning)\n"
     ]
    },
    {
     "name": "stdout",
     "output_type": "stream",
     "text": [
      "Forecast for Satellite 504 has been done.\n",
      "Forecast for Satellite 505 has been done.\n",
      "Forecast for Satellite 506 has been done.\n",
      "Forecast for Satellite 508 has been done.\n",
      "Forecast for Satellite 509 has been done.\n",
      "Forecast for Satellite 510 has been done.\n",
      "Forecast for Satellite 511 has been done.\n"
     ]
    },
    {
     "name": "stderr",
     "output_type": "stream",
     "text": [
      "C:\\Anaconda3\\envs\\nlp_course\\lib\\site-packages\\statsmodels\\tsa\\holtwinters.py:744: ConvergenceWarning: Optimization failed to converge. Check mle_retvals.\n",
      "  ConvergenceWarning)\n"
     ]
    },
    {
     "name": "stdout",
     "output_type": "stream",
     "text": [
      "Forecast for Satellite 514 has been done.\n"
     ]
    },
    {
     "name": "stderr",
     "output_type": "stream",
     "text": [
      "C:\\Anaconda3\\envs\\nlp_course\\lib\\site-packages\\statsmodels\\tsa\\holtwinters.py:744: ConvergenceWarning: Optimization failed to converge. Check mle_retvals.\n",
      "  ConvergenceWarning)\n"
     ]
    },
    {
     "name": "stdout",
     "output_type": "stream",
     "text": [
      "Forecast for Satellite 515 has been done.\n",
      "Forecast for Satellite 516 has been done.\n"
     ]
    },
    {
     "name": "stderr",
     "output_type": "stream",
     "text": [
      "C:\\Anaconda3\\envs\\nlp_course\\lib\\site-packages\\statsmodels\\tsa\\holtwinters.py:744: ConvergenceWarning: Optimization failed to converge. Check mle_retvals.\n",
      "  ConvergenceWarning)\n"
     ]
    },
    {
     "name": "stdout",
     "output_type": "stream",
     "text": [
      "Forecast for Satellite 517 has been done.\n",
      "Forecast for Satellite 519 has been done.\n"
     ]
    },
    {
     "name": "stderr",
     "output_type": "stream",
     "text": [
      "C:\\Anaconda3\\envs\\nlp_course\\lib\\site-packages\\statsmodels\\tsa\\holtwinters.py:744: ConvergenceWarning: Optimization failed to converge. Check mle_retvals.\n",
      "  ConvergenceWarning)\n"
     ]
    },
    {
     "name": "stdout",
     "output_type": "stream",
     "text": [
      "Forecast for Satellite 522 has been done.\n",
      "Forecast for Satellite 523 has been done.\n"
     ]
    },
    {
     "name": "stderr",
     "output_type": "stream",
     "text": [
      "C:\\Anaconda3\\envs\\nlp_course\\lib\\site-packages\\statsmodels\\tsa\\holtwinters.py:744: ConvergenceWarning: Optimization failed to converge. Check mle_retvals.\n",
      "  ConvergenceWarning)\n"
     ]
    },
    {
     "name": "stdout",
     "output_type": "stream",
     "text": [
      "Forecast for Satellite 524 has been done.\n"
     ]
    },
    {
     "name": "stderr",
     "output_type": "stream",
     "text": [
      "C:\\Anaconda3\\envs\\nlp_course\\lib\\site-packages\\statsmodels\\tsa\\holtwinters.py:744: ConvergenceWarning: Optimization failed to converge. Check mle_retvals.\n",
      "  ConvergenceWarning)\n"
     ]
    },
    {
     "name": "stdout",
     "output_type": "stream",
     "text": [
      "Forecast for Satellite 528 has been done.\n",
      "Forecast for Satellite 536 has been done.\n",
      "Forecast for Satellite 537 has been done.\n",
      "Forecast for Satellite 539 has been done.\n",
      "Forecast for Satellite 542 has been done.\n",
      "Forecast for Satellite 543 has been done.\n",
      "Forecast for Satellite 544 has been done.\n"
     ]
    },
    {
     "name": "stderr",
     "output_type": "stream",
     "text": [
      "C:\\Anaconda3\\envs\\nlp_course\\lib\\site-packages\\statsmodels\\tsa\\holtwinters.py:744: ConvergenceWarning: Optimization failed to converge. Check mle_retvals.\n",
      "  ConvergenceWarning)\n"
     ]
    },
    {
     "name": "stdout",
     "output_type": "stream",
     "text": [
      "Forecast for Satellite 547 has been done.\n",
      "Forecast for Satellite 548 has been done.\n"
     ]
    },
    {
     "name": "stderr",
     "output_type": "stream",
     "text": [
      "C:\\Anaconda3\\envs\\nlp_course\\lib\\site-packages\\statsmodels\\tsa\\holtwinters.py:744: ConvergenceWarning: Optimization failed to converge. Check mle_retvals.\n",
      "  ConvergenceWarning)\n"
     ]
    },
    {
     "name": "stdout",
     "output_type": "stream",
     "text": [
      "Forecast for Satellite 549 has been done.\n",
      "Forecast for Satellite 550 has been done.\n",
      "Forecast for Satellite 558 has been done.\n",
      "Forecast for Satellite 563 has been done.\n",
      "Forecast for Satellite 565 has been done.\n",
      "Forecast for Satellite 566 has been done.\n",
      "Forecast for Satellite 567 has been done.\n",
      "Forecast for Satellite 569 has been done.\n",
      "Forecast for Satellite 572 has been done.\n",
      "Forecast for Satellite 575 has been done.\n",
      "Forecast for Satellite 578 has been done.\n",
      "Forecast for Satellite 579 has been done.\n"
     ]
    },
    {
     "name": "stderr",
     "output_type": "stream",
     "text": [
      "C:\\Anaconda3\\envs\\nlp_course\\lib\\site-packages\\statsmodels\\tsa\\holtwinters.py:744: ConvergenceWarning: Optimization failed to converge. Check mle_retvals.\n",
      "  ConvergenceWarning)\n"
     ]
    },
    {
     "name": "stdout",
     "output_type": "stream",
     "text": [
      "Forecast for Satellite 580 has been done.\n",
      "Forecast for Satellite 583 has been done.\n",
      "Forecast for Satellite 584 has been done.\n"
     ]
    },
    {
     "name": "stderr",
     "output_type": "stream",
     "text": [
      "C:\\Anaconda3\\envs\\nlp_course\\lib\\site-packages\\statsmodels\\tsa\\holtwinters.py:744: ConvergenceWarning: Optimization failed to converge. Check mle_retvals.\n",
      "  ConvergenceWarning)\n"
     ]
    },
    {
     "name": "stdout",
     "output_type": "stream",
     "text": [
      "Forecast for Satellite 587 has been done.\n",
      "Forecast for Satellite 588 has been done.\n",
      "Forecast for Satellite 593 has been done.\n",
      "Forecast for Satellite 595 has been done.\n",
      "Forecast for Satellite 596 has been done.\n",
      "Forecast for Satellite 597 has been done.\n",
      "Wall time: 27min 7s\n"
     ]
    }
   ],
   "source": [
    "%%time\n",
    "forecast_x = forecast(k='x')"
   ]
  },
  {
   "cell_type": "code",
   "execution_count": 217,
   "metadata": {},
   "outputs": [],
   "source": [
    "# forecast for remaining kinematic states\n",
    "#rem = 'y z Vx Vy Vz'.split()"
   ]
  },
  {
   "cell_type": "code",
   "execution_count": 319,
   "metadata": {},
   "outputs": [],
   "source": [
    "# after correcting for seasonality = 1 error, start forecasting from Vx\n",
    "rem = 'Vx Vy Vz'.split()"
   ]
  },
  {
   "cell_type": "code",
   "execution_count": 223,
   "metadata": {},
   "outputs": [],
   "source": [
    "forecast_list = list()"
   ]
  },
  {
   "cell_type": "code",
   "execution_count": 324,
   "metadata": {
    "scrolled": true
   },
   "outputs": [
    {
     "name": "stderr",
     "output_type": "stream",
     "text": [
      "C:\\Anaconda3\\envs\\nlp_course\\lib\\site-packages\\statsmodels\\tsa\\holtwinters.py:725: RuntimeWarning: invalid value encountered in less_equal\n",
      "  loc = initial_p <= lb\n",
      "C:\\Anaconda3\\envs\\nlp_course\\lib\\site-packages\\statsmodels\\tsa\\holtwinters.py:731: RuntimeWarning: invalid value encountered in greater_equal\n",
      "  loc = initial_p >= ub\n",
      "C:\\Anaconda3\\envs\\nlp_course\\lib\\site-packages\\statsmodels\\tsa\\holtwinters.py:744: ConvergenceWarning: Optimization failed to converge. Check mle_retvals.\n",
      "  ConvergenceWarning)\n"
     ]
    },
    {
     "name": "stdout",
     "output_type": "stream",
     "text": [
      "Forecast of Vx for Satellite 1 has been done.\n",
      "Forecast of Vx for Satellite 2 has been done.\n",
      "Forecast of Vx for Satellite 3 has been done.\n",
      "Forecast of Vx for Satellite 4 has been done.\n"
     ]
    },
    {
     "name": "stderr",
     "output_type": "stream",
     "text": [
      "C:\\Anaconda3\\envs\\nlp_course\\lib\\site-packages\\statsmodels\\tsa\\holtwinters.py:744: ConvergenceWarning: Optimization failed to converge. Check mle_retvals.\n",
      "  ConvergenceWarning)\n"
     ]
    },
    {
     "name": "stdout",
     "output_type": "stream",
     "text": [
      "Forecast of Vx for Satellite 6 has been done.\n",
      "Forecast of Vx for Satellite 9 has been done.\n",
      "Forecast of Vx for Satellite 16 has been done.\n"
     ]
    },
    {
     "name": "stderr",
     "output_type": "stream",
     "text": [
      "C:\\Anaconda3\\envs\\nlp_course\\lib\\site-packages\\statsmodels\\tsa\\holtwinters.py:744: ConvergenceWarning: Optimization failed to converge. Check mle_retvals.\n",
      "  ConvergenceWarning)\n"
     ]
    },
    {
     "name": "stdout",
     "output_type": "stream",
     "text": [
      "Forecast of Vx for Satellite 20 has been done.\n",
      "Forecast of Vx for Satellite 22 has been done.\n",
      "Forecast of Vx for Satellite 24 has been done.\n",
      "Forecast of Vx for Satellite 25 has been done.\n"
     ]
    },
    {
     "name": "stderr",
     "output_type": "stream",
     "text": [
      "C:\\Anaconda3\\envs\\nlp_course\\lib\\site-packages\\statsmodels\\tsa\\holtwinters.py:744: ConvergenceWarning: Optimization failed to converge. Check mle_retvals.\n",
      "  ConvergenceWarning)\n"
     ]
    },
    {
     "name": "stdout",
     "output_type": "stream",
     "text": [
      "Forecast of Vx for Satellite 26 has been done.\n",
      "Forecast of Vx for Satellite 27 has been done.\n",
      "Forecast of Vx for Satellite 28 has been done.\n",
      "Forecast of Vx for Satellite 29 has been done.\n",
      "Forecast of Vx for Satellite 32 has been done.\n",
      "Forecast of Vx for Satellite 34 has been done.\n",
      "Forecast of Vx for Satellite 35 has been done.\n",
      "Forecast of Vx for Satellite 36 has been done.\n",
      "Forecast of Vx for Satellite 37 has been done.\n",
      "Forecast of Vx for Satellite 38 has been done.\n"
     ]
    },
    {
     "name": "stderr",
     "output_type": "stream",
     "text": [
      "C:\\Anaconda3\\envs\\nlp_course\\lib\\site-packages\\statsmodels\\tsa\\holtwinters.py:744: ConvergenceWarning: Optimization failed to converge. Check mle_retvals.\n",
      "  ConvergenceWarning)\n"
     ]
    },
    {
     "name": "stdout",
     "output_type": "stream",
     "text": [
      "Forecast of Vx for Satellite 39 has been done.\n"
     ]
    },
    {
     "name": "stderr",
     "output_type": "stream",
     "text": [
      "C:\\Anaconda3\\envs\\nlp_course\\lib\\site-packages\\statsmodels\\tsa\\holtwinters.py:744: ConvergenceWarning: Optimization failed to converge. Check mle_retvals.\n",
      "  ConvergenceWarning)\n"
     ]
    },
    {
     "name": "stdout",
     "output_type": "stream",
     "text": [
      "Forecast of Vx for Satellite 40 has been done.\n"
     ]
    },
    {
     "name": "stderr",
     "output_type": "stream",
     "text": [
      "C:\\Anaconda3\\envs\\nlp_course\\lib\\site-packages\\statsmodels\\tsa\\holtwinters.py:744: ConvergenceWarning: Optimization failed to converge. Check mle_retvals.\n",
      "  ConvergenceWarning)\n"
     ]
    },
    {
     "name": "stdout",
     "output_type": "stream",
     "text": [
      "Forecast of Vx for Satellite 41 has been done.\n",
      "Forecast of Vx for Satellite 42 has been done.\n",
      "Forecast of Vx for Satellite 44 has been done.\n",
      "Forecast of Vx for Satellite 45 has been done.\n"
     ]
    },
    {
     "name": "stderr",
     "output_type": "stream",
     "text": [
      "C:\\Anaconda3\\envs\\nlp_course\\lib\\site-packages\\statsmodels\\tsa\\holtwinters.py:744: ConvergenceWarning: Optimization failed to converge. Check mle_retvals.\n",
      "  ConvergenceWarning)\n"
     ]
    },
    {
     "name": "stdout",
     "output_type": "stream",
     "text": [
      "Forecast of Vx for Satellite 49 has been done.\n"
     ]
    },
    {
     "name": "stderr",
     "output_type": "stream",
     "text": [
      "C:\\Anaconda3\\envs\\nlp_course\\lib\\site-packages\\statsmodels\\tsa\\holtwinters.py:744: ConvergenceWarning: Optimization failed to converge. Check mle_retvals.\n",
      "  ConvergenceWarning)\n"
     ]
    },
    {
     "name": "stdout",
     "output_type": "stream",
     "text": [
      "Forecast of Vx for Satellite 51 has been done.\n",
      "Forecast of Vx for Satellite 52 has been done.\n",
      "Forecast of Vx for Satellite 53 has been done.\n"
     ]
    },
    {
     "name": "stderr",
     "output_type": "stream",
     "text": [
      "C:\\Anaconda3\\envs\\nlp_course\\lib\\site-packages\\statsmodels\\tsa\\holtwinters.py:744: ConvergenceWarning: Optimization failed to converge. Check mle_retvals.\n",
      "  ConvergenceWarning)\n"
     ]
    },
    {
     "name": "stdout",
     "output_type": "stream",
     "text": [
      "Forecast of Vx for Satellite 54 has been done.\n",
      "Forecast of Vx for Satellite 57 has been done.\n",
      "Forecast of Vx for Satellite 59 has been done.\n"
     ]
    },
    {
     "name": "stderr",
     "output_type": "stream",
     "text": [
      "C:\\Anaconda3\\envs\\nlp_course\\lib\\site-packages\\statsmodels\\tsa\\holtwinters.py:744: ConvergenceWarning: Optimization failed to converge. Check mle_retvals.\n",
      "  ConvergenceWarning)\n"
     ]
    },
    {
     "name": "stdout",
     "output_type": "stream",
     "text": [
      "Forecast of Vx for Satellite 63 has been done.\n",
      "Forecast of Vx for Satellite 64 has been done.\n"
     ]
    },
    {
     "name": "stderr",
     "output_type": "stream",
     "text": [
      "C:\\Anaconda3\\envs\\nlp_course\\lib\\site-packages\\statsmodels\\tsa\\holtwinters.py:744: ConvergenceWarning: Optimization failed to converge. Check mle_retvals.\n",
      "  ConvergenceWarning)\n"
     ]
    },
    {
     "name": "stdout",
     "output_type": "stream",
     "text": [
      "Forecast of Vx for Satellite 68 has been done.\n"
     ]
    },
    {
     "name": "stderr",
     "output_type": "stream",
     "text": [
      "C:\\Anaconda3\\envs\\nlp_course\\lib\\site-packages\\statsmodels\\tsa\\holtwinters.py:744: ConvergenceWarning: Optimization failed to converge. Check mle_retvals.\n",
      "  ConvergenceWarning)\n"
     ]
    },
    {
     "name": "stdout",
     "output_type": "stream",
     "text": [
      "Forecast of Vx for Satellite 70 has been done.\n",
      "Forecast of Vx for Satellite 75 has been done.\n"
     ]
    },
    {
     "name": "stderr",
     "output_type": "stream",
     "text": [
      "C:\\Anaconda3\\envs\\nlp_course\\lib\\site-packages\\statsmodels\\tsa\\holtwinters.py:744: ConvergenceWarning: Optimization failed to converge. Check mle_retvals.\n",
      "  ConvergenceWarning)\n"
     ]
    },
    {
     "name": "stdout",
     "output_type": "stream",
     "text": [
      "Forecast of Vx for Satellite 82 has been done.\n",
      "Forecast of Vx for Satellite 84 has been done.\n"
     ]
    },
    {
     "name": "stderr",
     "output_type": "stream",
     "text": [
      "C:\\Anaconda3\\envs\\nlp_course\\lib\\site-packages\\statsmodels\\tsa\\holtwinters.py:744: ConvergenceWarning: Optimization failed to converge. Check mle_retvals.\n",
      "  ConvergenceWarning)\n"
     ]
    },
    {
     "name": "stdout",
     "output_type": "stream",
     "text": [
      "Forecast of Vx for Satellite 86 has been done.\n",
      "Forecast of Vx for Satellite 89 has been done.\n",
      "Forecast of Vx for Satellite 90 has been done.\n"
     ]
    },
    {
     "name": "stderr",
     "output_type": "stream",
     "text": [
      "C:\\Anaconda3\\envs\\nlp_course\\lib\\site-packages\\statsmodels\\tsa\\holtwinters.py:744: ConvergenceWarning: Optimization failed to converge. Check mle_retvals.\n",
      "  ConvergenceWarning)\n"
     ]
    },
    {
     "name": "stdout",
     "output_type": "stream",
     "text": [
      "Forecast of Vx for Satellite 91 has been done.\n",
      "Forecast of Vx for Satellite 92 has been done.\n"
     ]
    },
    {
     "name": "stderr",
     "output_type": "stream",
     "text": [
      "C:\\Anaconda3\\envs\\nlp_course\\lib\\site-packages\\statsmodels\\tsa\\holtwinters.py:744: ConvergenceWarning: Optimization failed to converge. Check mle_retvals.\n",
      "  ConvergenceWarning)\n"
     ]
    },
    {
     "name": "stdout",
     "output_type": "stream",
     "text": [
      "Forecast of Vx for Satellite 93 has been done.\n",
      "Forecast of Vx for Satellite 96 has been done.\n",
      "Forecast of Vx for Satellite 98 has been done.\n",
      "Forecast of Vx for Satellite 100 has been done.\n",
      "Forecast of Vx for Satellite 101 has been done.\n"
     ]
    },
    {
     "name": "stderr",
     "output_type": "stream",
     "text": [
      "C:\\Anaconda3\\envs\\nlp_course\\lib\\site-packages\\statsmodels\\tsa\\holtwinters.py:744: ConvergenceWarning: Optimization failed to converge. Check mle_retvals.\n",
      "  ConvergenceWarning)\n"
     ]
    },
    {
     "name": "stdout",
     "output_type": "stream",
     "text": [
      "Forecast of Vx for Satellite 102 has been done.\n"
     ]
    },
    {
     "name": "stderr",
     "output_type": "stream",
     "text": [
      "C:\\Anaconda3\\envs\\nlp_course\\lib\\site-packages\\statsmodels\\tsa\\holtwinters.py:744: ConvergenceWarning: Optimization failed to converge. Check mle_retvals.\n",
      "  ConvergenceWarning)\n"
     ]
    },
    {
     "name": "stdout",
     "output_type": "stream",
     "text": [
      "Forecast of Vx for Satellite 105 has been done.\n",
      "Forecast of Vx for Satellite 106 has been done.\n",
      "Forecast of Vx for Satellite 109 has been done.\n"
     ]
    },
    {
     "name": "stderr",
     "output_type": "stream",
     "text": [
      "C:\\Anaconda3\\envs\\nlp_course\\lib\\site-packages\\statsmodels\\tsa\\holtwinters.py:744: ConvergenceWarning: Optimization failed to converge. Check mle_retvals.\n",
      "  ConvergenceWarning)\n"
     ]
    },
    {
     "name": "stdout",
     "output_type": "stream",
     "text": [
      "Forecast of Vx for Satellite 110 has been done.\n"
     ]
    },
    {
     "name": "stderr",
     "output_type": "stream",
     "text": [
      "C:\\Anaconda3\\envs\\nlp_course\\lib\\site-packages\\statsmodels\\tsa\\holtwinters.py:744: ConvergenceWarning: Optimization failed to converge. Check mle_retvals.\n",
      "  ConvergenceWarning)\n"
     ]
    },
    {
     "name": "stdout",
     "output_type": "stream",
     "text": [
      "Forecast of Vx for Satellite 112 has been done.\n"
     ]
    },
    {
     "name": "stderr",
     "output_type": "stream",
     "text": [
      "C:\\Anaconda3\\envs\\nlp_course\\lib\\site-packages\\statsmodels\\tsa\\holtwinters.py:744: ConvergenceWarning: Optimization failed to converge. Check mle_retvals.\n",
      "  ConvergenceWarning)\n"
     ]
    },
    {
     "name": "stdout",
     "output_type": "stream",
     "text": [
      "Forecast of Vx for Satellite 113 has been done.\n",
      "Forecast of Vx for Satellite 114 has been done.\n",
      "Forecast of Vx for Satellite 117 has been done.\n",
      "Forecast of Vx for Satellite 118 has been done.\n",
      "Forecast of Vx for Satellite 120 has been done.\n"
     ]
    },
    {
     "name": "stderr",
     "output_type": "stream",
     "text": [
      "C:\\Anaconda3\\envs\\nlp_course\\lib\\site-packages\\statsmodels\\tsa\\holtwinters.py:744: ConvergenceWarning: Optimization failed to converge. Check mle_retvals.\n",
      "  ConvergenceWarning)\n"
     ]
    },
    {
     "name": "stdout",
     "output_type": "stream",
     "text": [
      "Forecast of Vx for Satellite 121 has been done.\n",
      "Forecast of Vx for Satellite 123 has been done.\n",
      "Forecast of Vx for Satellite 124 has been done.\n",
      "Forecast of Vx for Satellite 125 has been done.\n",
      "Forecast of Vx for Satellite 126 has been done.\n",
      "Forecast of Vx for Satellite 127 has been done.\n",
      "Forecast of Vx for Satellite 128 has been done.\n",
      "Forecast of Vx for Satellite 130 has been done.\n"
     ]
    },
    {
     "name": "stderr",
     "output_type": "stream",
     "text": [
      "C:\\Anaconda3\\envs\\nlp_course\\lib\\site-packages\\statsmodels\\tsa\\holtwinters.py:744: ConvergenceWarning: Optimization failed to converge. Check mle_retvals.\n",
      "  ConvergenceWarning)\n"
     ]
    },
    {
     "name": "stdout",
     "output_type": "stream",
     "text": [
      "Forecast of Vx for Satellite 132 has been done.\n",
      "Forecast of Vx for Satellite 133 has been done.\n",
      "Forecast of Vx for Satellite 135 has been done.\n",
      "Forecast of Vx for Satellite 138 has been done.\n"
     ]
    },
    {
     "name": "stderr",
     "output_type": "stream",
     "text": [
      "C:\\Anaconda3\\envs\\nlp_course\\lib\\site-packages\\statsmodels\\tsa\\holtwinters.py:744: ConvergenceWarning: Optimization failed to converge. Check mle_retvals.\n",
      "  ConvergenceWarning)\n"
     ]
    },
    {
     "name": "stdout",
     "output_type": "stream",
     "text": [
      "Forecast of Vx for Satellite 142 has been done.\n",
      "Forecast of Vx for Satellite 143 has been done.\n"
     ]
    },
    {
     "name": "stderr",
     "output_type": "stream",
     "text": [
      "C:\\Anaconda3\\envs\\nlp_course\\lib\\site-packages\\statsmodels\\tsa\\holtwinters.py:744: ConvergenceWarning: Optimization failed to converge. Check mle_retvals.\n",
      "  ConvergenceWarning)\n"
     ]
    },
    {
     "name": "stdout",
     "output_type": "stream",
     "text": [
      "Forecast of Vx for Satellite 144 has been done.\n",
      "Forecast of Vx for Satellite 145 has been done.\n"
     ]
    },
    {
     "name": "stderr",
     "output_type": "stream",
     "text": [
      "C:\\Anaconda3\\envs\\nlp_course\\lib\\site-packages\\statsmodels\\tsa\\holtwinters.py:744: ConvergenceWarning: Optimization failed to converge. Check mle_retvals.\n",
      "  ConvergenceWarning)\n"
     ]
    },
    {
     "name": "stdout",
     "output_type": "stream",
     "text": [
      "Forecast of Vx for Satellite 149 has been done.\n"
     ]
    },
    {
     "name": "stderr",
     "output_type": "stream",
     "text": [
      "C:\\Anaconda3\\envs\\nlp_course\\lib\\site-packages\\statsmodels\\tsa\\holtwinters.py:744: ConvergenceWarning: Optimization failed to converge. Check mle_retvals.\n",
      "  ConvergenceWarning)\n"
     ]
    },
    {
     "name": "stdout",
     "output_type": "stream",
     "text": [
      "Forecast of Vx for Satellite 151 has been done.\n",
      "Forecast of Vx for Satellite 152 has been done.\n"
     ]
    },
    {
     "name": "stderr",
     "output_type": "stream",
     "text": [
      "C:\\Anaconda3\\envs\\nlp_course\\lib\\site-packages\\statsmodels\\tsa\\holtwinters.py:744: ConvergenceWarning: Optimization failed to converge. Check mle_retvals.\n",
      "  ConvergenceWarning)\n"
     ]
    },
    {
     "name": "stdout",
     "output_type": "stream",
     "text": [
      "Forecast of Vx for Satellite 153 has been done.\n"
     ]
    },
    {
     "name": "stderr",
     "output_type": "stream",
     "text": [
      "C:\\Anaconda3\\envs\\nlp_course\\lib\\site-packages\\statsmodels\\tsa\\holtwinters.py:744: ConvergenceWarning: Optimization failed to converge. Check mle_retvals.\n",
      "  ConvergenceWarning)\n"
     ]
    },
    {
     "name": "stdout",
     "output_type": "stream",
     "text": [
      "Forecast of Vx for Satellite 155 has been done.\n"
     ]
    },
    {
     "name": "stderr",
     "output_type": "stream",
     "text": [
      "C:\\Anaconda3\\envs\\nlp_course\\lib\\site-packages\\statsmodels\\tsa\\holtwinters.py:744: ConvergenceWarning: Optimization failed to converge. Check mle_retvals.\n",
      "  ConvergenceWarning)\n"
     ]
    },
    {
     "name": "stdout",
     "output_type": "stream",
     "text": [
      "Forecast of Vx for Satellite 156 has been done.\n"
     ]
    },
    {
     "name": "stderr",
     "output_type": "stream",
     "text": [
      "C:\\Anaconda3\\envs\\nlp_course\\lib\\site-packages\\statsmodels\\tsa\\holtwinters.py:744: ConvergenceWarning: Optimization failed to converge. Check mle_retvals.\n",
      "  ConvergenceWarning)\n"
     ]
    },
    {
     "name": "stdout",
     "output_type": "stream",
     "text": [
      "Forecast of Vx for Satellite 158 has been done.\n",
      "Forecast of Vx for Satellite 159 has been done.\n"
     ]
    },
    {
     "name": "stderr",
     "output_type": "stream",
     "text": [
      "C:\\Anaconda3\\envs\\nlp_course\\lib\\site-packages\\statsmodels\\tsa\\holtwinters.py:744: ConvergenceWarning: Optimization failed to converge. Check mle_retvals.\n",
      "  ConvergenceWarning)\n"
     ]
    },
    {
     "name": "stdout",
     "output_type": "stream",
     "text": [
      "Forecast of Vx for Satellite 160 has been done.\n",
      "Forecast of Vx for Satellite 162 has been done.\n",
      "Forecast of Vx for Satellite 164 has been done.\n"
     ]
    },
    {
     "name": "stderr",
     "output_type": "stream",
     "text": [
      "C:\\Anaconda3\\envs\\nlp_course\\lib\\site-packages\\statsmodels\\tsa\\holtwinters.py:744: ConvergenceWarning: Optimization failed to converge. Check mle_retvals.\n",
      "  ConvergenceWarning)\n"
     ]
    },
    {
     "name": "stdout",
     "output_type": "stream",
     "text": [
      "Forecast of Vx for Satellite 165 has been done.\n",
      "Forecast of Vx for Satellite 166 has been done.\n",
      "Forecast of Vx for Satellite 169 has been done.\n"
     ]
    },
    {
     "name": "stderr",
     "output_type": "stream",
     "text": [
      "C:\\Anaconda3\\envs\\nlp_course\\lib\\site-packages\\statsmodels\\tsa\\holtwinters.py:744: ConvergenceWarning: Optimization failed to converge. Check mle_retvals.\n",
      "  ConvergenceWarning)\n"
     ]
    },
    {
     "name": "stdout",
     "output_type": "stream",
     "text": [
      "Forecast of Vx for Satellite 170 has been done.\n",
      "Forecast of Vx for Satellite 172 has been done.\n",
      "Forecast of Vx for Satellite 173 has been done.\n",
      "Forecast of Vx for Satellite 177 has been done.\n",
      "Forecast of Vx for Satellite 178 has been done.\n",
      "Forecast of Vx for Satellite 183 has been done.\n",
      "Forecast of Vx for Satellite 186 has been done.\n"
     ]
    },
    {
     "name": "stderr",
     "output_type": "stream",
     "text": [
      "C:\\Anaconda3\\envs\\nlp_course\\lib\\site-packages\\statsmodels\\tsa\\holtwinters.py:744: ConvergenceWarning: Optimization failed to converge. Check mle_retvals.\n",
      "  ConvergenceWarning)\n"
     ]
    },
    {
     "name": "stdout",
     "output_type": "stream",
     "text": [
      "Forecast of Vx for Satellite 187 has been done.\n",
      "Forecast of Vx for Satellite 188 has been done.\n",
      "Forecast of Vx for Satellite 191 has been done.\n",
      "Forecast of Vx for Satellite 193 has been done.\n"
     ]
    },
    {
     "name": "stderr",
     "output_type": "stream",
     "text": [
      "C:\\Anaconda3\\envs\\nlp_course\\lib\\site-packages\\statsmodels\\tsa\\holtwinters.py:744: ConvergenceWarning: Optimization failed to converge. Check mle_retvals.\n",
      "  ConvergenceWarning)\n"
     ]
    },
    {
     "name": "stdout",
     "output_type": "stream",
     "text": [
      "Forecast of Vx for Satellite 194 has been done.\n",
      "Forecast of Vx for Satellite 195 has been done.\n"
     ]
    },
    {
     "name": "stderr",
     "output_type": "stream",
     "text": [
      "C:\\Anaconda3\\envs\\nlp_course\\lib\\site-packages\\statsmodels\\tsa\\holtwinters.py:744: ConvergenceWarning: Optimization failed to converge. Check mle_retvals.\n",
      "  ConvergenceWarning)\n"
     ]
    },
    {
     "name": "stdout",
     "output_type": "stream",
     "text": [
      "Forecast of Vx for Satellite 197 has been done.\n"
     ]
    },
    {
     "name": "stderr",
     "output_type": "stream",
     "text": [
      "C:\\Anaconda3\\envs\\nlp_course\\lib\\site-packages\\statsmodels\\tsa\\holtwinters.py:744: ConvergenceWarning: Optimization failed to converge. Check mle_retvals.\n",
      "  ConvergenceWarning)\n"
     ]
    },
    {
     "name": "stdout",
     "output_type": "stream",
     "text": [
      "Forecast of Vx for Satellite 203 has been done.\n"
     ]
    },
    {
     "name": "stderr",
     "output_type": "stream",
     "text": [
      "C:\\Anaconda3\\envs\\nlp_course\\lib\\site-packages\\statsmodels\\tsa\\holtwinters.py:744: ConvergenceWarning: Optimization failed to converge. Check mle_retvals.\n",
      "  ConvergenceWarning)\n"
     ]
    },
    {
     "name": "stdout",
     "output_type": "stream",
     "text": [
      "Forecast of Vx for Satellite 205 has been done.\n",
      "Forecast of Vx for Satellite 206 has been done.\n",
      "Forecast of Vx for Satellite 207 has been done.\n",
      "Forecast of Vx for Satellite 208 has been done.\n",
      "Forecast of Vx for Satellite 209 has been done.\n"
     ]
    },
    {
     "name": "stderr",
     "output_type": "stream",
     "text": [
      "C:\\Anaconda3\\envs\\nlp_course\\lib\\site-packages\\statsmodels\\tsa\\holtwinters.py:744: ConvergenceWarning: Optimization failed to converge. Check mle_retvals.\n",
      "  ConvergenceWarning)\n"
     ]
    },
    {
     "name": "stdout",
     "output_type": "stream",
     "text": [
      "Forecast of Vx for Satellite 210 has been done.\n"
     ]
    },
    {
     "name": "stderr",
     "output_type": "stream",
     "text": [
      "C:\\Anaconda3\\envs\\nlp_course\\lib\\site-packages\\statsmodels\\tsa\\holtwinters.py:744: ConvergenceWarning: Optimization failed to converge. Check mle_retvals.\n",
      "  ConvergenceWarning)\n"
     ]
    },
    {
     "name": "stdout",
     "output_type": "stream",
     "text": [
      "Forecast of Vx for Satellite 211 has been done.\n",
      "Forecast of Vx for Satellite 213 has been done.\n",
      "Forecast of Vx for Satellite 219 has been done.\n",
      "Forecast of Vx for Satellite 220 has been done.\n"
     ]
    },
    {
     "name": "stderr",
     "output_type": "stream",
     "text": [
      "C:\\Anaconda3\\envs\\nlp_course\\lib\\site-packages\\statsmodels\\tsa\\holtwinters.py:744: ConvergenceWarning: Optimization failed to converge. Check mle_retvals.\n",
      "  ConvergenceWarning)\n"
     ]
    },
    {
     "name": "stdout",
     "output_type": "stream",
     "text": [
      "Forecast of Vx for Satellite 222 has been done.\n",
      "Forecast of Vx for Satellite 223 has been done.\n"
     ]
    },
    {
     "name": "stderr",
     "output_type": "stream",
     "text": [
      "C:\\Anaconda3\\envs\\nlp_course\\lib\\site-packages\\statsmodels\\tsa\\holtwinters.py:744: ConvergenceWarning: Optimization failed to converge. Check mle_retvals.\n",
      "  ConvergenceWarning)\n"
     ]
    },
    {
     "name": "stdout",
     "output_type": "stream",
     "text": [
      "Forecast of Vx for Satellite 225 has been done.\n",
      "Forecast of Vx for Satellite 227 has been done.\n"
     ]
    },
    {
     "name": "stderr",
     "output_type": "stream",
     "text": [
      "C:\\Anaconda3\\envs\\nlp_course\\lib\\site-packages\\statsmodels\\tsa\\holtwinters.py:744: ConvergenceWarning: Optimization failed to converge. Check mle_retvals.\n",
      "  ConvergenceWarning)\n"
     ]
    },
    {
     "name": "stdout",
     "output_type": "stream",
     "text": [
      "Forecast of Vx for Satellite 228 has been done.\n"
     ]
    },
    {
     "name": "stderr",
     "output_type": "stream",
     "text": [
      "C:\\Anaconda3\\envs\\nlp_course\\lib\\site-packages\\statsmodels\\tsa\\holtwinters.py:744: ConvergenceWarning: Optimization failed to converge. Check mle_retvals.\n",
      "  ConvergenceWarning)\n"
     ]
    },
    {
     "name": "stdout",
     "output_type": "stream",
     "text": [
      "Forecast of Vx for Satellite 229 has been done.\n",
      "Forecast of Vx for Satellite 230 has been done.\n",
      "Forecast of Vx for Satellite 233 has been done.\n",
      "Forecast of Vx for Satellite 236 has been done.\n",
      "Forecast of Vx for Satellite 239 has been done.\n",
      "Forecast of Vx for Satellite 240 has been done.\n",
      "Forecast of Vx for Satellite 241 has been done.\n",
      "Forecast of Vx for Satellite 242 has been done.\n",
      "Forecast of Vx for Satellite 243 has been done.\n",
      "Forecast of Vx for Satellite 244 has been done.\n"
     ]
    },
    {
     "name": "stderr",
     "output_type": "stream",
     "text": [
      "C:\\Anaconda3\\envs\\nlp_course\\lib\\site-packages\\statsmodels\\tsa\\holtwinters.py:744: ConvergenceWarning: Optimization failed to converge. Check mle_retvals.\n",
      "  ConvergenceWarning)\n"
     ]
    },
    {
     "name": "stdout",
     "output_type": "stream",
     "text": [
      "Forecast of Vx for Satellite 245 has been done.\n",
      "Forecast of Vx for Satellite 247 has been done.\n"
     ]
    },
    {
     "name": "stderr",
     "output_type": "stream",
     "text": [
      "C:\\Anaconda3\\envs\\nlp_course\\lib\\site-packages\\statsmodels\\tsa\\holtwinters.py:744: ConvergenceWarning: Optimization failed to converge. Check mle_retvals.\n",
      "  ConvergenceWarning)\n"
     ]
    },
    {
     "name": "stdout",
     "output_type": "stream",
     "text": [
      "Forecast of Vx for Satellite 248 has been done.\n",
      "Forecast of Vx for Satellite 251 has been done.\n"
     ]
    },
    {
     "name": "stderr",
     "output_type": "stream",
     "text": [
      "C:\\Anaconda3\\envs\\nlp_course\\lib\\site-packages\\statsmodels\\tsa\\holtwinters.py:744: ConvergenceWarning: Optimization failed to converge. Check mle_retvals.\n",
      "  ConvergenceWarning)\n"
     ]
    },
    {
     "name": "stdout",
     "output_type": "stream",
     "text": [
      "Forecast of Vx for Satellite 252 has been done.\n"
     ]
    },
    {
     "name": "stderr",
     "output_type": "stream",
     "text": [
      "C:\\Anaconda3\\envs\\nlp_course\\lib\\site-packages\\statsmodels\\tsa\\holtwinters.py:744: ConvergenceWarning: Optimization failed to converge. Check mle_retvals.\n",
      "  ConvergenceWarning)\n"
     ]
    },
    {
     "name": "stdout",
     "output_type": "stream",
     "text": [
      "Forecast of Vx for Satellite 253 has been done.\n",
      "Forecast of Vx for Satellite 254 has been done.\n"
     ]
    },
    {
     "name": "stderr",
     "output_type": "stream",
     "text": [
      "C:\\Anaconda3\\envs\\nlp_course\\lib\\site-packages\\statsmodels\\tsa\\holtwinters.py:744: ConvergenceWarning: Optimization failed to converge. Check mle_retvals.\n",
      "  ConvergenceWarning)\n"
     ]
    },
    {
     "name": "stdout",
     "output_type": "stream",
     "text": [
      "Forecast of Vx for Satellite 261 has been done.\n",
      "Forecast of Vx for Satellite 263 has been done.\n",
      "Forecast of Vx for Satellite 264 has been done.\n",
      "Forecast of Vx for Satellite 265 has been done.\n",
      "Forecast of Vx for Satellite 268 has been done.\n",
      "Forecast of Vx for Satellite 270 has been done.\n",
      "Forecast of Vx for Satellite 275 has been done.\n"
     ]
    },
    {
     "name": "stderr",
     "output_type": "stream",
     "text": [
      "C:\\Anaconda3\\envs\\nlp_course\\lib\\site-packages\\statsmodels\\tsa\\holtwinters.py:744: ConvergenceWarning: Optimization failed to converge. Check mle_retvals.\n",
      "  ConvergenceWarning)\n"
     ]
    },
    {
     "name": "stdout",
     "output_type": "stream",
     "text": [
      "Forecast of Vx for Satellite 277 has been done.\n",
      "Forecast of Vx for Satellite 278 has been done.\n"
     ]
    },
    {
     "name": "stderr",
     "output_type": "stream",
     "text": [
      "C:\\Anaconda3\\envs\\nlp_course\\lib\\site-packages\\statsmodels\\tsa\\holtwinters.py:744: ConvergenceWarning: Optimization failed to converge. Check mle_retvals.\n",
      "  ConvergenceWarning)\n"
     ]
    },
    {
     "name": "stdout",
     "output_type": "stream",
     "text": [
      "Forecast of Vx for Satellite 281 has been done.\n"
     ]
    },
    {
     "name": "stderr",
     "output_type": "stream",
     "text": [
      "C:\\Anaconda3\\envs\\nlp_course\\lib\\site-packages\\statsmodels\\tsa\\holtwinters.py:744: ConvergenceWarning: Optimization failed to converge. Check mle_retvals.\n",
      "  ConvergenceWarning)\n"
     ]
    },
    {
     "name": "stdout",
     "output_type": "stream",
     "text": [
      "Forecast of Vx for Satellite 284 has been done.\n",
      "Forecast of Vx for Satellite 288 has been done.\n",
      "Forecast of Vx for Satellite 292 has been done.\n",
      "Forecast of Vx for Satellite 293 has been done.\n"
     ]
    },
    {
     "name": "stderr",
     "output_type": "stream",
     "text": [
      "C:\\Anaconda3\\envs\\nlp_course\\lib\\site-packages\\statsmodels\\tsa\\holtwinters.py:744: ConvergenceWarning: Optimization failed to converge. Check mle_retvals.\n",
      "  ConvergenceWarning)\n"
     ]
    },
    {
     "name": "stdout",
     "output_type": "stream",
     "text": [
      "Forecast of Vx for Satellite 294 has been done.\n"
     ]
    },
    {
     "name": "stderr",
     "output_type": "stream",
     "text": [
      "C:\\Anaconda3\\envs\\nlp_course\\lib\\site-packages\\statsmodels\\tsa\\holtwinters.py:744: ConvergenceWarning: Optimization failed to converge. Check mle_retvals.\n",
      "  ConvergenceWarning)\n"
     ]
    },
    {
     "name": "stdout",
     "output_type": "stream",
     "text": [
      "Forecast of Vx for Satellite 298 has been done.\n",
      "Forecast of Vx for Satellite 299 has been done.\n"
     ]
    },
    {
     "name": "stderr",
     "output_type": "stream",
     "text": [
      "C:\\Anaconda3\\envs\\nlp_course\\lib\\site-packages\\statsmodels\\tsa\\holtwinters.py:744: ConvergenceWarning: Optimization failed to converge. Check mle_retvals.\n",
      "  ConvergenceWarning)\n"
     ]
    },
    {
     "name": "stdout",
     "output_type": "stream",
     "text": [
      "Forecast of Vx for Satellite 301 has been done.\n",
      "Forecast of Vx for Satellite 304 has been done.\n",
      "Forecast of Vx for Satellite 306 has been done.\n",
      "Forecast of Vx for Satellite 309 has been done.\n",
      "Forecast of Vx for Satellite 310 has been done.\n"
     ]
    },
    {
     "name": "stderr",
     "output_type": "stream",
     "text": [
      "C:\\Anaconda3\\envs\\nlp_course\\lib\\site-packages\\statsmodels\\tsa\\holtwinters.py:744: ConvergenceWarning: Optimization failed to converge. Check mle_retvals.\n",
      "  ConvergenceWarning)\n"
     ]
    },
    {
     "name": "stdout",
     "output_type": "stream",
     "text": [
      "Forecast of Vx for Satellite 312 has been done.\n",
      "Forecast of Vx for Satellite 314 has been done.\n"
     ]
    },
    {
     "name": "stderr",
     "output_type": "stream",
     "text": [
      "C:\\Anaconda3\\envs\\nlp_course\\lib\\site-packages\\statsmodels\\tsa\\holtwinters.py:744: ConvergenceWarning: Optimization failed to converge. Check mle_retvals.\n",
      "  ConvergenceWarning)\n"
     ]
    },
    {
     "name": "stdout",
     "output_type": "stream",
     "text": [
      "Forecast of Vx for Satellite 316 has been done.\n",
      "Forecast of Vx for Satellite 319 has been done.\n"
     ]
    },
    {
     "name": "stderr",
     "output_type": "stream",
     "text": [
      "C:\\Anaconda3\\envs\\nlp_course\\lib\\site-packages\\statsmodels\\tsa\\holtwinters.py:744: ConvergenceWarning: Optimization failed to converge. Check mle_retvals.\n",
      "  ConvergenceWarning)\n"
     ]
    },
    {
     "name": "stdout",
     "output_type": "stream",
     "text": [
      "Forecast of Vx for Satellite 324 has been done.\n"
     ]
    },
    {
     "name": "stderr",
     "output_type": "stream",
     "text": [
      "C:\\Anaconda3\\envs\\nlp_course\\lib\\site-packages\\statsmodels\\tsa\\holtwinters.py:744: ConvergenceWarning: Optimization failed to converge. Check mle_retvals.\n",
      "  ConvergenceWarning)\n"
     ]
    },
    {
     "name": "stdout",
     "output_type": "stream",
     "text": [
      "Forecast of Vx for Satellite 326 has been done.\n",
      "Forecast of Vx for Satellite 332 has been done.\n",
      "Forecast of Vx for Satellite 333 has been done.\n",
      "Forecast of Vx for Satellite 342 has been done.\n"
     ]
    },
    {
     "name": "stderr",
     "output_type": "stream",
     "text": [
      "C:\\Anaconda3\\envs\\nlp_course\\lib\\site-packages\\statsmodels\\tsa\\holtwinters.py:744: ConvergenceWarning: Optimization failed to converge. Check mle_retvals.\n",
      "  ConvergenceWarning)\n"
     ]
    },
    {
     "name": "stdout",
     "output_type": "stream",
     "text": [
      "Forecast of Vx for Satellite 343 has been done.\n",
      "Forecast of Vx for Satellite 344 has been done.\n",
      "Forecast of Vx for Satellite 347 has been done.\n",
      "Forecast of Vx for Satellite 348 has been done.\n",
      "Forecast of Vx for Satellite 349 has been done.\n",
      "Forecast of Vx for Satellite 356 has been done.\n"
     ]
    },
    {
     "name": "stderr",
     "output_type": "stream",
     "text": [
      "C:\\Anaconda3\\envs\\nlp_course\\lib\\site-packages\\statsmodels\\tsa\\holtwinters.py:744: ConvergenceWarning: Optimization failed to converge. Check mle_retvals.\n",
      "  ConvergenceWarning)\n"
     ]
    },
    {
     "name": "stdout",
     "output_type": "stream",
     "text": [
      "Forecast of Vx for Satellite 357 has been done.\n"
     ]
    },
    {
     "name": "stderr",
     "output_type": "stream",
     "text": [
      "C:\\Anaconda3\\envs\\nlp_course\\lib\\site-packages\\statsmodels\\tsa\\holtwinters.py:744: ConvergenceWarning: Optimization failed to converge. Check mle_retvals.\n",
      "  ConvergenceWarning)\n"
     ]
    },
    {
     "name": "stdout",
     "output_type": "stream",
     "text": [
      "Forecast of Vx for Satellite 358 has been done.\n"
     ]
    },
    {
     "name": "stderr",
     "output_type": "stream",
     "text": [
      "C:\\Anaconda3\\envs\\nlp_course\\lib\\site-packages\\statsmodels\\tsa\\holtwinters.py:744: ConvergenceWarning: Optimization failed to converge. Check mle_retvals.\n",
      "  ConvergenceWarning)\n"
     ]
    },
    {
     "name": "stdout",
     "output_type": "stream",
     "text": [
      "Forecast of Vx for Satellite 359 has been done.\n",
      "Forecast of Vx for Satellite 362 has been done.\n",
      "Forecast of Vx for Satellite 363 has been done.\n",
      "Forecast of Vx for Satellite 372 has been done.\n",
      "Forecast of Vx for Satellite 373 has been done.\n",
      "Forecast of Vx for Satellite 375 has been done.\n",
      "Forecast of Vx for Satellite 377 has been done.\n",
      "Forecast of Vx for Satellite 380 has been done.\n",
      "Forecast of Vx for Satellite 382 has been done.\n",
      "Forecast of Vx for Satellite 384 has been done.\n",
      "Forecast of Vx for Satellite 385 has been done.\n",
      "Forecast of Vx for Satellite 387 has been done.\n",
      "Forecast of Vx for Satellite 389 has been done.\n",
      "Forecast of Vx for Satellite 390 has been done.\n"
     ]
    },
    {
     "name": "stderr",
     "output_type": "stream",
     "text": [
      "C:\\Anaconda3\\envs\\nlp_course\\lib\\site-packages\\statsmodels\\tsa\\holtwinters.py:744: ConvergenceWarning: Optimization failed to converge. Check mle_retvals.\n",
      "  ConvergenceWarning)\n"
     ]
    },
    {
     "name": "stdout",
     "output_type": "stream",
     "text": [
      "Forecast of Vx for Satellite 391 has been done.\n",
      "Forecast of Vx for Satellite 392 has been done.\n",
      "Forecast of Vx for Satellite 393 has been done.\n"
     ]
    },
    {
     "name": "stderr",
     "output_type": "stream",
     "text": [
      "C:\\Anaconda3\\envs\\nlp_course\\lib\\site-packages\\statsmodels\\tsa\\holtwinters.py:744: ConvergenceWarning: Optimization failed to converge. Check mle_retvals.\n",
      "  ConvergenceWarning)\n"
     ]
    },
    {
     "name": "stdout",
     "output_type": "stream",
     "text": [
      "Forecast of Vx for Satellite 395 has been done.\n",
      "Forecast of Vx for Satellite 396 has been done.\n"
     ]
    },
    {
     "name": "stderr",
     "output_type": "stream",
     "text": [
      "C:\\Anaconda3\\envs\\nlp_course\\lib\\site-packages\\statsmodels\\tsa\\holtwinters.py:744: ConvergenceWarning: Optimization failed to converge. Check mle_retvals.\n",
      "  ConvergenceWarning)\n"
     ]
    },
    {
     "name": "stdout",
     "output_type": "stream",
     "text": [
      "Forecast of Vx for Satellite 399 has been done.\n"
     ]
    },
    {
     "name": "stderr",
     "output_type": "stream",
     "text": [
      "C:\\Anaconda3\\envs\\nlp_course\\lib\\site-packages\\statsmodels\\tsa\\holtwinters.py:744: ConvergenceWarning: Optimization failed to converge. Check mle_retvals.\n",
      "  ConvergenceWarning)\n"
     ]
    },
    {
     "name": "stdout",
     "output_type": "stream",
     "text": [
      "Forecast of Vx for Satellite 400 has been done.\n",
      "Forecast of Vx for Satellite 407 has been done.\n",
      "Forecast of Vx for Satellite 409 has been done.\n"
     ]
    },
    {
     "name": "stderr",
     "output_type": "stream",
     "text": [
      "C:\\Anaconda3\\envs\\nlp_course\\lib\\site-packages\\statsmodels\\tsa\\holtwinters.py:744: ConvergenceWarning: Optimization failed to converge. Check mle_retvals.\n",
      "  ConvergenceWarning)\n"
     ]
    },
    {
     "name": "stdout",
     "output_type": "stream",
     "text": [
      "Forecast of Vx for Satellite 411 has been done.\n",
      "Forecast of Vx for Satellite 412 has been done.\n",
      "Forecast of Vx for Satellite 415 has been done.\n",
      "Forecast of Vx for Satellite 416 has been done.\n",
      "Forecast of Vx for Satellite 417 has been done.\n",
      "Forecast of Vx for Satellite 418 has been done.\n",
      "Forecast of Vx for Satellite 419 has been done.\n"
     ]
    },
    {
     "name": "stderr",
     "output_type": "stream",
     "text": [
      "C:\\Anaconda3\\envs\\nlp_course\\lib\\site-packages\\statsmodels\\tsa\\holtwinters.py:744: ConvergenceWarning: Optimization failed to converge. Check mle_retvals.\n",
      "  ConvergenceWarning)\n"
     ]
    },
    {
     "name": "stdout",
     "output_type": "stream",
     "text": [
      "Forecast of Vx for Satellite 422 has been done.\n",
      "Forecast of Vx for Satellite 423 has been done.\n",
      "Forecast of Vx for Satellite 424 has been done.\n"
     ]
    },
    {
     "name": "stderr",
     "output_type": "stream",
     "text": [
      "C:\\Anaconda3\\envs\\nlp_course\\lib\\site-packages\\statsmodels\\tsa\\holtwinters.py:744: ConvergenceWarning: Optimization failed to converge. Check mle_retvals.\n",
      "  ConvergenceWarning)\n"
     ]
    },
    {
     "name": "stdout",
     "output_type": "stream",
     "text": [
      "Forecast of Vx for Satellite 426 has been done.\n",
      "Forecast of Vx for Satellite 428 has been done.\n",
      "Forecast of Vx for Satellite 435 has been done.\n",
      "Forecast of Vx for Satellite 436 has been done.\n",
      "Forecast of Vx for Satellite 437 has been done.\n",
      "Forecast of Vx for Satellite 438 has been done.\n",
      "Forecast of Vx for Satellite 440 has been done.\n"
     ]
    },
    {
     "name": "stderr",
     "output_type": "stream",
     "text": [
      "C:\\Anaconda3\\envs\\nlp_course\\lib\\site-packages\\statsmodels\\tsa\\holtwinters.py:744: ConvergenceWarning: Optimization failed to converge. Check mle_retvals.\n",
      "  ConvergenceWarning)\n"
     ]
    },
    {
     "name": "stdout",
     "output_type": "stream",
     "text": [
      "Forecast of Vx for Satellite 443 has been done.\n",
      "Forecast of Vx for Satellite 446 has been done.\n",
      "Forecast of Vx for Satellite 448 has been done.\n"
     ]
    },
    {
     "name": "stderr",
     "output_type": "stream",
     "text": [
      "C:\\Anaconda3\\envs\\nlp_course\\lib\\site-packages\\statsmodels\\tsa\\holtwinters.py:744: ConvergenceWarning: Optimization failed to converge. Check mle_retvals.\n",
      "  ConvergenceWarning)\n"
     ]
    },
    {
     "name": "stdout",
     "output_type": "stream",
     "text": [
      "Forecast of Vx for Satellite 449 has been done.\n",
      "Forecast of Vx for Satellite 450 has been done.\n",
      "Forecast of Vx for Satellite 452 has been done.\n"
     ]
    },
    {
     "name": "stderr",
     "output_type": "stream",
     "text": [
      "C:\\Anaconda3\\envs\\nlp_course\\lib\\site-packages\\statsmodels\\tsa\\holtwinters.py:744: ConvergenceWarning: Optimization failed to converge. Check mle_retvals.\n",
      "  ConvergenceWarning)\n"
     ]
    },
    {
     "name": "stdout",
     "output_type": "stream",
     "text": [
      "Forecast of Vx for Satellite 454 has been done.\n",
      "Forecast of Vx for Satellite 455 has been done.\n",
      "Forecast of Vx for Satellite 456 has been done.\n"
     ]
    },
    {
     "name": "stderr",
     "output_type": "stream",
     "text": [
      "C:\\Anaconda3\\envs\\nlp_course\\lib\\site-packages\\statsmodels\\tsa\\holtwinters.py:744: ConvergenceWarning: Optimization failed to converge. Check mle_retvals.\n",
      "  ConvergenceWarning)\n"
     ]
    },
    {
     "name": "stdout",
     "output_type": "stream",
     "text": [
      "Forecast of Vx for Satellite 457 has been done.\n",
      "Forecast of Vx for Satellite 460 has been done.\n"
     ]
    },
    {
     "name": "stderr",
     "output_type": "stream",
     "text": [
      "C:\\Anaconda3\\envs\\nlp_course\\lib\\site-packages\\statsmodels\\tsa\\holtwinters.py:744: ConvergenceWarning: Optimization failed to converge. Check mle_retvals.\n",
      "  ConvergenceWarning)\n"
     ]
    },
    {
     "name": "stdout",
     "output_type": "stream",
     "text": [
      "Forecast of Vx for Satellite 462 has been done.\n"
     ]
    },
    {
     "name": "stderr",
     "output_type": "stream",
     "text": [
      "C:\\Anaconda3\\envs\\nlp_course\\lib\\site-packages\\statsmodels\\tsa\\holtwinters.py:744: ConvergenceWarning: Optimization failed to converge. Check mle_retvals.\n",
      "  ConvergenceWarning)\n"
     ]
    },
    {
     "name": "stdout",
     "output_type": "stream",
     "text": [
      "Forecast of Vx for Satellite 464 has been done.\n",
      "Forecast of Vx for Satellite 465 has been done.\n",
      "Forecast of Vx for Satellite 466 has been done.\n",
      "Forecast of Vx for Satellite 467 has been done.\n",
      "Forecast of Vx for Satellite 468 has been done.\n",
      "Forecast of Vx for Satellite 470 has been done.\n"
     ]
    },
    {
     "name": "stderr",
     "output_type": "stream",
     "text": [
      "C:\\Anaconda3\\envs\\nlp_course\\lib\\site-packages\\statsmodels\\tsa\\holtwinters.py:744: ConvergenceWarning: Optimization failed to converge. Check mle_retvals.\n",
      "  ConvergenceWarning)\n"
     ]
    },
    {
     "name": "stdout",
     "output_type": "stream",
     "text": [
      "Forecast of Vx for Satellite 471 has been done.\n",
      "Forecast of Vx for Satellite 473 has been done.\n"
     ]
    },
    {
     "name": "stderr",
     "output_type": "stream",
     "text": [
      "C:\\Anaconda3\\envs\\nlp_course\\lib\\site-packages\\statsmodels\\tsa\\holtwinters.py:744: ConvergenceWarning: Optimization failed to converge. Check mle_retvals.\n",
      "  ConvergenceWarning)\n"
     ]
    },
    {
     "name": "stdout",
     "output_type": "stream",
     "text": [
      "Forecast of Vx for Satellite 474 has been done.\n",
      "Forecast of Vx for Satellite 475 has been done.\n"
     ]
    },
    {
     "name": "stderr",
     "output_type": "stream",
     "text": [
      "C:\\Anaconda3\\envs\\nlp_course\\lib\\site-packages\\statsmodels\\tsa\\holtwinters.py:744: ConvergenceWarning: Optimization failed to converge. Check mle_retvals.\n",
      "  ConvergenceWarning)\n"
     ]
    },
    {
     "name": "stdout",
     "output_type": "stream",
     "text": [
      "Forecast of Vx for Satellite 476 has been done.\n",
      "Forecast of Vx for Satellite 477 has been done.\n"
     ]
    },
    {
     "name": "stderr",
     "output_type": "stream",
     "text": [
      "C:\\Anaconda3\\envs\\nlp_course\\lib\\site-packages\\statsmodels\\tsa\\holtwinters.py:744: ConvergenceWarning: Optimization failed to converge. Check mle_retvals.\n",
      "  ConvergenceWarning)\n"
     ]
    },
    {
     "name": "stdout",
     "output_type": "stream",
     "text": [
      "Forecast of Vx for Satellite 479 has been done.\n",
      "Forecast of Vx for Satellite 480 has been done.\n",
      "Forecast of Vx for Satellite 481 has been done.\n",
      "Forecast of Vx for Satellite 482 has been done.\n",
      "Forecast of Vx for Satellite 483 has been done.\n",
      "Forecast of Vx for Satellite 486 has been done.\n",
      "Forecast of Vx for Satellite 488 has been done.\n",
      "Forecast of Vx for Satellite 489 has been done.\n",
      "Forecast of Vx for Satellite 491 has been done.\n",
      "Forecast of Vx for Satellite 495 has been done.\n",
      "Forecast of Vx for Satellite 498 has been done.\n"
     ]
    },
    {
     "name": "stderr",
     "output_type": "stream",
     "text": [
      "C:\\Anaconda3\\envs\\nlp_course\\lib\\site-packages\\statsmodels\\tsa\\holtwinters.py:744: ConvergenceWarning: Optimization failed to converge. Check mle_retvals.\n",
      "  ConvergenceWarning)\n"
     ]
    },
    {
     "name": "stdout",
     "output_type": "stream",
     "text": [
      "Forecast of Vx for Satellite 499 has been done.\n",
      "Forecast of Vx for Satellite 502 has been done.\n",
      "Forecast of Vx for Satellite 504 has been done.\n",
      "Forecast of Vx for Satellite 505 has been done.\n",
      "Forecast of Vx for Satellite 506 has been done.\n",
      "Forecast of Vx for Satellite 508 has been done.\n",
      "Forecast of Vx for Satellite 509 has been done.\n"
     ]
    },
    {
     "name": "stderr",
     "output_type": "stream",
     "text": [
      "C:\\Anaconda3\\envs\\nlp_course\\lib\\site-packages\\statsmodels\\tsa\\holtwinters.py:744: ConvergenceWarning: Optimization failed to converge. Check mle_retvals.\n",
      "  ConvergenceWarning)\n"
     ]
    },
    {
     "name": "stdout",
     "output_type": "stream",
     "text": [
      "Forecast of Vx for Satellite 510 has been done.\n"
     ]
    },
    {
     "name": "stderr",
     "output_type": "stream",
     "text": [
      "C:\\Anaconda3\\envs\\nlp_course\\lib\\site-packages\\statsmodels\\tsa\\holtwinters.py:744: ConvergenceWarning: Optimization failed to converge. Check mle_retvals.\n",
      "  ConvergenceWarning)\n"
     ]
    },
    {
     "name": "stdout",
     "output_type": "stream",
     "text": [
      "Forecast of Vx for Satellite 511 has been done.\n"
     ]
    },
    {
     "name": "stderr",
     "output_type": "stream",
     "text": [
      "C:\\Anaconda3\\envs\\nlp_course\\lib\\site-packages\\statsmodels\\tsa\\holtwinters.py:744: ConvergenceWarning: Optimization failed to converge. Check mle_retvals.\n",
      "  ConvergenceWarning)\n"
     ]
    },
    {
     "name": "stdout",
     "output_type": "stream",
     "text": [
      "Forecast of Vx for Satellite 514 has been done.\n"
     ]
    },
    {
     "name": "stderr",
     "output_type": "stream",
     "text": [
      "C:\\Anaconda3\\envs\\nlp_course\\lib\\site-packages\\statsmodels\\tsa\\holtwinters.py:744: ConvergenceWarning: Optimization failed to converge. Check mle_retvals.\n",
      "  ConvergenceWarning)\n"
     ]
    },
    {
     "name": "stdout",
     "output_type": "stream",
     "text": [
      "Forecast of Vx for Satellite 515 has been done.\n"
     ]
    },
    {
     "name": "stderr",
     "output_type": "stream",
     "text": [
      "C:\\Anaconda3\\envs\\nlp_course\\lib\\site-packages\\statsmodels\\tsa\\holtwinters.py:744: ConvergenceWarning: Optimization failed to converge. Check mle_retvals.\n",
      "  ConvergenceWarning)\n"
     ]
    },
    {
     "name": "stdout",
     "output_type": "stream",
     "text": [
      "Forecast of Vx for Satellite 516 has been done.\n",
      "Forecast of Vx for Satellite 517 has been done.\n",
      "Forecast of Vx for Satellite 519 has been done.\n",
      "Forecast of Vx for Satellite 522 has been done.\n",
      "Forecast of Vx for Satellite 523 has been done.\n"
     ]
    },
    {
     "name": "stderr",
     "output_type": "stream",
     "text": [
      "C:\\Anaconda3\\envs\\nlp_course\\lib\\site-packages\\statsmodels\\tsa\\holtwinters.py:744: ConvergenceWarning: Optimization failed to converge. Check mle_retvals.\n",
      "  ConvergenceWarning)\n"
     ]
    },
    {
     "name": "stdout",
     "output_type": "stream",
     "text": [
      "Forecast of Vx for Satellite 524 has been done.\n"
     ]
    },
    {
     "name": "stderr",
     "output_type": "stream",
     "text": [
      "C:\\Anaconda3\\envs\\nlp_course\\lib\\site-packages\\statsmodels\\tsa\\holtwinters.py:744: ConvergenceWarning: Optimization failed to converge. Check mle_retvals.\n",
      "  ConvergenceWarning)\n"
     ]
    },
    {
     "name": "stdout",
     "output_type": "stream",
     "text": [
      "Forecast of Vx for Satellite 528 has been done.\n",
      "Forecast of Vx for Satellite 536 has been done.\n",
      "Forecast of Vx for Satellite 537 has been done.\n",
      "Forecast of Vx for Satellite 539 has been done.\n",
      "Forecast of Vx for Satellite 542 has been done.\n"
     ]
    },
    {
     "name": "stderr",
     "output_type": "stream",
     "text": [
      "C:\\Anaconda3\\envs\\nlp_course\\lib\\site-packages\\statsmodels\\tsa\\holtwinters.py:744: ConvergenceWarning: Optimization failed to converge. Check mle_retvals.\n",
      "  ConvergenceWarning)\n"
     ]
    },
    {
     "name": "stdout",
     "output_type": "stream",
     "text": [
      "Forecast of Vx for Satellite 543 has been done.\n"
     ]
    },
    {
     "name": "stderr",
     "output_type": "stream",
     "text": [
      "C:\\Anaconda3\\envs\\nlp_course\\lib\\site-packages\\statsmodels\\tsa\\holtwinters.py:744: ConvergenceWarning: Optimization failed to converge. Check mle_retvals.\n",
      "  ConvergenceWarning)\n"
     ]
    },
    {
     "name": "stdout",
     "output_type": "stream",
     "text": [
      "Forecast of Vx for Satellite 544 has been done.\n"
     ]
    },
    {
     "name": "stderr",
     "output_type": "stream",
     "text": [
      "C:\\Anaconda3\\envs\\nlp_course\\lib\\site-packages\\statsmodels\\tsa\\holtwinters.py:744: ConvergenceWarning: Optimization failed to converge. Check mle_retvals.\n",
      "  ConvergenceWarning)\n"
     ]
    },
    {
     "name": "stdout",
     "output_type": "stream",
     "text": [
      "Forecast of Vx for Satellite 547 has been done.\n",
      "Forecast of Vx for Satellite 548 has been done.\n",
      "Forecast of Vx for Satellite 549 has been done.\n",
      "Forecast of Vx for Satellite 550 has been done.\n",
      "Forecast of Vx for Satellite 558 has been done.\n"
     ]
    },
    {
     "name": "stderr",
     "output_type": "stream",
     "text": [
      "C:\\Anaconda3\\envs\\nlp_course\\lib\\site-packages\\statsmodels\\tsa\\holtwinters.py:744: ConvergenceWarning: Optimization failed to converge. Check mle_retvals.\n",
      "  ConvergenceWarning)\n"
     ]
    },
    {
     "name": "stdout",
     "output_type": "stream",
     "text": [
      "Forecast of Vx for Satellite 563 has been done.\n",
      "Forecast of Vx for Satellite 565 has been done.\n"
     ]
    },
    {
     "name": "stderr",
     "output_type": "stream",
     "text": [
      "C:\\Anaconda3\\envs\\nlp_course\\lib\\site-packages\\statsmodels\\tsa\\holtwinters.py:744: ConvergenceWarning: Optimization failed to converge. Check mle_retvals.\n",
      "  ConvergenceWarning)\n"
     ]
    },
    {
     "name": "stdout",
     "output_type": "stream",
     "text": [
      "Forecast of Vx for Satellite 566 has been done.\n",
      "Forecast of Vx for Satellite 567 has been done.\n",
      "Forecast of Vx for Satellite 569 has been done.\n",
      "Forecast of Vx for Satellite 572 has been done.\n",
      "Forecast of Vx for Satellite 575 has been done.\n"
     ]
    },
    {
     "name": "stderr",
     "output_type": "stream",
     "text": [
      "C:\\Anaconda3\\envs\\nlp_course\\lib\\site-packages\\statsmodels\\tsa\\holtwinters.py:744: ConvergenceWarning: Optimization failed to converge. Check mle_retvals.\n",
      "  ConvergenceWarning)\n"
     ]
    },
    {
     "name": "stdout",
     "output_type": "stream",
     "text": [
      "Forecast of Vx for Satellite 578 has been done.\n",
      "Forecast of Vx for Satellite 579 has been done.\n",
      "Forecast of Vx for Satellite 580 has been done.\n"
     ]
    },
    {
     "name": "stderr",
     "output_type": "stream",
     "text": [
      "C:\\Anaconda3\\envs\\nlp_course\\lib\\site-packages\\statsmodels\\tsa\\holtwinters.py:744: ConvergenceWarning: Optimization failed to converge. Check mle_retvals.\n",
      "  ConvergenceWarning)\n"
     ]
    },
    {
     "name": "stdout",
     "output_type": "stream",
     "text": [
      "Forecast of Vx for Satellite 583 has been done.\n",
      "Forecast of Vx for Satellite 584 has been done.\n",
      "Forecast of Vx for Satellite 587 has been done.\n",
      "Forecast of Vx for Satellite 588 has been done.\n"
     ]
    },
    {
     "name": "stderr",
     "output_type": "stream",
     "text": [
      "C:\\Anaconda3\\envs\\nlp_course\\lib\\site-packages\\statsmodels\\tsa\\holtwinters.py:744: ConvergenceWarning: Optimization failed to converge. Check mle_retvals.\n",
      "  ConvergenceWarning)\n"
     ]
    },
    {
     "name": "stdout",
     "output_type": "stream",
     "text": [
      "Forecast of Vx for Satellite 593 has been done.\n",
      "Forecast of Vx for Satellite 595 has been done.\n",
      "Forecast of Vx for Satellite 596 has been done.\n",
      "Forecast of Vx for Satellite 597 has been done.\n"
     ]
    },
    {
     "name": "stderr",
     "output_type": "stream",
     "text": [
      "C:\\Anaconda3\\envs\\nlp_course\\lib\\site-packages\\statsmodels\\tsa\\holtwinters.py:744: ConvergenceWarning: Optimization failed to converge. Check mle_retvals.\n",
      "  ConvergenceWarning)\n"
     ]
    },
    {
     "name": "stdout",
     "output_type": "stream",
     "text": [
      "Forecast of Vy for Satellite 1 has been done.\n",
      "Forecast of Vy for Satellite 2 has been done.\n",
      "Forecast of Vy for Satellite 3 has been done.\n",
      "Forecast of Vy for Satellite 4 has been done.\n",
      "Forecast of Vy for Satellite 6 has been done.\n",
      "Forecast of Vy for Satellite 9 has been done.\n",
      "Forecast of Vy for Satellite 16 has been done.\n",
      "Forecast of Vy for Satellite 20 has been done.\n",
      "Forecast of Vy for Satellite 22 has been done.\n"
     ]
    },
    {
     "name": "stderr",
     "output_type": "stream",
     "text": [
      "C:\\Anaconda3\\envs\\nlp_course\\lib\\site-packages\\statsmodels\\tsa\\holtwinters.py:744: ConvergenceWarning: Optimization failed to converge. Check mle_retvals.\n",
      "  ConvergenceWarning)\n"
     ]
    },
    {
     "name": "stdout",
     "output_type": "stream",
     "text": [
      "Forecast of Vy for Satellite 24 has been done.\n"
     ]
    },
    {
     "name": "stderr",
     "output_type": "stream",
     "text": [
      "C:\\Anaconda3\\envs\\nlp_course\\lib\\site-packages\\statsmodels\\tsa\\holtwinters.py:744: ConvergenceWarning: Optimization failed to converge. Check mle_retvals.\n",
      "  ConvergenceWarning)\n"
     ]
    },
    {
     "name": "stdout",
     "output_type": "stream",
     "text": [
      "Forecast of Vy for Satellite 25 has been done.\n",
      "Forecast of Vy for Satellite 26 has been done.\n",
      "Forecast of Vy for Satellite 27 has been done.\n",
      "Forecast of Vy for Satellite 28 has been done.\n",
      "Forecast of Vy for Satellite 29 has been done.\n",
      "Forecast of Vy for Satellite 32 has been done.\n",
      "Forecast of Vy for Satellite 34 has been done.\n",
      "Forecast of Vy for Satellite 35 has been done.\n",
      "Forecast of Vy for Satellite 36 has been done.\n",
      "Forecast of Vy for Satellite 37 has been done.\n",
      "Forecast of Vy for Satellite 38 has been done.\n",
      "Forecast of Vy for Satellite 39 has been done.\n",
      "Forecast of Vy for Satellite 40 has been done.\n"
     ]
    },
    {
     "name": "stderr",
     "output_type": "stream",
     "text": [
      "C:\\Anaconda3\\envs\\nlp_course\\lib\\site-packages\\statsmodels\\tsa\\holtwinters.py:744: ConvergenceWarning: Optimization failed to converge. Check mle_retvals.\n",
      "  ConvergenceWarning)\n"
     ]
    },
    {
     "name": "stdout",
     "output_type": "stream",
     "text": [
      "Forecast of Vy for Satellite 41 has been done.\n"
     ]
    },
    {
     "name": "stderr",
     "output_type": "stream",
     "text": [
      "C:\\Anaconda3\\envs\\nlp_course\\lib\\site-packages\\statsmodels\\tsa\\holtwinters.py:744: ConvergenceWarning: Optimization failed to converge. Check mle_retvals.\n",
      "  ConvergenceWarning)\n"
     ]
    },
    {
     "name": "stdout",
     "output_type": "stream",
     "text": [
      "Forecast of Vy for Satellite 42 has been done.\n"
     ]
    },
    {
     "name": "stderr",
     "output_type": "stream",
     "text": [
      "C:\\Anaconda3\\envs\\nlp_course\\lib\\site-packages\\statsmodels\\tsa\\holtwinters.py:744: ConvergenceWarning: Optimization failed to converge. Check mle_retvals.\n",
      "  ConvergenceWarning)\n"
     ]
    },
    {
     "name": "stdout",
     "output_type": "stream",
     "text": [
      "Forecast of Vy for Satellite 44 has been done.\n",
      "Forecast of Vy for Satellite 45 has been done.\n",
      "Forecast of Vy for Satellite 49 has been done.\n",
      "Forecast of Vy for Satellite 51 has been done.\n",
      "Forecast of Vy for Satellite 52 has been done.\n",
      "Forecast of Vy for Satellite 53 has been done.\n",
      "Forecast of Vy for Satellite 54 has been done.\n",
      "Forecast of Vy for Satellite 57 has been done.\n",
      "Forecast of Vy for Satellite 59 has been done.\n",
      "Forecast of Vy for Satellite 63 has been done.\n",
      "Forecast of Vy for Satellite 64 has been done.\n",
      "Forecast of Vy for Satellite 68 has been done.\n",
      "Forecast of Vy for Satellite 70 has been done.\n",
      "Forecast of Vy for Satellite 75 has been done.\n"
     ]
    },
    {
     "name": "stderr",
     "output_type": "stream",
     "text": [
      "C:\\Anaconda3\\envs\\nlp_course\\lib\\site-packages\\statsmodels\\tsa\\holtwinters.py:744: ConvergenceWarning: Optimization failed to converge. Check mle_retvals.\n",
      "  ConvergenceWarning)\n"
     ]
    },
    {
     "name": "stdout",
     "output_type": "stream",
     "text": [
      "Forecast of Vy for Satellite 82 has been done.\n",
      "Forecast of Vy for Satellite 84 has been done.\n"
     ]
    },
    {
     "name": "stderr",
     "output_type": "stream",
     "text": [
      "C:\\Anaconda3\\envs\\nlp_course\\lib\\site-packages\\statsmodels\\tsa\\holtwinters.py:744: ConvergenceWarning: Optimization failed to converge. Check mle_retvals.\n",
      "  ConvergenceWarning)\n"
     ]
    },
    {
     "name": "stdout",
     "output_type": "stream",
     "text": [
      "Forecast of Vy for Satellite 86 has been done.\n",
      "Forecast of Vy for Satellite 89 has been done.\n",
      "Forecast of Vy for Satellite 90 has been done.\n",
      "Forecast of Vy for Satellite 91 has been done.\n",
      "Forecast of Vy for Satellite 92 has been done.\n",
      "Forecast of Vy for Satellite 93 has been done.\n",
      "Forecast of Vy for Satellite 96 has been done.\n",
      "Forecast of Vy for Satellite 98 has been done.\n",
      "Forecast of Vy for Satellite 100 has been done.\n",
      "Forecast of Vy for Satellite 101 has been done.\n"
     ]
    },
    {
     "name": "stderr",
     "output_type": "stream",
     "text": [
      "C:\\Anaconda3\\envs\\nlp_course\\lib\\site-packages\\statsmodels\\tsa\\holtwinters.py:744: ConvergenceWarning: Optimization failed to converge. Check mle_retvals.\n",
      "  ConvergenceWarning)\n"
     ]
    },
    {
     "name": "stdout",
     "output_type": "stream",
     "text": [
      "Forecast of Vy for Satellite 102 has been done.\n",
      "Forecast of Vy for Satellite 105 has been done.\n",
      "Forecast of Vy for Satellite 106 has been done.\n",
      "Forecast of Vy for Satellite 109 has been done.\n",
      "Forecast of Vy for Satellite 110 has been done.\n",
      "Forecast of Vy for Satellite 112 has been done.\n",
      "Forecast of Vy for Satellite 113 has been done.\n",
      "Forecast of Vy for Satellite 114 has been done.\n"
     ]
    },
    {
     "name": "stderr",
     "output_type": "stream",
     "text": [
      "C:\\Anaconda3\\envs\\nlp_course\\lib\\site-packages\\statsmodels\\tsa\\holtwinters.py:744: ConvergenceWarning: Optimization failed to converge. Check mle_retvals.\n",
      "  ConvergenceWarning)\n"
     ]
    },
    {
     "name": "stdout",
     "output_type": "stream",
     "text": [
      "Forecast of Vy for Satellite 117 has been done.\n",
      "Forecast of Vy for Satellite 118 has been done.\n"
     ]
    },
    {
     "name": "stderr",
     "output_type": "stream",
     "text": [
      "C:\\Anaconda3\\envs\\nlp_course\\lib\\site-packages\\statsmodels\\tsa\\holtwinters.py:744: ConvergenceWarning: Optimization failed to converge. Check mle_retvals.\n",
      "  ConvergenceWarning)\n"
     ]
    },
    {
     "name": "stdout",
     "output_type": "stream",
     "text": [
      "Forecast of Vy for Satellite 120 has been done.\n"
     ]
    },
    {
     "name": "stderr",
     "output_type": "stream",
     "text": [
      "C:\\Anaconda3\\envs\\nlp_course\\lib\\site-packages\\statsmodels\\tsa\\holtwinters.py:744: ConvergenceWarning: Optimization failed to converge. Check mle_retvals.\n",
      "  ConvergenceWarning)\n"
     ]
    },
    {
     "name": "stdout",
     "output_type": "stream",
     "text": [
      "Forecast of Vy for Satellite 121 has been done.\n",
      "Forecast of Vy for Satellite 123 has been done.\n",
      "Forecast of Vy for Satellite 124 has been done.\n"
     ]
    },
    {
     "name": "stderr",
     "output_type": "stream",
     "text": [
      "C:\\Anaconda3\\envs\\nlp_course\\lib\\site-packages\\statsmodels\\tsa\\holtwinters.py:744: ConvergenceWarning: Optimization failed to converge. Check mle_retvals.\n",
      "  ConvergenceWarning)\n"
     ]
    },
    {
     "name": "stdout",
     "output_type": "stream",
     "text": [
      "Forecast of Vy for Satellite 125 has been done.\n",
      "Forecast of Vy for Satellite 126 has been done.\n",
      "Forecast of Vy for Satellite 127 has been done.\n"
     ]
    },
    {
     "name": "stderr",
     "output_type": "stream",
     "text": [
      "C:\\Anaconda3\\envs\\nlp_course\\lib\\site-packages\\statsmodels\\tsa\\holtwinters.py:744: ConvergenceWarning: Optimization failed to converge. Check mle_retvals.\n",
      "  ConvergenceWarning)\n"
     ]
    },
    {
     "name": "stdout",
     "output_type": "stream",
     "text": [
      "Forecast of Vy for Satellite 128 has been done.\n",
      "Forecast of Vy for Satellite 130 has been done.\n",
      "Forecast of Vy for Satellite 132 has been done.\n",
      "Forecast of Vy for Satellite 133 has been done.\n"
     ]
    },
    {
     "name": "stderr",
     "output_type": "stream",
     "text": [
      "C:\\Anaconda3\\envs\\nlp_course\\lib\\site-packages\\statsmodels\\tsa\\holtwinters.py:744: ConvergenceWarning: Optimization failed to converge. Check mle_retvals.\n",
      "  ConvergenceWarning)\n"
     ]
    },
    {
     "name": "stdout",
     "output_type": "stream",
     "text": [
      "Forecast of Vy for Satellite 135 has been done.\n"
     ]
    },
    {
     "name": "stderr",
     "output_type": "stream",
     "text": [
      "C:\\Anaconda3\\envs\\nlp_course\\lib\\site-packages\\statsmodels\\tsa\\holtwinters.py:744: ConvergenceWarning: Optimization failed to converge. Check mle_retvals.\n",
      "  ConvergenceWarning)\n"
     ]
    },
    {
     "name": "stdout",
     "output_type": "stream",
     "text": [
      "Forecast of Vy for Satellite 138 has been done.\n",
      "Forecast of Vy for Satellite 142 has been done.\n",
      "Forecast of Vy for Satellite 143 has been done.\n",
      "Forecast of Vy for Satellite 144 has been done.\n",
      "Forecast of Vy for Satellite 145 has been done.\n"
     ]
    },
    {
     "name": "stderr",
     "output_type": "stream",
     "text": [
      "C:\\Anaconda3\\envs\\nlp_course\\lib\\site-packages\\statsmodels\\tsa\\holtwinters.py:744: ConvergenceWarning: Optimization failed to converge. Check mle_retvals.\n",
      "  ConvergenceWarning)\n"
     ]
    },
    {
     "name": "stdout",
     "output_type": "stream",
     "text": [
      "Forecast of Vy for Satellite 149 has been done.\n",
      "Forecast of Vy for Satellite 151 has been done.\n"
     ]
    },
    {
     "name": "stderr",
     "output_type": "stream",
     "text": [
      "C:\\Anaconda3\\envs\\nlp_course\\lib\\site-packages\\statsmodels\\tsa\\holtwinters.py:744: ConvergenceWarning: Optimization failed to converge. Check mle_retvals.\n",
      "  ConvergenceWarning)\n"
     ]
    },
    {
     "name": "stdout",
     "output_type": "stream",
     "text": [
      "Forecast of Vy for Satellite 152 has been done.\n"
     ]
    },
    {
     "name": "stderr",
     "output_type": "stream",
     "text": [
      "C:\\Anaconda3\\envs\\nlp_course\\lib\\site-packages\\statsmodels\\tsa\\holtwinters.py:744: ConvergenceWarning: Optimization failed to converge. Check mle_retvals.\n",
      "  ConvergenceWarning)\n"
     ]
    },
    {
     "name": "stdout",
     "output_type": "stream",
     "text": [
      "Forecast of Vy for Satellite 153 has been done.\n"
     ]
    },
    {
     "name": "stderr",
     "output_type": "stream",
     "text": [
      "C:\\Anaconda3\\envs\\nlp_course\\lib\\site-packages\\statsmodels\\tsa\\holtwinters.py:744: ConvergenceWarning: Optimization failed to converge. Check mle_retvals.\n",
      "  ConvergenceWarning)\n"
     ]
    },
    {
     "name": "stdout",
     "output_type": "stream",
     "text": [
      "Forecast of Vy for Satellite 155 has been done.\n",
      "Forecast of Vy for Satellite 156 has been done.\n",
      "Forecast of Vy for Satellite 158 has been done.\n"
     ]
    },
    {
     "name": "stderr",
     "output_type": "stream",
     "text": [
      "C:\\Anaconda3\\envs\\nlp_course\\lib\\site-packages\\statsmodels\\tsa\\holtwinters.py:744: ConvergenceWarning: Optimization failed to converge. Check mle_retvals.\n",
      "  ConvergenceWarning)\n"
     ]
    },
    {
     "name": "stdout",
     "output_type": "stream",
     "text": [
      "Forecast of Vy for Satellite 159 has been done.\n",
      "Forecast of Vy for Satellite 160 has been done.\n",
      "Forecast of Vy for Satellite 162 has been done.\n"
     ]
    },
    {
     "name": "stderr",
     "output_type": "stream",
     "text": [
      "C:\\Anaconda3\\envs\\nlp_course\\lib\\site-packages\\statsmodels\\tsa\\holtwinters.py:744: ConvergenceWarning: Optimization failed to converge. Check mle_retvals.\n",
      "  ConvergenceWarning)\n"
     ]
    },
    {
     "name": "stdout",
     "output_type": "stream",
     "text": [
      "Forecast of Vy for Satellite 164 has been done.\n",
      "Forecast of Vy for Satellite 165 has been done.\n",
      "Forecast of Vy for Satellite 166 has been done.\n"
     ]
    },
    {
     "name": "stderr",
     "output_type": "stream",
     "text": [
      "C:\\Anaconda3\\envs\\nlp_course\\lib\\site-packages\\statsmodels\\tsa\\holtwinters.py:744: ConvergenceWarning: Optimization failed to converge. Check mle_retvals.\n",
      "  ConvergenceWarning)\n"
     ]
    },
    {
     "name": "stdout",
     "output_type": "stream",
     "text": [
      "Forecast of Vy for Satellite 169 has been done.\n"
     ]
    },
    {
     "name": "stderr",
     "output_type": "stream",
     "text": [
      "C:\\Anaconda3\\envs\\nlp_course\\lib\\site-packages\\statsmodels\\tsa\\holtwinters.py:744: ConvergenceWarning: Optimization failed to converge. Check mle_retvals.\n",
      "  ConvergenceWarning)\n"
     ]
    },
    {
     "name": "stdout",
     "output_type": "stream",
     "text": [
      "Forecast of Vy for Satellite 170 has been done.\n"
     ]
    },
    {
     "name": "stderr",
     "output_type": "stream",
     "text": [
      "C:\\Anaconda3\\envs\\nlp_course\\lib\\site-packages\\statsmodels\\tsa\\holtwinters.py:744: ConvergenceWarning: Optimization failed to converge. Check mle_retvals.\n",
      "  ConvergenceWarning)\n"
     ]
    },
    {
     "name": "stdout",
     "output_type": "stream",
     "text": [
      "Forecast of Vy for Satellite 172 has been done.\n",
      "Forecast of Vy for Satellite 173 has been done.\n",
      "Forecast of Vy for Satellite 177 has been done.\n"
     ]
    },
    {
     "name": "stderr",
     "output_type": "stream",
     "text": [
      "C:\\Anaconda3\\envs\\nlp_course\\lib\\site-packages\\statsmodels\\tsa\\holtwinters.py:744: ConvergenceWarning: Optimization failed to converge. Check mle_retvals.\n",
      "  ConvergenceWarning)\n"
     ]
    },
    {
     "name": "stdout",
     "output_type": "stream",
     "text": [
      "Forecast of Vy for Satellite 178 has been done.\n",
      "Forecast of Vy for Satellite 183 has been done.\n",
      "Forecast of Vy for Satellite 186 has been done.\n"
     ]
    },
    {
     "name": "stderr",
     "output_type": "stream",
     "text": [
      "C:\\Anaconda3\\envs\\nlp_course\\lib\\site-packages\\statsmodels\\tsa\\holtwinters.py:744: ConvergenceWarning: Optimization failed to converge. Check mle_retvals.\n",
      "  ConvergenceWarning)\n"
     ]
    },
    {
     "name": "stdout",
     "output_type": "stream",
     "text": [
      "Forecast of Vy for Satellite 187 has been done.\n",
      "Forecast of Vy for Satellite 188 has been done.\n"
     ]
    },
    {
     "name": "stderr",
     "output_type": "stream",
     "text": [
      "C:\\Anaconda3\\envs\\nlp_course\\lib\\site-packages\\statsmodels\\tsa\\holtwinters.py:744: ConvergenceWarning: Optimization failed to converge. Check mle_retvals.\n",
      "  ConvergenceWarning)\n"
     ]
    },
    {
     "name": "stdout",
     "output_type": "stream",
     "text": [
      "Forecast of Vy for Satellite 191 has been done.\n"
     ]
    },
    {
     "name": "stderr",
     "output_type": "stream",
     "text": [
      "C:\\Anaconda3\\envs\\nlp_course\\lib\\site-packages\\statsmodels\\tsa\\holtwinters.py:744: ConvergenceWarning: Optimization failed to converge. Check mle_retvals.\n",
      "  ConvergenceWarning)\n"
     ]
    },
    {
     "name": "stdout",
     "output_type": "stream",
     "text": [
      "Forecast of Vy for Satellite 193 has been done.\n",
      "Forecast of Vy for Satellite 194 has been done.\n",
      "Forecast of Vy for Satellite 195 has been done.\n",
      "Forecast of Vy for Satellite 197 has been done.\n",
      "Forecast of Vy for Satellite 203 has been done.\n",
      "Forecast of Vy for Satellite 205 has been done.\n",
      "Forecast of Vy for Satellite 206 has been done.\n",
      "Forecast of Vy for Satellite 207 has been done.\n",
      "Forecast of Vy for Satellite 208 has been done.\n",
      "Forecast of Vy for Satellite 209 has been done.\n"
     ]
    },
    {
     "name": "stderr",
     "output_type": "stream",
     "text": [
      "C:\\Anaconda3\\envs\\nlp_course\\lib\\site-packages\\statsmodels\\tsa\\holtwinters.py:744: ConvergenceWarning: Optimization failed to converge. Check mle_retvals.\n",
      "  ConvergenceWarning)\n"
     ]
    },
    {
     "name": "stdout",
     "output_type": "stream",
     "text": [
      "Forecast of Vy for Satellite 210 has been done.\n"
     ]
    },
    {
     "name": "stderr",
     "output_type": "stream",
     "text": [
      "C:\\Anaconda3\\envs\\nlp_course\\lib\\site-packages\\statsmodels\\tsa\\holtwinters.py:744: ConvergenceWarning: Optimization failed to converge. Check mle_retvals.\n",
      "  ConvergenceWarning)\n"
     ]
    },
    {
     "name": "stdout",
     "output_type": "stream",
     "text": [
      "Forecast of Vy for Satellite 211 has been done.\n",
      "Forecast of Vy for Satellite 213 has been done.\n",
      "Forecast of Vy for Satellite 219 has been done.\n",
      "Forecast of Vy for Satellite 220 has been done.\n"
     ]
    },
    {
     "name": "stderr",
     "output_type": "stream",
     "text": [
      "C:\\Anaconda3\\envs\\nlp_course\\lib\\site-packages\\statsmodels\\tsa\\holtwinters.py:744: ConvergenceWarning: Optimization failed to converge. Check mle_retvals.\n",
      "  ConvergenceWarning)\n"
     ]
    },
    {
     "name": "stdout",
     "output_type": "stream",
     "text": [
      "Forecast of Vy for Satellite 222 has been done.\n",
      "Forecast of Vy for Satellite 223 has been done.\n",
      "Forecast of Vy for Satellite 225 has been done.\n",
      "Forecast of Vy for Satellite 227 has been done.\n",
      "Forecast of Vy for Satellite 228 has been done.\n",
      "Forecast of Vy for Satellite 229 has been done.\n",
      "Forecast of Vy for Satellite 230 has been done.\n"
     ]
    },
    {
     "name": "stderr",
     "output_type": "stream",
     "text": [
      "C:\\Anaconda3\\envs\\nlp_course\\lib\\site-packages\\statsmodels\\tsa\\holtwinters.py:744: ConvergenceWarning: Optimization failed to converge. Check mle_retvals.\n",
      "  ConvergenceWarning)\n"
     ]
    },
    {
     "name": "stdout",
     "output_type": "stream",
     "text": [
      "Forecast of Vy for Satellite 233 has been done.\n",
      "Forecast of Vy for Satellite 236 has been done.\n",
      "Forecast of Vy for Satellite 239 has been done.\n"
     ]
    },
    {
     "name": "stderr",
     "output_type": "stream",
     "text": [
      "C:\\Anaconda3\\envs\\nlp_course\\lib\\site-packages\\statsmodels\\tsa\\holtwinters.py:744: ConvergenceWarning: Optimization failed to converge. Check mle_retvals.\n",
      "  ConvergenceWarning)\n"
     ]
    },
    {
     "name": "stdout",
     "output_type": "stream",
     "text": [
      "Forecast of Vy for Satellite 240 has been done.\n"
     ]
    },
    {
     "name": "stderr",
     "output_type": "stream",
     "text": [
      "C:\\Anaconda3\\envs\\nlp_course\\lib\\site-packages\\statsmodels\\tsa\\holtwinters.py:744: ConvergenceWarning: Optimization failed to converge. Check mle_retvals.\n",
      "  ConvergenceWarning)\n"
     ]
    },
    {
     "name": "stdout",
     "output_type": "stream",
     "text": [
      "Forecast of Vy for Satellite 241 has been done.\n",
      "Forecast of Vy for Satellite 242 has been done.\n",
      "Forecast of Vy for Satellite 243 has been done.\n",
      "Forecast of Vy for Satellite 244 has been done.\n"
     ]
    },
    {
     "name": "stderr",
     "output_type": "stream",
     "text": [
      "C:\\Anaconda3\\envs\\nlp_course\\lib\\site-packages\\statsmodels\\tsa\\holtwinters.py:744: ConvergenceWarning: Optimization failed to converge. Check mle_retvals.\n",
      "  ConvergenceWarning)\n"
     ]
    },
    {
     "name": "stdout",
     "output_type": "stream",
     "text": [
      "Forecast of Vy for Satellite 245 has been done.\n",
      "Forecast of Vy for Satellite 247 has been done.\n",
      "Forecast of Vy for Satellite 248 has been done.\n",
      "Forecast of Vy for Satellite 251 has been done.\n"
     ]
    },
    {
     "name": "stderr",
     "output_type": "stream",
     "text": [
      "C:\\Anaconda3\\envs\\nlp_course\\lib\\site-packages\\statsmodels\\tsa\\holtwinters.py:744: ConvergenceWarning: Optimization failed to converge. Check mle_retvals.\n",
      "  ConvergenceWarning)\n"
     ]
    },
    {
     "name": "stdout",
     "output_type": "stream",
     "text": [
      "Forecast of Vy for Satellite 252 has been done.\n",
      "Forecast of Vy for Satellite 253 has been done.\n",
      "Forecast of Vy for Satellite 254 has been done.\n",
      "Forecast of Vy for Satellite 261 has been done.\n",
      "Forecast of Vy for Satellite 263 has been done.\n",
      "Forecast of Vy for Satellite 264 has been done.\n",
      "Forecast of Vy for Satellite 265 has been done.\n",
      "Forecast of Vy for Satellite 268 has been done.\n",
      "Forecast of Vy for Satellite 270 has been done.\n",
      "Forecast of Vy for Satellite 275 has been done.\n",
      "Forecast of Vy for Satellite 277 has been done.\n",
      "Forecast of Vy for Satellite 278 has been done.\n"
     ]
    },
    {
     "name": "stderr",
     "output_type": "stream",
     "text": [
      "C:\\Anaconda3\\envs\\nlp_course\\lib\\site-packages\\statsmodels\\tsa\\holtwinters.py:744: ConvergenceWarning: Optimization failed to converge. Check mle_retvals.\n",
      "  ConvergenceWarning)\n"
     ]
    },
    {
     "name": "stdout",
     "output_type": "stream",
     "text": [
      "Forecast of Vy for Satellite 281 has been done.\n"
     ]
    },
    {
     "name": "stderr",
     "output_type": "stream",
     "text": [
      "C:\\Anaconda3\\envs\\nlp_course\\lib\\site-packages\\statsmodels\\tsa\\holtwinters.py:744: ConvergenceWarning: Optimization failed to converge. Check mle_retvals.\n",
      "  ConvergenceWarning)\n"
     ]
    },
    {
     "name": "stdout",
     "output_type": "stream",
     "text": [
      "Forecast of Vy for Satellite 284 has been done.\n"
     ]
    },
    {
     "name": "stderr",
     "output_type": "stream",
     "text": [
      "C:\\Anaconda3\\envs\\nlp_course\\lib\\site-packages\\statsmodels\\tsa\\holtwinters.py:744: ConvergenceWarning: Optimization failed to converge. Check mle_retvals.\n",
      "  ConvergenceWarning)\n"
     ]
    },
    {
     "name": "stdout",
     "output_type": "stream",
     "text": [
      "Forecast of Vy for Satellite 288 has been done.\n"
     ]
    },
    {
     "name": "stderr",
     "output_type": "stream",
     "text": [
      "C:\\Anaconda3\\envs\\nlp_course\\lib\\site-packages\\statsmodels\\tsa\\holtwinters.py:744: ConvergenceWarning: Optimization failed to converge. Check mle_retvals.\n",
      "  ConvergenceWarning)\n"
     ]
    },
    {
     "name": "stdout",
     "output_type": "stream",
     "text": [
      "Forecast of Vy for Satellite 292 has been done.\n"
     ]
    },
    {
     "name": "stderr",
     "output_type": "stream",
     "text": [
      "C:\\Anaconda3\\envs\\nlp_course\\lib\\site-packages\\statsmodels\\tsa\\holtwinters.py:744: ConvergenceWarning: Optimization failed to converge. Check mle_retvals.\n",
      "  ConvergenceWarning)\n"
     ]
    },
    {
     "name": "stdout",
     "output_type": "stream",
     "text": [
      "Forecast of Vy for Satellite 293 has been done.\n"
     ]
    },
    {
     "name": "stderr",
     "output_type": "stream",
     "text": [
      "C:\\Anaconda3\\envs\\nlp_course\\lib\\site-packages\\statsmodels\\tsa\\holtwinters.py:744: ConvergenceWarning: Optimization failed to converge. Check mle_retvals.\n",
      "  ConvergenceWarning)\n"
     ]
    },
    {
     "name": "stdout",
     "output_type": "stream",
     "text": [
      "Forecast of Vy for Satellite 294 has been done.\n",
      "Forecast of Vy for Satellite 298 has been done.\n",
      "Forecast of Vy for Satellite 299 has been done.\n"
     ]
    },
    {
     "name": "stderr",
     "output_type": "stream",
     "text": [
      "C:\\Anaconda3\\envs\\nlp_course\\lib\\site-packages\\statsmodels\\tsa\\holtwinters.py:744: ConvergenceWarning: Optimization failed to converge. Check mle_retvals.\n",
      "  ConvergenceWarning)\n"
     ]
    },
    {
     "name": "stdout",
     "output_type": "stream",
     "text": [
      "Forecast of Vy for Satellite 301 has been done.\n",
      "Forecast of Vy for Satellite 304 has been done.\n",
      "Forecast of Vy for Satellite 306 has been done.\n",
      "Forecast of Vy for Satellite 309 has been done.\n",
      "Forecast of Vy for Satellite 310 has been done.\n"
     ]
    },
    {
     "name": "stderr",
     "output_type": "stream",
     "text": [
      "C:\\Anaconda3\\envs\\nlp_course\\lib\\site-packages\\statsmodels\\tsa\\holtwinters.py:744: ConvergenceWarning: Optimization failed to converge. Check mle_retvals.\n",
      "  ConvergenceWarning)\n"
     ]
    },
    {
     "name": "stdout",
     "output_type": "stream",
     "text": [
      "Forecast of Vy for Satellite 312 has been done.\n"
     ]
    },
    {
     "name": "stderr",
     "output_type": "stream",
     "text": [
      "C:\\Anaconda3\\envs\\nlp_course\\lib\\site-packages\\statsmodels\\tsa\\holtwinters.py:744: ConvergenceWarning: Optimization failed to converge. Check mle_retvals.\n",
      "  ConvergenceWarning)\n"
     ]
    },
    {
     "name": "stdout",
     "output_type": "stream",
     "text": [
      "Forecast of Vy for Satellite 314 has been done.\n",
      "Forecast of Vy for Satellite 316 has been done.\n",
      "Forecast of Vy for Satellite 319 has been done.\n",
      "Forecast of Vy for Satellite 324 has been done.\n",
      "Forecast of Vy for Satellite 326 has been done.\n",
      "Forecast of Vy for Satellite 332 has been done.\n",
      "Forecast of Vy for Satellite 333 has been done.\n"
     ]
    },
    {
     "name": "stderr",
     "output_type": "stream",
     "text": [
      "C:\\Anaconda3\\envs\\nlp_course\\lib\\site-packages\\statsmodels\\tsa\\holtwinters.py:744: ConvergenceWarning: Optimization failed to converge. Check mle_retvals.\n",
      "  ConvergenceWarning)\n"
     ]
    },
    {
     "name": "stdout",
     "output_type": "stream",
     "text": [
      "Forecast of Vy for Satellite 342 has been done.\n"
     ]
    },
    {
     "name": "stderr",
     "output_type": "stream",
     "text": [
      "C:\\Anaconda3\\envs\\nlp_course\\lib\\site-packages\\statsmodels\\tsa\\holtwinters.py:744: ConvergenceWarning: Optimization failed to converge. Check mle_retvals.\n",
      "  ConvergenceWarning)\n"
     ]
    },
    {
     "name": "stdout",
     "output_type": "stream",
     "text": [
      "Forecast of Vy for Satellite 343 has been done.\n",
      "Forecast of Vy for Satellite 344 has been done.\n"
     ]
    },
    {
     "name": "stderr",
     "output_type": "stream",
     "text": [
      "C:\\Anaconda3\\envs\\nlp_course\\lib\\site-packages\\statsmodels\\tsa\\holtwinters.py:744: ConvergenceWarning: Optimization failed to converge. Check mle_retvals.\n",
      "  ConvergenceWarning)\n"
     ]
    },
    {
     "name": "stdout",
     "output_type": "stream",
     "text": [
      "Forecast of Vy for Satellite 347 has been done.\n",
      "Forecast of Vy for Satellite 348 has been done.\n",
      "Forecast of Vy for Satellite 349 has been done.\n",
      "Forecast of Vy for Satellite 356 has been done.\n"
     ]
    },
    {
     "name": "stderr",
     "output_type": "stream",
     "text": [
      "C:\\Anaconda3\\envs\\nlp_course\\lib\\site-packages\\statsmodels\\tsa\\holtwinters.py:744: ConvergenceWarning: Optimization failed to converge. Check mle_retvals.\n",
      "  ConvergenceWarning)\n"
     ]
    },
    {
     "name": "stdout",
     "output_type": "stream",
     "text": [
      "Forecast of Vy for Satellite 357 has been done.\n"
     ]
    },
    {
     "name": "stderr",
     "output_type": "stream",
     "text": [
      "C:\\Anaconda3\\envs\\nlp_course\\lib\\site-packages\\statsmodels\\tsa\\holtwinters.py:744: ConvergenceWarning: Optimization failed to converge. Check mle_retvals.\n",
      "  ConvergenceWarning)\n"
     ]
    },
    {
     "name": "stdout",
     "output_type": "stream",
     "text": [
      "Forecast of Vy for Satellite 358 has been done.\n",
      "Forecast of Vy for Satellite 359 has been done.\n",
      "Forecast of Vy for Satellite 362 has been done.\n",
      "Forecast of Vy for Satellite 363 has been done.\n",
      "Forecast of Vy for Satellite 372 has been done.\n",
      "Forecast of Vy for Satellite 373 has been done.\n",
      "Forecast of Vy for Satellite 375 has been done.\n",
      "Forecast of Vy for Satellite 377 has been done.\n",
      "Forecast of Vy for Satellite 380 has been done.\n",
      "Forecast of Vy for Satellite 382 has been done.\n",
      "Forecast of Vy for Satellite 384 has been done.\n",
      "Forecast of Vy for Satellite 385 has been done.\n",
      "Forecast of Vy for Satellite 387 has been done.\n",
      "Forecast of Vy for Satellite 389 has been done.\n",
      "Forecast of Vy for Satellite 390 has been done.\n"
     ]
    },
    {
     "name": "stderr",
     "output_type": "stream",
     "text": [
      "C:\\Anaconda3\\envs\\nlp_course\\lib\\site-packages\\statsmodels\\tsa\\holtwinters.py:744: ConvergenceWarning: Optimization failed to converge. Check mle_retvals.\n",
      "  ConvergenceWarning)\n"
     ]
    },
    {
     "name": "stdout",
     "output_type": "stream",
     "text": [
      "Forecast of Vy for Satellite 391 has been done.\n",
      "Forecast of Vy for Satellite 392 has been done.\n",
      "Forecast of Vy for Satellite 393 has been done.\n"
     ]
    },
    {
     "name": "stderr",
     "output_type": "stream",
     "text": [
      "C:\\Anaconda3\\envs\\nlp_course\\lib\\site-packages\\statsmodels\\tsa\\holtwinters.py:744: ConvergenceWarning: Optimization failed to converge. Check mle_retvals.\n",
      "  ConvergenceWarning)\n"
     ]
    },
    {
     "name": "stdout",
     "output_type": "stream",
     "text": [
      "Forecast of Vy for Satellite 395 has been done.\n",
      "Forecast of Vy for Satellite 396 has been done.\n"
     ]
    },
    {
     "name": "stderr",
     "output_type": "stream",
     "text": [
      "C:\\Anaconda3\\envs\\nlp_course\\lib\\site-packages\\statsmodels\\tsa\\holtwinters.py:744: ConvergenceWarning: Optimization failed to converge. Check mle_retvals.\n",
      "  ConvergenceWarning)\n"
     ]
    },
    {
     "name": "stdout",
     "output_type": "stream",
     "text": [
      "Forecast of Vy for Satellite 399 has been done.\n"
     ]
    },
    {
     "name": "stderr",
     "output_type": "stream",
     "text": [
      "C:\\Anaconda3\\envs\\nlp_course\\lib\\site-packages\\statsmodels\\tsa\\holtwinters.py:744: ConvergenceWarning: Optimization failed to converge. Check mle_retvals.\n",
      "  ConvergenceWarning)\n"
     ]
    },
    {
     "name": "stdout",
     "output_type": "stream",
     "text": [
      "Forecast of Vy for Satellite 400 has been done.\n",
      "Forecast of Vy for Satellite 407 has been done.\n",
      "Forecast of Vy for Satellite 409 has been done.\n",
      "Forecast of Vy for Satellite 411 has been done.\n",
      "Forecast of Vy for Satellite 412 has been done.\n",
      "Forecast of Vy for Satellite 415 has been done.\n",
      "Forecast of Vy for Satellite 416 has been done.\n",
      "Forecast of Vy for Satellite 417 has been done.\n",
      "Forecast of Vy for Satellite 418 has been done.\n",
      "Forecast of Vy for Satellite 419 has been done.\n",
      "Forecast of Vy for Satellite 422 has been done.\n",
      "Forecast of Vy for Satellite 423 has been done.\n",
      "Forecast of Vy for Satellite 424 has been done.\n",
      "Forecast of Vy for Satellite 426 has been done.\n",
      "Forecast of Vy for Satellite 428 has been done.\n",
      "Forecast of Vy for Satellite 435 has been done.\n"
     ]
    },
    {
     "name": "stderr",
     "output_type": "stream",
     "text": [
      "C:\\Anaconda3\\envs\\nlp_course\\lib\\site-packages\\statsmodels\\tsa\\holtwinters.py:744: ConvergenceWarning: Optimization failed to converge. Check mle_retvals.\n",
      "  ConvergenceWarning)\n"
     ]
    },
    {
     "name": "stdout",
     "output_type": "stream",
     "text": [
      "Forecast of Vy for Satellite 436 has been done.\n"
     ]
    },
    {
     "name": "stderr",
     "output_type": "stream",
     "text": [
      "C:\\Anaconda3\\envs\\nlp_course\\lib\\site-packages\\statsmodels\\tsa\\holtwinters.py:744: ConvergenceWarning: Optimization failed to converge. Check mle_retvals.\n",
      "  ConvergenceWarning)\n"
     ]
    },
    {
     "name": "stdout",
     "output_type": "stream",
     "text": [
      "Forecast of Vy for Satellite 437 has been done.\n",
      "Forecast of Vy for Satellite 438 has been done.\n",
      "Forecast of Vy for Satellite 440 has been done.\n"
     ]
    },
    {
     "name": "stderr",
     "output_type": "stream",
     "text": [
      "C:\\Anaconda3\\envs\\nlp_course\\lib\\site-packages\\statsmodels\\tsa\\holtwinters.py:744: ConvergenceWarning: Optimization failed to converge. Check mle_retvals.\n",
      "  ConvergenceWarning)\n"
     ]
    },
    {
     "name": "stdout",
     "output_type": "stream",
     "text": [
      "Forecast of Vy for Satellite 443 has been done.\n",
      "Forecast of Vy for Satellite 446 has been done.\n",
      "Forecast of Vy for Satellite 448 has been done.\n",
      "Forecast of Vy for Satellite 449 has been done.\n",
      "Forecast of Vy for Satellite 450 has been done.\n",
      "Forecast of Vy for Satellite 452 has been done.\n",
      "Forecast of Vy for Satellite 454 has been done.\n",
      "Forecast of Vy for Satellite 455 has been done.\n",
      "Forecast of Vy for Satellite 456 has been done.\n",
      "Forecast of Vy for Satellite 457 has been done.\n",
      "Forecast of Vy for Satellite 460 has been done.\n",
      "Forecast of Vy for Satellite 462 has been done.\n"
     ]
    },
    {
     "name": "stderr",
     "output_type": "stream",
     "text": [
      "C:\\Anaconda3\\envs\\nlp_course\\lib\\site-packages\\statsmodels\\tsa\\holtwinters.py:744: ConvergenceWarning: Optimization failed to converge. Check mle_retvals.\n",
      "  ConvergenceWarning)\n"
     ]
    },
    {
     "name": "stdout",
     "output_type": "stream",
     "text": [
      "Forecast of Vy for Satellite 464 has been done.\n",
      "Forecast of Vy for Satellite 465 has been done.\n",
      "Forecast of Vy for Satellite 466 has been done.\n",
      "Forecast of Vy for Satellite 467 has been done.\n",
      "Forecast of Vy for Satellite 468 has been done.\n",
      "Forecast of Vy for Satellite 470 has been done.\n"
     ]
    },
    {
     "name": "stderr",
     "output_type": "stream",
     "text": [
      "C:\\Anaconda3\\envs\\nlp_course\\lib\\site-packages\\statsmodels\\tsa\\holtwinters.py:744: ConvergenceWarning: Optimization failed to converge. Check mle_retvals.\n",
      "  ConvergenceWarning)\n"
     ]
    },
    {
     "name": "stdout",
     "output_type": "stream",
     "text": [
      "Forecast of Vy for Satellite 471 has been done.\n",
      "Forecast of Vy for Satellite 473 has been done.\n"
     ]
    },
    {
     "name": "stderr",
     "output_type": "stream",
     "text": [
      "C:\\Anaconda3\\envs\\nlp_course\\lib\\site-packages\\statsmodels\\tsa\\holtwinters.py:744: ConvergenceWarning: Optimization failed to converge. Check mle_retvals.\n",
      "  ConvergenceWarning)\n"
     ]
    },
    {
     "name": "stdout",
     "output_type": "stream",
     "text": [
      "Forecast of Vy for Satellite 474 has been done.\n",
      "Forecast of Vy for Satellite 475 has been done.\n",
      "Forecast of Vy for Satellite 476 has been done.\n",
      "Forecast of Vy for Satellite 477 has been done.\n",
      "Forecast of Vy for Satellite 479 has been done.\n",
      "Forecast of Vy for Satellite 480 has been done.\n",
      "Forecast of Vy for Satellite 481 has been done.\n",
      "Forecast of Vy for Satellite 482 has been done.\n",
      "Forecast of Vy for Satellite 483 has been done.\n",
      "Forecast of Vy for Satellite 486 has been done.\n",
      "Forecast of Vy for Satellite 488 has been done.\n"
     ]
    },
    {
     "name": "stderr",
     "output_type": "stream",
     "text": [
      "C:\\Anaconda3\\envs\\nlp_course\\lib\\site-packages\\statsmodels\\tsa\\holtwinters.py:744: ConvergenceWarning: Optimization failed to converge. Check mle_retvals.\n",
      "  ConvergenceWarning)\n"
     ]
    },
    {
     "name": "stdout",
     "output_type": "stream",
     "text": [
      "Forecast of Vy for Satellite 489 has been done.\n",
      "Forecast of Vy for Satellite 491 has been done.\n",
      "Forecast of Vy for Satellite 495 has been done.\n",
      "Forecast of Vy for Satellite 498 has been done.\n"
     ]
    },
    {
     "name": "stderr",
     "output_type": "stream",
     "text": [
      "C:\\Anaconda3\\envs\\nlp_course\\lib\\site-packages\\statsmodels\\tsa\\holtwinters.py:744: ConvergenceWarning: Optimization failed to converge. Check mle_retvals.\n",
      "  ConvergenceWarning)\n"
     ]
    },
    {
     "name": "stdout",
     "output_type": "stream",
     "text": [
      "Forecast of Vy for Satellite 499 has been done.\n",
      "Forecast of Vy for Satellite 502 has been done.\n",
      "Forecast of Vy for Satellite 504 has been done.\n",
      "Forecast of Vy for Satellite 505 has been done.\n",
      "Forecast of Vy for Satellite 506 has been done.\n",
      "Forecast of Vy for Satellite 508 has been done.\n"
     ]
    },
    {
     "name": "stderr",
     "output_type": "stream",
     "text": [
      "C:\\Anaconda3\\envs\\nlp_course\\lib\\site-packages\\statsmodels\\tsa\\holtwinters.py:744: ConvergenceWarning: Optimization failed to converge. Check mle_retvals.\n",
      "  ConvergenceWarning)\n"
     ]
    },
    {
     "name": "stdout",
     "output_type": "stream",
     "text": [
      "Forecast of Vy for Satellite 509 has been done.\n",
      "Forecast of Vy for Satellite 510 has been done.\n"
     ]
    },
    {
     "name": "stderr",
     "output_type": "stream",
     "text": [
      "C:\\Anaconda3\\envs\\nlp_course\\lib\\site-packages\\statsmodels\\tsa\\holtwinters.py:744: ConvergenceWarning: Optimization failed to converge. Check mle_retvals.\n",
      "  ConvergenceWarning)\n"
     ]
    },
    {
     "name": "stdout",
     "output_type": "stream",
     "text": [
      "Forecast of Vy for Satellite 511 has been done.\n"
     ]
    },
    {
     "name": "stderr",
     "output_type": "stream",
     "text": [
      "C:\\Anaconda3\\envs\\nlp_course\\lib\\site-packages\\statsmodels\\tsa\\holtwinters.py:744: ConvergenceWarning: Optimization failed to converge. Check mle_retvals.\n",
      "  ConvergenceWarning)\n"
     ]
    },
    {
     "name": "stdout",
     "output_type": "stream",
     "text": [
      "Forecast of Vy for Satellite 514 has been done.\n",
      "Forecast of Vy for Satellite 515 has been done.\n"
     ]
    },
    {
     "name": "stderr",
     "output_type": "stream",
     "text": [
      "C:\\Anaconda3\\envs\\nlp_course\\lib\\site-packages\\statsmodels\\tsa\\holtwinters.py:744: ConvergenceWarning: Optimization failed to converge. Check mle_retvals.\n",
      "  ConvergenceWarning)\n"
     ]
    },
    {
     "name": "stdout",
     "output_type": "stream",
     "text": [
      "Forecast of Vy for Satellite 516 has been done.\n",
      "Forecast of Vy for Satellite 517 has been done.\n"
     ]
    },
    {
     "name": "stderr",
     "output_type": "stream",
     "text": [
      "C:\\Anaconda3\\envs\\nlp_course\\lib\\site-packages\\statsmodels\\tsa\\holtwinters.py:744: ConvergenceWarning: Optimization failed to converge. Check mle_retvals.\n",
      "  ConvergenceWarning)\n"
     ]
    },
    {
     "name": "stdout",
     "output_type": "stream",
     "text": [
      "Forecast of Vy for Satellite 519 has been done.\n",
      "Forecast of Vy for Satellite 522 has been done.\n",
      "Forecast of Vy for Satellite 523 has been done.\n",
      "Forecast of Vy for Satellite 524 has been done.\n",
      "Forecast of Vy for Satellite 528 has been done.\n",
      "Forecast of Vy for Satellite 536 has been done.\n"
     ]
    },
    {
     "name": "stderr",
     "output_type": "stream",
     "text": [
      "C:\\Anaconda3\\envs\\nlp_course\\lib\\site-packages\\statsmodels\\tsa\\holtwinters.py:744: ConvergenceWarning: Optimization failed to converge. Check mle_retvals.\n",
      "  ConvergenceWarning)\n"
     ]
    },
    {
     "name": "stdout",
     "output_type": "stream",
     "text": [
      "Forecast of Vy for Satellite 537 has been done.\n",
      "Forecast of Vy for Satellite 539 has been done.\n",
      "Forecast of Vy for Satellite 542 has been done.\n"
     ]
    },
    {
     "name": "stderr",
     "output_type": "stream",
     "text": [
      "C:\\Anaconda3\\envs\\nlp_course\\lib\\site-packages\\statsmodels\\tsa\\holtwinters.py:744: ConvergenceWarning: Optimization failed to converge. Check mle_retvals.\n",
      "  ConvergenceWarning)\n"
     ]
    },
    {
     "name": "stdout",
     "output_type": "stream",
     "text": [
      "Forecast of Vy for Satellite 543 has been done.\n",
      "Forecast of Vy for Satellite 544 has been done.\n",
      "Forecast of Vy for Satellite 547 has been done.\n",
      "Forecast of Vy for Satellite 548 has been done.\n"
     ]
    },
    {
     "name": "stderr",
     "output_type": "stream",
     "text": [
      "C:\\Anaconda3\\envs\\nlp_course\\lib\\site-packages\\statsmodels\\tsa\\holtwinters.py:744: ConvergenceWarning: Optimization failed to converge. Check mle_retvals.\n",
      "  ConvergenceWarning)\n"
     ]
    },
    {
     "name": "stdout",
     "output_type": "stream",
     "text": [
      "Forecast of Vy for Satellite 549 has been done.\n",
      "Forecast of Vy for Satellite 550 has been done.\n",
      "Forecast of Vy for Satellite 558 has been done.\n"
     ]
    },
    {
     "name": "stderr",
     "output_type": "stream",
     "text": [
      "C:\\Anaconda3\\envs\\nlp_course\\lib\\site-packages\\statsmodels\\tsa\\holtwinters.py:744: ConvergenceWarning: Optimization failed to converge. Check mle_retvals.\n",
      "  ConvergenceWarning)\n"
     ]
    },
    {
     "name": "stdout",
     "output_type": "stream",
     "text": [
      "Forecast of Vy for Satellite 563 has been done.\n",
      "Forecast of Vy for Satellite 565 has been done.\n"
     ]
    },
    {
     "name": "stderr",
     "output_type": "stream",
     "text": [
      "C:\\Anaconda3\\envs\\nlp_course\\lib\\site-packages\\statsmodels\\tsa\\holtwinters.py:744: ConvergenceWarning: Optimization failed to converge. Check mle_retvals.\n",
      "  ConvergenceWarning)\n"
     ]
    },
    {
     "name": "stdout",
     "output_type": "stream",
     "text": [
      "Forecast of Vy for Satellite 566 has been done.\n"
     ]
    },
    {
     "name": "stderr",
     "output_type": "stream",
     "text": [
      "C:\\Anaconda3\\envs\\nlp_course\\lib\\site-packages\\statsmodels\\tsa\\holtwinters.py:744: ConvergenceWarning: Optimization failed to converge. Check mle_retvals.\n",
      "  ConvergenceWarning)\n"
     ]
    },
    {
     "name": "stdout",
     "output_type": "stream",
     "text": [
      "Forecast of Vy for Satellite 567 has been done.\n",
      "Forecast of Vy for Satellite 569 has been done.\n",
      "Forecast of Vy for Satellite 572 has been done.\n",
      "Forecast of Vy for Satellite 575 has been done.\n",
      "Forecast of Vy for Satellite 578 has been done.\n",
      "Forecast of Vy for Satellite 579 has been done.\n",
      "Forecast of Vy for Satellite 580 has been done.\n"
     ]
    },
    {
     "name": "stderr",
     "output_type": "stream",
     "text": [
      "C:\\Anaconda3\\envs\\nlp_course\\lib\\site-packages\\statsmodels\\tsa\\holtwinters.py:744: ConvergenceWarning: Optimization failed to converge. Check mle_retvals.\n",
      "  ConvergenceWarning)\n"
     ]
    },
    {
     "name": "stdout",
     "output_type": "stream",
     "text": [
      "Forecast of Vy for Satellite 583 has been done.\n",
      "Forecast of Vy for Satellite 584 has been done.\n",
      "Forecast of Vy for Satellite 587 has been done.\n"
     ]
    },
    {
     "name": "stderr",
     "output_type": "stream",
     "text": [
      "C:\\Anaconda3\\envs\\nlp_course\\lib\\site-packages\\statsmodels\\tsa\\holtwinters.py:744: ConvergenceWarning: Optimization failed to converge. Check mle_retvals.\n",
      "  ConvergenceWarning)\n"
     ]
    },
    {
     "name": "stdout",
     "output_type": "stream",
     "text": [
      "Forecast of Vy for Satellite 588 has been done.\n",
      "Forecast of Vy for Satellite 593 has been done.\n",
      "Forecast of Vy for Satellite 595 has been done.\n",
      "Forecast of Vy for Satellite 596 has been done.\n",
      "Forecast of Vy for Satellite 597 has been done.\n"
     ]
    },
    {
     "name": "stderr",
     "output_type": "stream",
     "text": [
      "C:\\Anaconda3\\envs\\nlp_course\\lib\\site-packages\\statsmodels\\tsa\\holtwinters.py:744: ConvergenceWarning: Optimization failed to converge. Check mle_retvals.\n",
      "  ConvergenceWarning)\n"
     ]
    },
    {
     "name": "stdout",
     "output_type": "stream",
     "text": [
      "Forecast of Vz for Satellite 1 has been done.\n",
      "Forecast of Vz for Satellite 2 has been done.\n"
     ]
    },
    {
     "name": "stderr",
     "output_type": "stream",
     "text": [
      "C:\\Anaconda3\\envs\\nlp_course\\lib\\site-packages\\statsmodels\\tsa\\holtwinters.py:744: ConvergenceWarning: Optimization failed to converge. Check mle_retvals.\n",
      "  ConvergenceWarning)\n"
     ]
    },
    {
     "name": "stdout",
     "output_type": "stream",
     "text": [
      "Forecast of Vz for Satellite 3 has been done.\n",
      "Forecast of Vz for Satellite 4 has been done.\n",
      "Forecast of Vz for Satellite 6 has been done.\n",
      "Forecast of Vz for Satellite 9 has been done.\n",
      "Forecast of Vz for Satellite 16 has been done.\n",
      "Forecast of Vz for Satellite 20 has been done.\n",
      "Forecast of Vz for Satellite 22 has been done.\n",
      "Forecast of Vz for Satellite 24 has been done.\n"
     ]
    },
    {
     "name": "stderr",
     "output_type": "stream",
     "text": [
      "C:\\Anaconda3\\envs\\nlp_course\\lib\\site-packages\\statsmodels\\tsa\\holtwinters.py:744: ConvergenceWarning: Optimization failed to converge. Check mle_retvals.\n",
      "  ConvergenceWarning)\n"
     ]
    },
    {
     "name": "stdout",
     "output_type": "stream",
     "text": [
      "Forecast of Vz for Satellite 25 has been done.\n",
      "Forecast of Vz for Satellite 26 has been done.\n"
     ]
    },
    {
     "name": "stderr",
     "output_type": "stream",
     "text": [
      "C:\\Anaconda3\\envs\\nlp_course\\lib\\site-packages\\statsmodels\\tsa\\holtwinters.py:744: ConvergenceWarning: Optimization failed to converge. Check mle_retvals.\n",
      "  ConvergenceWarning)\n"
     ]
    },
    {
     "name": "stdout",
     "output_type": "stream",
     "text": [
      "Forecast of Vz for Satellite 27 has been done.\n",
      "Forecast of Vz for Satellite 28 has been done.\n"
     ]
    },
    {
     "name": "stderr",
     "output_type": "stream",
     "text": [
      "C:\\Anaconda3\\envs\\nlp_course\\lib\\site-packages\\statsmodels\\tsa\\holtwinters.py:744: ConvergenceWarning: Optimization failed to converge. Check mle_retvals.\n",
      "  ConvergenceWarning)\n"
     ]
    },
    {
     "name": "stdout",
     "output_type": "stream",
     "text": [
      "Forecast of Vz for Satellite 29 has been done.\n",
      "Forecast of Vz for Satellite 32 has been done.\n",
      "Forecast of Vz for Satellite 34 has been done.\n",
      "Forecast of Vz for Satellite 35 has been done.\n",
      "Forecast of Vz for Satellite 36 has been done.\n",
      "Forecast of Vz for Satellite 37 has been done.\n",
      "Forecast of Vz for Satellite 38 has been done.\n"
     ]
    },
    {
     "name": "stderr",
     "output_type": "stream",
     "text": [
      "C:\\Anaconda3\\envs\\nlp_course\\lib\\site-packages\\statsmodels\\tsa\\holtwinters.py:744: ConvergenceWarning: Optimization failed to converge. Check mle_retvals.\n",
      "  ConvergenceWarning)\n"
     ]
    },
    {
     "name": "stdout",
     "output_type": "stream",
     "text": [
      "Forecast of Vz for Satellite 39 has been done.\n",
      "Forecast of Vz for Satellite 40 has been done.\n"
     ]
    },
    {
     "name": "stderr",
     "output_type": "stream",
     "text": [
      "C:\\Anaconda3\\envs\\nlp_course\\lib\\site-packages\\statsmodels\\tsa\\holtwinters.py:744: ConvergenceWarning: Optimization failed to converge. Check mle_retvals.\n",
      "  ConvergenceWarning)\n"
     ]
    },
    {
     "name": "stdout",
     "output_type": "stream",
     "text": [
      "Forecast of Vz for Satellite 41 has been done.\n",
      "Forecast of Vz for Satellite 42 has been done.\n",
      "Forecast of Vz for Satellite 44 has been done.\n",
      "Forecast of Vz for Satellite 45 has been done.\n",
      "Forecast of Vz for Satellite 49 has been done.\n",
      "Forecast of Vz for Satellite 51 has been done.\n",
      "Forecast of Vz for Satellite 52 has been done.\n",
      "Forecast of Vz for Satellite 53 has been done.\n",
      "Forecast of Vz for Satellite 54 has been done.\n",
      "Forecast of Vz for Satellite 57 has been done.\n",
      "Forecast of Vz for Satellite 59 has been done.\n"
     ]
    },
    {
     "name": "stderr",
     "output_type": "stream",
     "text": [
      "C:\\Anaconda3\\envs\\nlp_course\\lib\\site-packages\\statsmodels\\tsa\\holtwinters.py:744: ConvergenceWarning: Optimization failed to converge. Check mle_retvals.\n",
      "  ConvergenceWarning)\n"
     ]
    },
    {
     "name": "stdout",
     "output_type": "stream",
     "text": [
      "Forecast of Vz for Satellite 63 has been done.\n",
      "Forecast of Vz for Satellite 64 has been done.\n",
      "Forecast of Vz for Satellite 68 has been done.\n"
     ]
    },
    {
     "name": "stderr",
     "output_type": "stream",
     "text": [
      "C:\\Anaconda3\\envs\\nlp_course\\lib\\site-packages\\statsmodels\\tsa\\holtwinters.py:744: ConvergenceWarning: Optimization failed to converge. Check mle_retvals.\n",
      "  ConvergenceWarning)\n"
     ]
    },
    {
     "name": "stdout",
     "output_type": "stream",
     "text": [
      "Forecast of Vz for Satellite 70 has been done.\n",
      "Forecast of Vz for Satellite 75 has been done.\n",
      "Forecast of Vz for Satellite 82 has been done.\n",
      "Forecast of Vz for Satellite 84 has been done.\n"
     ]
    },
    {
     "name": "stderr",
     "output_type": "stream",
     "text": [
      "C:\\Anaconda3\\envs\\nlp_course\\lib\\site-packages\\statsmodels\\tsa\\holtwinters.py:744: ConvergenceWarning: Optimization failed to converge. Check mle_retvals.\n",
      "  ConvergenceWarning)\n"
     ]
    },
    {
     "name": "stdout",
     "output_type": "stream",
     "text": [
      "Forecast of Vz for Satellite 86 has been done.\n",
      "Forecast of Vz for Satellite 89 has been done.\n",
      "Forecast of Vz for Satellite 90 has been done.\n",
      "Forecast of Vz for Satellite 91 has been done.\n",
      "Forecast of Vz for Satellite 92 has been done.\n"
     ]
    },
    {
     "name": "stderr",
     "output_type": "stream",
     "text": [
      "C:\\Anaconda3\\envs\\nlp_course\\lib\\site-packages\\statsmodels\\tsa\\holtwinters.py:744: ConvergenceWarning: Optimization failed to converge. Check mle_retvals.\n",
      "  ConvergenceWarning)\n"
     ]
    },
    {
     "name": "stdout",
     "output_type": "stream",
     "text": [
      "Forecast of Vz for Satellite 93 has been done.\n",
      "Forecast of Vz for Satellite 96 has been done.\n"
     ]
    },
    {
     "name": "stderr",
     "output_type": "stream",
     "text": [
      "C:\\Anaconda3\\envs\\nlp_course\\lib\\site-packages\\statsmodels\\tsa\\holtwinters.py:744: ConvergenceWarning: Optimization failed to converge. Check mle_retvals.\n",
      "  ConvergenceWarning)\n"
     ]
    },
    {
     "name": "stdout",
     "output_type": "stream",
     "text": [
      "Forecast of Vz for Satellite 98 has been done.\n",
      "Forecast of Vz for Satellite 100 has been done.\n",
      "Forecast of Vz for Satellite 101 has been done.\n",
      "Forecast of Vz for Satellite 102 has been done.\n",
      "Forecast of Vz for Satellite 105 has been done.\n",
      "Forecast of Vz for Satellite 106 has been done.\n"
     ]
    },
    {
     "name": "stderr",
     "output_type": "stream",
     "text": [
      "C:\\Anaconda3\\envs\\nlp_course\\lib\\site-packages\\statsmodels\\tsa\\holtwinters.py:744: ConvergenceWarning: Optimization failed to converge. Check mle_retvals.\n",
      "  ConvergenceWarning)\n"
     ]
    },
    {
     "name": "stdout",
     "output_type": "stream",
     "text": [
      "Forecast of Vz for Satellite 109 has been done.\n"
     ]
    },
    {
     "name": "stderr",
     "output_type": "stream",
     "text": [
      "C:\\Anaconda3\\envs\\nlp_course\\lib\\site-packages\\statsmodels\\tsa\\holtwinters.py:744: ConvergenceWarning: Optimization failed to converge. Check mle_retvals.\n",
      "  ConvergenceWarning)\n"
     ]
    },
    {
     "name": "stdout",
     "output_type": "stream",
     "text": [
      "Forecast of Vz for Satellite 110 has been done.\n"
     ]
    },
    {
     "name": "stderr",
     "output_type": "stream",
     "text": [
      "C:\\Anaconda3\\envs\\nlp_course\\lib\\site-packages\\statsmodels\\tsa\\holtwinters.py:744: ConvergenceWarning: Optimization failed to converge. Check mle_retvals.\n",
      "  ConvergenceWarning)\n"
     ]
    },
    {
     "name": "stdout",
     "output_type": "stream",
     "text": [
      "Forecast of Vz for Satellite 112 has been done.\n",
      "Forecast of Vz for Satellite 113 has been done.\n"
     ]
    },
    {
     "name": "stderr",
     "output_type": "stream",
     "text": [
      "C:\\Anaconda3\\envs\\nlp_course\\lib\\site-packages\\statsmodels\\tsa\\holtwinters.py:744: ConvergenceWarning: Optimization failed to converge. Check mle_retvals.\n",
      "  ConvergenceWarning)\n"
     ]
    },
    {
     "name": "stdout",
     "output_type": "stream",
     "text": [
      "Forecast of Vz for Satellite 114 has been done.\n",
      "Forecast of Vz for Satellite 117 has been done.\n"
     ]
    },
    {
     "name": "stderr",
     "output_type": "stream",
     "text": [
      "C:\\Anaconda3\\envs\\nlp_course\\lib\\site-packages\\statsmodels\\tsa\\holtwinters.py:744: ConvergenceWarning: Optimization failed to converge. Check mle_retvals.\n",
      "  ConvergenceWarning)\n"
     ]
    },
    {
     "name": "stdout",
     "output_type": "stream",
     "text": [
      "Forecast of Vz for Satellite 118 has been done.\n",
      "Forecast of Vz for Satellite 120 has been done.\n"
     ]
    },
    {
     "name": "stderr",
     "output_type": "stream",
     "text": [
      "C:\\Anaconda3\\envs\\nlp_course\\lib\\site-packages\\statsmodels\\tsa\\holtwinters.py:744: ConvergenceWarning: Optimization failed to converge. Check mle_retvals.\n",
      "  ConvergenceWarning)\n"
     ]
    },
    {
     "name": "stdout",
     "output_type": "stream",
     "text": [
      "Forecast of Vz for Satellite 121 has been done.\n",
      "Forecast of Vz for Satellite 123 has been done.\n",
      "Forecast of Vz for Satellite 124 has been done.\n"
     ]
    },
    {
     "name": "stderr",
     "output_type": "stream",
     "text": [
      "C:\\Anaconda3\\envs\\nlp_course\\lib\\site-packages\\statsmodels\\tsa\\holtwinters.py:744: ConvergenceWarning: Optimization failed to converge. Check mle_retvals.\n",
      "  ConvergenceWarning)\n"
     ]
    },
    {
     "name": "stdout",
     "output_type": "stream",
     "text": [
      "Forecast of Vz for Satellite 125 has been done.\n",
      "Forecast of Vz for Satellite 126 has been done.\n",
      "Forecast of Vz for Satellite 127 has been done.\n"
     ]
    },
    {
     "name": "stderr",
     "output_type": "stream",
     "text": [
      "C:\\Anaconda3\\envs\\nlp_course\\lib\\site-packages\\statsmodels\\tsa\\holtwinters.py:744: ConvergenceWarning: Optimization failed to converge. Check mle_retvals.\n",
      "  ConvergenceWarning)\n"
     ]
    },
    {
     "name": "stdout",
     "output_type": "stream",
     "text": [
      "Forecast of Vz for Satellite 128 has been done.\n"
     ]
    },
    {
     "name": "stderr",
     "output_type": "stream",
     "text": [
      "C:\\Anaconda3\\envs\\nlp_course\\lib\\site-packages\\statsmodels\\tsa\\holtwinters.py:744: ConvergenceWarning: Optimization failed to converge. Check mle_retvals.\n",
      "  ConvergenceWarning)\n"
     ]
    },
    {
     "name": "stdout",
     "output_type": "stream",
     "text": [
      "Forecast of Vz for Satellite 130 has been done.\n",
      "Forecast of Vz for Satellite 132 has been done.\n",
      "Forecast of Vz for Satellite 133 has been done.\n",
      "Forecast of Vz for Satellite 135 has been done.\n",
      "Forecast of Vz for Satellite 138 has been done.\n",
      "Forecast of Vz for Satellite 142 has been done.\n",
      "Forecast of Vz for Satellite 143 has been done.\n",
      "Forecast of Vz for Satellite 144 has been done.\n",
      "Forecast of Vz for Satellite 145 has been done.\n"
     ]
    },
    {
     "name": "stderr",
     "output_type": "stream",
     "text": [
      "C:\\Anaconda3\\envs\\nlp_course\\lib\\site-packages\\statsmodels\\tsa\\holtwinters.py:744: ConvergenceWarning: Optimization failed to converge. Check mle_retvals.\n",
      "  ConvergenceWarning)\n"
     ]
    },
    {
     "name": "stdout",
     "output_type": "stream",
     "text": [
      "Forecast of Vz for Satellite 149 has been done.\n"
     ]
    },
    {
     "name": "stderr",
     "output_type": "stream",
     "text": [
      "C:\\Anaconda3\\envs\\nlp_course\\lib\\site-packages\\statsmodels\\tsa\\holtwinters.py:744: ConvergenceWarning: Optimization failed to converge. Check mle_retvals.\n",
      "  ConvergenceWarning)\n"
     ]
    },
    {
     "name": "stdout",
     "output_type": "stream",
     "text": [
      "Forecast of Vz for Satellite 151 has been done.\n"
     ]
    },
    {
     "name": "stderr",
     "output_type": "stream",
     "text": [
      "C:\\Anaconda3\\envs\\nlp_course\\lib\\site-packages\\statsmodels\\tsa\\holtwinters.py:744: ConvergenceWarning: Optimization failed to converge. Check mle_retvals.\n",
      "  ConvergenceWarning)\n"
     ]
    },
    {
     "name": "stdout",
     "output_type": "stream",
     "text": [
      "Forecast of Vz for Satellite 152 has been done.\n",
      "Forecast of Vz for Satellite 153 has been done.\n"
     ]
    },
    {
     "name": "stderr",
     "output_type": "stream",
     "text": [
      "C:\\Anaconda3\\envs\\nlp_course\\lib\\site-packages\\statsmodels\\tsa\\holtwinters.py:744: ConvergenceWarning: Optimization failed to converge. Check mle_retvals.\n",
      "  ConvergenceWarning)\n"
     ]
    },
    {
     "name": "stdout",
     "output_type": "stream",
     "text": [
      "Forecast of Vz for Satellite 155 has been done.\n",
      "Forecast of Vz for Satellite 156 has been done.\n"
     ]
    },
    {
     "name": "stderr",
     "output_type": "stream",
     "text": [
      "C:\\Anaconda3\\envs\\nlp_course\\lib\\site-packages\\statsmodels\\tsa\\holtwinters.py:744: ConvergenceWarning: Optimization failed to converge. Check mle_retvals.\n",
      "  ConvergenceWarning)\n"
     ]
    },
    {
     "name": "stdout",
     "output_type": "stream",
     "text": [
      "Forecast of Vz for Satellite 158 has been done.\n"
     ]
    },
    {
     "name": "stderr",
     "output_type": "stream",
     "text": [
      "C:\\Anaconda3\\envs\\nlp_course\\lib\\site-packages\\statsmodels\\tsa\\holtwinters.py:744: ConvergenceWarning: Optimization failed to converge. Check mle_retvals.\n",
      "  ConvergenceWarning)\n"
     ]
    },
    {
     "name": "stdout",
     "output_type": "stream",
     "text": [
      "Forecast of Vz for Satellite 159 has been done.\n"
     ]
    },
    {
     "name": "stderr",
     "output_type": "stream",
     "text": [
      "C:\\Anaconda3\\envs\\nlp_course\\lib\\site-packages\\statsmodels\\tsa\\holtwinters.py:744: ConvergenceWarning: Optimization failed to converge. Check mle_retvals.\n",
      "  ConvergenceWarning)\n"
     ]
    },
    {
     "name": "stdout",
     "output_type": "stream",
     "text": [
      "Forecast of Vz for Satellite 160 has been done.\n",
      "Forecast of Vz for Satellite 162 has been done.\n",
      "Forecast of Vz for Satellite 164 has been done.\n"
     ]
    },
    {
     "name": "stderr",
     "output_type": "stream",
     "text": [
      "C:\\Anaconda3\\envs\\nlp_course\\lib\\site-packages\\statsmodels\\tsa\\holtwinters.py:744: ConvergenceWarning: Optimization failed to converge. Check mle_retvals.\n",
      "  ConvergenceWarning)\n"
     ]
    },
    {
     "name": "stdout",
     "output_type": "stream",
     "text": [
      "Forecast of Vz for Satellite 165 has been done.\n",
      "Forecast of Vz for Satellite 166 has been done.\n"
     ]
    },
    {
     "name": "stderr",
     "output_type": "stream",
     "text": [
      "C:\\Anaconda3\\envs\\nlp_course\\lib\\site-packages\\statsmodels\\tsa\\holtwinters.py:744: ConvergenceWarning: Optimization failed to converge. Check mle_retvals.\n",
      "  ConvergenceWarning)\n"
     ]
    },
    {
     "name": "stdout",
     "output_type": "stream",
     "text": [
      "Forecast of Vz for Satellite 169 has been done.\n",
      "Forecast of Vz for Satellite 170 has been done.\n"
     ]
    },
    {
     "name": "stderr",
     "output_type": "stream",
     "text": [
      "C:\\Anaconda3\\envs\\nlp_course\\lib\\site-packages\\statsmodels\\tsa\\holtwinters.py:744: ConvergenceWarning: Optimization failed to converge. Check mle_retvals.\n",
      "  ConvergenceWarning)\n"
     ]
    },
    {
     "name": "stdout",
     "output_type": "stream",
     "text": [
      "Forecast of Vz for Satellite 172 has been done.\n",
      "Forecast of Vz for Satellite 173 has been done.\n",
      "Forecast of Vz for Satellite 177 has been done.\n",
      "Forecast of Vz for Satellite 178 has been done.\n"
     ]
    },
    {
     "name": "stderr",
     "output_type": "stream",
     "text": [
      "C:\\Anaconda3\\envs\\nlp_course\\lib\\site-packages\\statsmodels\\tsa\\holtwinters.py:744: ConvergenceWarning: Optimization failed to converge. Check mle_retvals.\n",
      "  ConvergenceWarning)\n"
     ]
    },
    {
     "name": "stdout",
     "output_type": "stream",
     "text": [
      "Forecast of Vz for Satellite 183 has been done.\n",
      "Forecast of Vz for Satellite 186 has been done.\n"
     ]
    },
    {
     "name": "stderr",
     "output_type": "stream",
     "text": [
      "C:\\Anaconda3\\envs\\nlp_course\\lib\\site-packages\\statsmodels\\tsa\\holtwinters.py:744: ConvergenceWarning: Optimization failed to converge. Check mle_retvals.\n",
      "  ConvergenceWarning)\n"
     ]
    },
    {
     "name": "stdout",
     "output_type": "stream",
     "text": [
      "Forecast of Vz for Satellite 187 has been done.\n",
      "Forecast of Vz for Satellite 188 has been done.\n"
     ]
    },
    {
     "name": "stderr",
     "output_type": "stream",
     "text": [
      "C:\\Anaconda3\\envs\\nlp_course\\lib\\site-packages\\statsmodels\\tsa\\holtwinters.py:744: ConvergenceWarning: Optimization failed to converge. Check mle_retvals.\n",
      "  ConvergenceWarning)\n"
     ]
    },
    {
     "name": "stdout",
     "output_type": "stream",
     "text": [
      "Forecast of Vz for Satellite 191 has been done.\n"
     ]
    },
    {
     "name": "stderr",
     "output_type": "stream",
     "text": [
      "C:\\Anaconda3\\envs\\nlp_course\\lib\\site-packages\\statsmodels\\tsa\\holtwinters.py:744: ConvergenceWarning: Optimization failed to converge. Check mle_retvals.\n",
      "  ConvergenceWarning)\n"
     ]
    },
    {
     "name": "stdout",
     "output_type": "stream",
     "text": [
      "Forecast of Vz for Satellite 193 has been done.\n",
      "Forecast of Vz for Satellite 194 has been done.\n",
      "Forecast of Vz for Satellite 195 has been done.\n"
     ]
    },
    {
     "name": "stderr",
     "output_type": "stream",
     "text": [
      "C:\\Anaconda3\\envs\\nlp_course\\lib\\site-packages\\statsmodels\\tsa\\holtwinters.py:744: ConvergenceWarning: Optimization failed to converge. Check mle_retvals.\n",
      "  ConvergenceWarning)\n"
     ]
    },
    {
     "name": "stdout",
     "output_type": "stream",
     "text": [
      "Forecast of Vz for Satellite 197 has been done.\n",
      "Forecast of Vz for Satellite 203 has been done.\n"
     ]
    },
    {
     "name": "stderr",
     "output_type": "stream",
     "text": [
      "C:\\Anaconda3\\envs\\nlp_course\\lib\\site-packages\\statsmodels\\tsa\\holtwinters.py:744: ConvergenceWarning: Optimization failed to converge. Check mle_retvals.\n",
      "  ConvergenceWarning)\n"
     ]
    },
    {
     "name": "stdout",
     "output_type": "stream",
     "text": [
      "Forecast of Vz for Satellite 205 has been done.\n",
      "Forecast of Vz for Satellite 206 has been done.\n"
     ]
    },
    {
     "name": "stderr",
     "output_type": "stream",
     "text": [
      "C:\\Anaconda3\\envs\\nlp_course\\lib\\site-packages\\statsmodels\\tsa\\holtwinters.py:744: ConvergenceWarning: Optimization failed to converge. Check mle_retvals.\n",
      "  ConvergenceWarning)\n"
     ]
    },
    {
     "name": "stdout",
     "output_type": "stream",
     "text": [
      "Forecast of Vz for Satellite 207 has been done.\n",
      "Forecast of Vz for Satellite 208 has been done.\n",
      "Forecast of Vz for Satellite 209 has been done.\n"
     ]
    },
    {
     "name": "stderr",
     "output_type": "stream",
     "text": [
      "C:\\Anaconda3\\envs\\nlp_course\\lib\\site-packages\\statsmodels\\tsa\\holtwinters.py:744: ConvergenceWarning: Optimization failed to converge. Check mle_retvals.\n",
      "  ConvergenceWarning)\n"
     ]
    },
    {
     "name": "stdout",
     "output_type": "stream",
     "text": [
      "Forecast of Vz for Satellite 210 has been done.\n",
      "Forecast of Vz for Satellite 211 has been done.\n",
      "Forecast of Vz for Satellite 213 has been done.\n",
      "Forecast of Vz for Satellite 219 has been done.\n",
      "Forecast of Vz for Satellite 220 has been done.\n"
     ]
    },
    {
     "name": "stderr",
     "output_type": "stream",
     "text": [
      "C:\\Anaconda3\\envs\\nlp_course\\lib\\site-packages\\statsmodels\\tsa\\holtwinters.py:744: ConvergenceWarning: Optimization failed to converge. Check mle_retvals.\n",
      "  ConvergenceWarning)\n"
     ]
    },
    {
     "name": "stdout",
     "output_type": "stream",
     "text": [
      "Forecast of Vz for Satellite 222 has been done.\n",
      "Forecast of Vz for Satellite 223 has been done.\n"
     ]
    },
    {
     "name": "stderr",
     "output_type": "stream",
     "text": [
      "C:\\Anaconda3\\envs\\nlp_course\\lib\\site-packages\\statsmodels\\tsa\\holtwinters.py:744: ConvergenceWarning: Optimization failed to converge. Check mle_retvals.\n",
      "  ConvergenceWarning)\n"
     ]
    },
    {
     "name": "stdout",
     "output_type": "stream",
     "text": [
      "Forecast of Vz for Satellite 225 has been done.\n",
      "Forecast of Vz for Satellite 227 has been done.\n"
     ]
    },
    {
     "name": "stderr",
     "output_type": "stream",
     "text": [
      "C:\\Anaconda3\\envs\\nlp_course\\lib\\site-packages\\statsmodels\\tsa\\holtwinters.py:744: ConvergenceWarning: Optimization failed to converge. Check mle_retvals.\n",
      "  ConvergenceWarning)\n"
     ]
    },
    {
     "name": "stdout",
     "output_type": "stream",
     "text": [
      "Forecast of Vz for Satellite 228 has been done.\n",
      "Forecast of Vz for Satellite 229 has been done.\n",
      "Forecast of Vz for Satellite 230 has been done.\n",
      "Forecast of Vz for Satellite 233 has been done.\n"
     ]
    },
    {
     "name": "stderr",
     "output_type": "stream",
     "text": [
      "C:\\Anaconda3\\envs\\nlp_course\\lib\\site-packages\\statsmodels\\tsa\\holtwinters.py:744: ConvergenceWarning: Optimization failed to converge. Check mle_retvals.\n",
      "  ConvergenceWarning)\n"
     ]
    },
    {
     "name": "stdout",
     "output_type": "stream",
     "text": [
      "Forecast of Vz for Satellite 236 has been done.\n",
      "Forecast of Vz for Satellite 239 has been done.\n"
     ]
    },
    {
     "name": "stderr",
     "output_type": "stream",
     "text": [
      "C:\\Anaconda3\\envs\\nlp_course\\lib\\site-packages\\statsmodels\\tsa\\holtwinters.py:744: ConvergenceWarning: Optimization failed to converge. Check mle_retvals.\n",
      "  ConvergenceWarning)\n"
     ]
    },
    {
     "name": "stdout",
     "output_type": "stream",
     "text": [
      "Forecast of Vz for Satellite 240 has been done.\n",
      "Forecast of Vz for Satellite 241 has been done.\n",
      "Forecast of Vz for Satellite 242 has been done.\n",
      "Forecast of Vz for Satellite 243 has been done.\n"
     ]
    },
    {
     "name": "stderr",
     "output_type": "stream",
     "text": [
      "C:\\Anaconda3\\envs\\nlp_course\\lib\\site-packages\\statsmodels\\tsa\\holtwinters.py:744: ConvergenceWarning: Optimization failed to converge. Check mle_retvals.\n",
      "  ConvergenceWarning)\n"
     ]
    },
    {
     "name": "stdout",
     "output_type": "stream",
     "text": [
      "Forecast of Vz for Satellite 244 has been done.\n"
     ]
    },
    {
     "name": "stderr",
     "output_type": "stream",
     "text": [
      "C:\\Anaconda3\\envs\\nlp_course\\lib\\site-packages\\statsmodels\\tsa\\holtwinters.py:744: ConvergenceWarning: Optimization failed to converge. Check mle_retvals.\n",
      "  ConvergenceWarning)\n"
     ]
    },
    {
     "name": "stdout",
     "output_type": "stream",
     "text": [
      "Forecast of Vz for Satellite 245 has been done.\n",
      "Forecast of Vz for Satellite 247 has been done.\n"
     ]
    },
    {
     "name": "stderr",
     "output_type": "stream",
     "text": [
      "C:\\Anaconda3\\envs\\nlp_course\\lib\\site-packages\\statsmodels\\tsa\\holtwinters.py:744: ConvergenceWarning: Optimization failed to converge. Check mle_retvals.\n",
      "  ConvergenceWarning)\n"
     ]
    },
    {
     "name": "stdout",
     "output_type": "stream",
     "text": [
      "Forecast of Vz for Satellite 248 has been done.\n",
      "Forecast of Vz for Satellite 251 has been done.\n",
      "Forecast of Vz for Satellite 252 has been done.\n"
     ]
    },
    {
     "name": "stderr",
     "output_type": "stream",
     "text": [
      "C:\\Anaconda3\\envs\\nlp_course\\lib\\site-packages\\statsmodels\\tsa\\holtwinters.py:744: ConvergenceWarning: Optimization failed to converge. Check mle_retvals.\n",
      "  ConvergenceWarning)\n"
     ]
    },
    {
     "name": "stdout",
     "output_type": "stream",
     "text": [
      "Forecast of Vz for Satellite 253 has been done.\n"
     ]
    },
    {
     "name": "stderr",
     "output_type": "stream",
     "text": [
      "C:\\Anaconda3\\envs\\nlp_course\\lib\\site-packages\\statsmodels\\tsa\\holtwinters.py:744: ConvergenceWarning: Optimization failed to converge. Check mle_retvals.\n",
      "  ConvergenceWarning)\n"
     ]
    },
    {
     "name": "stdout",
     "output_type": "stream",
     "text": [
      "Forecast of Vz for Satellite 254 has been done.\n",
      "Forecast of Vz for Satellite 261 has been done.\n"
     ]
    },
    {
     "name": "stderr",
     "output_type": "stream",
     "text": [
      "C:\\Anaconda3\\envs\\nlp_course\\lib\\site-packages\\statsmodels\\tsa\\holtwinters.py:744: ConvergenceWarning: Optimization failed to converge. Check mle_retvals.\n",
      "  ConvergenceWarning)\n"
     ]
    },
    {
     "name": "stdout",
     "output_type": "stream",
     "text": [
      "Forecast of Vz for Satellite 263 has been done.\n",
      "Forecast of Vz for Satellite 264 has been done.\n",
      "Forecast of Vz for Satellite 265 has been done.\n",
      "Forecast of Vz for Satellite 268 has been done.\n"
     ]
    },
    {
     "name": "stderr",
     "output_type": "stream",
     "text": [
      "C:\\Anaconda3\\envs\\nlp_course\\lib\\site-packages\\statsmodels\\tsa\\holtwinters.py:744: ConvergenceWarning: Optimization failed to converge. Check mle_retvals.\n",
      "  ConvergenceWarning)\n"
     ]
    },
    {
     "name": "stdout",
     "output_type": "stream",
     "text": [
      "Forecast of Vz for Satellite 270 has been done.\n",
      "Forecast of Vz for Satellite 275 has been done.\n",
      "Forecast of Vz for Satellite 277 has been done.\n",
      "Forecast of Vz for Satellite 278 has been done.\n",
      "Forecast of Vz for Satellite 281 has been done.\n",
      "Forecast of Vz for Satellite 284 has been done.\n",
      "Forecast of Vz for Satellite 288 has been done.\n",
      "Forecast of Vz for Satellite 292 has been done.\n",
      "Forecast of Vz for Satellite 293 has been done.\n",
      "Forecast of Vz for Satellite 294 has been done.\n",
      "Forecast of Vz for Satellite 298 has been done.\n",
      "Forecast of Vz for Satellite 299 has been done.\n"
     ]
    },
    {
     "name": "stderr",
     "output_type": "stream",
     "text": [
      "C:\\Anaconda3\\envs\\nlp_course\\lib\\site-packages\\statsmodels\\tsa\\holtwinters.py:744: ConvergenceWarning: Optimization failed to converge. Check mle_retvals.\n",
      "  ConvergenceWarning)\n"
     ]
    },
    {
     "name": "stdout",
     "output_type": "stream",
     "text": [
      "Forecast of Vz for Satellite 301 has been done.\n",
      "Forecast of Vz for Satellite 304 has been done.\n",
      "Forecast of Vz for Satellite 306 has been done.\n",
      "Forecast of Vz for Satellite 309 has been done.\n",
      "Forecast of Vz for Satellite 310 has been done.\n"
     ]
    },
    {
     "name": "stderr",
     "output_type": "stream",
     "text": [
      "C:\\Anaconda3\\envs\\nlp_course\\lib\\site-packages\\statsmodels\\tsa\\holtwinters.py:744: ConvergenceWarning: Optimization failed to converge. Check mle_retvals.\n",
      "  ConvergenceWarning)\n"
     ]
    },
    {
     "name": "stdout",
     "output_type": "stream",
     "text": [
      "Forecast of Vz for Satellite 312 has been done.\n",
      "Forecast of Vz for Satellite 314 has been done.\n"
     ]
    },
    {
     "name": "stderr",
     "output_type": "stream",
     "text": [
      "C:\\Anaconda3\\envs\\nlp_course\\lib\\site-packages\\statsmodels\\tsa\\holtwinters.py:744: ConvergenceWarning: Optimization failed to converge. Check mle_retvals.\n",
      "  ConvergenceWarning)\n"
     ]
    },
    {
     "name": "stdout",
     "output_type": "stream",
     "text": [
      "Forecast of Vz for Satellite 316 has been done.\n",
      "Forecast of Vz for Satellite 319 has been done.\n",
      "Forecast of Vz for Satellite 324 has been done.\n"
     ]
    },
    {
     "name": "stderr",
     "output_type": "stream",
     "text": [
      "C:\\Anaconda3\\envs\\nlp_course\\lib\\site-packages\\statsmodels\\tsa\\holtwinters.py:744: ConvergenceWarning: Optimization failed to converge. Check mle_retvals.\n",
      "  ConvergenceWarning)\n"
     ]
    },
    {
     "name": "stdout",
     "output_type": "stream",
     "text": [
      "Forecast of Vz for Satellite 326 has been done.\n",
      "Forecast of Vz for Satellite 332 has been done.\n",
      "Forecast of Vz for Satellite 333 has been done.\n",
      "Forecast of Vz for Satellite 342 has been done.\n"
     ]
    },
    {
     "name": "stderr",
     "output_type": "stream",
     "text": [
      "C:\\Anaconda3\\envs\\nlp_course\\lib\\site-packages\\statsmodels\\tsa\\holtwinters.py:744: ConvergenceWarning: Optimization failed to converge. Check mle_retvals.\n",
      "  ConvergenceWarning)\n"
     ]
    },
    {
     "name": "stdout",
     "output_type": "stream",
     "text": [
      "Forecast of Vz for Satellite 343 has been done.\n",
      "Forecast of Vz for Satellite 344 has been done.\n",
      "Forecast of Vz for Satellite 347 has been done.\n"
     ]
    },
    {
     "name": "stderr",
     "output_type": "stream",
     "text": [
      "C:\\Anaconda3\\envs\\nlp_course\\lib\\site-packages\\statsmodels\\tsa\\holtwinters.py:744: ConvergenceWarning: Optimization failed to converge. Check mle_retvals.\n",
      "  ConvergenceWarning)\n"
     ]
    },
    {
     "name": "stdout",
     "output_type": "stream",
     "text": [
      "Forecast of Vz for Satellite 348 has been done.\n",
      "Forecast of Vz for Satellite 349 has been done.\n"
     ]
    },
    {
     "name": "stderr",
     "output_type": "stream",
     "text": [
      "C:\\Anaconda3\\envs\\nlp_course\\lib\\site-packages\\statsmodels\\tsa\\holtwinters.py:744: ConvergenceWarning: Optimization failed to converge. Check mle_retvals.\n",
      "  ConvergenceWarning)\n"
     ]
    },
    {
     "name": "stdout",
     "output_type": "stream",
     "text": [
      "Forecast of Vz for Satellite 356 has been done.\n"
     ]
    },
    {
     "name": "stderr",
     "output_type": "stream",
     "text": [
      "C:\\Anaconda3\\envs\\nlp_course\\lib\\site-packages\\statsmodels\\tsa\\holtwinters.py:744: ConvergenceWarning: Optimization failed to converge. Check mle_retvals.\n",
      "  ConvergenceWarning)\n"
     ]
    },
    {
     "name": "stdout",
     "output_type": "stream",
     "text": [
      "Forecast of Vz for Satellite 357 has been done.\n",
      "Forecast of Vz for Satellite 358 has been done.\n",
      "Forecast of Vz for Satellite 359 has been done.\n",
      "Forecast of Vz for Satellite 362 has been done.\n",
      "Forecast of Vz for Satellite 363 has been done.\n",
      "Forecast of Vz for Satellite 372 has been done.\n",
      "Forecast of Vz for Satellite 373 has been done.\n",
      "Forecast of Vz for Satellite 375 has been done.\n"
     ]
    },
    {
     "name": "stderr",
     "output_type": "stream",
     "text": [
      "C:\\Anaconda3\\envs\\nlp_course\\lib\\site-packages\\statsmodels\\tsa\\holtwinters.py:744: ConvergenceWarning: Optimization failed to converge. Check mle_retvals.\n",
      "  ConvergenceWarning)\n"
     ]
    },
    {
     "name": "stdout",
     "output_type": "stream",
     "text": [
      "Forecast of Vz for Satellite 377 has been done.\n",
      "Forecast of Vz for Satellite 380 has been done.\n",
      "Forecast of Vz for Satellite 382 has been done.\n",
      "Forecast of Vz for Satellite 384 has been done.\n"
     ]
    },
    {
     "name": "stderr",
     "output_type": "stream",
     "text": [
      "C:\\Anaconda3\\envs\\nlp_course\\lib\\site-packages\\statsmodels\\tsa\\holtwinters.py:744: ConvergenceWarning: Optimization failed to converge. Check mle_retvals.\n",
      "  ConvergenceWarning)\n"
     ]
    },
    {
     "name": "stdout",
     "output_type": "stream",
     "text": [
      "Forecast of Vz for Satellite 385 has been done.\n",
      "Forecast of Vz for Satellite 387 has been done.\n",
      "Forecast of Vz for Satellite 389 has been done.\n",
      "Forecast of Vz for Satellite 390 has been done.\n"
     ]
    },
    {
     "name": "stderr",
     "output_type": "stream",
     "text": [
      "C:\\Anaconda3\\envs\\nlp_course\\lib\\site-packages\\statsmodels\\tsa\\holtwinters.py:744: ConvergenceWarning: Optimization failed to converge. Check mle_retvals.\n",
      "  ConvergenceWarning)\n"
     ]
    },
    {
     "name": "stdout",
     "output_type": "stream",
     "text": [
      "Forecast of Vz for Satellite 391 has been done.\n"
     ]
    },
    {
     "name": "stderr",
     "output_type": "stream",
     "text": [
      "C:\\Anaconda3\\envs\\nlp_course\\lib\\site-packages\\statsmodels\\tsa\\holtwinters.py:744: ConvergenceWarning: Optimization failed to converge. Check mle_retvals.\n",
      "  ConvergenceWarning)\n"
     ]
    },
    {
     "name": "stdout",
     "output_type": "stream",
     "text": [
      "Forecast of Vz for Satellite 392 has been done.\n",
      "Forecast of Vz for Satellite 393 has been done.\n"
     ]
    },
    {
     "name": "stderr",
     "output_type": "stream",
     "text": [
      "C:\\Anaconda3\\envs\\nlp_course\\lib\\site-packages\\statsmodels\\tsa\\holtwinters.py:744: ConvergenceWarning: Optimization failed to converge. Check mle_retvals.\n",
      "  ConvergenceWarning)\n"
     ]
    },
    {
     "name": "stdout",
     "output_type": "stream",
     "text": [
      "Forecast of Vz for Satellite 395 has been done.\n",
      "Forecast of Vz for Satellite 396 has been done.\n"
     ]
    },
    {
     "name": "stderr",
     "output_type": "stream",
     "text": [
      "C:\\Anaconda3\\envs\\nlp_course\\lib\\site-packages\\statsmodels\\tsa\\holtwinters.py:744: ConvergenceWarning: Optimization failed to converge. Check mle_retvals.\n",
      "  ConvergenceWarning)\n"
     ]
    },
    {
     "name": "stdout",
     "output_type": "stream",
     "text": [
      "Forecast of Vz for Satellite 399 has been done.\n"
     ]
    },
    {
     "name": "stderr",
     "output_type": "stream",
     "text": [
      "C:\\Anaconda3\\envs\\nlp_course\\lib\\site-packages\\statsmodels\\tsa\\holtwinters.py:744: ConvergenceWarning: Optimization failed to converge. Check mle_retvals.\n",
      "  ConvergenceWarning)\n"
     ]
    },
    {
     "name": "stdout",
     "output_type": "stream",
     "text": [
      "Forecast of Vz for Satellite 400 has been done.\n",
      "Forecast of Vz for Satellite 407 has been done.\n",
      "Forecast of Vz for Satellite 409 has been done.\n",
      "Forecast of Vz for Satellite 411 has been done.\n",
      "Forecast of Vz for Satellite 412 has been done.\n",
      "Forecast of Vz for Satellite 415 has been done.\n",
      "Forecast of Vz for Satellite 416 has been done.\n",
      "Forecast of Vz for Satellite 417 has been done.\n",
      "Forecast of Vz for Satellite 418 has been done.\n",
      "Forecast of Vz for Satellite 419 has been done.\n"
     ]
    },
    {
     "name": "stderr",
     "output_type": "stream",
     "text": [
      "C:\\Anaconda3\\envs\\nlp_course\\lib\\site-packages\\statsmodels\\tsa\\holtwinters.py:744: ConvergenceWarning: Optimization failed to converge. Check mle_retvals.\n",
      "  ConvergenceWarning)\n"
     ]
    },
    {
     "name": "stdout",
     "output_type": "stream",
     "text": [
      "Forecast of Vz for Satellite 422 has been done.\n"
     ]
    },
    {
     "name": "stderr",
     "output_type": "stream",
     "text": [
      "C:\\Anaconda3\\envs\\nlp_course\\lib\\site-packages\\statsmodels\\tsa\\holtwinters.py:744: ConvergenceWarning: Optimization failed to converge. Check mle_retvals.\n",
      "  ConvergenceWarning)\n"
     ]
    },
    {
     "name": "stdout",
     "output_type": "stream",
     "text": [
      "Forecast of Vz for Satellite 423 has been done.\n",
      "Forecast of Vz for Satellite 424 has been done.\n",
      "Forecast of Vz for Satellite 426 has been done.\n",
      "Forecast of Vz for Satellite 428 has been done.\n"
     ]
    },
    {
     "name": "stderr",
     "output_type": "stream",
     "text": [
      "C:\\Anaconda3\\envs\\nlp_course\\lib\\site-packages\\statsmodels\\tsa\\holtwinters.py:744: ConvergenceWarning: Optimization failed to converge. Check mle_retvals.\n",
      "  ConvergenceWarning)\n"
     ]
    },
    {
     "name": "stdout",
     "output_type": "stream",
     "text": [
      "Forecast of Vz for Satellite 435 has been done.\n",
      "Forecast of Vz for Satellite 436 has been done.\n",
      "Forecast of Vz for Satellite 437 has been done.\n"
     ]
    },
    {
     "name": "stderr",
     "output_type": "stream",
     "text": [
      "C:\\Anaconda3\\envs\\nlp_course\\lib\\site-packages\\statsmodels\\tsa\\holtwinters.py:744: ConvergenceWarning: Optimization failed to converge. Check mle_retvals.\n",
      "  ConvergenceWarning)\n"
     ]
    },
    {
     "name": "stdout",
     "output_type": "stream",
     "text": [
      "Forecast of Vz for Satellite 438 has been done.\n",
      "Forecast of Vz for Satellite 440 has been done.\n"
     ]
    },
    {
     "name": "stderr",
     "output_type": "stream",
     "text": [
      "C:\\Anaconda3\\envs\\nlp_course\\lib\\site-packages\\statsmodels\\tsa\\holtwinters.py:744: ConvergenceWarning: Optimization failed to converge. Check mle_retvals.\n",
      "  ConvergenceWarning)\n"
     ]
    },
    {
     "name": "stdout",
     "output_type": "stream",
     "text": [
      "Forecast of Vz for Satellite 443 has been done.\n",
      "Forecast of Vz for Satellite 446 has been done.\n",
      "Forecast of Vz for Satellite 448 has been done.\n",
      "Forecast of Vz for Satellite 449 has been done.\n",
      "Forecast of Vz for Satellite 450 has been done.\n",
      "Forecast of Vz for Satellite 452 has been done.\n",
      "Forecast of Vz for Satellite 454 has been done.\n"
     ]
    },
    {
     "name": "stderr",
     "output_type": "stream",
     "text": [
      "C:\\Anaconda3\\envs\\nlp_course\\lib\\site-packages\\statsmodels\\tsa\\holtwinters.py:744: ConvergenceWarning: Optimization failed to converge. Check mle_retvals.\n",
      "  ConvergenceWarning)\n"
     ]
    },
    {
     "name": "stdout",
     "output_type": "stream",
     "text": [
      "Forecast of Vz for Satellite 455 has been done.\n",
      "Forecast of Vz for Satellite 456 has been done.\n",
      "Forecast of Vz for Satellite 457 has been done.\n",
      "Forecast of Vz for Satellite 460 has been done.\n"
     ]
    },
    {
     "name": "stderr",
     "output_type": "stream",
     "text": [
      "C:\\Anaconda3\\envs\\nlp_course\\lib\\site-packages\\statsmodels\\tsa\\holtwinters.py:744: ConvergenceWarning: Optimization failed to converge. Check mle_retvals.\n",
      "  ConvergenceWarning)\n"
     ]
    },
    {
     "name": "stdout",
     "output_type": "stream",
     "text": [
      "Forecast of Vz for Satellite 462 has been done.\n",
      "Forecast of Vz for Satellite 464 has been done.\n",
      "Forecast of Vz for Satellite 465 has been done.\n",
      "Forecast of Vz for Satellite 466 has been done.\n"
     ]
    },
    {
     "name": "stderr",
     "output_type": "stream",
     "text": [
      "C:\\Anaconda3\\envs\\nlp_course\\lib\\site-packages\\statsmodels\\tsa\\holtwinters.py:744: ConvergenceWarning: Optimization failed to converge. Check mle_retvals.\n",
      "  ConvergenceWarning)\n"
     ]
    },
    {
     "name": "stdout",
     "output_type": "stream",
     "text": [
      "Forecast of Vz for Satellite 467 has been done.\n",
      "Forecast of Vz for Satellite 468 has been done.\n",
      "Forecast of Vz for Satellite 470 has been done.\n",
      "Forecast of Vz for Satellite 471 has been done.\n",
      "Forecast of Vz for Satellite 473 has been done.\n",
      "Forecast of Vz for Satellite 474 has been done.\n"
     ]
    },
    {
     "name": "stderr",
     "output_type": "stream",
     "text": [
      "C:\\Anaconda3\\envs\\nlp_course\\lib\\site-packages\\statsmodels\\tsa\\holtwinters.py:744: ConvergenceWarning: Optimization failed to converge. Check mle_retvals.\n",
      "  ConvergenceWarning)\n"
     ]
    },
    {
     "name": "stdout",
     "output_type": "stream",
     "text": [
      "Forecast of Vz for Satellite 475 has been done.\n",
      "Forecast of Vz for Satellite 476 has been done.\n",
      "Forecast of Vz for Satellite 477 has been done.\n",
      "Forecast of Vz for Satellite 479 has been done.\n",
      "Forecast of Vz for Satellite 480 has been done.\n"
     ]
    },
    {
     "name": "stderr",
     "output_type": "stream",
     "text": [
      "C:\\Anaconda3\\envs\\nlp_course\\lib\\site-packages\\statsmodels\\tsa\\holtwinters.py:744: ConvergenceWarning: Optimization failed to converge. Check mle_retvals.\n",
      "  ConvergenceWarning)\n"
     ]
    },
    {
     "name": "stdout",
     "output_type": "stream",
     "text": [
      "Forecast of Vz for Satellite 481 has been done.\n",
      "Forecast of Vz for Satellite 482 has been done.\n",
      "Forecast of Vz for Satellite 483 has been done.\n",
      "Forecast of Vz for Satellite 486 has been done.\n",
      "Forecast of Vz for Satellite 488 has been done.\n"
     ]
    },
    {
     "name": "stderr",
     "output_type": "stream",
     "text": [
      "C:\\Anaconda3\\envs\\nlp_course\\lib\\site-packages\\statsmodels\\tsa\\holtwinters.py:744: ConvergenceWarning: Optimization failed to converge. Check mle_retvals.\n",
      "  ConvergenceWarning)\n"
     ]
    },
    {
     "name": "stdout",
     "output_type": "stream",
     "text": [
      "Forecast of Vz for Satellite 489 has been done.\n",
      "Forecast of Vz for Satellite 491 has been done.\n"
     ]
    },
    {
     "name": "stderr",
     "output_type": "stream",
     "text": [
      "C:\\Anaconda3\\envs\\nlp_course\\lib\\site-packages\\statsmodels\\tsa\\holtwinters.py:744: ConvergenceWarning: Optimization failed to converge. Check mle_retvals.\n",
      "  ConvergenceWarning)\n"
     ]
    },
    {
     "name": "stdout",
     "output_type": "stream",
     "text": [
      "Forecast of Vz for Satellite 495 has been done.\n",
      "Forecast of Vz for Satellite 498 has been done.\n",
      "Forecast of Vz for Satellite 499 has been done.\n",
      "Forecast of Vz for Satellite 502 has been done.\n"
     ]
    },
    {
     "name": "stderr",
     "output_type": "stream",
     "text": [
      "C:\\Anaconda3\\envs\\nlp_course\\lib\\site-packages\\statsmodels\\tsa\\holtwinters.py:744: ConvergenceWarning: Optimization failed to converge. Check mle_retvals.\n",
      "  ConvergenceWarning)\n"
     ]
    },
    {
     "name": "stdout",
     "output_type": "stream",
     "text": [
      "Forecast of Vz for Satellite 504 has been done.\n",
      "Forecast of Vz for Satellite 505 has been done.\n",
      "Forecast of Vz for Satellite 506 has been done.\n",
      "Forecast of Vz for Satellite 508 has been done.\n",
      "Forecast of Vz for Satellite 509 has been done.\n",
      "Forecast of Vz for Satellite 510 has been done.\n"
     ]
    },
    {
     "name": "stderr",
     "output_type": "stream",
     "text": [
      "C:\\Anaconda3\\envs\\nlp_course\\lib\\site-packages\\statsmodels\\tsa\\holtwinters.py:744: ConvergenceWarning: Optimization failed to converge. Check mle_retvals.\n",
      "  ConvergenceWarning)\n"
     ]
    },
    {
     "name": "stdout",
     "output_type": "stream",
     "text": [
      "Forecast of Vz for Satellite 511 has been done.\n"
     ]
    },
    {
     "name": "stderr",
     "output_type": "stream",
     "text": [
      "C:\\Anaconda3\\envs\\nlp_course\\lib\\site-packages\\statsmodels\\tsa\\holtwinters.py:744: ConvergenceWarning: Optimization failed to converge. Check mle_retvals.\n",
      "  ConvergenceWarning)\n"
     ]
    },
    {
     "name": "stdout",
     "output_type": "stream",
     "text": [
      "Forecast of Vz for Satellite 514 has been done.\n"
     ]
    },
    {
     "name": "stderr",
     "output_type": "stream",
     "text": [
      "C:\\Anaconda3\\envs\\nlp_course\\lib\\site-packages\\statsmodels\\tsa\\holtwinters.py:744: ConvergenceWarning: Optimization failed to converge. Check mle_retvals.\n",
      "  ConvergenceWarning)\n"
     ]
    },
    {
     "name": "stdout",
     "output_type": "stream",
     "text": [
      "Forecast of Vz for Satellite 515 has been done.\n"
     ]
    },
    {
     "name": "stderr",
     "output_type": "stream",
     "text": [
      "C:\\Anaconda3\\envs\\nlp_course\\lib\\site-packages\\statsmodels\\tsa\\holtwinters.py:744: ConvergenceWarning: Optimization failed to converge. Check mle_retvals.\n",
      "  ConvergenceWarning)\n"
     ]
    },
    {
     "name": "stdout",
     "output_type": "stream",
     "text": [
      "Forecast of Vz for Satellite 516 has been done.\n",
      "Forecast of Vz for Satellite 517 has been done.\n",
      "Forecast of Vz for Satellite 519 has been done.\n",
      "Forecast of Vz for Satellite 522 has been done.\n",
      "Forecast of Vz for Satellite 523 has been done.\n"
     ]
    },
    {
     "name": "stderr",
     "output_type": "stream",
     "text": [
      "C:\\Anaconda3\\envs\\nlp_course\\lib\\site-packages\\statsmodels\\tsa\\holtwinters.py:744: ConvergenceWarning: Optimization failed to converge. Check mle_retvals.\n",
      "  ConvergenceWarning)\n"
     ]
    },
    {
     "name": "stdout",
     "output_type": "stream",
     "text": [
      "Forecast of Vz for Satellite 524 has been done.\n",
      "Forecast of Vz for Satellite 528 has been done.\n"
     ]
    },
    {
     "name": "stderr",
     "output_type": "stream",
     "text": [
      "C:\\Anaconda3\\envs\\nlp_course\\lib\\site-packages\\statsmodels\\tsa\\holtwinters.py:744: ConvergenceWarning: Optimization failed to converge. Check mle_retvals.\n",
      "  ConvergenceWarning)\n"
     ]
    },
    {
     "name": "stdout",
     "output_type": "stream",
     "text": [
      "Forecast of Vz for Satellite 536 has been done.\n"
     ]
    },
    {
     "name": "stderr",
     "output_type": "stream",
     "text": [
      "C:\\Anaconda3\\envs\\nlp_course\\lib\\site-packages\\statsmodels\\tsa\\holtwinters.py:744: ConvergenceWarning: Optimization failed to converge. Check mle_retvals.\n",
      "  ConvergenceWarning)\n"
     ]
    },
    {
     "name": "stdout",
     "output_type": "stream",
     "text": [
      "Forecast of Vz for Satellite 537 has been done.\n",
      "Forecast of Vz for Satellite 539 has been done.\n",
      "Forecast of Vz for Satellite 542 has been done.\n"
     ]
    },
    {
     "name": "stderr",
     "output_type": "stream",
     "text": [
      "C:\\Anaconda3\\envs\\nlp_course\\lib\\site-packages\\statsmodels\\tsa\\holtwinters.py:744: ConvergenceWarning: Optimization failed to converge. Check mle_retvals.\n",
      "  ConvergenceWarning)\n"
     ]
    },
    {
     "name": "stdout",
     "output_type": "stream",
     "text": [
      "Forecast of Vz for Satellite 543 has been done.\n"
     ]
    },
    {
     "name": "stderr",
     "output_type": "stream",
     "text": [
      "C:\\Anaconda3\\envs\\nlp_course\\lib\\site-packages\\statsmodels\\tsa\\holtwinters.py:744: ConvergenceWarning: Optimization failed to converge. Check mle_retvals.\n",
      "  ConvergenceWarning)\n"
     ]
    },
    {
     "name": "stdout",
     "output_type": "stream",
     "text": [
      "Forecast of Vz for Satellite 544 has been done.\n"
     ]
    },
    {
     "name": "stderr",
     "output_type": "stream",
     "text": [
      "C:\\Anaconda3\\envs\\nlp_course\\lib\\site-packages\\statsmodels\\tsa\\holtwinters.py:744: ConvergenceWarning: Optimization failed to converge. Check mle_retvals.\n",
      "  ConvergenceWarning)\n"
     ]
    },
    {
     "name": "stdout",
     "output_type": "stream",
     "text": [
      "Forecast of Vz for Satellite 547 has been done.\n",
      "Forecast of Vz for Satellite 548 has been done.\n",
      "Forecast of Vz for Satellite 549 has been done.\n",
      "Forecast of Vz for Satellite 550 has been done.\n",
      "Forecast of Vz for Satellite 558 has been done.\n",
      "Forecast of Vz for Satellite 563 has been done.\n",
      "Forecast of Vz for Satellite 565 has been done.\n",
      "Forecast of Vz for Satellite 566 has been done.\n",
      "Forecast of Vz for Satellite 567 has been done.\n",
      "Forecast of Vz for Satellite 569 has been done.\n",
      "Forecast of Vz for Satellite 572 has been done.\n",
      "Forecast of Vz for Satellite 575 has been done.\n",
      "Forecast of Vz for Satellite 578 has been done.\n",
      "Forecast of Vz for Satellite 579 has been done.\n",
      "Forecast of Vz for Satellite 580 has been done.\n",
      "Forecast of Vz for Satellite 583 has been done.\n",
      "Forecast of Vz for Satellite 584 has been done.\n",
      "Forecast of Vz for Satellite 587 has been done.\n",
      "Forecast of Vz for Satellite 588 has been done.\n"
     ]
    },
    {
     "name": "stderr",
     "output_type": "stream",
     "text": [
      "C:\\Anaconda3\\envs\\nlp_course\\lib\\site-packages\\statsmodels\\tsa\\holtwinters.py:744: ConvergenceWarning: Optimization failed to converge. Check mle_retvals.\n",
      "  ConvergenceWarning)\n"
     ]
    },
    {
     "name": "stdout",
     "output_type": "stream",
     "text": [
      "Forecast of Vz for Satellite 593 has been done.\n",
      "Forecast of Vz for Satellite 595 has been done.\n",
      "Forecast of Vz for Satellite 596 has been done.\n",
      "Forecast of Vz for Satellite 597 has been done.\n",
      "Wall time: 44min 43s\n"
     ]
    },
    {
     "name": "stderr",
     "output_type": "stream",
     "text": [
      "C:\\Anaconda3\\envs\\nlp_course\\lib\\site-packages\\statsmodels\\tsa\\holtwinters.py:744: ConvergenceWarning: Optimization failed to converge. Check mle_retvals.\n",
      "  ConvergenceWarning)\n"
     ]
    }
   ],
   "source": [
    "%%time\n",
    "forecast_list = list()\n",
    "\n",
    "for i in range(0,3):\n",
    "    \n",
    "    kinem = rem[i]\n",
    "    \n",
    "    train_k = pd.read_csv(f'train_{i+4}.csv', index_col=2)\n",
    "    \n",
    "    off_k = calculate_offset(k=kinem)\n",
    "    \n",
    "    forecast_k = forecast(k=kinem)\n",
    "    \n",
    "    forecast_list.append(forecast_k)"
   ]
  },
  {
   "cell_type": "markdown",
   "metadata": {},
   "source": [
    "- Seasonal periods must be larger than 1. Forecasts for x, y, z went OK but some seasonal periods for Vx, Vy, Vz must be greater than 1 for the forecast to be done.\n",
    "- Python raised quite a few ConvergenceWarnings because the optimizer failed to find a local/global minimum. Is this because of too few data points for some of the satellites?\n"
   ]
  },
  {
   "cell_type": "code",
   "execution_count": 251,
   "metadata": {},
   "outputs": [
    {
     "data": {
      "text/plain": [
       "f_x      0\n",
       "f_y      0\n",
       "f_z      0\n",
       "f_Vx    10\n",
       "f_Vy     8\n",
       "f_Vz    34\n",
       "dtype: int64"
      ]
     },
     "execution_count": 251,
     "metadata": {},
     "output_type": "execute_result"
    }
   ],
   "source": [
    "# find which variables has frequency 1\n",
    "(freq == 1).sum()"
   ]
  },
  {
   "cell_type": "code",
   "execution_count": 313,
   "metadata": {},
   "outputs": [],
   "source": [
    "# change them to 2\n",
    "for k in freq.columns[3:]:\n",
    "    \n",
    "    # DO THIS\n",
    "    freq.loc[freq[k] == 1, k] = 2\n",
    "    \n",
    "    # DONT DO THIS\n",
    "    #freq[freq[k] == 1][k] = 2\n",
    "    "
   ]
  },
  {
   "cell_type": "code",
   "execution_count": 318,
   "metadata": {},
   "outputs": [
    {
     "data": {
      "text/html": [
       "<div>\n",
       "<style scoped>\n",
       "    .dataframe tbody tr th:only-of-type {\n",
       "        vertical-align: middle;\n",
       "    }\n",
       "\n",
       "    .dataframe tbody tr th {\n",
       "        vertical-align: top;\n",
       "    }\n",
       "\n",
       "    .dataframe thead th {\n",
       "        text-align: right;\n",
       "    }\n",
       "</style>\n",
       "<table border=\"1\" class=\"dataframe\">\n",
       "  <thead>\n",
       "    <tr style=\"text-align: right;\">\n",
       "      <th></th>\n",
       "      <th>f_x</th>\n",
       "      <th>f_y</th>\n",
       "      <th>f_z</th>\n",
       "      <th>f_Vx</th>\n",
       "      <th>f_Vy</th>\n",
       "      <th>f_Vz</th>\n",
       "    </tr>\n",
       "  </thead>\n",
       "  <tbody>\n",
       "    <tr>\n",
       "      <th>0</th>\n",
       "      <td>24</td>\n",
       "      <td>24</td>\n",
       "      <td>24</td>\n",
       "      <td>12</td>\n",
       "      <td>12</td>\n",
       "      <td>12</td>\n",
       "    </tr>\n",
       "    <tr>\n",
       "      <th>1</th>\n",
       "      <td>24</td>\n",
       "      <td>24</td>\n",
       "      <td>24</td>\n",
       "      <td>24</td>\n",
       "      <td>24</td>\n",
       "      <td>24</td>\n",
       "    </tr>\n",
       "    <tr>\n",
       "      <th>2</th>\n",
       "      <td>24</td>\n",
       "      <td>24</td>\n",
       "      <td>24</td>\n",
       "      <td>24</td>\n",
       "      <td>24</td>\n",
       "      <td>2</td>\n",
       "    </tr>\n",
       "    <tr>\n",
       "      <th>3</th>\n",
       "      <td>24</td>\n",
       "      <td>24</td>\n",
       "      <td>24</td>\n",
       "      <td>24</td>\n",
       "      <td>24</td>\n",
       "      <td>24</td>\n",
       "    </tr>\n",
       "    <tr>\n",
       "      <th>4</th>\n",
       "      <td>24</td>\n",
       "      <td>24</td>\n",
       "      <td>24</td>\n",
       "      <td>24</td>\n",
       "      <td>24</td>\n",
       "      <td>24</td>\n",
       "    </tr>\n",
       "  </tbody>\n",
       "</table>\n",
       "</div>"
      ],
      "text/plain": [
       "   f_x  f_y  f_z  f_Vx  f_Vy  f_Vz\n",
       "0   24   24   24    12    12    12\n",
       "1   24   24   24    24    24    24\n",
       "2   24   24   24    24    24     2\n",
       "3   24   24   24    24    24    24\n",
       "4   24   24   24    24    24    24"
      ]
     },
     "execution_count": 318,
     "metadata": {},
     "output_type": "execute_result"
    }
   ],
   "source": [
    "freq.head()"
   ]
  },
  {
   "cell_type": "code",
   "execution_count": 321,
   "metadata": {},
   "outputs": [],
   "source": [
    "# this forecast_list was after forecasting for y and z\n",
    "forecast_y = forecast_list[0]"
   ]
  },
  {
   "cell_type": "code",
   "execution_count": 322,
   "metadata": {},
   "outputs": [],
   "source": [
    "forecast_z = forecast_list[1]"
   ]
  },
  {
   "cell_type": "code",
   "execution_count": 358,
   "metadata": {},
   "outputs": [],
   "source": [
    "# this forecast_list was after correcting for seasonality = 1 and forecasting for Vx, Vy, Vz\n",
    "forecast_Vx = forecast_list[0]\n",
    "forecast_Vy = forecast_list[1]\n",
    "forecast_Vz = forecast_list[2]"
   ]
  },
  {
   "cell_type": "code",
   "execution_count": 325,
   "metadata": {},
   "outputs": [
    {
     "data": {
      "text/plain": [
       "3"
      ]
     },
     "execution_count": 325,
     "metadata": {},
     "output_type": "execute_result"
    }
   ],
   "source": [
    "len(forecast_list)"
   ]
  },
  {
   "cell_type": "code",
   "execution_count": 367,
   "metadata": {},
   "outputs": [
    {
     "data": {
      "text/plain": [
       "300"
      ]
     },
     "execution_count": 367,
     "metadata": {},
     "output_type": "execute_result"
    }
   ],
   "source": [
    "len(forecast_x)"
   ]
  },
  {
   "cell_type": "code",
   "execution_count": 356,
   "metadata": {},
   "outputs": [],
   "source": [
    "# concatenate all lists inside each forecast_k\n",
    "import itertools"
   ]
  },
  {
   "cell_type": "code",
   "execution_count": null,
   "metadata": {},
   "outputs": [],
   "source": [
    "# hats on the forecasted data\n",
    "x_hat = list(itertools.chain.from_iterable(forecast_x))\n",
    "y_hat = list(itertools.chain.from_iterable(forecast_y))\n",
    "z_hat = list(itertools.chain.from_iterable(forecast_z))"
   ]
  },
  {
   "cell_type": "code",
   "execution_count": 359,
   "metadata": {},
   "outputs": [],
   "source": [
    "Vx_hat = list(itertools.chain.from_iterable(forecast_Vx))\n",
    "Vy_hat = list(itertools.chain.from_iterable(forecast_Vy))\n",
    "Vz_hat = list(itertools.chain.from_iterable(forecast_Vz))"
   ]
  },
  {
   "cell_type": "code",
   "execution_count": 451,
   "metadata": {},
   "outputs": [],
   "source": [
    "test.index = test['epoch']\n",
    "train.index = train['epoch']"
   ]
  },
  {
   "cell_type": "code",
   "execution_count": 444,
   "metadata": {},
   "outputs": [],
   "source": [
    "test['x'] = x_hat\n",
    "test['y'] = y_hat\n",
    "test['z'] = z_hat\n",
    "test['Vx'] = Vx_hat\n",
    "test['Vy'] = Vy_hat\n",
    "test['Vz'] = Vz_hat"
   ]
  },
  {
   "cell_type": "code",
   "execution_count": null,
   "metadata": {},
   "outputs": [],
   "source": []
  },
  {
   "cell_type": "code",
   "execution_count": 381,
   "metadata": {},
   "outputs": [],
   "source": [
    "# make a copy for submitting results\n",
    "test_sub = test.copy()"
   ]
  },
  {
   "cell_type": "code",
   "execution_count": 429,
   "metadata": {},
   "outputs": [
    {
     "data": {
      "text/html": [
       "<div>\n",
       "<style scoped>\n",
       "    .dataframe tbody tr th:only-of-type {\n",
       "        vertical-align: middle;\n",
       "    }\n",
       "\n",
       "    .dataframe tbody tr th {\n",
       "        vertical-align: top;\n",
       "    }\n",
       "\n",
       "    .dataframe thead th {\n",
       "        text-align: right;\n",
       "    }\n",
       "</style>\n",
       "<table border=\"1\" class=\"dataframe\">\n",
       "  <thead>\n",
       "    <tr style=\"text-align: right;\">\n",
       "      <th></th>\n",
       "      <th>id</th>\n",
       "      <th>sat_id</th>\n",
       "      <th>epoch</th>\n",
       "      <th>x</th>\n",
       "      <th>y</th>\n",
       "      <th>z</th>\n",
       "      <th>Vx</th>\n",
       "      <th>Vy</th>\n",
       "      <th>Vz</th>\n",
       "    </tr>\n",
       "    <tr>\n",
       "      <th>id</th>\n",
       "      <th></th>\n",
       "      <th></th>\n",
       "      <th></th>\n",
       "      <th></th>\n",
       "      <th></th>\n",
       "      <th></th>\n",
       "      <th></th>\n",
       "      <th></th>\n",
       "      <th></th>\n",
       "    </tr>\n",
       "  </thead>\n",
       "  <tbody>\n",
       "    <tr>\n",
       "      <th>3927</th>\n",
       "      <td>3927</td>\n",
       "      <td>1</td>\n",
       "      <td>2014-02-01 00:01:45.162</td>\n",
       "      <td>-24903.661004</td>\n",
       "      <td>-11160.986017</td>\n",
       "      <td>6569.262070</td>\n",
       "      <td>2.358096</td>\n",
       "      <td>-1.464771</td>\n",
       "      <td>1.013617</td>\n",
       "    </tr>\n",
       "    <tr>\n",
       "      <th>3928</th>\n",
       "      <td>3928</td>\n",
       "      <td>1</td>\n",
       "      <td>2014-02-01 00:22:57.007</td>\n",
       "      <td>-21164.913439</td>\n",
       "      <td>-12627.051179</td>\n",
       "      <td>7737.702371</td>\n",
       "      <td>2.697827</td>\n",
       "      <td>-1.349015</td>\n",
       "      <td>0.672219</td>\n",
       "    </tr>\n",
       "    <tr>\n",
       "      <th>3929</th>\n",
       "      <td>3929</td>\n",
       "      <td>1</td>\n",
       "      <td>2014-02-01 00:44:08.852</td>\n",
       "      <td>-16596.874300</td>\n",
       "      <td>-13618.434230</td>\n",
       "      <td>8526.219117</td>\n",
       "      <td>3.125202</td>\n",
       "      <td>-1.152677</td>\n",
       "      <td>0.242354</td>\n",
       "    </tr>\n",
       "    <tr>\n",
       "      <th>3930</th>\n",
       "      <td>3930</td>\n",
       "      <td>1</td>\n",
       "      <td>2014-02-01 01:05:20.697</td>\n",
       "      <td>-11123.695326</td>\n",
       "      <td>-13893.430507</td>\n",
       "      <td>8637.577417</td>\n",
       "      <td>3.649070</td>\n",
       "      <td>-0.810363</td>\n",
       "      <td>-0.276345</td>\n",
       "    </tr>\n",
       "    <tr>\n",
       "      <th>3931</th>\n",
       "      <td>3931</td>\n",
       "      <td>1</td>\n",
       "      <td>2014-02-01 01:26:32.542</td>\n",
       "      <td>-4715.815798</td>\n",
       "      <td>-13030.237721</td>\n",
       "      <td>7477.788980</td>\n",
       "      <td>4.169333</td>\n",
       "      <td>-0.207998</td>\n",
       "      <td>-1.048281</td>\n",
       "    </tr>\n",
       "  </tbody>\n",
       "</table>\n",
       "</div>"
      ],
      "text/plain": [
       "        id  sat_id                    epoch             x             y  \\\n",
       "id                                                                        \n",
       "3927  3927       1  2014-02-01 00:01:45.162 -24903.661004 -11160.986017   \n",
       "3928  3928       1  2014-02-01 00:22:57.007 -21164.913439 -12627.051179   \n",
       "3929  3929       1  2014-02-01 00:44:08.852 -16596.874300 -13618.434230   \n",
       "3930  3930       1  2014-02-01 01:05:20.697 -11123.695326 -13893.430507   \n",
       "3931  3931       1  2014-02-01 01:26:32.542  -4715.815798 -13030.237721   \n",
       "\n",
       "                z        Vx        Vy        Vz  \n",
       "id                                               \n",
       "3927  6569.262070  2.358096 -1.464771  1.013617  \n",
       "3928  7737.702371  2.697827 -1.349015  0.672219  \n",
       "3929  8526.219117  3.125202 -1.152677  0.242354  \n",
       "3930  8637.577417  3.649070 -0.810363 -0.276345  \n",
       "3931  7477.788980  4.169333 -0.207998 -1.048281  "
      ]
     },
     "execution_count": 429,
     "metadata": {},
     "output_type": "execute_result"
    }
   ],
   "source": [
    "test_sub.head()"
   ]
  },
  {
   "cell_type": "code",
   "execution_count": 389,
   "metadata": {},
   "outputs": [],
   "source": [
    "submission = test_sub[test.columns[3:]]"
   ]
  },
  {
   "cell_type": "code",
   "execution_count": 391,
   "metadata": {},
   "outputs": [
    {
     "data": {
      "text/html": [
       "<div>\n",
       "<style scoped>\n",
       "    .dataframe tbody tr th:only-of-type {\n",
       "        vertical-align: middle;\n",
       "    }\n",
       "\n",
       "    .dataframe tbody tr th {\n",
       "        vertical-align: top;\n",
       "    }\n",
       "\n",
       "    .dataframe thead th {\n",
       "        text-align: right;\n",
       "    }\n",
       "</style>\n",
       "<table border=\"1\" class=\"dataframe\">\n",
       "  <thead>\n",
       "    <tr style=\"text-align: right;\">\n",
       "      <th></th>\n",
       "      <th>x</th>\n",
       "      <th>y</th>\n",
       "      <th>z</th>\n",
       "      <th>Vx</th>\n",
       "      <th>Vy</th>\n",
       "      <th>Vz</th>\n",
       "    </tr>\n",
       "    <tr>\n",
       "      <th>id</th>\n",
       "      <th></th>\n",
       "      <th></th>\n",
       "      <th></th>\n",
       "      <th></th>\n",
       "      <th></th>\n",
       "      <th></th>\n",
       "    </tr>\n",
       "  </thead>\n",
       "  <tbody>\n",
       "    <tr>\n",
       "      <th>3927</th>\n",
       "      <td>-24903.661004</td>\n",
       "      <td>-11160.986017</td>\n",
       "      <td>6569.262070</td>\n",
       "      <td>2.358096</td>\n",
       "      <td>-1.464771</td>\n",
       "      <td>1.013617</td>\n",
       "    </tr>\n",
       "    <tr>\n",
       "      <th>3928</th>\n",
       "      <td>-21164.913439</td>\n",
       "      <td>-12627.051179</td>\n",
       "      <td>7737.702371</td>\n",
       "      <td>2.697827</td>\n",
       "      <td>-1.349015</td>\n",
       "      <td>0.672219</td>\n",
       "    </tr>\n",
       "    <tr>\n",
       "      <th>3929</th>\n",
       "      <td>-16596.874300</td>\n",
       "      <td>-13618.434230</td>\n",
       "      <td>8526.219117</td>\n",
       "      <td>3.125202</td>\n",
       "      <td>-1.152677</td>\n",
       "      <td>0.242354</td>\n",
       "    </tr>\n",
       "    <tr>\n",
       "      <th>3930</th>\n",
       "      <td>-11123.695326</td>\n",
       "      <td>-13893.430507</td>\n",
       "      <td>8637.577417</td>\n",
       "      <td>3.649070</td>\n",
       "      <td>-0.810363</td>\n",
       "      <td>-0.276345</td>\n",
       "    </tr>\n",
       "    <tr>\n",
       "      <th>3931</th>\n",
       "      <td>-4715.815798</td>\n",
       "      <td>-13030.237721</td>\n",
       "      <td>7477.788980</td>\n",
       "      <td>4.169333</td>\n",
       "      <td>-0.207998</td>\n",
       "      <td>-1.048281</td>\n",
       "    </tr>\n",
       "  </tbody>\n",
       "</table>\n",
       "</div>"
      ],
      "text/plain": [
       "                 x             y            z        Vx        Vy        Vz\n",
       "id                                                                         \n",
       "3927 -24903.661004 -11160.986017  6569.262070  2.358096 -1.464771  1.013617\n",
       "3928 -21164.913439 -12627.051179  7737.702371  2.697827 -1.349015  0.672219\n",
       "3929 -16596.874300 -13618.434230  8526.219117  3.125202 -1.152677  0.242354\n",
       "3930 -11123.695326 -13893.430507  8637.577417  3.649070 -0.810363 -0.276345\n",
       "3931  -4715.815798 -13030.237721  7477.788980  4.169333 -0.207998 -1.048281"
      ]
     },
     "execution_count": 391,
     "metadata": {},
     "output_type": "execute_result"
    }
   ],
   "source": [
    "submission.head()"
   ]
  },
  {
   "cell_type": "code",
   "execution_count": 392,
   "metadata": {},
   "outputs": [],
   "source": [
    "submission.to_csv('submission.csv')"
   ]
  },
  {
   "cell_type": "markdown",
   "metadata": {},
   "source": [
    "This was submitted to the contest page on 29 Jan 2020 18:50:18, achieving a $100 \\times (1-SMAPE)$ score of 70.04"
   ]
  },
  {
   "cell_type": "code",
   "execution_count": null,
   "metadata": {},
   "outputs": [],
   "source": []
  }
 ],
 "metadata": {
  "kernelspec": {
   "display_name": "Python 3",
   "language": "python",
   "name": "python3"
  },
  "language_info": {
   "codemirror_mode": {
    "name": "ipython",
    "version": 3
   },
   "file_extension": ".py",
   "mimetype": "text/x-python",
   "name": "python",
   "nbconvert_exporter": "python",
   "pygments_lexer": "ipython3",
   "version": "3.7.5"
  }
 },
 "nbformat": 4,
 "nbformat_minor": 2
}
