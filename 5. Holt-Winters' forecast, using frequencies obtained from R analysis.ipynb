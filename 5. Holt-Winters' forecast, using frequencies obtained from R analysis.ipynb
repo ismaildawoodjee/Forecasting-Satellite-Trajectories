{
 "cells": [
  {
   "cell_type": "markdown",
   "metadata": {},
   "source": [
    "### Summary\n",
    "\n",
    "Results submitted to the contest page on 29 Jan 2020 18:50:18, achieving a $100 \\times (1-SMAPE)$ public score of 70.04"
   ]
  },
  {
   "cell_type": "code",
   "execution_count": 43,
   "metadata": {},
   "outputs": [],
   "source": [
    "import os\n",
    "import numpy as np\n",
    "import pandas as pd\n",
    "import seaborn as sns\n",
    "import datetime as dt\n",
    "import matplotlib.pyplot as plt\n",
    "from statsmodels.tsa.seasonal import seasonal_decompose\n",
    "from statsmodels.tsa.holtwinters import ExponentialSmoothing"
   ]
  },
  {
   "cell_type": "code",
   "execution_count": 412,
   "metadata": {},
   "outputs": [],
   "source": [
    "#sns.set_style('whitegrid')\n",
    "#sns.set(rc={'figure.figsize':(16, 4)})\n",
    "plt.rc('figure',figsize=(16,4))\n",
    "plt.rc('font',size=13)"
   ]
  },
  {
   "cell_type": "code",
   "execution_count": 439,
   "metadata": {},
   "outputs": [],
   "source": [
    "# main dataset to calculate offsets\n",
    "train = pd.read_pickle('train.pkl')\n",
    "test = pd.read_pickle('test.pkl')"
   ]
  },
  {
   "cell_type": "code",
   "execution_count": null,
   "metadata": {},
   "outputs": [],
   "source": [
    "trainx = pd.read_csv('train_1.csv', index_col=0)\n",
    "test = pd.read_csv('test_forR.csv', index_col=0)"
   ]
  },
  {
   "cell_type": "code",
   "execution_count": 396,
   "metadata": {},
   "outputs": [],
   "source": [
    "train_orig = train.copy()"
   ]
  },
  {
   "cell_type": "code",
   "execution_count": null,
   "metadata": {},
   "outputs": [],
   "source": [
    "trainx_orig = trainx.copy()\n",
    "test_orig = test.copy()"
   ]
  },
  {
   "cell_type": "code",
   "execution_count": 195,
   "metadata": {},
   "outputs": [],
   "source": [
    "# to reset \n",
    "trainx = trainx_orig.copy()\n",
    "test = test_orig.copy()"
   ]
  },
  {
   "cell_type": "code",
   "execution_count": 113,
   "metadata": {},
   "outputs": [],
   "source": [
    "sat_ids = test['sat_id'].unique()"
   ]
  },
  {
   "cell_type": "code",
   "execution_count": 196,
   "metadata": {},
   "outputs": [],
   "source": [
    "# number of observations in test for each satellite n\n",
    "num_test = [(test['sat_id'] == n).sum() for n in sat_ids]"
   ]
  },
  {
   "cell_type": "code",
   "execution_count": 262,
   "metadata": {},
   "outputs": [],
   "source": [
    "# dataframe of frequencies for each satellite, found by R's 'findfrequency'\n",
    "freq = pd.read_csv('frequencies.csv').drop('Unnamed: 0', axis=1)"
   ]
  },
  {
   "cell_type": "code",
   "execution_count": 197,
   "metadata": {},
   "outputs": [
    {
     "data": {
      "text/html": [
       "<div>\n",
       "<style scoped>\n",
       "    .dataframe tbody tr th:only-of-type {\n",
       "        vertical-align: middle;\n",
       "    }\n",
       "\n",
       "    .dataframe tbody tr th {\n",
       "        vertical-align: top;\n",
       "    }\n",
       "\n",
       "    .dataframe thead th {\n",
       "        text-align: right;\n",
       "    }\n",
       "</style>\n",
       "<table border=\"1\" class=\"dataframe\">\n",
       "  <thead>\n",
       "    <tr style=\"text-align: right;\">\n",
       "      <th></th>\n",
       "      <th>f_x</th>\n",
       "      <th>f_y</th>\n",
       "      <th>f_z</th>\n",
       "      <th>f_Vx</th>\n",
       "      <th>f_Vy</th>\n",
       "      <th>f_Vz</th>\n",
       "    </tr>\n",
       "  </thead>\n",
       "  <tbody>\n",
       "    <tr>\n",
       "      <th>0</th>\n",
       "      <td>24</td>\n",
       "      <td>24</td>\n",
       "      <td>24</td>\n",
       "      <td>12</td>\n",
       "      <td>12</td>\n",
       "      <td>12</td>\n",
       "    </tr>\n",
       "    <tr>\n",
       "      <th>1</th>\n",
       "      <td>24</td>\n",
       "      <td>24</td>\n",
       "      <td>24</td>\n",
       "      <td>24</td>\n",
       "      <td>24</td>\n",
       "      <td>24</td>\n",
       "    </tr>\n",
       "    <tr>\n",
       "      <th>2</th>\n",
       "      <td>24</td>\n",
       "      <td>24</td>\n",
       "      <td>24</td>\n",
       "      <td>24</td>\n",
       "      <td>24</td>\n",
       "      <td>1</td>\n",
       "    </tr>\n",
       "    <tr>\n",
       "      <th>3</th>\n",
       "      <td>24</td>\n",
       "      <td>24</td>\n",
       "      <td>24</td>\n",
       "      <td>24</td>\n",
       "      <td>24</td>\n",
       "      <td>24</td>\n",
       "    </tr>\n",
       "    <tr>\n",
       "      <th>4</th>\n",
       "      <td>24</td>\n",
       "      <td>24</td>\n",
       "      <td>24</td>\n",
       "      <td>24</td>\n",
       "      <td>24</td>\n",
       "      <td>24</td>\n",
       "    </tr>\n",
       "  </tbody>\n",
       "</table>\n",
       "</div>"
      ],
      "text/plain": [
       "   f_x  f_y  f_z  f_Vx  f_Vy  f_Vz\n",
       "0   24   24   24    12    12    12\n",
       "1   24   24   24    24    24    24\n",
       "2   24   24   24    24    24     1\n",
       "3   24   24   24    24    24    24\n",
       "4   24   24   24    24    24    24"
      ]
     },
     "execution_count": 197,
     "metadata": {},
     "output_type": "execute_result"
    }
   ],
   "source": [
    "freq.head()"
   ]
  },
  {
   "cell_type": "code",
   "execution_count": 35,
   "metadata": {},
   "outputs": [
    {
     "data": {
      "text/plain": [
       "Index(['f_x', 'f_y', 'f_z', 'f_Vx', 'f_Vy', 'f_Vz'], dtype='object')"
      ]
     },
     "execution_count": 35,
     "metadata": {},
     "output_type": "execute_result"
    }
   ],
   "source": [
    "freq.columns"
   ]
  },
  {
   "cell_type": "code",
   "execution_count": 22,
   "metadata": {},
   "outputs": [
    {
     "data": {
      "text/plain": [
       "(300, 6)"
      ]
     },
     "execution_count": 22,
     "metadata": {},
     "output_type": "execute_result"
    }
   ],
   "source": [
    "freq.shape"
   ]
  },
  {
   "cell_type": "code",
   "execution_count": 198,
   "metadata": {},
   "outputs": [
    {
     "data": {
      "text/plain": [
       "((315183, 4), (284071, 3))"
      ]
     },
     "execution_count": 198,
     "metadata": {},
     "output_type": "execute_result"
    }
   ],
   "source": [
    "trainx.shape, test.shape"
   ]
  },
  {
   "cell_type": "code",
   "execution_count": 199,
   "metadata": {},
   "outputs": [
    {
     "data": {
      "text/html": [
       "<div>\n",
       "<style scoped>\n",
       "    .dataframe tbody tr th:only-of-type {\n",
       "        vertical-align: middle;\n",
       "    }\n",
       "\n",
       "    .dataframe tbody tr th {\n",
       "        vertical-align: top;\n",
       "    }\n",
       "\n",
       "    .dataframe thead th {\n",
       "        text-align: right;\n",
       "    }\n",
       "</style>\n",
       "<table border=\"1\" class=\"dataframe\">\n",
       "  <thead>\n",
       "    <tr style=\"text-align: right;\">\n",
       "      <th></th>\n",
       "      <th>id</th>\n",
       "      <th>epoch</th>\n",
       "      <th>sat_id</th>\n",
       "      <th>x</th>\n",
       "    </tr>\n",
       "  </thead>\n",
       "  <tbody>\n",
       "    <tr>\n",
       "      <th>958</th>\n",
       "      <td>1819</td>\n",
       "      <td>2014-01-01 00:00:00.000</td>\n",
       "      <td>1</td>\n",
       "      <td>54678.538321</td>\n",
       "    </tr>\n",
       "    <tr>\n",
       "      <th>959</th>\n",
       "      <td>1820</td>\n",
       "      <td>2014-01-01 00:21:11.845</td>\n",
       "      <td>1</td>\n",
       "      <td>55483.832064</td>\n",
       "    </tr>\n",
       "    <tr>\n",
       "      <th>960</th>\n",
       "      <td>1821</td>\n",
       "      <td>2014-01-01 00:42:23.690</td>\n",
       "      <td>1</td>\n",
       "      <td>52523.781668</td>\n",
       "    </tr>\n",
       "    <tr>\n",
       "      <th>961</th>\n",
       "      <td>1822</td>\n",
       "      <td>2014-01-01 01:03:35.534</td>\n",
       "      <td>1</td>\n",
       "      <td>47848.375008</td>\n",
       "    </tr>\n",
       "    <tr>\n",
       "      <th>962</th>\n",
       "      <td>1823</td>\n",
       "      <td>2014-01-01 01:24:47.379</td>\n",
       "      <td>1</td>\n",
       "      <td>42707.748340</td>\n",
       "    </tr>\n",
       "  </tbody>\n",
       "</table>\n",
       "</div>"
      ],
      "text/plain": [
       "       id                    epoch  sat_id             x\n",
       "958  1819  2014-01-01 00:00:00.000       1  54678.538321\n",
       "959  1820  2014-01-01 00:21:11.845       1  55483.832064\n",
       "960  1821  2014-01-01 00:42:23.690       1  52523.781668\n",
       "961  1822  2014-01-01 01:03:35.534       1  47848.375008\n",
       "962  1823  2014-01-01 01:24:47.379       1  42707.748340"
      ]
     },
     "execution_count": 199,
     "metadata": {},
     "output_type": "execute_result"
    }
   ],
   "source": [
    "trainx.head()"
   ]
  },
  {
   "cell_type": "code",
   "execution_count": 200,
   "metadata": {},
   "outputs": [
    {
     "data": {
      "text/html": [
       "<div>\n",
       "<style scoped>\n",
       "    .dataframe tbody tr th:only-of-type {\n",
       "        vertical-align: middle;\n",
       "    }\n",
       "\n",
       "    .dataframe tbody tr th {\n",
       "        vertical-align: top;\n",
       "    }\n",
       "\n",
       "    .dataframe thead th {\n",
       "        text-align: right;\n",
       "    }\n",
       "</style>\n",
       "<table border=\"1\" class=\"dataframe\">\n",
       "  <thead>\n",
       "    <tr style=\"text-align: right;\">\n",
       "      <th></th>\n",
       "      <th>id</th>\n",
       "      <th>sat_id</th>\n",
       "      <th>epoch</th>\n",
       "    </tr>\n",
       "  </thead>\n",
       "  <tbody>\n",
       "    <tr>\n",
       "      <th>0</th>\n",
       "      <td>3927</td>\n",
       "      <td>1</td>\n",
       "      <td>2014-02-01 00:01:45.162</td>\n",
       "    </tr>\n",
       "    <tr>\n",
       "      <th>1</th>\n",
       "      <td>3928</td>\n",
       "      <td>1</td>\n",
       "      <td>2014-02-01 00:22:57.007</td>\n",
       "    </tr>\n",
       "    <tr>\n",
       "      <th>2</th>\n",
       "      <td>3929</td>\n",
       "      <td>1</td>\n",
       "      <td>2014-02-01 00:44:08.852</td>\n",
       "    </tr>\n",
       "    <tr>\n",
       "      <th>3</th>\n",
       "      <td>3930</td>\n",
       "      <td>1</td>\n",
       "      <td>2014-02-01 01:05:20.697</td>\n",
       "    </tr>\n",
       "    <tr>\n",
       "      <th>4</th>\n",
       "      <td>3931</td>\n",
       "      <td>1</td>\n",
       "      <td>2014-02-01 01:26:32.542</td>\n",
       "    </tr>\n",
       "  </tbody>\n",
       "</table>\n",
       "</div>"
      ],
      "text/plain": [
       "     id  sat_id                    epoch\n",
       "0  3927       1  2014-02-01 00:01:45.162\n",
       "1  3928       1  2014-02-01 00:22:57.007\n",
       "2  3929       1  2014-02-01 00:44:08.852\n",
       "3  3930       1  2014-02-01 01:05:20.697\n",
       "4  3931       1  2014-02-01 01:26:32.542"
      ]
     },
     "execution_count": 200,
     "metadata": {},
     "output_type": "execute_result"
    }
   ],
   "source": [
    "test.head()"
   ]
  },
  {
   "cell_type": "code",
   "execution_count": 201,
   "metadata": {},
   "outputs": [],
   "source": [
    "# reindex to epoch \n",
    "trainx.index = trainx['epoch']\n",
    "test.index = test['epoch']"
   ]
  },
  {
   "cell_type": "code",
   "execution_count": 202,
   "metadata": {},
   "outputs": [
    {
     "data": {
      "text/html": [
       "<div>\n",
       "<style scoped>\n",
       "    .dataframe tbody tr th:only-of-type {\n",
       "        vertical-align: middle;\n",
       "    }\n",
       "\n",
       "    .dataframe tbody tr th {\n",
       "        vertical-align: top;\n",
       "    }\n",
       "\n",
       "    .dataframe thead th {\n",
       "        text-align: right;\n",
       "    }\n",
       "</style>\n",
       "<table border=\"1\" class=\"dataframe\">\n",
       "  <thead>\n",
       "    <tr style=\"text-align: right;\">\n",
       "      <th></th>\n",
       "      <th>id</th>\n",
       "      <th>epoch</th>\n",
       "      <th>sat_id</th>\n",
       "      <th>x</th>\n",
       "    </tr>\n",
       "    <tr>\n",
       "      <th>epoch</th>\n",
       "      <th></th>\n",
       "      <th></th>\n",
       "      <th></th>\n",
       "      <th></th>\n",
       "    </tr>\n",
       "  </thead>\n",
       "  <tbody>\n",
       "    <tr>\n",
       "      <th>2014-01-01 00:00:00.000</th>\n",
       "      <td>1819</td>\n",
       "      <td>2014-01-01 00:00:00.000</td>\n",
       "      <td>1</td>\n",
       "      <td>54678.538321</td>\n",
       "    </tr>\n",
       "    <tr>\n",
       "      <th>2014-01-01 00:21:11.845</th>\n",
       "      <td>1820</td>\n",
       "      <td>2014-01-01 00:21:11.845</td>\n",
       "      <td>1</td>\n",
       "      <td>55483.832064</td>\n",
       "    </tr>\n",
       "    <tr>\n",
       "      <th>2014-01-01 00:42:23.690</th>\n",
       "      <td>1821</td>\n",
       "      <td>2014-01-01 00:42:23.690</td>\n",
       "      <td>1</td>\n",
       "      <td>52523.781668</td>\n",
       "    </tr>\n",
       "    <tr>\n",
       "      <th>2014-01-01 01:03:35.534</th>\n",
       "      <td>1822</td>\n",
       "      <td>2014-01-01 01:03:35.534</td>\n",
       "      <td>1</td>\n",
       "      <td>47848.375008</td>\n",
       "    </tr>\n",
       "    <tr>\n",
       "      <th>2014-01-01 01:24:47.379</th>\n",
       "      <td>1823</td>\n",
       "      <td>2014-01-01 01:24:47.379</td>\n",
       "      <td>1</td>\n",
       "      <td>42707.748340</td>\n",
       "    </tr>\n",
       "  </tbody>\n",
       "</table>\n",
       "</div>"
      ],
      "text/plain": [
       "                           id                    epoch  sat_id             x\n",
       "epoch                                                                       \n",
       "2014-01-01 00:00:00.000  1819  2014-01-01 00:00:00.000       1  54678.538321\n",
       "2014-01-01 00:21:11.845  1820  2014-01-01 00:21:11.845       1  55483.832064\n",
       "2014-01-01 00:42:23.690  1821  2014-01-01 00:42:23.690       1  52523.781668\n",
       "2014-01-01 01:03:35.534  1822  2014-01-01 01:03:35.534       1  47848.375008\n",
       "2014-01-01 01:24:47.379  1823  2014-01-01 01:24:47.379       1  42707.748340"
      ]
     },
     "execution_count": 202,
     "metadata": {},
     "output_type": "execute_result"
    }
   ],
   "source": [
    "trainx.head()"
   ]
  },
  {
   "cell_type": "code",
   "execution_count": 443,
   "metadata": {},
   "outputs": [
    {
     "data": {
      "text/html": [
       "<div>\n",
       "<style scoped>\n",
       "    .dataframe tbody tr th:only-of-type {\n",
       "        vertical-align: middle;\n",
       "    }\n",
       "\n",
       "    .dataframe tbody tr th {\n",
       "        vertical-align: top;\n",
       "    }\n",
       "\n",
       "    .dataframe thead th {\n",
       "        text-align: right;\n",
       "    }\n",
       "</style>\n",
       "<table border=\"1\" class=\"dataframe\">\n",
       "  <thead>\n",
       "    <tr style=\"text-align: right;\">\n",
       "      <th></th>\n",
       "      <th>id</th>\n",
       "      <th>sat_id</th>\n",
       "      <th>epoch</th>\n",
       "      <th>x_sim</th>\n",
       "      <th>y_sim</th>\n",
       "      <th>z_sim</th>\n",
       "      <th>Vx_sim</th>\n",
       "      <th>Vy_sim</th>\n",
       "      <th>Vz_sim</th>\n",
       "    </tr>\n",
       "  </thead>\n",
       "  <tbody>\n",
       "    <tr>\n",
       "      <th>0</th>\n",
       "      <td>3927</td>\n",
       "      <td>1</td>\n",
       "      <td>2014-02-01 00:01:45.162</td>\n",
       "      <td>-13366.891347</td>\n",
       "      <td>-14236.753503</td>\n",
       "      <td>6386.774555</td>\n",
       "      <td>4.333815</td>\n",
       "      <td>-0.692764</td>\n",
       "      <td>0.810774</td>\n",
       "    </tr>\n",
       "    <tr>\n",
       "      <th>1</th>\n",
       "      <td>3928</td>\n",
       "      <td>1</td>\n",
       "      <td>2014-02-01 00:22:57.007</td>\n",
       "      <td>-7370.434039</td>\n",
       "      <td>-14498.771520</td>\n",
       "      <td>7130.411325</td>\n",
       "      <td>5.077413</td>\n",
       "      <td>0.360609</td>\n",
       "      <td>0.313402</td>\n",
       "    </tr>\n",
       "    <tr>\n",
       "      <th>2</th>\n",
       "      <td>3929</td>\n",
       "      <td>1</td>\n",
       "      <td>2014-02-01 00:44:08.852</td>\n",
       "      <td>-572.068654</td>\n",
       "      <td>-13065.289498</td>\n",
       "      <td>7033.794876</td>\n",
       "      <td>5.519106</td>\n",
       "      <td>2.012830</td>\n",
       "      <td>-0.539412</td>\n",
       "    </tr>\n",
       "    <tr>\n",
       "      <th>3</th>\n",
       "      <td>3930</td>\n",
       "      <td>1</td>\n",
       "      <td>2014-02-01 01:05:20.697</td>\n",
       "      <td>6208.945257</td>\n",
       "      <td>-9076.852425</td>\n",
       "      <td>5548.296900</td>\n",
       "      <td>4.849212</td>\n",
       "      <td>4.338955</td>\n",
       "      <td>-1.869600</td>\n",
       "    </tr>\n",
       "    <tr>\n",
       "      <th>4</th>\n",
       "      <td>3931</td>\n",
       "      <td>1</td>\n",
       "      <td>2014-02-01 01:26:32.542</td>\n",
       "      <td>10768.200284</td>\n",
       "      <td>-2199.706707</td>\n",
       "      <td>2272.014862</td>\n",
       "      <td>1.940505</td>\n",
       "      <td>6.192887</td>\n",
       "      <td>-3.167724</td>\n",
       "    </tr>\n",
       "  </tbody>\n",
       "</table>\n",
       "</div>"
      ],
      "text/plain": [
       "     id  sat_id                   epoch         x_sim         y_sim  \\\n",
       "0  3927       1 2014-02-01 00:01:45.162 -13366.891347 -14236.753503   \n",
       "1  3928       1 2014-02-01 00:22:57.007  -7370.434039 -14498.771520   \n",
       "2  3929       1 2014-02-01 00:44:08.852   -572.068654 -13065.289498   \n",
       "3  3930       1 2014-02-01 01:05:20.697   6208.945257  -9076.852425   \n",
       "4  3931       1 2014-02-01 01:26:32.542  10768.200284  -2199.706707   \n",
       "\n",
       "         z_sim    Vx_sim    Vy_sim    Vz_sim  \n",
       "0  6386.774555  4.333815 -0.692764  0.810774  \n",
       "1  7130.411325  5.077413  0.360609  0.313402  \n",
       "2  7033.794876  5.519106  2.012830 -0.539412  \n",
       "3  5548.296900  4.849212  4.338955 -1.869600  \n",
       "4  2272.014862  1.940505  6.192887 -3.167724  "
      ]
     },
     "execution_count": 443,
     "metadata": {},
     "output_type": "execute_result"
    }
   ],
   "source": [
    "test.head()"
   ]
  },
  {
   "cell_type": "code",
   "execution_count": 204,
   "metadata": {},
   "outputs": [
    {
     "data": {
      "text/html": [
       "<div>\n",
       "<style scoped>\n",
       "    .dataframe tbody tr th:only-of-type {\n",
       "        vertical-align: middle;\n",
       "    }\n",
       "\n",
       "    .dataframe tbody tr th {\n",
       "        vertical-align: top;\n",
       "    }\n",
       "\n",
       "    .dataframe thead th {\n",
       "        text-align: right;\n",
       "    }\n",
       "</style>\n",
       "<table border=\"1\" class=\"dataframe\">\n",
       "  <thead>\n",
       "    <tr style=\"text-align: right;\">\n",
       "      <th></th>\n",
       "      <th>id</th>\n",
       "      <th>epoch</th>\n",
       "      <th>sat_id</th>\n",
       "      <th>x</th>\n",
       "      <th>y</th>\n",
       "      <th>z</th>\n",
       "      <th>Vx</th>\n",
       "      <th>Vy</th>\n",
       "      <th>Vz</th>\n",
       "      <th>x_sim</th>\n",
       "      <th>y_sim</th>\n",
       "      <th>z_sim</th>\n",
       "      <th>Vx_sim</th>\n",
       "      <th>Vy_sim</th>\n",
       "      <th>Vz_sim</th>\n",
       "    </tr>\n",
       "  </thead>\n",
       "  <tbody>\n",
       "    <tr>\n",
       "      <th>0</th>\n",
       "      <td>0</td>\n",
       "      <td>2014-01-01 00:00:00.000</td>\n",
       "      <td>0</td>\n",
       "      <td>-8855.823863</td>\n",
       "      <td>13117.780146</td>\n",
       "      <td>-20728.353233</td>\n",
       "      <td>-0.908303</td>\n",
       "      <td>-3.808436</td>\n",
       "      <td>-2.022083</td>\n",
       "      <td>-8843.131454</td>\n",
       "      <td>13138.221690</td>\n",
       "      <td>-20741.615306</td>\n",
       "      <td>-0.907527</td>\n",
       "      <td>-3.804930</td>\n",
       "      <td>-2.024133</td>\n",
       "    </tr>\n",
       "    <tr>\n",
       "      <th>1</th>\n",
       "      <td>1</td>\n",
       "      <td>2014-01-01 00:46:43.000</td>\n",
       "      <td>0</td>\n",
       "      <td>-10567.672384</td>\n",
       "      <td>1619.746066</td>\n",
       "      <td>-24451.813271</td>\n",
       "      <td>-0.302590</td>\n",
       "      <td>-4.272617</td>\n",
       "      <td>-0.612796</td>\n",
       "      <td>-10555.500066</td>\n",
       "      <td>1649.289367</td>\n",
       "      <td>-24473.089556</td>\n",
       "      <td>-0.303704</td>\n",
       "      <td>-4.269816</td>\n",
       "      <td>-0.616468</td>\n",
       "    </tr>\n",
       "    <tr>\n",
       "      <th>2</th>\n",
       "      <td>2</td>\n",
       "      <td>2014-01-01 01:33:26.001</td>\n",
       "      <td>0</td>\n",
       "      <td>-10578.684043</td>\n",
       "      <td>-10180.467460</td>\n",
       "      <td>-24238.280949</td>\n",
       "      <td>0.277435</td>\n",
       "      <td>-4.047522</td>\n",
       "      <td>0.723155</td>\n",
       "      <td>-10571.858472</td>\n",
       "      <td>-10145.939908</td>\n",
       "      <td>-24271.169776</td>\n",
       "      <td>0.274880</td>\n",
       "      <td>-4.046788</td>\n",
       "      <td>0.718768</td>\n",
       "    </tr>\n",
       "    <tr>\n",
       "      <th>3</th>\n",
       "      <td>3</td>\n",
       "      <td>2014-01-01 02:20:09.001</td>\n",
       "      <td>0</td>\n",
       "      <td>-9148.251857</td>\n",
       "      <td>-20651.437460</td>\n",
       "      <td>-20720.381279</td>\n",
       "      <td>0.715600</td>\n",
       "      <td>-3.373762</td>\n",
       "      <td>1.722115</td>\n",
       "      <td>-9149.620794</td>\n",
       "      <td>-20618.200201</td>\n",
       "      <td>-20765.019094</td>\n",
       "      <td>0.712437</td>\n",
       "      <td>-3.375202</td>\n",
       "      <td>1.718306</td>\n",
       "    </tr>\n",
       "    <tr>\n",
       "      <th>4</th>\n",
       "      <td>4</td>\n",
       "      <td>2014-01-01 03:06:52.002</td>\n",
       "      <td>0</td>\n",
       "      <td>-6719.092336</td>\n",
       "      <td>-28929.061629</td>\n",
       "      <td>-14938.907967</td>\n",
       "      <td>0.992507</td>\n",
       "      <td>-2.519732</td>\n",
       "      <td>2.344703</td>\n",
       "      <td>-6729.358857</td>\n",
       "      <td>-28902.271436</td>\n",
       "      <td>-14992.399986</td>\n",
       "      <td>0.989382</td>\n",
       "      <td>-2.522618</td>\n",
       "      <td>2.342237</td>\n",
       "    </tr>\n",
       "  </tbody>\n",
       "</table>\n",
       "</div>"
      ],
      "text/plain": [
       "   id                   epoch  sat_id             x             y  \\\n",
       "0   0 2014-01-01 00:00:00.000       0  -8855.823863  13117.780146   \n",
       "1   1 2014-01-01 00:46:43.000       0 -10567.672384   1619.746066   \n",
       "2   2 2014-01-01 01:33:26.001       0 -10578.684043 -10180.467460   \n",
       "3   3 2014-01-01 02:20:09.001       0  -9148.251857 -20651.437460   \n",
       "4   4 2014-01-01 03:06:52.002       0  -6719.092336 -28929.061629   \n",
       "\n",
       "              z        Vx        Vy        Vz         x_sim         y_sim  \\\n",
       "0 -20728.353233 -0.908303 -3.808436 -2.022083  -8843.131454  13138.221690   \n",
       "1 -24451.813271 -0.302590 -4.272617 -0.612796 -10555.500066   1649.289367   \n",
       "2 -24238.280949  0.277435 -4.047522  0.723155 -10571.858472 -10145.939908   \n",
       "3 -20720.381279  0.715600 -3.373762  1.722115  -9149.620794 -20618.200201   \n",
       "4 -14938.907967  0.992507 -2.519732  2.344703  -6729.358857 -28902.271436   \n",
       "\n",
       "          z_sim    Vx_sim    Vy_sim    Vz_sim  \n",
       "0 -20741.615306 -0.907527 -3.804930 -2.024133  \n",
       "1 -24473.089556 -0.303704 -4.269816 -0.616468  \n",
       "2 -24271.169776  0.274880 -4.046788  0.718768  \n",
       "3 -20765.019094  0.712437 -3.375202  1.718306  \n",
       "4 -14992.399986  0.989382 -2.522618  2.342237  "
      ]
     },
     "execution_count": 204,
     "metadata": {},
     "output_type": "execute_result"
    }
   ],
   "source": [
    "train.head()"
   ]
  },
  {
   "cell_type": "code",
   "execution_count": 156,
   "metadata": {},
   "outputs": [],
   "source": [
    "def calculate_offset(k):\n",
    "    \n",
    "    offsets = []\n",
    "    for n in sat_ids:\n",
    "        satdata_n = train[train['sat_id'] == n][k]\n",
    "        off_n = max(satdata_n) - min(satdata_n)\n",
    "        offsets.append(off_n)\n",
    "    \n",
    "    return offsets"
   ]
  },
  {
   "cell_type": "code",
   "execution_count": 157,
   "metadata": {},
   "outputs": [],
   "source": [
    "# the offsets for x are stored in off_x\n",
    "off = calculate_offset(k='x')"
   ]
  },
  {
   "cell_type": "code",
   "execution_count": 205,
   "metadata": {},
   "outputs": [
    {
     "data": {
      "text/plain": [
       "44288.22523152392"
      ]
     },
     "execution_count": 205,
     "metadata": {},
     "output_type": "execute_result"
    }
   ],
   "source": [
    "off[0]"
   ]
  },
  {
   "cell_type": "markdown",
   "metadata": {},
   "source": [
    "**Create a function that takes in x values from january and forecasts for the next month for all 300 satellites,\n",
    "using the frequencies specified by the freq dataframe**\n",
    "\n",
    "\n",
    "- grab data\n",
    "- fit model to that data\n",
    "- forecast for that data\n",
    "- deoffset it\n",
    "- put it into a list\n",
    "- concatenate all forecast data into a single list and attach it to Test"
   ]
  },
  {
   "cell_type": "code",
   "execution_count": 230,
   "metadata": {},
   "outputs": [],
   "source": [
    "# ETS(M,A_d,M) is multiplicative error, damped additive trend, multiplicative seasonality\n",
    "# this makes forecast for all 300 satellites, use forecast_plot to make forecast for one satellite\n",
    "\n",
    "def forecast(k):\n",
    "    \n",
    "    forecast_data = list()\n",
    "    \n",
    "    for i in range(0,len(sat_ids)):\n",
    "        \n",
    "        n = sat_ids[i]                # n is the satellite ID number\n",
    "        frequency_n = freq['f_'+k][i] # time series frequency for Satellite n\n",
    "        offset_n = off_k[i]             # offset for Satellite n\n",
    "        num_test_n = num_test[i]      # number of observations that will be forecasted for Satellite n\n",
    "    \n",
    "        satdata_n = train_k[train_k['sat_id'] == n][k] # data for kinematic state k, Satellite n\n",
    "    \n",
    "        fit_n = ExponentialSmoothing(np.asarray(satdata_n), trend='add', seasonal='mul',\n",
    "                                     seasonal_periods = frequency_n, damped=True).fit()\n",
    "        \n",
    "        forecast_n = fit_n.forecast(num_test_n)\n",
    "                               \n",
    "        forecast_n -= offset_n\n",
    "        \n",
    "        forecast_data.append(forecast_n)\n",
    "        \n",
    "        print(f'Forecast of {k} for Satellite {n} has been done.')\n",
    "    \n",
    "    return forecast_data"
   ]
  },
  {
   "cell_type": "markdown",
   "metadata": {},
   "source": [
    "Cell below is a small example to understand how to loop over the satellites. "
   ]
  },
  {
   "cell_type": "code",
   "execution_count": 187,
   "metadata": {},
   "outputs": [],
   "source": [
    "# For each satellite number n from the 300 unique satellite IDs in the Test dataset,\n",
    "#forecast_x = list()\n",
    "\n",
    "#for i in range(0,2):\n",
    "    \n",
    "#    n = sat_ids[i]\n",
    "    \n",
    "#    frequency_n = freq['f_'+'x'][i]\n",
    "#    offset_n = off[i]\n",
    "#    num_test_n = num_test[i]\n",
    "    \n",
    "    # grab nth satellite data\n",
    "#    satdata_n = trainx[trainx['sat_id'] == n].loc[:,'x']\n",
    "    \n",
    "    # fit model to that data\n",
    "#    fit_n = ExponentialSmoothing(np.asarray(satdata_n), trend = 'add', seasonal = 'mul',\n",
    "#                                 seasonal_periods = frequency_n, damped = True).fit()\n",
    "    \n",
    "    # use model to produce forecast data for the epochs in Test\n",
    "#    forecast_n = fit_n.forecast(num_test_n)\n",
    "    \n",
    "    # deoffset the forecast data by the corresponding amount in 'off'\n",
    "#    forecast_n -= offset_n\n",
    "    \n",
    "    # put the forecast data into a list\n",
    "#    forecast_x.append(forecast_n)\n",
    "    "
   ]
  },
  {
   "cell_type": "code",
   "execution_count": 192,
   "metadata": {},
   "outputs": [
    {
     "data": {
      "text/plain": [
       "[1901, 375]"
      ]
     },
     "execution_count": 192,
     "metadata": {},
     "output_type": "execute_result"
    }
   ],
   "source": [
    "num_test[0:2]"
   ]
  },
  {
   "cell_type": "code",
   "execution_count": 210,
   "metadata": {},
   "outputs": [
    {
     "name": "stdout",
     "output_type": "stream",
     "text": [
      "Wall time: 8.71 s\n"
     ]
    }
   ],
   "source": [
    "#%%time\n",
    "#forecast_x = forecast(k='x')"
   ]
  },
  {
   "cell_type": "code",
   "execution_count": 1,
   "metadata": {
    "scrolled": true
   },
   "outputs": [],
   "source": [
    "%%time\n",
    "forecast_x = forecast(k='x')"
   ]
  },
  {
   "cell_type": "code",
   "execution_count": 217,
   "metadata": {},
   "outputs": [],
   "source": [
    "# forecast for remaining kinematic states\n",
    "rem = 'y z Vx Vy Vz'.split()"
   ]
  },
  {
   "cell_type": "code",
   "execution_count": 319,
   "metadata": {},
   "outputs": [],
   "source": [
    "# after correcting for seasonality = 1 error, start forecasting from Vx\n",
    "rem = 'Vx Vy Vz'.split()"
   ]
  },
  {
   "cell_type": "code",
   "execution_count": 223,
   "metadata": {},
   "outputs": [],
   "source": [
    "forecast_list = list()"
   ]
  },
  {
   "cell_type": "code",
   "execution_count": 2,
   "metadata": {
    "scrolled": true
   },
   "outputs": [],
   "source": [
    "%%time\n",
    "forecast_list = list()\n",
    "\n",
    "for i in range(0,3):\n",
    "    \n",
    "    kinem = rem[i]\n",
    "    \n",
    "    train_k = pd.read_csv(f'train_{i+4}.csv', index_col=2)\n",
    "    \n",
    "    off_k = calculate_offset(k=kinem)\n",
    "    \n",
    "    forecast_k = forecast(k=kinem)\n",
    "    \n",
    "    forecast_list.append(forecast_k)"
   ]
  },
  {
   "cell_type": "markdown",
   "metadata": {},
   "source": [
    "- Seasonal periods must be larger than 1. Forecasts for x, y, z went OK but some seasonal periods for Vx, Vy, Vz must be greater than 1 for the forecast to be done.\n",
    "- Python raised quite a few ConvergenceWarnings because the optimizer failed to find a local/global minimum. Is this because of too few data points for some of the satellites?\n"
   ]
  },
  {
   "cell_type": "code",
   "execution_count": 251,
   "metadata": {},
   "outputs": [
    {
     "data": {
      "text/plain": [
       "f_x      0\n",
       "f_y      0\n",
       "f_z      0\n",
       "f_Vx    10\n",
       "f_Vy     8\n",
       "f_Vz    34\n",
       "dtype: int64"
      ]
     },
     "execution_count": 251,
     "metadata": {},
     "output_type": "execute_result"
    }
   ],
   "source": [
    "# find which variables has frequency 1\n",
    "(freq == 1).sum()"
   ]
  },
  {
   "cell_type": "code",
   "execution_count": 313,
   "metadata": {},
   "outputs": [],
   "source": [
    "# change them to 2\n",
    "for k in freq.columns[3:]:\n",
    "    \n",
    "    # DO THIS\n",
    "    freq.loc[freq[k] == 1, k] = 2\n",
    "    \n",
    "    # DONT DO THIS\n",
    "    #freq[freq[k] == 1][k] = 2\n",
    "    "
   ]
  },
  {
   "cell_type": "code",
   "execution_count": 318,
   "metadata": {},
   "outputs": [
    {
     "data": {
      "text/html": [
       "<div>\n",
       "<style scoped>\n",
       "    .dataframe tbody tr th:only-of-type {\n",
       "        vertical-align: middle;\n",
       "    }\n",
       "\n",
       "    .dataframe tbody tr th {\n",
       "        vertical-align: top;\n",
       "    }\n",
       "\n",
       "    .dataframe thead th {\n",
       "        text-align: right;\n",
       "    }\n",
       "</style>\n",
       "<table border=\"1\" class=\"dataframe\">\n",
       "  <thead>\n",
       "    <tr style=\"text-align: right;\">\n",
       "      <th></th>\n",
       "      <th>f_x</th>\n",
       "      <th>f_y</th>\n",
       "      <th>f_z</th>\n",
       "      <th>f_Vx</th>\n",
       "      <th>f_Vy</th>\n",
       "      <th>f_Vz</th>\n",
       "    </tr>\n",
       "  </thead>\n",
       "  <tbody>\n",
       "    <tr>\n",
       "      <th>0</th>\n",
       "      <td>24</td>\n",
       "      <td>24</td>\n",
       "      <td>24</td>\n",
       "      <td>12</td>\n",
       "      <td>12</td>\n",
       "      <td>12</td>\n",
       "    </tr>\n",
       "    <tr>\n",
       "      <th>1</th>\n",
       "      <td>24</td>\n",
       "      <td>24</td>\n",
       "      <td>24</td>\n",
       "      <td>24</td>\n",
       "      <td>24</td>\n",
       "      <td>24</td>\n",
       "    </tr>\n",
       "    <tr>\n",
       "      <th>2</th>\n",
       "      <td>24</td>\n",
       "      <td>24</td>\n",
       "      <td>24</td>\n",
       "      <td>24</td>\n",
       "      <td>24</td>\n",
       "      <td>2</td>\n",
       "    </tr>\n",
       "    <tr>\n",
       "      <th>3</th>\n",
       "      <td>24</td>\n",
       "      <td>24</td>\n",
       "      <td>24</td>\n",
       "      <td>24</td>\n",
       "      <td>24</td>\n",
       "      <td>24</td>\n",
       "    </tr>\n",
       "    <tr>\n",
       "      <th>4</th>\n",
       "      <td>24</td>\n",
       "      <td>24</td>\n",
       "      <td>24</td>\n",
       "      <td>24</td>\n",
       "      <td>24</td>\n",
       "      <td>24</td>\n",
       "    </tr>\n",
       "  </tbody>\n",
       "</table>\n",
       "</div>"
      ],
      "text/plain": [
       "   f_x  f_y  f_z  f_Vx  f_Vy  f_Vz\n",
       "0   24   24   24    12    12    12\n",
       "1   24   24   24    24    24    24\n",
       "2   24   24   24    24    24     2\n",
       "3   24   24   24    24    24    24\n",
       "4   24   24   24    24    24    24"
      ]
     },
     "execution_count": 318,
     "metadata": {},
     "output_type": "execute_result"
    }
   ],
   "source": [
    "freq.head()"
   ]
  },
  {
   "cell_type": "code",
   "execution_count": 321,
   "metadata": {},
   "outputs": [],
   "source": [
    "# this forecast_list was after forecasting for y and z\n",
    "forecast_y = forecast_list[0]"
   ]
  },
  {
   "cell_type": "code",
   "execution_count": 322,
   "metadata": {},
   "outputs": [],
   "source": [
    "forecast_z = forecast_list[1]"
   ]
  },
  {
   "cell_type": "code",
   "execution_count": 358,
   "metadata": {},
   "outputs": [],
   "source": [
    "# this forecast_list was after correcting for seasonality = 1 and forecasting for Vx, Vy, Vz\n",
    "forecast_Vx = forecast_list[0]\n",
    "forecast_Vy = forecast_list[1]\n",
    "forecast_Vz = forecast_list[2]"
   ]
  },
  {
   "cell_type": "code",
   "execution_count": 325,
   "metadata": {},
   "outputs": [
    {
     "data": {
      "text/plain": [
       "3"
      ]
     },
     "execution_count": 325,
     "metadata": {},
     "output_type": "execute_result"
    }
   ],
   "source": [
    "len(forecast_list)"
   ]
  },
  {
   "cell_type": "code",
   "execution_count": 367,
   "metadata": {},
   "outputs": [
    {
     "data": {
      "text/plain": [
       "300"
      ]
     },
     "execution_count": 367,
     "metadata": {},
     "output_type": "execute_result"
    }
   ],
   "source": [
    "len(forecast_x)"
   ]
  },
  {
   "cell_type": "code",
   "execution_count": 356,
   "metadata": {},
   "outputs": [],
   "source": [
    "# concatenate all lists inside each forecast_k\n",
    "import itertools"
   ]
  },
  {
   "cell_type": "code",
   "execution_count": null,
   "metadata": {},
   "outputs": [],
   "source": [
    "# hats on the forecasted data\n",
    "x_hat = list(itertools.chain.from_iterable(forecast_x))\n",
    "y_hat = list(itertools.chain.from_iterable(forecast_y))\n",
    "z_hat = list(itertools.chain.from_iterable(forecast_z))"
   ]
  },
  {
   "cell_type": "code",
   "execution_count": 359,
   "metadata": {},
   "outputs": [],
   "source": [
    "Vx_hat = list(itertools.chain.from_iterable(forecast_Vx))\n",
    "Vy_hat = list(itertools.chain.from_iterable(forecast_Vy))\n",
    "Vz_hat = list(itertools.chain.from_iterable(forecast_Vz))"
   ]
  },
  {
   "cell_type": "code",
   "execution_count": 451,
   "metadata": {},
   "outputs": [],
   "source": [
    "test.index = test['epoch']\n",
    "train.index = train['epoch']"
   ]
  },
  {
   "cell_type": "code",
   "execution_count": 444,
   "metadata": {},
   "outputs": [],
   "source": [
    "test['x'] = x_hat\n",
    "test['y'] = y_hat\n",
    "test['z'] = z_hat\n",
    "test['Vx'] = Vx_hat\n",
    "test['Vy'] = Vy_hat\n",
    "test['Vz'] = Vz_hat"
   ]
  },
  {
   "cell_type": "code",
   "execution_count": null,
   "metadata": {},
   "outputs": [],
   "source": []
  },
  {
   "cell_type": "code",
   "execution_count": 381,
   "metadata": {},
   "outputs": [],
   "source": [
    "# make a copy for submitting results\n",
    "test_sub = test.copy()"
   ]
  },
  {
   "cell_type": "code",
   "execution_count": 429,
   "metadata": {},
   "outputs": [
    {
     "data": {
      "text/html": [
       "<div>\n",
       "<style scoped>\n",
       "    .dataframe tbody tr th:only-of-type {\n",
       "        vertical-align: middle;\n",
       "    }\n",
       "\n",
       "    .dataframe tbody tr th {\n",
       "        vertical-align: top;\n",
       "    }\n",
       "\n",
       "    .dataframe thead th {\n",
       "        text-align: right;\n",
       "    }\n",
       "</style>\n",
       "<table border=\"1\" class=\"dataframe\">\n",
       "  <thead>\n",
       "    <tr style=\"text-align: right;\">\n",
       "      <th></th>\n",
       "      <th>id</th>\n",
       "      <th>sat_id</th>\n",
       "      <th>epoch</th>\n",
       "      <th>x</th>\n",
       "      <th>y</th>\n",
       "      <th>z</th>\n",
       "      <th>Vx</th>\n",
       "      <th>Vy</th>\n",
       "      <th>Vz</th>\n",
       "    </tr>\n",
       "    <tr>\n",
       "      <th>id</th>\n",
       "      <th></th>\n",
       "      <th></th>\n",
       "      <th></th>\n",
       "      <th></th>\n",
       "      <th></th>\n",
       "      <th></th>\n",
       "      <th></th>\n",
       "      <th></th>\n",
       "      <th></th>\n",
       "    </tr>\n",
       "  </thead>\n",
       "  <tbody>\n",
       "    <tr>\n",
       "      <th>3927</th>\n",
       "      <td>3927</td>\n",
       "      <td>1</td>\n",
       "      <td>2014-02-01 00:01:45.162</td>\n",
       "      <td>-24903.661004</td>\n",
       "      <td>-11160.986017</td>\n",
       "      <td>6569.262070</td>\n",
       "      <td>2.358096</td>\n",
       "      <td>-1.464771</td>\n",
       "      <td>1.013617</td>\n",
       "    </tr>\n",
       "    <tr>\n",
       "      <th>3928</th>\n",
       "      <td>3928</td>\n",
       "      <td>1</td>\n",
       "      <td>2014-02-01 00:22:57.007</td>\n",
       "      <td>-21164.913439</td>\n",
       "      <td>-12627.051179</td>\n",
       "      <td>7737.702371</td>\n",
       "      <td>2.697827</td>\n",
       "      <td>-1.349015</td>\n",
       "      <td>0.672219</td>\n",
       "    </tr>\n",
       "    <tr>\n",
       "      <th>3929</th>\n",
       "      <td>3929</td>\n",
       "      <td>1</td>\n",
       "      <td>2014-02-01 00:44:08.852</td>\n",
       "      <td>-16596.874300</td>\n",
       "      <td>-13618.434230</td>\n",
       "      <td>8526.219117</td>\n",
       "      <td>3.125202</td>\n",
       "      <td>-1.152677</td>\n",
       "      <td>0.242354</td>\n",
       "    </tr>\n",
       "    <tr>\n",
       "      <th>3930</th>\n",
       "      <td>3930</td>\n",
       "      <td>1</td>\n",
       "      <td>2014-02-01 01:05:20.697</td>\n",
       "      <td>-11123.695326</td>\n",
       "      <td>-13893.430507</td>\n",
       "      <td>8637.577417</td>\n",
       "      <td>3.649070</td>\n",
       "      <td>-0.810363</td>\n",
       "      <td>-0.276345</td>\n",
       "    </tr>\n",
       "    <tr>\n",
       "      <th>3931</th>\n",
       "      <td>3931</td>\n",
       "      <td>1</td>\n",
       "      <td>2014-02-01 01:26:32.542</td>\n",
       "      <td>-4715.815798</td>\n",
       "      <td>-13030.237721</td>\n",
       "      <td>7477.788980</td>\n",
       "      <td>4.169333</td>\n",
       "      <td>-0.207998</td>\n",
       "      <td>-1.048281</td>\n",
       "    </tr>\n",
       "  </tbody>\n",
       "</table>\n",
       "</div>"
      ],
      "text/plain": [
       "        id  sat_id                    epoch             x             y  \\\n",
       "id                                                                        \n",
       "3927  3927       1  2014-02-01 00:01:45.162 -24903.661004 -11160.986017   \n",
       "3928  3928       1  2014-02-01 00:22:57.007 -21164.913439 -12627.051179   \n",
       "3929  3929       1  2014-02-01 00:44:08.852 -16596.874300 -13618.434230   \n",
       "3930  3930       1  2014-02-01 01:05:20.697 -11123.695326 -13893.430507   \n",
       "3931  3931       1  2014-02-01 01:26:32.542  -4715.815798 -13030.237721   \n",
       "\n",
       "                z        Vx        Vy        Vz  \n",
       "id                                               \n",
       "3927  6569.262070  2.358096 -1.464771  1.013617  \n",
       "3928  7737.702371  2.697827 -1.349015  0.672219  \n",
       "3929  8526.219117  3.125202 -1.152677  0.242354  \n",
       "3930  8637.577417  3.649070 -0.810363 -0.276345  \n",
       "3931  7477.788980  4.169333 -0.207998 -1.048281  "
      ]
     },
     "execution_count": 429,
     "metadata": {},
     "output_type": "execute_result"
    }
   ],
   "source": [
    "test_sub.head()"
   ]
  },
  {
   "cell_type": "code",
   "execution_count": 389,
   "metadata": {},
   "outputs": [],
   "source": [
    "submission = test_sub[test.columns[3:]]"
   ]
  },
  {
   "cell_type": "code",
   "execution_count": 391,
   "metadata": {},
   "outputs": [
    {
     "data": {
      "text/html": [
       "<div>\n",
       "<style scoped>\n",
       "    .dataframe tbody tr th:only-of-type {\n",
       "        vertical-align: middle;\n",
       "    }\n",
       "\n",
       "    .dataframe tbody tr th {\n",
       "        vertical-align: top;\n",
       "    }\n",
       "\n",
       "    .dataframe thead th {\n",
       "        text-align: right;\n",
       "    }\n",
       "</style>\n",
       "<table border=\"1\" class=\"dataframe\">\n",
       "  <thead>\n",
       "    <tr style=\"text-align: right;\">\n",
       "      <th></th>\n",
       "      <th>x</th>\n",
       "      <th>y</th>\n",
       "      <th>z</th>\n",
       "      <th>Vx</th>\n",
       "      <th>Vy</th>\n",
       "      <th>Vz</th>\n",
       "    </tr>\n",
       "    <tr>\n",
       "      <th>id</th>\n",
       "      <th></th>\n",
       "      <th></th>\n",
       "      <th></th>\n",
       "      <th></th>\n",
       "      <th></th>\n",
       "      <th></th>\n",
       "    </tr>\n",
       "  </thead>\n",
       "  <tbody>\n",
       "    <tr>\n",
       "      <th>3927</th>\n",
       "      <td>-24903.661004</td>\n",
       "      <td>-11160.986017</td>\n",
       "      <td>6569.262070</td>\n",
       "      <td>2.358096</td>\n",
       "      <td>-1.464771</td>\n",
       "      <td>1.013617</td>\n",
       "    </tr>\n",
       "    <tr>\n",
       "      <th>3928</th>\n",
       "      <td>-21164.913439</td>\n",
       "      <td>-12627.051179</td>\n",
       "      <td>7737.702371</td>\n",
       "      <td>2.697827</td>\n",
       "      <td>-1.349015</td>\n",
       "      <td>0.672219</td>\n",
       "    </tr>\n",
       "    <tr>\n",
       "      <th>3929</th>\n",
       "      <td>-16596.874300</td>\n",
       "      <td>-13618.434230</td>\n",
       "      <td>8526.219117</td>\n",
       "      <td>3.125202</td>\n",
       "      <td>-1.152677</td>\n",
       "      <td>0.242354</td>\n",
       "    </tr>\n",
       "    <tr>\n",
       "      <th>3930</th>\n",
       "      <td>-11123.695326</td>\n",
       "      <td>-13893.430507</td>\n",
       "      <td>8637.577417</td>\n",
       "      <td>3.649070</td>\n",
       "      <td>-0.810363</td>\n",
       "      <td>-0.276345</td>\n",
       "    </tr>\n",
       "    <tr>\n",
       "      <th>3931</th>\n",
       "      <td>-4715.815798</td>\n",
       "      <td>-13030.237721</td>\n",
       "      <td>7477.788980</td>\n",
       "      <td>4.169333</td>\n",
       "      <td>-0.207998</td>\n",
       "      <td>-1.048281</td>\n",
       "    </tr>\n",
       "  </tbody>\n",
       "</table>\n",
       "</div>"
      ],
      "text/plain": [
       "                 x             y            z        Vx        Vy        Vz\n",
       "id                                                                         \n",
       "3927 -24903.661004 -11160.986017  6569.262070  2.358096 -1.464771  1.013617\n",
       "3928 -21164.913439 -12627.051179  7737.702371  2.697827 -1.349015  0.672219\n",
       "3929 -16596.874300 -13618.434230  8526.219117  3.125202 -1.152677  0.242354\n",
       "3930 -11123.695326 -13893.430507  8637.577417  3.649070 -0.810363 -0.276345\n",
       "3931  -4715.815798 -13030.237721  7477.788980  4.169333 -0.207998 -1.048281"
      ]
     },
     "execution_count": 391,
     "metadata": {},
     "output_type": "execute_result"
    }
   ],
   "source": [
    "submission.head()"
   ]
  },
  {
   "cell_type": "code",
   "execution_count": 392,
   "metadata": {},
   "outputs": [],
   "source": [
    "submission.to_csv('submission.csv')"
   ]
  },
  {
   "cell_type": "markdown",
   "metadata": {},
   "source": [
    "This was submitted to the contest page on 29 Jan 2020 18:50:18, achieving a $100 \\times (1-SMAPE)$ public score of 70.04"
   ]
  },
  {
   "cell_type": "code",
   "execution_count": null,
   "metadata": {},
   "outputs": [],
   "source": []
  }
 ],
 "metadata": {
  "kernelspec": {
   "display_name": "Python 3",
   "language": "python",
   "name": "python3"
  },
  "language_info": {
   "codemirror_mode": {
    "name": "ipython",
    "version": 3
   },
   "file_extension": ".py",
   "mimetype": "text/x-python",
   "name": "python",
   "nbconvert_exporter": "python",
   "pygments_lexer": "ipython3",
   "version": "3.7.5"
  }
 },
 "nbformat": 4,
 "nbformat_minor": 2
}
